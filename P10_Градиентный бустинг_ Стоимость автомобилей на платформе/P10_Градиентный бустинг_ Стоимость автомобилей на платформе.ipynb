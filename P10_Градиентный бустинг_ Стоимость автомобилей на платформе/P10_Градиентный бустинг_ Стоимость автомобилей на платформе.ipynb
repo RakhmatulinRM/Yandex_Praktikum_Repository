{
 "cells": [
  {
   "cell_type": "markdown",
   "metadata": {},
   "source": [
    "Сервис по продаже автомобилей с пробегом «Не бит, не крашен» разрабатывает приложение для привлечения новых клиентов. В нём можно быстро узнать рыночную стоимость своего автомобиля. В вашем распоряжении исторические данные: технические характеристики, комплектации и цены автомобилей. Вам нужно построить модель для определения стоимости. \n",
    "\n",
    "Заказчику важны:\n",
    "\n",
    "- качество предсказания;\n",
    "- скорость предсказания;\n",
    "- время обучения."
   ]
  },
  {
   "cell_type": "markdown",
   "metadata": {},
   "source": [
    "# 1. Подготовка данных"
   ]
  },
  {
   "cell_type": "code",
   "execution_count": 1,
   "metadata": {},
   "outputs": [],
   "source": [
    "import pandas as pd\n",
    "import numpy as np\n",
    "from numpy.linalg import inv\n",
    "from sklearn.metrics import r2_score,accuracy_score, mean_squared_error\n",
    "from sklearn.linear_model import LinearRegression \n",
    "import catboost as cb\n",
    "import xgboost as xgb\n",
    "import lightgbm as lgb\n",
    "from sklearn.model_selection import GridSearchCV \n",
    "import time\n",
    "import matplotlib.pyplot as plt\n",
    "import seaborn as sns\n",
    "from sklearn.model_selection import train_test_split, cross_validate"
   ]
  },
  {
   "cell_type": "code",
   "execution_count": 2,
   "metadata": {},
   "outputs": [],
   "source": [
    "df = pd.read_csv('/datasets/autos.csv')"
   ]
  },
  {
   "cell_type": "code",
   "execution_count": 3,
   "metadata": {},
   "outputs": [
    {
     "data": {
      "text/html": [
       "<div>\n",
       "<style scoped>\n",
       "    .dataframe tbody tr th:only-of-type {\n",
       "        vertical-align: middle;\n",
       "    }\n",
       "\n",
       "    .dataframe tbody tr th {\n",
       "        vertical-align: top;\n",
       "    }\n",
       "\n",
       "    .dataframe thead th {\n",
       "        text-align: right;\n",
       "    }\n",
       "</style>\n",
       "<table border=\"1\" class=\"dataframe\">\n",
       "  <thead>\n",
       "    <tr style=\"text-align: right;\">\n",
       "      <th></th>\n",
       "      <th>DateCrawled</th>\n",
       "      <th>Price</th>\n",
       "      <th>VehicleType</th>\n",
       "      <th>RegistrationYear</th>\n",
       "      <th>Gearbox</th>\n",
       "      <th>Power</th>\n",
       "      <th>Model</th>\n",
       "      <th>Kilometer</th>\n",
       "      <th>RegistrationMonth</th>\n",
       "      <th>FuelType</th>\n",
       "      <th>Brand</th>\n",
       "      <th>NotRepaired</th>\n",
       "      <th>DateCreated</th>\n",
       "      <th>NumberOfPictures</th>\n",
       "      <th>PostalCode</th>\n",
       "      <th>LastSeen</th>\n",
       "    </tr>\n",
       "  </thead>\n",
       "  <tbody>\n",
       "    <tr>\n",
       "      <td>0</td>\n",
       "      <td>2016-03-24 11:52:17</td>\n",
       "      <td>480</td>\n",
       "      <td>NaN</td>\n",
       "      <td>1993</td>\n",
       "      <td>manual</td>\n",
       "      <td>0</td>\n",
       "      <td>golf</td>\n",
       "      <td>150000</td>\n",
       "      <td>0</td>\n",
       "      <td>petrol</td>\n",
       "      <td>volkswagen</td>\n",
       "      <td>NaN</td>\n",
       "      <td>2016-03-24 00:00:00</td>\n",
       "      <td>0</td>\n",
       "      <td>70435</td>\n",
       "      <td>2016-04-07 03:16:57</td>\n",
       "    </tr>\n",
       "    <tr>\n",
       "      <td>1</td>\n",
       "      <td>2016-03-24 10:58:45</td>\n",
       "      <td>18300</td>\n",
       "      <td>coupe</td>\n",
       "      <td>2011</td>\n",
       "      <td>manual</td>\n",
       "      <td>190</td>\n",
       "      <td>NaN</td>\n",
       "      <td>125000</td>\n",
       "      <td>5</td>\n",
       "      <td>gasoline</td>\n",
       "      <td>audi</td>\n",
       "      <td>yes</td>\n",
       "      <td>2016-03-24 00:00:00</td>\n",
       "      <td>0</td>\n",
       "      <td>66954</td>\n",
       "      <td>2016-04-07 01:46:50</td>\n",
       "    </tr>\n",
       "    <tr>\n",
       "      <td>2</td>\n",
       "      <td>2016-03-14 12:52:21</td>\n",
       "      <td>9800</td>\n",
       "      <td>suv</td>\n",
       "      <td>2004</td>\n",
       "      <td>auto</td>\n",
       "      <td>163</td>\n",
       "      <td>grand</td>\n",
       "      <td>125000</td>\n",
       "      <td>8</td>\n",
       "      <td>gasoline</td>\n",
       "      <td>jeep</td>\n",
       "      <td>NaN</td>\n",
       "      <td>2016-03-14 00:00:00</td>\n",
       "      <td>0</td>\n",
       "      <td>90480</td>\n",
       "      <td>2016-04-05 12:47:46</td>\n",
       "    </tr>\n",
       "  </tbody>\n",
       "</table>\n",
       "</div>"
      ],
      "text/plain": [
       "           DateCrawled  Price VehicleType  RegistrationYear Gearbox  Power  \\\n",
       "0  2016-03-24 11:52:17    480         NaN              1993  manual      0   \n",
       "1  2016-03-24 10:58:45  18300       coupe              2011  manual    190   \n",
       "2  2016-03-14 12:52:21   9800         suv              2004    auto    163   \n",
       "\n",
       "   Model  Kilometer  RegistrationMonth  FuelType       Brand NotRepaired  \\\n",
       "0   golf     150000                  0    petrol  volkswagen         NaN   \n",
       "1    NaN     125000                  5  gasoline        audi         yes   \n",
       "2  grand     125000                  8  gasoline        jeep         NaN   \n",
       "\n",
       "           DateCreated  NumberOfPictures  PostalCode             LastSeen  \n",
       "0  2016-03-24 00:00:00                 0       70435  2016-04-07 03:16:57  \n",
       "1  2016-03-24 00:00:00                 0       66954  2016-04-07 01:46:50  \n",
       "2  2016-03-14 00:00:00                 0       90480  2016-04-05 12:47:46  "
      ]
     },
     "execution_count": 3,
     "metadata": {},
     "output_type": "execute_result"
    }
   ],
   "source": [
    "df.head(3)"
   ]
  },
  {
   "cell_type": "code",
   "execution_count": 4,
   "metadata": {},
   "outputs": [
    {
     "name": "stdout",
     "output_type": "stream",
     "text": [
      "<class 'pandas.core.frame.DataFrame'>\n",
      "RangeIndex: 354369 entries, 0 to 354368\n",
      "Data columns (total 16 columns):\n",
      "DateCrawled          354369 non-null object\n",
      "Price                354369 non-null int64\n",
      "VehicleType          316879 non-null object\n",
      "RegistrationYear     354369 non-null int64\n",
      "Gearbox              334536 non-null object\n",
      "Power                354369 non-null int64\n",
      "Model                334664 non-null object\n",
      "Kilometer            354369 non-null int64\n",
      "RegistrationMonth    354369 non-null int64\n",
      "FuelType             321474 non-null object\n",
      "Brand                354369 non-null object\n",
      "NotRepaired          283215 non-null object\n",
      "DateCreated          354369 non-null object\n",
      "NumberOfPictures     354369 non-null int64\n",
      "PostalCode           354369 non-null int64\n",
      "LastSeen             354369 non-null object\n",
      "dtypes: int64(7), object(9)\n",
      "memory usage: 43.3+ MB\n"
     ]
    }
   ],
   "source": [
    "df.info()"
   ]
  },
  {
   "cell_type": "code",
   "execution_count": 5,
   "metadata": {},
   "outputs": [
    {
     "data": {
      "text/plain": [
       "(354369, 16)"
      ]
     },
     "execution_count": 5,
     "metadata": {},
     "output_type": "execute_result"
    }
   ],
   "source": [
    "df.shape"
   ]
  },
  {
   "cell_type": "markdown",
   "metadata": {},
   "source": [
    "Датасет содержит 9  категориальных , 6 числовых признаков и 1 целевую переменную.   "
   ]
  },
  {
   "cell_type": "markdown",
   "metadata": {},
   "source": [
    "В первую очередь посмотрим на признаки относящиеся к датам .Всего их 5 -  это:\n",
    "\n",
    " - год регистрации авто , \n",
    " - месяц регистрации авто,\n",
    " - дата скачивания анкеты из базы, \n",
    " - дата создания анкеты ,\n",
    " - дата последней активности пользователя. \n",
    " \n",
    "На цену автомобиля влияет только признаки указывающие на возраст автомобиля. Как определить возраст автомобиля при продаже , если у нас на руках 'исторические данные'?\n",
    "\n",
    "Предположим что дата создания анкеты это и есть дата продажи, а дата производства - дата регистрации автомобиля. \n",
    "Тогда разница между  датами и будет возрастом автомобиля. Можно выделить признак  - время (длительность) продажи автомобиля (как разницу между датой создания и датой последней активностью клиента). Но задача сервиса определить стоимость автомбиля по входным параметрам. Длительность продажи это уже выходной параметр.\n",
    "\n",
    "Датой скачивания анкеты и  дата последней активности пользователя пренебрежем."
   ]
  },
  {
   "cell_type": "code",
   "execution_count": 6,
   "metadata": {},
   "outputs": [
    {
     "data": {
      "text/plain": [
       "array([1993, 2011, 2004, 2001, 2008, 1995, 1980, 2014, 1998, 2005, 1910,\n",
       "       2016, 2007, 2009, 2002, 2018, 1997, 1990, 2017, 1981, 2003, 1994,\n",
       "       1991, 1984, 2006, 1999, 2012, 2010, 2000, 1992, 2013, 1996, 1985,\n",
       "       1989, 2015, 1982, 1976, 1983, 1973, 1111, 1969, 1971, 1987, 1986,\n",
       "       1988, 1970, 1965, 1945, 1925, 1974, 1979, 1955, 1978, 1972, 1968,\n",
       "       1977, 1961, 1960, 1966, 1975, 1963, 1964, 5000, 1954, 1958, 1967,\n",
       "       1959, 9999, 1956, 3200, 1000, 1941, 8888, 1500, 2200, 4100, 1962,\n",
       "       1929, 1957, 1940, 3000, 2066, 1949, 2019, 1937, 1951, 1800, 1953,\n",
       "       1234, 8000, 5300, 9000, 2900, 6000, 5900, 5911, 1933, 1400, 1950,\n",
       "       4000, 1948, 1952, 1200, 8500, 1932, 1255, 3700, 3800, 4800, 1942,\n",
       "       7000, 1935, 1936, 6500, 1923, 2290, 2500, 1930, 1001, 9450, 1944,\n",
       "       1943, 1934, 1938, 1688, 2800, 1253, 1928, 1919, 5555, 5600, 1600,\n",
       "       2222, 1039, 9996, 1300, 8455, 1931, 1915, 4500, 1920, 1602, 7800,\n",
       "       9229, 1947, 1927, 7100, 8200, 1946, 7500, 3500])"
      ]
     },
     "execution_count": 6,
     "metadata": {},
     "output_type": "execute_result"
    }
   ],
   "source": [
    "df['RegistrationYear'].unique()#посмотрим на значения года регистрации"
   ]
  },
  {
   "cell_type": "markdown",
   "metadata": {},
   "source": [
    "В наборе есть нереальные даты (например 7500). Оценим объем данных с датами старше 1900 и младше 2020 "
   ]
  },
  {
   "cell_type": "code",
   "execution_count": 7,
   "metadata": {},
   "outputs": [
    {
     "data": {
      "text/plain": [
       "(171, 16)"
      ]
     },
     "execution_count": 7,
     "metadata": {},
     "output_type": "execute_result"
    }
   ],
   "source": [
    "df.query('RegistrationYear<1900 or RegistrationYear>2020').shape"
   ]
  },
  {
   "cell_type": "markdown",
   "metadata": {},
   "source": [
    "Таких строк всего 171. Объем незначительный, им можно пожертвовать. "
   ]
  },
  {
   "cell_type": "code",
   "execution_count": 8,
   "metadata": {},
   "outputs": [],
   "source": [
    "df = df.loc[(df['RegistrationYear']>1900)&(df['RegistrationYear']<2020)]"
   ]
  },
  {
   "cell_type": "markdown",
   "metadata": {},
   "source": [
    "Посмотрим на данные месяца регистрации "
   ]
  },
  {
   "cell_type": "code",
   "execution_count": 9,
   "metadata": {},
   "outputs": [
    {
     "data": {
      "text/plain": [
       "array([ 0,  5,  8,  6,  7, 10, 12, 11,  2,  3,  1,  4,  9])"
      ]
     },
     "execution_count": 9,
     "metadata": {},
     "output_type": "execute_result"
    }
   ],
   "source": [
    "df['RegistrationMonth'].unique()"
   ]
  },
  {
   "cell_type": "code",
   "execution_count": 10,
   "metadata": {},
   "outputs": [
    {
     "data": {
      "text/plain": [
       "0     37220\n",
       "3     34368\n",
       "6     31501\n",
       "4     29266\n",
       "5     29149\n",
       "7     27210\n",
       "10    26098\n",
       "12    24287\n",
       "11    24184\n",
       "9     23811\n",
       "1     23214\n",
       "8     22626\n",
       "2     21264\n",
       "Name: RegistrationMonth, dtype: int64"
      ]
     },
     "execution_count": 10,
     "metadata": {},
     "output_type": "execute_result"
    }
   ],
   "source": [
    "df['RegistrationMonth'].value_counts()"
   ]
  },
  {
   "cell_type": "markdown",
   "metadata": {},
   "source": [
    "Присутствует месяц  обозначенный как 0. Скорее всего это пропуск. Заменим нули на случайный месяц в году. А так же объединим год и месяц в один признак."
   ]
  },
  {
   "cell_type": "code",
   "execution_count": 11,
   "metadata": {},
   "outputs": [],
   "source": [
    "df['RegistrationMonth'] = df['RegistrationMonth'].apply(lambda x:  np.random.randint(1,12) if (x==0) else x)\n",
    "df['Date']=pd.to_datetime(df.loc[:,['RegistrationMonth','RegistrationYear']].astype(str).add(' ').sum(1))"
   ]
  },
  {
   "cell_type": "markdown",
   "metadata": {},
   "source": [
    "Вычеслим возраст автомобиля и создадим новый признак 'Age'"
   ]
  },
  {
   "cell_type": "code",
   "execution_count": 12,
   "metadata": {},
   "outputs": [],
   "source": [
    "df['DateCreated'] = pd.to_datetime(df['DateCreated'], format='%Y.%m.%d')\n",
    "df['Age'] = round((df['DateCreated']-df['Date']).dt.days/365,1)"
   ]
  },
  {
   "cell_type": "markdown",
   "metadata": {},
   "source": [
    "Удалим остальные даты. \n",
    "\n",
    "Колонки с количеством фотографий и почтовым индексом не влияет на цену автомобиля, удалим и их. "
   ]
  },
  {
   "cell_type": "code",
   "execution_count": 13,
   "metadata": {},
   "outputs": [],
   "source": [
    "df.set_index('Date', inplace = True)\n",
    "df.drop(['RegistrationMonth','RegistrationYear','DateCrawled','DateCreated','LastSeen','NumberOfPictures','PostalCode'], axis = 1 , inplace = True)"
   ]
  },
  {
   "cell_type": "code",
   "execution_count": 14,
   "metadata": {},
   "outputs": [
    {
     "data": {
      "text/html": [
       "<div>\n",
       "<style scoped>\n",
       "    .dataframe tbody tr th:only-of-type {\n",
       "        vertical-align: middle;\n",
       "    }\n",
       "\n",
       "    .dataframe tbody tr th {\n",
       "        vertical-align: top;\n",
       "    }\n",
       "\n",
       "    .dataframe thead th {\n",
       "        text-align: right;\n",
       "    }\n",
       "</style>\n",
       "<table border=\"1\" class=\"dataframe\">\n",
       "  <thead>\n",
       "    <tr style=\"text-align: right;\">\n",
       "      <th></th>\n",
       "      <th>Price</th>\n",
       "      <th>VehicleType</th>\n",
       "      <th>Gearbox</th>\n",
       "      <th>Power</th>\n",
       "      <th>Model</th>\n",
       "      <th>Kilometer</th>\n",
       "      <th>FuelType</th>\n",
       "      <th>Brand</th>\n",
       "      <th>NotRepaired</th>\n",
       "      <th>Age</th>\n",
       "    </tr>\n",
       "    <tr>\n",
       "      <th>Date</th>\n",
       "      <th></th>\n",
       "      <th></th>\n",
       "      <th></th>\n",
       "      <th></th>\n",
       "      <th></th>\n",
       "      <th></th>\n",
       "      <th></th>\n",
       "      <th></th>\n",
       "      <th></th>\n",
       "      <th></th>\n",
       "    </tr>\n",
       "  </thead>\n",
       "  <tbody>\n",
       "    <tr>\n",
       "      <td>1993-06-01</td>\n",
       "      <td>480</td>\n",
       "      <td>NaN</td>\n",
       "      <td>manual</td>\n",
       "      <td>0</td>\n",
       "      <td>golf</td>\n",
       "      <td>150000</td>\n",
       "      <td>petrol</td>\n",
       "      <td>volkswagen</td>\n",
       "      <td>NaN</td>\n",
       "      <td>22.8</td>\n",
       "    </tr>\n",
       "    <tr>\n",
       "      <td>2011-05-01</td>\n",
       "      <td>18300</td>\n",
       "      <td>coupe</td>\n",
       "      <td>manual</td>\n",
       "      <td>190</td>\n",
       "      <td>NaN</td>\n",
       "      <td>125000</td>\n",
       "      <td>gasoline</td>\n",
       "      <td>audi</td>\n",
       "      <td>yes</td>\n",
       "      <td>4.9</td>\n",
       "    </tr>\n",
       "    <tr>\n",
       "      <td>2004-08-01</td>\n",
       "      <td>9800</td>\n",
       "      <td>suv</td>\n",
       "      <td>auto</td>\n",
       "      <td>163</td>\n",
       "      <td>grand</td>\n",
       "      <td>125000</td>\n",
       "      <td>gasoline</td>\n",
       "      <td>jeep</td>\n",
       "      <td>NaN</td>\n",
       "      <td>11.6</td>\n",
       "    </tr>\n",
       "  </tbody>\n",
       "</table>\n",
       "</div>"
      ],
      "text/plain": [
       "            Price VehicleType Gearbox  Power  Model  Kilometer  FuelType  \\\n",
       "Date                                                                       \n",
       "1993-06-01    480         NaN  manual      0   golf     150000    petrol   \n",
       "2011-05-01  18300       coupe  manual    190    NaN     125000  gasoline   \n",
       "2004-08-01   9800         suv    auto    163  grand     125000  gasoline   \n",
       "\n",
       "                 Brand NotRepaired   Age  \n",
       "Date                                      \n",
       "1993-06-01  volkswagen         NaN  22.8  \n",
       "2011-05-01        audi         yes   4.9  \n",
       "2004-08-01        jeep         NaN  11.6  "
      ]
     },
     "execution_count": 14,
     "metadata": {},
     "output_type": "execute_result"
    }
   ],
   "source": [
    "df.head(3)"
   ]
  },
  {
   "cell_type": "markdown",
   "metadata": {},
   "source": [
    "Изучим  пропуски"
   ]
  },
  {
   "cell_type": "code",
   "execution_count": 15,
   "metadata": {},
   "outputs": [
    {
     "data": {
      "text/plain": [
       "Price              0\n",
       "VehicleType    37319\n",
       "Gearbox        19695\n",
       "Power              0\n",
       "Model          19630\n",
       "Kilometer          0\n",
       "FuelType       32767\n",
       "Brand              0\n",
       "NotRepaired    71007\n",
       "Age                0\n",
       "dtype: int64"
      ]
     },
     "execution_count": 15,
     "metadata": {},
     "output_type": "execute_result"
    }
   ],
   "source": [
    "df.isna().sum()"
   ]
  },
  {
   "cell_type": "markdown",
   "metadata": {},
   "source": [
    "Начнем с признака NotRepaired - 'была машина в ремонте или нет'"
   ]
  },
  {
   "cell_type": "code",
   "execution_count": 16,
   "metadata": {},
   "outputs": [
    {
     "data": {
      "text/plain": [
       "no     247146\n",
       "yes     36045\n",
       "Name: NotRepaired, dtype: int64"
      ]
     },
     "execution_count": 16,
     "metadata": {},
     "output_type": "execute_result"
    }
   ],
   "source": [
    "df['NotRepaired'].value_counts()"
   ]
  },
  {
   "cell_type": "markdown",
   "metadata": {},
   "source": [
    "И так у признака всего два значения - да и нет. Но легко себе представить что продавец не знает была ли его машина в ремонте или нет. Например второй владелец, который не проверил данный параметр у первого(и т.д. и т.п.) . Заменим пропуски на UNK"
   ]
  },
  {
   "cell_type": "code",
   "execution_count": 17,
   "metadata": {},
   "outputs": [],
   "source": [
    "df['NotRepaired']= df['NotRepaired'].fillna('UNK')"
   ]
  },
  {
   "cell_type": "markdown",
   "metadata": {},
   "source": [
    "Пропуски в остальных признаках имеют существенное значение на цену автомобиля. Это тип кузова, коробка передач, модель и тип топлива.\n",
    "Замену в данных признаках проведем по принципу наиболее частовстречаемых значений (МОДА) среди подобных автомобилей. Подобие будет определятся по \n",
    "таким признакам как:\n",
    "    - Бренд\n",
    "    - Модель\n",
    "    - Тип кузова\n"
   ]
  },
  {
   "cell_type": "markdown",
   "metadata": {},
   "source": [
    "Проведем замены пропусков в данных по модели. "
   ]
  },
  {
   "cell_type": "code",
   "execution_count": 18,
   "metadata": {},
   "outputs": [
    {
     "data": {
      "text/plain": [
       "0"
      ]
     },
     "execution_count": 18,
     "metadata": {},
     "output_type": "execute_result"
    }
   ],
   "source": [
    "#создадим список мод model_mode  и заменим пропуски модами, если производитель имеет все пропущенные значения в названиях модели, заменим \n",
    "#пропуск на 'UNK'\n",
    "model_mode = df.groupby(['Brand'])['Model'].apply(lambda x: x.mode()[0] if x.count()!=0 else 'UNK')\n",
    "#функция заполняет пропуски из списка \n",
    "def filler_M(row):\n",
    "    if type(row['Model']) !=str:\n",
    "        return model_mode.get(row['Brand'],row['VehicleType'])\n",
    "    return row['Model']\n",
    "df['Model'] = df.apply(filler_M, axis =1)\n",
    "#посчитатем итоговое кол-во пропусков\n",
    "df['Model'].isna().sum()"
   ]
  },
  {
   "cell_type": "markdown",
   "metadata": {},
   "source": [
    "По тому же принципу заменим пропуски в остальных категориальных  признаках. "
   ]
  },
  {
   "cell_type": "code",
   "execution_count": 19,
   "metadata": {},
   "outputs": [
    {
     "data": {
      "text/plain": [
       "0"
      ]
     },
     "execution_count": 19,
     "metadata": {},
     "output_type": "execute_result"
    }
   ],
   "source": [
    "#признак 'VehicleType'\n",
    "VehicleType_mode = df.groupby(['Brand','Model'])['VehicleType'].apply(lambda x:  x.mode()[0] if x.count()!=0 else 'UNK').to_dict()\n",
    "def filler_V(row):\n",
    "    if type(row['VehicleType']) !=str:\n",
    "        return VehicleType_mode.get((row['Brand'],row['Model']))\n",
    "    return row['VehicleType']\n",
    "df['VehicleType'] = df.apply(filler_V, axis =1)\n",
    "df['VehicleType'].isna().sum()"
   ]
  },
  {
   "cell_type": "code",
   "execution_count": 20,
   "metadata": {},
   "outputs": [
    {
     "data": {
      "text/plain": [
       "0"
      ]
     },
     "execution_count": 20,
     "metadata": {},
     "output_type": "execute_result"
    }
   ],
   "source": [
    "# признак 'Gearbox_mode'\n",
    "Gearbox_mode = df.groupby(['Brand','Model','VehicleType'])['Gearbox'].apply(lambda x:  x.mode()[0] if x.count()!=0 else 'UNK'\n",
    "                                                                     ).to_dict()\n",
    "def filler_G(row):\n",
    "    if type(row['Gearbox']) !=str:\n",
    "        return Gearbox_mode.get((row['Brand'],row['Model'],row['VehicleType']))\n",
    "    return row['Gearbox']\n",
    "df['Gearbox'] = df.apply(filler_G, axis =1)\n",
    "df['Gearbox'].isna().sum()"
   ]
  },
  {
   "cell_type": "code",
   "execution_count": 21,
   "metadata": {},
   "outputs": [
    {
     "data": {
      "text/plain": [
       "0"
      ]
     },
     "execution_count": 21,
     "metadata": {},
     "output_type": "execute_result"
    }
   ],
   "source": [
    "# признак 'FuelType_mode'\n",
    "FuelType_mode = df.groupby(['Brand','Model','VehicleType'])['FuelType'].apply(lambda x:  x.mode()[0] if x.count()!=0 else 'UNK'\n",
    "                                                                     ).to_dict()\n",
    "def filler_F(row):\n",
    "    if type(row['FuelType']) !=str:\n",
    "        return FuelType_mode.get((row['Brand'],row['Model'],row['VehicleType']))\n",
    "    return row['FuelType']\n",
    "df['FuelType'] = df.apply(filler_F, axis =1)\n",
    "df['FuelType'].isna().sum()"
   ]
  },
  {
   "cell_type": "code",
   "execution_count": 22,
   "metadata": {},
   "outputs": [
    {
     "data": {
      "text/plain": [
       "Price          0\n",
       "VehicleType    0\n",
       "Gearbox        0\n",
       "Power          0\n",
       "Model          0\n",
       "Kilometer      0\n",
       "FuelType       0\n",
       "Brand          0\n",
       "NotRepaired    0\n",
       "Age            0\n",
       "dtype: int64"
      ]
     },
     "execution_count": 22,
     "metadata": {},
     "output_type": "execute_result"
    }
   ],
   "source": [
    "df.isna().sum()"
   ]
  },
  {
   "cell_type": "markdown",
   "metadata": {},
   "source": []
  },
  {
   "cell_type": "markdown",
   "metadata": {},
   "source": [
    "И так пропусков не осталось\n",
    "Приступим к числовым признакам"
   ]
  },
  {
   "cell_type": "code",
   "execution_count": 23,
   "metadata": {},
   "outputs": [
    {
     "data": {
      "text/html": [
       "<div>\n",
       "<style scoped>\n",
       "    .dataframe tbody tr th:only-of-type {\n",
       "        vertical-align: middle;\n",
       "    }\n",
       "\n",
       "    .dataframe tbody tr th {\n",
       "        vertical-align: top;\n",
       "    }\n",
       "\n",
       "    .dataframe thead th {\n",
       "        text-align: right;\n",
       "    }\n",
       "</style>\n",
       "<table border=\"1\" class=\"dataframe\">\n",
       "  <thead>\n",
       "    <tr style=\"text-align: right;\">\n",
       "      <th></th>\n",
       "      <th>Price</th>\n",
       "      <th>Power</th>\n",
       "      <th>Kilometer</th>\n",
       "      <th>Age</th>\n",
       "    </tr>\n",
       "  </thead>\n",
       "  <tbody>\n",
       "    <tr>\n",
       "      <td>count</td>\n",
       "      <td>354198.000000</td>\n",
       "      <td>354198.000000</td>\n",
       "      <td>354198.000000</td>\n",
       "      <td>354198.000000</td>\n",
       "    </tr>\n",
       "    <tr>\n",
       "      <td>mean</td>\n",
       "      <td>4417.651314</td>\n",
       "      <td>110.078242</td>\n",
       "      <td>128267.607383</td>\n",
       "      <td>12.697942</td>\n",
       "    </tr>\n",
       "    <tr>\n",
       "      <td>std</td>\n",
       "      <td>4514.081022</td>\n",
       "      <td>189.536766</td>\n",
       "      <td>37823.538557</td>\n",
       "      <td>7.550824</td>\n",
       "    </tr>\n",
       "    <tr>\n",
       "      <td>min</td>\n",
       "      <td>0.000000</td>\n",
       "      <td>0.000000</td>\n",
       "      <td>5000.000000</td>\n",
       "      <td>-3.700000</td>\n",
       "    </tr>\n",
       "    <tr>\n",
       "      <td>25%</td>\n",
       "      <td>1050.000000</td>\n",
       "      <td>69.000000</td>\n",
       "      <td>125000.000000</td>\n",
       "      <td>8.200000</td>\n",
       "    </tr>\n",
       "    <tr>\n",
       "      <td>50%</td>\n",
       "      <td>2700.000000</td>\n",
       "      <td>105.000000</td>\n",
       "      <td>150000.000000</td>\n",
       "      <td>12.700000</td>\n",
       "    </tr>\n",
       "    <tr>\n",
       "      <td>75%</td>\n",
       "      <td>6400.000000</td>\n",
       "      <td>143.000000</td>\n",
       "      <td>150000.000000</td>\n",
       "      <td>16.900000</td>\n",
       "    </tr>\n",
       "    <tr>\n",
       "      <td>max</td>\n",
       "      <td>20000.000000</td>\n",
       "      <td>20000.000000</td>\n",
       "      <td>150000.000000</td>\n",
       "      <td>106.300000</td>\n",
       "    </tr>\n",
       "  </tbody>\n",
       "</table>\n",
       "</div>"
      ],
      "text/plain": [
       "               Price          Power      Kilometer            Age\n",
       "count  354198.000000  354198.000000  354198.000000  354198.000000\n",
       "mean     4417.651314     110.078242  128267.607383      12.697942\n",
       "std      4514.081022     189.536766   37823.538557       7.550824\n",
       "min         0.000000       0.000000    5000.000000      -3.700000\n",
       "25%      1050.000000      69.000000  125000.000000       8.200000\n",
       "50%      2700.000000     105.000000  150000.000000      12.700000\n",
       "75%      6400.000000     143.000000  150000.000000      16.900000\n",
       "max     20000.000000   20000.000000  150000.000000     106.300000"
      ]
     },
     "execution_count": 23,
     "metadata": {},
     "output_type": "execute_result"
    }
   ],
   "source": [
    "df.describe()"
   ]
  },
  {
   "cell_type": "code",
   "execution_count": 34,
   "metadata": {},
   "outputs": [
    {
     "data": {
      "image/png": "[encoded data removed]",
      "text/plain": [
       "<Figure size 1080x72 with 1 Axes>"
      ]
     },
     "metadata": {
      "needs_background": "light"
     },
     "output_type": "display_data"
    },
    {
     "data": {
      "image/png": "[encoded data removed]",
      "text/plain": [
       "<Figure size 1080x72 with 1 Axes>"
      ]
     },
     "metadata": {
      "needs_background": "light"
     },
     "output_type": "display_data"
    },
    {
     "data": {
      "image/png": "[encoded data removed]",
      "text/plain": [
       "<Figure size 1080x72 with 1 Axes>"
      ]
     },
     "metadata": {
      "needs_background": "light"
     },
     "output_type": "display_data"
    },
    {
     "data": {
      "image/png": "[encoded data removed]",
      "text/plain": [
       "<Figure size 1080x72 with 1 Axes>"
      ]
     },
     "metadata": {
      "needs_background": "light"
     },
     "output_type": "display_data"
    }
   ],
   "source": [
    "tmp1=['Price','Power','Kilometer','Age']\n",
    "for order in tmp1:\n",
    "    plt.figure(figsize=(15,1))\n",
    "    sns.boxplot(df[order],  orient=\"h\")\n",
    "    plt.title(order)"
   ]
  },
  {
   "cell_type": "markdown",
   "metadata": {},
   "source": [
    "У нас есть аномальные значения в числовых признаках в мощности двигателя, возрасте и в цене. Посмотрим и оценим их.\n",
    "\n",
    "Начнем с мощности. Посмотрим на значения. "
   ]
  },
  {
   "cell_type": "code",
   "execution_count": 35,
   "metadata": {},
   "outputs": [
    {
     "data": {
      "text/plain": [
       "0       40098\n",
       "75      24020\n",
       "60      15897\n",
       "150     14590\n",
       "101     13298\n",
       "        ...  \n",
       "1360        1\n",
       "1968        1\n",
       "6226        1\n",
       "337         1\n",
       "6006        1\n",
       "Name: Power, Length: 711, dtype: int64"
      ]
     },
     "execution_count": 35,
     "metadata": {},
     "output_type": "execute_result"
    }
   ],
   "source": [
    "df['Power'].value_counts()"
   ]
  },
  {
   "cell_type": "markdown",
   "metadata": {},
   "source": [
    "В мощности двигателя 40k значений равно нулю. Скорее всего это пропуск. Воспользуемся уже знакомым методом и заменим нули\n",
    "на значения  подобных автомобилей. Строки с мощностью двигателя более 1k л.с. удалим. "
   ]
  },
  {
   "cell_type": "code",
   "execution_count": 36,
   "metadata": {},
   "outputs": [],
   "source": [
    "Power_mode = df.groupby(['Brand','Model'])['Power'].median().to_dict()\n",
    "def filler_P(row):\n",
    "    if row['Power'] == 0:\n",
    "        return Power_mode.get((row['Brand'],row['Model']))\n",
    "    return row['Power']\n",
    "df['Power'] = df.apply(filler_P, axis =1)\n"
   ]
  },
  {
   "cell_type": "code",
   "execution_count": 37,
   "metadata": {},
   "outputs": [
    {
     "data": {
      "text/plain": [
       "75.0       25723\n",
       "60.0       21803\n",
       "90.0       17880\n",
       "101.0      15559\n",
       "150.0      14903\n",
       "           ...  \n",
       "323.0          1\n",
       "1922.0         1\n",
       "13616.0        1\n",
       "68.5           1\n",
       "1239.0         1\n",
       "Name: Power, Length: 721, dtype: int64"
      ]
     },
     "execution_count": 37,
     "metadata": {},
     "output_type": "execute_result"
    }
   ],
   "source": [
    "df['Power'].value_counts()"
   ]
  },
  {
   "cell_type": "markdown",
   "metadata": {},
   "source": [
    "Нормальное распределение по мощности укладывается в диапозон до 250 л.с. Можно представить реальные двигатели до 1000 л.с.\n",
    "Но свыше это уже фантастика. Удалим их. "
   ]
  },
  {
   "cell_type": "code",
   "execution_count": 38,
   "metadata": {},
   "outputs": [],
   "source": [
    "\n",
    "df = df.loc[df['Power']<1000]"
   ]
  },
  {
   "cell_type": "code",
   "execution_count": 39,
   "metadata": {},
   "outputs": [
    {
     "data": {
      "text/plain": [
       "(353899, 10)"
      ]
     },
     "execution_count": 39,
     "metadata": {},
     "output_type": "execute_result"
    }
   ],
   "source": [
    "df.shape"
   ]
  },
  {
   "cell_type": "markdown",
   "metadata": {},
   "source": [
    "Посмотрим на количество автомобилей с нулевой ценой."
   ]
  },
  {
   "cell_type": "code",
   "execution_count": 40,
   "metadata": {},
   "outputs": [
    {
     "data": {
      "text/plain": [
       "(10725, 10)"
      ]
     },
     "execution_count": 40,
     "metadata": {},
     "output_type": "execute_result"
    }
   ],
   "source": [
    "df.loc[df['Price']<=0].shape"
   ]
  },
  {
   "cell_type": "markdown",
   "metadata": {},
   "source": [
    "Это явная аномалия, такого количества обьявлений по нулевой цене не встречается на сайтах. Скорее всего данные утеряны на этапе сбора. Так как это целевой признак , мы не можем его редактировать\n",
    "Удалим аномалии."
   ]
  },
  {
   "cell_type": "code",
   "execution_count": 41,
   "metadata": {},
   "outputs": [
    {
     "data": {
      "text/plain": [
       "(343174, 10)"
      ]
     },
     "execution_count": 41,
     "metadata": {},
     "output_type": "execute_result"
    }
   ],
   "source": [
    "df = df.loc[df['Price']>0]\n",
    "df.shape"
   ]
  },
  {
   "cell_type": "markdown",
   "metadata": {},
   "source": [
    "### КОДИРОВАНИЕ"
   ]
  },
  {
   "cell_type": "markdown",
   "metadata": {},
   "source": [
    "Для линейной регресии необходимо закодировать категориальные признаки. Заменим значения простыми числами, обозначающими порядковый номер данного значения в общем списке"
   ]
  },
  {
   "cell_type": "code",
   "execution_count": 42,
   "metadata": {},
   "outputs": [],
   "source": [
    "categorical = ['VehicleType', 'Gearbox', 'Model','FuelType', 'Brand', 'NotRepaired']\n",
    "l = 0\n",
    "tmp = []\n",
    "for cat in categorical:\n",
    "    tmp = df[cat].unique()\n",
    "    l = [i for i in range(len(tmp))]\n",
    "    tmp = dict(zip(tmp, l))\n",
    "    df[cat] = df[cat].map(tmp)\n"
   ]
  },
  {
   "cell_type": "code",
   "execution_count": 43,
   "metadata": {},
   "outputs": [
    {
     "data": {
      "text/html": [
       "<div>\n",
       "<style scoped>\n",
       "    .dataframe tbody tr th:only-of-type {\n",
       "        vertical-align: middle;\n",
       "    }\n",
       "\n",
       "    .dataframe tbody tr th {\n",
       "        vertical-align: top;\n",
       "    }\n",
       "\n",
       "    .dataframe thead th {\n",
       "        text-align: right;\n",
       "    }\n",
       "</style>\n",
       "<table border=\"1\" class=\"dataframe\">\n",
       "  <thead>\n",
       "    <tr style=\"text-align: right;\">\n",
       "      <th></th>\n",
       "      <th>Price</th>\n",
       "      <th>VehicleType</th>\n",
       "      <th>Gearbox</th>\n",
       "      <th>Power</th>\n",
       "      <th>Model</th>\n",
       "      <th>Kilometer</th>\n",
       "      <th>FuelType</th>\n",
       "      <th>Brand</th>\n",
       "      <th>NotRepaired</th>\n",
       "      <th>Age</th>\n",
       "    </tr>\n",
       "    <tr>\n",
       "      <th>Date</th>\n",
       "      <th></th>\n",
       "      <th></th>\n",
       "      <th></th>\n",
       "      <th></th>\n",
       "      <th></th>\n",
       "      <th></th>\n",
       "      <th></th>\n",
       "      <th></th>\n",
       "      <th></th>\n",
       "      <th></th>\n",
       "    </tr>\n",
       "  </thead>\n",
       "  <tbody>\n",
       "    <tr>\n",
       "      <td>1993-06-01</td>\n",
       "      <td>480</td>\n",
       "      <td>0</td>\n",
       "      <td>0</td>\n",
       "      <td>90.0</td>\n",
       "      <td>0</td>\n",
       "      <td>150000</td>\n",
       "      <td>0</td>\n",
       "      <td>0</td>\n",
       "      <td>0</td>\n",
       "      <td>22.8</td>\n",
       "    </tr>\n",
       "    <tr>\n",
       "      <td>2011-05-01</td>\n",
       "      <td>18300</td>\n",
       "      <td>1</td>\n",
       "      <td>0</td>\n",
       "      <td>190.0</td>\n",
       "      <td>1</td>\n",
       "      <td>125000</td>\n",
       "      <td>1</td>\n",
       "      <td>1</td>\n",
       "      <td>1</td>\n",
       "      <td>4.9</td>\n",
       "    </tr>\n",
       "    <tr>\n",
       "      <td>2004-08-01</td>\n",
       "      <td>9800</td>\n",
       "      <td>2</td>\n",
       "      <td>1</td>\n",
       "      <td>163.0</td>\n",
       "      <td>2</td>\n",
       "      <td>125000</td>\n",
       "      <td>1</td>\n",
       "      <td>2</td>\n",
       "      <td>0</td>\n",
       "      <td>11.6</td>\n",
       "    </tr>\n",
       "  </tbody>\n",
       "</table>\n",
       "</div>"
      ],
      "text/plain": [
       "            Price  VehicleType  Gearbox  Power  Model  Kilometer  FuelType  \\\n",
       "Date                                                                         \n",
       "1993-06-01    480            0        0   90.0      0     150000         0   \n",
       "2011-05-01  18300            1        0  190.0      1     125000         1   \n",
       "2004-08-01   9800            2        1  163.0      2     125000         1   \n",
       "\n",
       "            Brand  NotRepaired   Age  \n",
       "Date                                  \n",
       "1993-06-01      0            0  22.8  \n",
       "2011-05-01      1            1   4.9  \n",
       "2004-08-01      2            0  11.6  "
      ]
     },
     "execution_count": 43,
     "metadata": {},
     "output_type": "execute_result"
    }
   ],
   "source": [
    "df.head(3)"
   ]
  },
  {
   "cell_type": "markdown",
   "metadata": {},
   "source": [
    "Посчитаем количество дублакатов"
   ]
  },
  {
   "cell_type": "code",
   "execution_count": 44,
   "metadata": {},
   "outputs": [
    {
     "data": {
      "text/plain": [
       "26156"
      ]
     },
     "execution_count": 44,
     "metadata": {},
     "output_type": "execute_result"
    }
   ],
   "source": [
    "df.duplicated().sum()"
   ]
  },
  {
   "cell_type": "code",
   "execution_count": 45,
   "metadata": {},
   "outputs": [
    {
     "data": {
      "text/plain": [
       "(343174, 10)"
      ]
     },
     "execution_count": 45,
     "metadata": {},
     "output_type": "execute_result"
    }
   ],
   "source": [
    "df.shape"
   ]
  },
  {
   "cell_type": "code",
   "execution_count": 46,
   "metadata": {},
   "outputs": [],
   "source": [
    "df.drop_duplicates(inplace = True)"
   ]
  },
  {
   "cell_type": "code",
   "execution_count": 47,
   "metadata": {},
   "outputs": [
    {
     "data": {
      "text/plain": [
       "(317018, 10)"
      ]
     },
     "execution_count": 47,
     "metadata": {},
     "output_type": "execute_result"
    }
   ],
   "source": [
    "df.shape"
   ]
  },
  {
   "cell_type": "code",
   "execution_count": 48,
   "metadata": {},
   "outputs": [
    {
     "name": "stdout",
     "output_type": "stream",
     "text": [
      "<class 'pandas.core.frame.DataFrame'>\n",
      "DatetimeIndex: 317018 entries, 1993-06-01 to 2002-06-01\n",
      "Data columns (total 10 columns):\n",
      "Price          317018 non-null int64\n",
      "VehicleType    317018 non-null int64\n",
      "Gearbox        317018 non-null int64\n",
      "Power          317018 non-null float64\n",
      "Model          317018 non-null int64\n",
      "Kilometer      317018 non-null int64\n",
      "FuelType       317018 non-null int64\n",
      "Brand          317018 non-null int64\n",
      "NotRepaired    317018 non-null int64\n",
      "Age            317018 non-null float64\n",
      "dtypes: float64(2), int64(8)\n",
      "memory usage: 26.6 MB\n"
     ]
    }
   ],
   "source": [
    "df.info()"
   ]
  },
  {
   "cell_type": "markdown",
   "metadata": {},
   "source": [
    "Мы провели предобработку данных. Синтезировали из имеющихся данных очень важный для цены автомобиля признак  - его возраст. \n",
    "Заменили пропуски в категориальных признаках, почистили аномалии.Удалили лишние признаки. Перейдем к обучению моделей"
   ]
  },
  {
   "cell_type": "markdown",
   "metadata": {},
   "source": [
    "# 2. Обучение моделей"
   ]
  },
  {
   "cell_type": "markdown",
   "metadata": {},
   "source": [
    "Разобьем датасет на обучающую и тестовую выборки"
   ]
  },
  {
   "cell_type": "code",
   "execution_count": 49,
   "metadata": {},
   "outputs": [],
   "source": [
    "X = df.drop(['Price'], axis=1)\n",
    "Y = df['Price']\n",
    "X_train, X_test,Y_train, Y_test  = train_test_split(X,Y,  test_size=0.20, random_state=12345)\n",
    "categorical = ['VehicleType', 'Gearbox', 'Model','FuelType', 'Brand', 'NotRepaired']"
   ]
  },
  {
   "cell_type": "markdown",
   "metadata": {},
   "source": [
    "### Линейная регрессия "
   ]
  },
  {
   "cell_type": "code",
   "execution_count": 50,
   "metadata": {},
   "outputs": [
    {
     "name": "stdout",
     "output_type": "stream",
     "text": [
      "RMSE = 3130.9375981377257\n",
      "Время обучения LinearRegression: 0.0911259651184082\n"
     ]
    }
   ],
   "source": [
    "logres =  LinearRegression()\n",
    "#Начнем считать время\n",
    "start_time = time.time()\n",
    "logres.fit(X_train, Y_train)\n",
    "predicted_valid = logres.predict(X_test)\n",
    "time_train_lr = time.time() - start_time\n",
    "mse = mean_squared_error(Y_test, predicted_valid)\n",
    "print(\"RMSE =\", mse ** 0.5)\n",
    "print(\"Время обучения LinearRegression:\", time_train_lr)"
   ]
  },
  {
   "cell_type": "markdown",
   "metadata": {},
   "source": [
    "### LightGBM"
   ]
  },
  {
   "cell_type": "code",
   "execution_count": 66,
   "metadata": {},
   "outputs": [
    {
     "name": "stdout",
     "output_type": "stream",
     "text": [
      "Training until validation scores don't improve for 50 rounds\n",
      "[50]\ttrain's rmse: 1693.3\ttest's rmse: 1741.84\n",
      "[100]\ttrain's rmse: 1618.27\ttest's rmse: 1711.66\n",
      "[150]\ttrain's rmse: 1559\ttest's rmse: 1690.71\n",
      "[200]\ttrain's rmse: 1520.97\ttest's rmse: 1680.17\n",
      "[250]\ttrain's rmse: 1488.32\ttest's rmse: 1672.07\n",
      "[300]\ttrain's rmse: 1461.88\ttest's rmse: 1668.72\n",
      "[350]\ttrain's rmse: 1438.68\ttest's rmse: 1665\n",
      "[400]\ttrain's rmse: 1419.55\ttest's rmse: 1663.29\n",
      "[450]\ttrain's rmse: 1401.83\ttest's rmse: 1664.79\n",
      "Early stopping, best iteration is:\n",
      "[405]\ttrain's rmse: 1417.44\ttest's rmse: 1662.83\n",
      "Время обучения LightGBM: 38.0419921875\n"
     ]
    }
   ],
   "source": [
    "train_lgb = lgb.Dataset(X_train, Y_train)\n",
    "valid_lgb = lgb.Dataset(X_test, Y_test)\n",
    "\n",
    "param_lgb = {'objective': 'regression', \n",
    "             'learning_rate': 0.5, \n",
    "             'subsample' : 0.8, \n",
    "             'max_depth': 8, \n",
    "             'metric': 'rmse'}\n",
    "\n",
    "#Начнем считать время\n",
    "start_time = time.time()\n",
    "model_lgb = lgb.train(params=param_lgb, \n",
    "                      train_set=train_lgb,\n",
    "                      num_boost_round=1000,\n",
    "                      valid_sets=[valid_lgb, train_lgb], \n",
    "                      valid_names=['test', 'train'], \n",
    "                      early_stopping_rounds=50, \n",
    "                      verbose_eval=50)\n",
    "\n",
    "time_train_lightgb = time.time() - start_time\n",
    "models_timings['LightGBM'] = time_train_lightgb\n",
    "print(\"Время обучения LightGBM:\", time_train_lightgb)"
   ]
  },
  {
   "cell_type": "markdown",
   "metadata": {},
   "source": [
    "# 3. Анализ моделей"
   ]
  },
  {
   "cell_type": "markdown",
   "metadata": {},
   "source": [
    "Линейная регрессия имеет серьезную ошибку\n",
    "RMSE = 3130.9375981377257\n",
    "при этом скорость обучения модели высокая - 0.09\n",
    "\n",
    "Градиентный бустинг LightGBM - предсказывает гораздо лучше \n",
    "RMSE = 1662.8\n",
    "При это время обучения существенно выше  - 38.04"
   ]
  }
 ],
 "metadata": {
  "kernelspec": {
   "display_name": "Python 3",
   "language": "python",
   "name": "python3"
  },
  "language_info": {
   "codemirror_mode": {
    "name": "ipython",
    "version": 3
   },
   "file_extension": ".py",
   "mimetype": "text/x-python",
   "name": "python",
   "nbconvert_exporter": "python",
   "pygments_lexer": "ipython3",
   "version": "3.7.8"
  },
  "toc": {
   "base_numbering": 1,
   "nav_menu": {},
   "number_sections": true,
   "sideBar": true,
   "skip_h1_title": true,
   "title_cell": "Table of Contents",
   "title_sidebar": "Contents",
   "toc_cell": false,
   "toc_position": {},
   "toc_section_display": true,
   "toc_window_display": false
  }
 },
 "nbformat": 4,
 "nbformat_minor": 2
}
