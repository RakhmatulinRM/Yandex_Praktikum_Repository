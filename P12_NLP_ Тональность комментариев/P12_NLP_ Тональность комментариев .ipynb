{
 "cells": [
  {
   "cell_type": "markdown",
   "metadata": {},
   "source": [
    "Интернет-магазин «Викишоп» запускает новый сервис. Теперь пользователи могут редактировать и дополнять описания товаров, как в вики-сообществах. То есть клиенты предлагают свои правки и комментируют изменения других. Магазину нужен инструмент, который будет искать токсичные комментарии и отправлять их на модерацию. \n",
    "\n",
    "Обучите модель классифицировать комментарии на позитивные и негативные. В вашем распоряжении набор данных с разметкой о токсичности правок.\n",
    "\n",
    "Постройте модель со значением метрики качества *F1* не меньше 0.75. \n",
    "\n",
    "### Инструкция по выполнению проекта\n",
    "\n",
    "1. Загрузите и подготовьте данные.\n",
    "2. Обучите разные модели. \n",
    "3. Сделайте выводы.\n",
    "\n",
    "Для выполнения проекта применять *BERT* необязательно, но вы можете попробовать.\n",
    "\n",
    "### Описание данных\n",
    "\n",
    "Данные находятся в файле `toxic_comments.csv`. Столбец *text* в нём содержит текст комментария, а *toxic* — целевой признак."
   ]
  },
  {
   "cell_type": "markdown",
   "metadata": {},
   "source": [
    "#  Подготовка"
   ]
  },
  {
   "cell_type": "code",
   "execution_count": 2,
   "metadata": {},
   "outputs": [],
   "source": [
    "import numpy as np\n",
    "import pandas as pd\n",
    "import torch\n",
    "import transformers\n",
    "from tqdm import notebook\n",
    "from sklearn.linear_model import LogisticRegression\n",
    "from sklearn.model_selection import cross_val_score\n",
    "from sklearn.model_selection import train_test_split\n",
    "import matplotlib.pyplot as plt\n",
    "import nltk\n",
    "from nltk.corpus import stopwords as nltk_stopwords\n",
    "from sklearn.feature_extraction.text import TfidfVectorizer\n",
    "from pymystem3 import Mystem\n",
    "m = Mystem()\n",
    "from sklearn.metrics import accuracy_score\n",
    "import re\n",
    "from sklearn.metrics import f1_score\n",
    "import warnings\n",
    "warnings.filterwarnings('ignore')"
   ]
  },
  {
   "cell_type": "code",
   "execution_count": 3,
   "metadata": {},
   "outputs": [],
   "source": [
    "data = pd.read_csv(\"/datasets/toxic_comments.csv\")\n"
   ]
  },
  {
   "cell_type": "code",
   "execution_count": 3,
   "metadata": {},
   "outputs": [
    {
     "data": {
      "text/html": [
       "<div>\n",
       "<style scoped>\n",
       "    .dataframe tbody tr th:only-of-type {\n",
       "        vertical-align: middle;\n",
       "    }\n",
       "\n",
       "    .dataframe tbody tr th {\n",
       "        vertical-align: top;\n",
       "    }\n",
       "\n",
       "    .dataframe thead th {\n",
       "        text-align: right;\n",
       "    }\n",
       "</style>\n",
       "<table border=\"1\" class=\"dataframe\">\n",
       "  <thead>\n",
       "    <tr style=\"text-align: right;\">\n",
       "      <th></th>\n",
       "      <th>text</th>\n",
       "      <th>toxic</th>\n",
       "    </tr>\n",
       "  </thead>\n",
       "  <tbody>\n",
       "    <tr>\n",
       "      <td>0</td>\n",
       "      <td>Explanation\\nWhy the edits made under my usern...</td>\n",
       "      <td>0</td>\n",
       "    </tr>\n",
       "    <tr>\n",
       "      <td>1</td>\n",
       "      <td>D'aww! He matches this background colour I'm s...</td>\n",
       "      <td>0</td>\n",
       "    </tr>\n",
       "    <tr>\n",
       "      <td>2</td>\n",
       "      <td>Hey man, I'm really not trying to edit war. It...</td>\n",
       "      <td>0</td>\n",
       "    </tr>\n",
       "    <tr>\n",
       "      <td>3</td>\n",
       "      <td>\"\\nMore\\nI can't make any real suggestions on ...</td>\n",
       "      <td>0</td>\n",
       "    </tr>\n",
       "    <tr>\n",
       "      <td>4</td>\n",
       "      <td>You, sir, are my hero. Any chance you remember...</td>\n",
       "      <td>0</td>\n",
       "    </tr>\n",
       "  </tbody>\n",
       "</table>\n",
       "</div>"
      ],
      "text/plain": [
       "                                                text  toxic\n",
       "0  Explanation\\nWhy the edits made under my usern...      0\n",
       "1  D'aww! He matches this background colour I'm s...      0\n",
       "2  Hey man, I'm really not trying to edit war. It...      0\n",
       "3  \"\\nMore\\nI can't make any real suggestions on ...      0\n",
       "4  You, sir, are my hero. Any chance you remember...      0"
      ]
     },
     "execution_count": 3,
     "metadata": {},
     "output_type": "execute_result"
    }
   ],
   "source": [
    "data.head()"
   ]
  },
  {
   "cell_type": "code",
   "execution_count": 4,
   "metadata": {},
   "outputs": [
    {
     "data": {
      "text/plain": [
       "0    143346\n",
       "1     16225\n",
       "Name: toxic, dtype: int64"
      ]
     },
     "execution_count": 4,
     "metadata": {},
     "output_type": "execute_result"
    }
   ],
   "source": [
    "data.toxic.value_counts()"
   ]
  },
  {
   "cell_type": "code",
   "execution_count": 5,
   "metadata": {},
   "outputs": [
    {
     "data": {
      "text/plain": [
       "<matplotlib.axes._subplots.AxesSubplot at 0x7ff485366890>"
      ]
     },
     "execution_count": 5,
     "metadata": {},
     "output_type": "execute_result"
    },
    {
     "data": {
      "image/png": "[encoded data removed]",
      "text/plain": [
       "<Figure size 432x288 with 1 Axes>"
      ]
     },
     "metadata": {
      "needs_background": "light"
     },
     "output_type": "display_data"
    }
   ],
   "source": [
    "data.toxic.value_counts().plot(kind='bar')"
   ]
  },
  {
   "cell_type": "markdown",
   "metadata": {},
   "source": [
    "Целевой признак имеет дисбаланс классов, негативных комментариев сильно меньше. Примерное соотношение 10:1"
   ]
  },
  {
   "cell_type": "markdown",
   "metadata": {},
   "source": [
    "Для лучшей обработки текста, удалим из текста знаки пунктуации и стоп-слова и лемматезируем текст"
   ]
  },
  {
   "cell_type": "code",
   "execution_count": 6,
   "metadata": {},
   "outputs": [],
   "source": [
    "def lemmatize(text):\n",
    "    text = re.sub(r'[^a-zA-Z]', ' ', text)#уберем символы невходящие в состав слов\n",
    "    return ''.join(m.lemmatize(\" \".join(text.split()))) #вернем лематизироанный текст"
   ]
  },
  {
   "cell_type": "code",
   "execution_count": 7,
   "metadata": {},
   "outputs": [],
   "source": [
    "data['text'] = data['text'].apply(lemmatize)"
   ]
  },
  {
   "cell_type": "markdown",
   "metadata": {},
   "source": [
    "Посмотрим на результат лемматизации на примере 36 строчки"
   ]
  },
  {
   "cell_type": "code",
   "execution_count": 8,
   "metadata": {},
   "outputs": [
    {
     "data": {
      "text/plain": [
       "'Mainland Asia includes the lower basin of China s Yangtze River as well as Korea But being specific is fine too I just found a citation for a more comprehensive DNA study by Hammer below rather than our generarizations and speculation so far Citation for Yayoi culture was brought to Japan by migrants from Korea who in turn trace their roots to southeast Asia south China DNA study by Hammer Describes the Yayoi migration from Korea based on the O SRY genes and other genes with close lineage haplogroups O M and O M Reiterates that the entire O haplogroup has been proposed to have a Southeast Asian origin Their definition of Southeast Asia includes southern China Then hypothesizes that the dispersals of Neolithic farmers from Southeast Asia also brought haplogroup O lineages to Korea and eventually to Japan In the concluding paragraph it states we propose that the Yayoi Y chromosomes descend from prehistoric farmers that had their origins in southeastern Asia perhaps going back to the origin of agriculture in this region Hammer s DNA study is based on a global sample consisted of males from Asian populations including six populations sampled from across the Japanese archipelago\\n'"
      ]
     },
     "execution_count": 8,
     "metadata": {},
     "output_type": "execute_result"
    }
   ],
   "source": [
    "data.loc[36,'text'] "
   ]
  },
  {
   "cell_type": "markdown",
   "metadata": {},
   "source": [
    "Лемматизированный текст не содержить цифр, знаков припинания и других символов. "
   ]
  },
  {
   "cell_type": "markdown",
   "metadata": {},
   "source": [
    "Разобьем датасет на трейн и тестовую выборки."
   ]
  },
  {
   "cell_type": "code",
   "execution_count": 9,
   "metadata": {},
   "outputs": [],
   "source": [
    "X = data.drop([\"toxic\"], axis=1)\n",
    "Y = data[\"toxic\"]\n",
    "X_train, X_test,Y_train, Y_test  = train_test_split(X,Y,  test_size=0.20, random_state=12345)\n"
   ]
  },
  {
   "cell_type": "code",
   "execution_count": 10,
   "metadata": {},
   "outputs": [
    {
     "data": {
      "text/html": [
       "<div>\n",
       "<style scoped>\n",
       "    .dataframe tbody tr th:only-of-type {\n",
       "        vertical-align: middle;\n",
       "    }\n",
       "\n",
       "    .dataframe tbody tr th {\n",
       "        vertical-align: top;\n",
       "    }\n",
       "\n",
       "    .dataframe thead th {\n",
       "        text-align: right;\n",
       "    }\n",
       "</style>\n",
       "<table border=\"1\" class=\"dataframe\">\n",
       "  <thead>\n",
       "    <tr style=\"text-align: right;\">\n",
       "      <th></th>\n",
       "      <th>text</th>\n",
       "    </tr>\n",
       "  </thead>\n",
       "  <tbody>\n",
       "    <tr>\n",
       "      <td>45800</td>\n",
       "      <td>I have offered as well but he must do my map f...</td>\n",
       "    </tr>\n",
       "    <tr>\n",
       "      <td>94209</td>\n",
       "      <td>YOUR biased ORTHODOX VIEWS have no more merit ...</td>\n",
       "    </tr>\n",
       "    <tr>\n",
       "      <td>135210</td>\n",
       "      <td>Thank you very much for your quick respond and...</td>\n",
       "    </tr>\n",
       "  </tbody>\n",
       "</table>\n",
       "</div>"
      ],
      "text/plain": [
       "                                                     text\n",
       "45800   I have offered as well but he must do my map f...\n",
       "94209   YOUR biased ORTHODOX VIEWS have no more merit ...\n",
       "135210  Thank you very much for your quick respond and..."
      ]
     },
     "execution_count": 10,
     "metadata": {},
     "output_type": "execute_result"
    }
   ],
   "source": [
    "X_train.head(3)"
   ]
  },
  {
   "cell_type": "markdown",
   "metadata": {},
   "source": [
    "Проведем веткоризацию текстов совместно с очисткой от слов не несущих смысловой нагрузки "
   ]
  },
  {
   "cell_type": "code",
   "execution_count": 11,
   "metadata": {},
   "outputs": [
    {
     "name": "stderr",
     "output_type": "stream",
     "text": [
      "[nltk_data] Downloading package stopwords to /home/jovyan/nltk_data...\n",
      "[nltk_data]   Package stopwords is already up-to-date!\n"
     ]
    },
    {
     "name": "stdout",
     "output_type": "stream",
     "text": [
      "Размер матрицы: (127656, 148283)\n"
     ]
    }
   ],
   "source": [
    "nltk.download('stopwords')\n",
    "stopwords = set(nltk_stopwords.words('english'))\n",
    " \n",
    "corpus = X_train['text'].values.astype('U')\n",
    "count_tf_idf = TfidfVectorizer(stop_words=stopwords) # < напишите код здесь >\n",
    "tf_idf = count_tf_idf.fit_transform(corpus)\n",
    "\n",
    "print(\"Размер матрицы:\", tf_idf.shape)"
   ]
  },
  {
   "cell_type": "code",
   "execution_count": 12,
   "metadata": {},
   "outputs": [
    {
     "name": "stdout",
     "output_type": "stream",
     "text": [
      "Размер матрицы: (31915, 148283)\n"
     ]
    }
   ],
   "source": [
    "corpus = X_test['text'].values.astype('U')  \n",
    "tf_idf_test = count_tf_idf.transform(corpus)\n",
    "print(\"Размер матрицы:\", tf_idf_test.shape)"
   ]
  },
  {
   "cell_type": "markdown",
   "metadata": {},
   "source": [
    "# 2. Обучение"
   ]
  },
  {
   "cell_type": "markdown",
   "metadata": {},
   "source": [
    "Перед нами стоит задача классификации. Так как в наших данных много признаков, а мы знаем, что ансамбль деревьев медленно работает с большим количеством признаков - не будем его использовать. "
   ]
  },
  {
   "cell_type": "markdown",
   "metadata": {},
   "source": [
    "### Логистическая регрессия "
   ]
  },
  {
   "cell_type": "code",
   "execution_count": 13,
   "metadata": {},
   "outputs": [
    {
     "data": {
      "text/plain": [
       "LogisticRegression(C=1.0, class_weight='balanced', dual=False,\n",
       "                   fit_intercept=True, intercept_scaling=1, l1_ratio=None,\n",
       "                   max_iter=100, multi_class='warn', n_jobs=None, penalty='l2',\n",
       "                   random_state=None, solver='warn', tol=0.0001, verbose=0,\n",
       "                   warm_start=False)"
      ]
     },
     "execution_count": 13,
     "metadata": {},
     "output_type": "execute_result"
    }
   ],
   "source": [
    "model = LogisticRegression(class_weight='balanced')\n",
    "model.fit(tf_idf, Y_train)\n"
   ]
  },
  {
   "cell_type": "code",
   "execution_count": 14,
   "metadata": {},
   "outputs": [
    {
     "name": "stdout",
     "output_type": "stream",
     "text": [
      "Средняя оценка качества модели: 0.7526627480692436\n"
     ]
    }
   ],
   "source": [
    "from sklearn.model_selection import cross_val_score\n",
    "final_score  =  sum(cross_val_score(model, tf_idf, Y_train,scoring='f1', cv=5))/5\n",
    "print('Средняя оценка качества модели:', final_score)"
   ]
  },
  {
   "cell_type": "code",
   "execution_count": 15,
   "metadata": {},
   "outputs": [
    {
     "name": "stdout",
     "output_type": "stream",
     "text": [
      "Значение F1-меры на тестовой   выборке: 0.76\n"
     ]
    }
   ],
   "source": [
    "predicted_test = model.predict(tf_idf_test)\n",
    "print('Значение F1-меры на тестовой   выборке: {:.2f}'.format(f1_score(Y_test, predicted_test)))"
   ]
  },
  {
   "cell_type": "markdown",
   "metadata": {},
   "source": [
    "### BERT"
   ]
  },
  {
   "cell_type": "markdown",
   "metadata": {},
   "source": [
    "Данный вид векторизации текстов  отличается  от td idf. Нам придется заново векторизировать текст. Так же процесс занимает много времени, поэтому мы возьмем выборку в 10 000 строк. Посмотрим на урезанном датасете результативность метода. "
   ]
  },
  {
   "cell_type": "code",
   "execution_count": 16,
   "metadata": {},
   "outputs": [],
   "source": [
    "import torch\n",
    "import transformers as ppb"
   ]
  },
  {
   "cell_type": "code",
   "execution_count": 17,
   "metadata": {},
   "outputs": [],
   "source": [
    "df = pd.read_csv(\"/datasets/toxic_comments.csv\").sample(10000, random_state=12345)"
   ]
  },
  {
   "cell_type": "code",
   "execution_count": 18,
   "metadata": {},
   "outputs": [
    {
     "data": {
      "text/html": [
       "<div>\n",
       "<style scoped>\n",
       "    .dataframe tbody tr th:only-of-type {\n",
       "        vertical-align: middle;\n",
       "    }\n",
       "\n",
       "    .dataframe tbody tr th {\n",
       "        vertical-align: top;\n",
       "    }\n",
       "\n",
       "    .dataframe thead th {\n",
       "        text-align: right;\n",
       "    }\n",
       "</style>\n",
       "<table border=\"1\" class=\"dataframe\">\n",
       "  <thead>\n",
       "    <tr style=\"text-align: right;\">\n",
       "      <th></th>\n",
       "      <th>text</th>\n",
       "      <th>toxic</th>\n",
       "    </tr>\n",
       "  </thead>\n",
       "  <tbody>\n",
       "    <tr>\n",
       "      <td>146790</td>\n",
       "      <td>Ahh shut the fuck up you douchebag sand nigger...</td>\n",
       "      <td>1</td>\n",
       "    </tr>\n",
       "    <tr>\n",
       "      <td>2941</td>\n",
       "      <td>\"\\n\\nREPLY: There is no such thing as Texas Co...</td>\n",
       "      <td>0</td>\n",
       "    </tr>\n",
       "    <tr>\n",
       "      <td>115087</td>\n",
       "      <td>Reply\\nHey, you could at least mention Jasenov...</td>\n",
       "      <td>0</td>\n",
       "    </tr>\n",
       "    <tr>\n",
       "      <td>48830</td>\n",
       "      <td>Thats fine, there is no deadline )   chi?</td>\n",
       "      <td>0</td>\n",
       "    </tr>\n",
       "    <tr>\n",
       "      <td>136034</td>\n",
       "      <td>\"\\n\\nDYK nomination of Mustarabim\\n Hello! You...</td>\n",
       "      <td>0</td>\n",
       "    </tr>\n",
       "  </tbody>\n",
       "</table>\n",
       "</div>"
      ],
      "text/plain": [
       "                                                     text  toxic\n",
       "146790  Ahh shut the fuck up you douchebag sand nigger...      1\n",
       "2941    \"\\n\\nREPLY: There is no such thing as Texas Co...      0\n",
       "115087  Reply\\nHey, you could at least mention Jasenov...      0\n",
       "48830           Thats fine, there is no deadline )   chi?      0\n",
       "136034  \"\\n\\nDYK nomination of Mustarabim\\n Hello! You...      0"
      ]
     },
     "execution_count": 18,
     "metadata": {},
     "output_type": "execute_result"
    }
   ],
   "source": [
    "df.head(5)"
   ]
  },
  {
   "cell_type": "markdown",
   "metadata": {},
   "source": [
    "Скачаем предобученную модель для английского языка"
   ]
  },
  {
   "cell_type": "code",
   "execution_count": 19,
   "metadata": {},
   "outputs": [],
   "source": [
    "model_class, tokenizer_class, pretrained_weights = (ppb.BertModel, ppb.BertTokenizer, 'bert-base-uncased')"
   ]
  },
  {
   "cell_type": "code",
   "execution_count": 20,
   "metadata": {},
   "outputs": [],
   "source": [
    "tokenizer = tokenizer_class.from_pretrained(pretrained_weights)\n",
    "model = model_class.from_pretrained(pretrained_weights)"
   ]
  },
  {
   "cell_type": "code",
   "execution_count": 21,
   "metadata": {},
   "outputs": [],
   "source": [
    "\n",
    "tokenized = df['text'].apply((lambda x: tokenizer.encode(x[:512], add_special_tokens=True)))"
   ]
  },
  {
   "cell_type": "code",
   "execution_count": 22,
   "metadata": {},
   "outputs": [],
   "source": [
    "max_len = 0\n",
    "for i in tokenized.values:\n",
    "    if len(i) > max_len:\n",
    "        max_len = len(i)\n",
    "\n",
    "padded = np.array([i + [0]*(max_len - len(i)) for i in tokenized.values])\n",
    "\n",
    "attention_mask = np.where(padded != 0, 1, 0)"
   ]
  },
  {
   "cell_type": "code",
   "execution_count": 23,
   "metadata": {},
   "outputs": [
    {
     "data": {
      "text/plain": [
       "(10000, 474)"
      ]
     },
     "execution_count": 23,
     "metadata": {},
     "output_type": "execute_result"
    }
   ],
   "source": [
    "attention_mask.shape"
   ]
  },
  {
   "cell_type": "code",
   "execution_count": 24,
   "metadata": {},
   "outputs": [],
   "source": [
    "import csv"
   ]
  },
  {
   "cell_type": "markdown",
   "metadata": {},
   "source": [
    "Процесс  занял около 8 часов. Файл с эмбендингами записан в файл. код  построения эмбендингов  закоментирован.  "
   ]
  },
  {
   "cell_type": "code",
   "execution_count": 25,
   "metadata": {},
   "outputs": [],
   "source": [
    "#batch_size = 20\n",
    "#for i in notebook.tqdm(range(0,padded.shape[0] // batch_size)):\n",
    "#        batch = torch.LongTensor(padded[batch_size*i:batch_size*(i+1)]) \n",
    "#        attention_mask_batch = torch.LongTensor(attention_mask[batch_size*i:batch_size*(i+1)])\n",
    "#        \n",
    "#        with torch.no_grad():\n",
    "#            batch_embeddings = model(batch, attention_mask=attention_mask_batch)\n",
    "#        \n",
    "#        with open ('embeddings.csv', 'a') as fp:\n",
    "#             for row in batch_embeddings[0][:,0,:].numpy():\n",
    "#                csv.writer(fp, delimiter =\",\").writerow(row)"
   ]
  },
  {
   "cell_type": "code",
   "execution_count": 26,
   "metadata": {},
   "outputs": [],
   "source": [
    "embeddings = pd.read_csv('embeddings.csv', header = None, prefix=\"var_\")"
   ]
  },
  {
   "cell_type": "code",
   "execution_count": 27,
   "metadata": {},
   "outputs": [
    {
     "data": {
      "text/html": [
       "<div>\n",
       "<style scoped>\n",
       "    .dataframe tbody tr th:only-of-type {\n",
       "        vertical-align: middle;\n",
       "    }\n",
       "\n",
       "    .dataframe tbody tr th {\n",
       "        vertical-align: top;\n",
       "    }\n",
       "\n",
       "    .dataframe thead th {\n",
       "        text-align: right;\n",
       "    }\n",
       "</style>\n",
       "<table border=\"1\" class=\"dataframe\">\n",
       "  <thead>\n",
       "    <tr style=\"text-align: right;\">\n",
       "      <th></th>\n",
       "      <th>var_0</th>\n",
       "      <th>var_1</th>\n",
       "      <th>var_2</th>\n",
       "      <th>var_3</th>\n",
       "      <th>var_4</th>\n",
       "      <th>var_5</th>\n",
       "      <th>var_6</th>\n",
       "      <th>var_7</th>\n",
       "      <th>var_8</th>\n",
       "      <th>var_9</th>\n",
       "      <th>...</th>\n",
       "      <th>var_758</th>\n",
       "      <th>var_759</th>\n",
       "      <th>var_760</th>\n",
       "      <th>var_761</th>\n",
       "      <th>var_762</th>\n",
       "      <th>var_763</th>\n",
       "      <th>var_764</th>\n",
       "      <th>var_765</th>\n",
       "      <th>var_766</th>\n",
       "      <th>var_767</th>\n",
       "    </tr>\n",
       "  </thead>\n",
       "  <tbody>\n",
       "    <tr>\n",
       "      <td>0</td>\n",
       "      <td>-0.035164</td>\n",
       "      <td>0.295801</td>\n",
       "      <td>0.349051</td>\n",
       "      <td>-0.228358</td>\n",
       "      <td>-0.512623</td>\n",
       "      <td>-0.299728</td>\n",
       "      <td>0.820293</td>\n",
       "      <td>0.701220</td>\n",
       "      <td>0.227146</td>\n",
       "      <td>-0.418163</td>\n",
       "      <td>...</td>\n",
       "      <td>0.120036</td>\n",
       "      <td>-0.247062</td>\n",
       "      <td>0.141636</td>\n",
       "      <td>-0.366581</td>\n",
       "      <td>0.227262</td>\n",
       "      <td>0.402350</td>\n",
       "      <td>0.201533</td>\n",
       "      <td>-1.095685</td>\n",
       "      <td>0.555870</td>\n",
       "      <td>0.506105</td>\n",
       "    </tr>\n",
       "    <tr>\n",
       "      <td>1</td>\n",
       "      <td>0.342513</td>\n",
       "      <td>0.080022</td>\n",
       "      <td>-0.357067</td>\n",
       "      <td>0.166295</td>\n",
       "      <td>0.391793</td>\n",
       "      <td>0.025068</td>\n",
       "      <td>-0.101447</td>\n",
       "      <td>0.465087</td>\n",
       "      <td>-0.382985</td>\n",
       "      <td>0.031778</td>\n",
       "      <td>...</td>\n",
       "      <td>0.033765</td>\n",
       "      <td>-0.152756</td>\n",
       "      <td>0.330316</td>\n",
       "      <td>-0.170296</td>\n",
       "      <td>0.437426</td>\n",
       "      <td>0.742954</td>\n",
       "      <td>-0.032865</td>\n",
       "      <td>0.121617</td>\n",
       "      <td>0.471270</td>\n",
       "      <td>0.760185</td>\n",
       "    </tr>\n",
       "    <tr>\n",
       "      <td>2</td>\n",
       "      <td>0.166669</td>\n",
       "      <td>-0.126087</td>\n",
       "      <td>0.025481</td>\n",
       "      <td>-0.073916</td>\n",
       "      <td>-0.621769</td>\n",
       "      <td>-0.072550</td>\n",
       "      <td>0.552067</td>\n",
       "      <td>0.351537</td>\n",
       "      <td>0.015689</td>\n",
       "      <td>-0.334130</td>\n",
       "      <td>...</td>\n",
       "      <td>-0.215857</td>\n",
       "      <td>-0.494193</td>\n",
       "      <td>0.215269</td>\n",
       "      <td>-0.257622</td>\n",
       "      <td>0.183089</td>\n",
       "      <td>0.512602</td>\n",
       "      <td>-0.471190</td>\n",
       "      <td>-0.388262</td>\n",
       "      <td>0.745762</td>\n",
       "      <td>0.595034</td>\n",
       "    </tr>\n",
       "    <tr>\n",
       "      <td>3</td>\n",
       "      <td>-0.380757</td>\n",
       "      <td>-0.458215</td>\n",
       "      <td>0.208900</td>\n",
       "      <td>-0.456566</td>\n",
       "      <td>0.128633</td>\n",
       "      <td>-0.361518</td>\n",
       "      <td>0.427758</td>\n",
       "      <td>0.222339</td>\n",
       "      <td>0.260435</td>\n",
       "      <td>-0.397449</td>\n",
       "      <td>...</td>\n",
       "      <td>0.233554</td>\n",
       "      <td>-0.153517</td>\n",
       "      <td>0.124730</td>\n",
       "      <td>-0.376400</td>\n",
       "      <td>-0.068260</td>\n",
       "      <td>0.229872</td>\n",
       "      <td>-0.127671</td>\n",
       "      <td>-0.151037</td>\n",
       "      <td>0.724450</td>\n",
       "      <td>0.524436</td>\n",
       "    </tr>\n",
       "    <tr>\n",
       "      <td>4</td>\n",
       "      <td>0.078785</td>\n",
       "      <td>-0.038461</td>\n",
       "      <td>-0.038993</td>\n",
       "      <td>0.204492</td>\n",
       "      <td>-0.296699</td>\n",
       "      <td>-0.075463</td>\n",
       "      <td>0.260022</td>\n",
       "      <td>0.331149</td>\n",
       "      <td>0.042470</td>\n",
       "      <td>-0.235395</td>\n",
       "      <td>...</td>\n",
       "      <td>-0.102923</td>\n",
       "      <td>-0.121147</td>\n",
       "      <td>0.324418</td>\n",
       "      <td>-0.184331</td>\n",
       "      <td>0.484656</td>\n",
       "      <td>0.275844</td>\n",
       "      <td>-0.174141</td>\n",
       "      <td>-0.316595</td>\n",
       "      <td>0.294241</td>\n",
       "      <td>0.621862</td>\n",
       "    </tr>\n",
       "  </tbody>\n",
       "</table>\n",
       "<p>5 rows × 768 columns</p>\n",
       "</div>"
      ],
      "text/plain": [
       "      var_0     var_1     var_2     var_3     var_4     var_5     var_6  \\\n",
       "0 -0.035164  0.295801  0.349051 -0.228358 -0.512623 -0.299728  0.820293   \n",
       "1  0.342513  0.080022 -0.357067  0.166295  0.391793  0.025068 -0.101447   \n",
       "2  0.166669 -0.126087  0.025481 -0.073916 -0.621769 -0.072550  0.552067   \n",
       "3 -0.380757 -0.458215  0.208900 -0.456566  0.128633 -0.361518  0.427758   \n",
       "4  0.078785 -0.038461 -0.038993  0.204492 -0.296699 -0.075463  0.260022   \n",
       "\n",
       "      var_7     var_8     var_9  ...   var_758   var_759   var_760   var_761  \\\n",
       "0  0.701220  0.227146 -0.418163  ...  0.120036 -0.247062  0.141636 -0.366581   \n",
       "1  0.465087 -0.382985  0.031778  ...  0.033765 -0.152756  0.330316 -0.170296   \n",
       "2  0.351537  0.015689 -0.334130  ... -0.215857 -0.494193  0.215269 -0.257622   \n",
       "3  0.222339  0.260435 -0.397449  ...  0.233554 -0.153517  0.124730 -0.376400   \n",
       "4  0.331149  0.042470 -0.235395  ... -0.102923 -0.121147  0.324418 -0.184331   \n",
       "\n",
       "    var_762   var_763   var_764   var_765   var_766   var_767  \n",
       "0  0.227262  0.402350  0.201533 -1.095685  0.555870  0.506105  \n",
       "1  0.437426  0.742954 -0.032865  0.121617  0.471270  0.760185  \n",
       "2  0.183089  0.512602 -0.471190 -0.388262  0.745762  0.595034  \n",
       "3 -0.068260  0.229872 -0.127671 -0.151037  0.724450  0.524436  \n",
       "4  0.484656  0.275844 -0.174141 -0.316595  0.294241  0.621862  \n",
       "\n",
       "[5 rows x 768 columns]"
      ]
     },
     "execution_count": 27,
     "metadata": {},
     "output_type": "execute_result"
    }
   ],
   "source": [
    "embeddings.head(5)"
   ]
  },
  {
   "cell_type": "markdown",
   "metadata": {},
   "source": [
    "И так мы получили векторы длиной в 768 признаков. "
   ]
  },
  {
   "cell_type": "code",
   "execution_count": 28,
   "metadata": {
    "scrolled": false
   },
   "outputs": [],
   "source": [
    "train_features, test_features, train_target, test_target = train_test_split(\n",
    "    embeddings, df['toxic'], test_size=0.5)"
   ]
  },
  {
   "cell_type": "code",
   "execution_count": 29,
   "metadata": {},
   "outputs": [
    {
     "data": {
      "text/plain": [
       "LogisticRegression(C=1.0, class_weight='balanced', dual=False,\n",
       "                   fit_intercept=True, intercept_scaling=1, l1_ratio=None,\n",
       "                   max_iter=100, multi_class='warn', n_jobs=None, penalty='l2',\n",
       "                   random_state=None, solver='warn', tol=0.0001, verbose=0,\n",
       "                   warm_start=False)"
      ]
     },
     "execution_count": 29,
     "metadata": {},
     "output_type": "execute_result"
    }
   ],
   "source": [
    "model = LogisticRegression(class_weight='balanced')\n",
    "model.fit(train_features, train_target)"
   ]
  },
  {
   "cell_type": "code",
   "execution_count": 30,
   "metadata": {},
   "outputs": [
    {
     "name": "stdout",
     "output_type": "stream",
     "text": [
      "Значение F1-меры на тестовой   выборке: 0.64\n"
     ]
    }
   ],
   "source": [
    "predicted_test = model.predict(test_features)\n",
    "print('Значение F1-меры на тестовой   выборке: {:.2f}'.format(f1_score(test_target, predicted_test)))"
   ]
  },
  {
   "cell_type": "markdown",
   "metadata": {},
   "source": [
    "# 3. Выводы"
   ]
  },
  {
   "cell_type": "markdown",
   "metadata": {},
   "source": [
    "В рамках проекта были использованы два метода перевода текста в векторный формат td_idf и bert. Последний метод оказался чрезвычайно ресурсоемким.\n",
    "Поэтому был звят небольшой фрагмент датасета, который не позволяет точно оценить преимущества и недостатки Bert. \n",
    "Метод td_idf позволил решить поставленную задачу - достигнут плановый показатель метрики f1  -  0.76"
   ]
  }
 ],
 "metadata": {
  "kernelspec": {
   "display_name": "Python 3",
   "language": "python",
   "name": "python3"
  },
  "language_info": {
   "codemirror_mode": {
    "name": "ipython",
    "version": 3
   },
   "file_extension": ".py",
   "mimetype": "text/x-python",
   "name": "python",
   "nbconvert_exporter": "python",
   "pygments_lexer": "ipython3",
   "version": "3.7.8"
  },
  "toc": {
   "base_numbering": 1,
   "nav_menu": {},
   "number_sections": true,
   "sideBar": true,
   "skip_h1_title": true,
   "title_cell": "Table of Contents",
   "title_sidebar": "Contents",
   "toc_cell": false,
   "toc_position": {},
   "toc_section_display": true,
   "toc_window_display": false
  }
 },
 "nbformat": 4,
 "nbformat_minor": 2
}
