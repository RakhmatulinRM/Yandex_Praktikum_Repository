{
 "cells": [
  {
   "cell_type": "markdown",
   "metadata": {},
   "source": [
    "# Описание проекта"
   ]
  },
  {
   "cell_type": "markdown",
   "metadata": {},
   "source": [
    "Допустим, вы работаете в добывающей компании «ГлавРосГосНефть». Нужно решить, где бурить новую скважину.\n",
    "\n",
    "Вам предоставлены пробы нефти в трёх регионах: в каждом 10 000 месторождений, где измерили качество нефти и объём её запасов. Постройте модель машинного обучения, которая поможет определить регион, где добыча принесёт наибольшую прибыль. Проанализируйте возможную прибыль и риски техникой *Bootstrap.*\n",
    "\n",
    "Шаги для выбора локации:\n",
    "\n",
    "- В избранном регионе ищут месторождения, для каждого определяют значения признаков;\n",
    "- Строят модель и оценивают объём запасов;\n",
    "- Выбирают месторождения с самым высокими оценками значений. Количество месторождений зависит от бюджета компании и стоимости разработки одной скважины;\n",
    "- Прибыль равна суммарной прибыли отобранных месторождений."
   ]
  },
  {
   "cell_type": "markdown",
   "metadata": {},
   "source": [
    "# 1. Загрузка и подготовка данных"
   ]
  },
  {
   "cell_type": "code",
   "execution_count": 1,
   "metadata": {},
   "outputs": [],
   "source": [
    "import pandas as pd\n",
    "import numpy as np\n",
    "from  matplotlib import pyplot as plt\n",
    "import seaborn as sns\n",
    "from sklearn.model_selection import train_test_split\n",
    "from sklearn.metrics import f1_score, recall_score, precision_score\n",
    "from sklearn.utils import shuffle\n",
    "from sklearn.metrics import  roc_auc_score\n",
    "from sklearn.linear_model import LinearRegression\n",
    "from sklearn.metrics import mean_squared_error\n",
    "import random\n",
    "from pathlib import Path\n",
    "import matplotlib.pyplot as plt\n",
    "import matplotlib.dates as mdates\n",
    "from sklearn.metrics import r2_score \n",
    "from scipy import stats as st"
   ]
  },
  {
   "cell_type": "code",
   "execution_count": 2,
   "metadata": {},
   "outputs": [],
   "source": [
    "g_d_0 = pd.read_csv('/datasets/geo_data_0.csv')\n",
    "g_d_1 = pd.read_csv('/datasets/geo_data_1.csv')\n",
    "g_d_2 = pd.read_csv('/datasets/geo_data_2.csv')"
   ]
  },
  {
   "cell_type": "markdown",
   "metadata": {},
   "source": [
    "Изучим данные по первому региону"
   ]
  },
  {
   "cell_type": "code",
   "execution_count": 3,
   "metadata": {},
   "outputs": [
    {
     "data": {
      "text/plain": [
       "(      id        f0        f1        f2     product\n",
       " 0  txEyH  0.705745 -0.497823  1.221170  105.280062\n",
       " 1  2acmU  1.334711 -0.340164  4.365080   73.037750\n",
       " 2  409Wp  1.022732  0.151990  1.419926   85.265647,\n",
       " (100000, 5))"
      ]
     },
     "execution_count": 3,
     "metadata": {},
     "output_type": "execute_result"
    }
   ],
   "source": [
    "g_d_0.head(3), g_d_0.shape  "
   ]
  },
  {
   "cell_type": "code",
   "execution_count": 4,
   "metadata": {},
   "outputs": [
    {
     "data": {
      "text/plain": [
       "(99990,)"
      ]
     },
     "execution_count": 4,
     "metadata": {},
     "output_type": "execute_result"
    }
   ],
   "source": [
    "g_d_0['id'].unique().shape "
   ]
  },
  {
   "cell_type": "markdown",
   "metadata": {},
   "source": [
    "В данным есть дубликаты ( индексы скважин повторяются). Есть лишний столбец с индексами. Удалим дубли, а затем лишний столбец. "
   ]
  },
  {
   "cell_type": "code",
   "execution_count": 5,
   "metadata": {},
   "outputs": [],
   "source": [
    "g_d_0.drop_duplicates(subset=['id'], inplace = True)\n",
    "g_d_0.drop(['id'], axis = 1 , inplace = True)"
   ]
  },
  {
   "cell_type": "code",
   "execution_count": 6,
   "metadata": {},
   "outputs": [
    {
     "name": "stdout",
     "output_type": "stream",
     "text": [
      "<class 'pandas.core.frame.DataFrame'>\n",
      "Int64Index: 99990 entries, 0 to 99999\n",
      "Data columns (total 4 columns):\n",
      "f0         99990 non-null float64\n",
      "f1         99990 non-null float64\n",
      "f2         99990 non-null float64\n",
      "product    99990 non-null float64\n",
      "dtypes: float64(4)\n",
      "memory usage: 3.8 MB\n"
     ]
    }
   ],
   "source": [
    "g_d_0.info()"
   ]
  },
  {
   "cell_type": "markdown",
   "metadata": {},
   "source": [
    "Построим графики распределения величин датасета"
   ]
  },
  {
   "cell_type": "code",
   "execution_count": 7,
   "metadata": {},
   "outputs": [
    {
     "data": {
      "text/plain": [
       "Text(0.5, 1.0, 'product')"
      ]
     },
     "execution_count": 7,
     "metadata": {},
     "output_type": "execute_result"
    },
    {
     "data": {
      "image/png": "[encoded data removed]",
      "text/plain": [
       "<Figure size 1440x288 with 4 Axes>"
      ]
     },
     "metadata": {
      "needs_background": "light"
     },
     "output_type": "display_data"
    }
   ],
   "source": [
    "fig, axes = plt.subplots(1, 4, figsize=(20, 4));\n",
    "g_d_0['f0'].hist(ax=axes[0], bins = 100)\n",
    "axes[0].set_title('f0')\n",
    "g_d_0['f1'].hist(ax=axes[1], bins = 100)\n",
    "axes[1].set_title('f1')\n",
    "g_d_0['f2'].hist(ax=axes[2], bins = 100)\n",
    "axes[2].set_title('f2')\n",
    "g_d_0['product'].hist(ax=axes[3], bins = 100)\n",
    "axes[3].set_title('product')"
   ]
  },
  {
   "cell_type": "markdown",
   "metadata": {},
   "source": [
    "Построим матрицу корреляции. "
   ]
  },
  {
   "cell_type": "code",
   "execution_count": 8,
   "metadata": {},
   "outputs": [
    {
     "name": "stdout",
     "output_type": "stream",
     "text": [
      "               f0        f1        f2   product\n",
      "f0       1.000000 -0.440717 -0.003211  0.143504\n",
      "f1      -0.440717  1.000000  0.001764 -0.192351\n",
      "f2      -0.003211  0.001764  1.000000  0.483631\n",
      "product  0.143504 -0.192351  0.483631  1.000000\n"
     ]
    }
   ],
   "source": [
    "print(g_d_0.corr())"
   ]
  },
  {
   "cell_type": "markdown",
   "metadata": {},
   "source": [
    "По графикам не видно взаимосвязи с целевым признаком. Наибольшую корреляцию c целевым признаком  имеет признак f2, но и он не отражает характерные пики на целевом признаке. Скорее всего модель будет давать серьезную ошибку в предсказаниях.  "
   ]
  },
  {
   "cell_type": "markdown",
   "metadata": {},
   "source": [
    "То же самое проделаем с датасетом по второму региону."
   ]
  },
  {
   "cell_type": "code",
   "execution_count": 9,
   "metadata": {},
   "outputs": [
    {
     "data": {
      "text/plain": [
       "(      id         f0        f1        f2     product\n",
       " 0  kBEdx -15.001348 -8.276000 -0.005876    3.179103\n",
       " 1  62mP7  14.272088 -3.475083  0.999183   26.953261\n",
       " 2  vyE1P   6.263187 -5.948386  5.001160  134.766305,\n",
       " (100000, 5))"
      ]
     },
     "execution_count": 9,
     "metadata": {},
     "output_type": "execute_result"
    }
   ],
   "source": [
    "g_d_1.head(3), g_d_1.shape "
   ]
  },
  {
   "cell_type": "code",
   "execution_count": 10,
   "metadata": {},
   "outputs": [
    {
     "data": {
      "text/plain": [
       "(99996,)"
      ]
     },
     "execution_count": 10,
     "metadata": {},
     "output_type": "execute_result"
    }
   ],
   "source": [
    "g_d_1['id'].unique().shape"
   ]
  },
  {
   "cell_type": "markdown",
   "metadata": {},
   "source": [
    "Удалим дубли, а затем лишний столбец."
   ]
  },
  {
   "cell_type": "code",
   "execution_count": 11,
   "metadata": {},
   "outputs": [],
   "source": [
    "g_d_1.drop_duplicates(subset=['id'], inplace = True)\n",
    "g_d_1.drop(['id'], axis = 1 , inplace = True)"
   ]
  },
  {
   "cell_type": "code",
   "execution_count": 12,
   "metadata": {},
   "outputs": [
    {
     "name": "stdout",
     "output_type": "stream",
     "text": [
      "<class 'pandas.core.frame.DataFrame'>\n",
      "Int64Index: 99996 entries, 0 to 99999\n",
      "Data columns (total 4 columns):\n",
      "f0         99996 non-null float64\n",
      "f1         99996 non-null float64\n",
      "f2         99996 non-null float64\n",
      "product    99996 non-null float64\n",
      "dtypes: float64(4)\n",
      "memory usage: 3.8 MB\n"
     ]
    }
   ],
   "source": [
    "g_d_1.info()"
   ]
  },
  {
   "cell_type": "markdown",
   "metadata": {},
   "source": [
    "Построим графики распределения величин датасета и корреляционную матрицу"
   ]
  },
  {
   "cell_type": "code",
   "execution_count": 13,
   "metadata": {},
   "outputs": [
    {
     "data": {
      "text/plain": [
       "Text(0.5, 1.0, 'product')"
      ]
     },
     "execution_count": 13,
     "metadata": {},
     "output_type": "execute_result"
    },
    {
     "data": {
      "image/png": "[encoded data removed]",
      "text/plain": [
       "<Figure size 1440x288 with 4 Axes>"
      ]
     },
     "metadata": {
      "needs_background": "light"
     },
     "output_type": "display_data"
    }
   ],
   "source": [
    "fig, axes = plt.subplots(1, 4, figsize=(20, 4));\n",
    "g_d_1['f0'].hist(ax=axes[0], bins = 100)\n",
    "axes[0].set_title('f0')\n",
    "g_d_1['f1'].hist(ax=axes[1], bins = 100)\n",
    "axes[1].set_title('f1')\n",
    "g_d_1['f2'].hist(ax=axes[2], bins = 100)\n",
    "axes[2].set_title('f2')\n",
    "g_d_1['product'].hist(ax=axes[3], bins = 100)\n",
    "axes[3].set_title('product')"
   ]
  },
  {
   "cell_type": "code",
   "execution_count": 14,
   "metadata": {},
   "outputs": [
    {
     "name": "stdout",
     "output_type": "stream",
     "text": [
      "               f0        f1        f2   product\n",
      "f0       1.000000  0.182279 -0.001810 -0.030523\n",
      "f1       0.182279  1.000000 -0.002594 -0.010154\n",
      "f2      -0.001810 -0.002594  1.000000  0.999397\n",
      "product -0.030523 -0.010154  0.999397  1.000000\n"
     ]
    }
   ],
   "source": [
    "print(g_d_1.corr())"
   ]
  },
  {
   "cell_type": "markdown",
   "metadata": {},
   "source": [
    "В данном датасете имеется очевидная  зависимость целевого признака от f2. Остальные признаки не коррелируют с ним. "
   ]
  },
  {
   "cell_type": "markdown",
   "metadata": {},
   "source": [
    "То же самое проделаем с датасетом по третьему региону."
   ]
  },
  {
   "cell_type": "code",
   "execution_count": 15,
   "metadata": {},
   "outputs": [
    {
     "data": {
      "text/html": [
       "<div>\n",
       "<style scoped>\n",
       "    .dataframe tbody tr th:only-of-type {\n",
       "        vertical-align: middle;\n",
       "    }\n",
       "\n",
       "    .dataframe tbody tr th {\n",
       "        vertical-align: top;\n",
       "    }\n",
       "\n",
       "    .dataframe thead th {\n",
       "        text-align: right;\n",
       "    }\n",
       "</style>\n",
       "<table border=\"1\" class=\"dataframe\">\n",
       "  <thead>\n",
       "    <tr style=\"text-align: right;\">\n",
       "      <th></th>\n",
       "      <th>id</th>\n",
       "      <th>f0</th>\n",
       "      <th>f1</th>\n",
       "      <th>f2</th>\n",
       "      <th>product</th>\n",
       "    </tr>\n",
       "  </thead>\n",
       "  <tbody>\n",
       "    <tr>\n",
       "      <td>0</td>\n",
       "      <td>fwXo0</td>\n",
       "      <td>-1.146987</td>\n",
       "      <td>0.963328</td>\n",
       "      <td>-0.828965</td>\n",
       "      <td>27.758673</td>\n",
       "    </tr>\n",
       "    <tr>\n",
       "      <td>1</td>\n",
       "      <td>WJtFt</td>\n",
       "      <td>0.262778</td>\n",
       "      <td>0.269839</td>\n",
       "      <td>-2.530187</td>\n",
       "      <td>56.069697</td>\n",
       "    </tr>\n",
       "    <tr>\n",
       "      <td>2</td>\n",
       "      <td>ovLUW</td>\n",
       "      <td>0.194587</td>\n",
       "      <td>0.289035</td>\n",
       "      <td>-5.586433</td>\n",
       "      <td>62.871910</td>\n",
       "    </tr>\n",
       "  </tbody>\n",
       "</table>\n",
       "</div>"
      ],
      "text/plain": [
       "      id        f0        f1        f2    product\n",
       "0  fwXo0 -1.146987  0.963328 -0.828965  27.758673\n",
       "1  WJtFt  0.262778  0.269839 -2.530187  56.069697\n",
       "2  ovLUW  0.194587  0.289035 -5.586433  62.871910"
      ]
     },
     "execution_count": 15,
     "metadata": {},
     "output_type": "execute_result"
    }
   ],
   "source": [
    "g_d_2.head(3) "
   ]
  },
  {
   "cell_type": "code",
   "execution_count": 16,
   "metadata": {},
   "outputs": [
    {
     "data": {
      "text/plain": [
       "(99996,)"
      ]
     },
     "execution_count": 16,
     "metadata": {},
     "output_type": "execute_result"
    }
   ],
   "source": [
    "g_d_2['id'].unique().shape"
   ]
  },
  {
   "cell_type": "code",
   "execution_count": 17,
   "metadata": {},
   "outputs": [],
   "source": [
    "g_d_2.drop_duplicates(subset=['id'], inplace = True)\n",
    "g_d_2.drop(['id'], axis = 1 , inplace = True)"
   ]
  },
  {
   "cell_type": "code",
   "execution_count": 18,
   "metadata": {},
   "outputs": [
    {
     "name": "stdout",
     "output_type": "stream",
     "text": [
      "<class 'pandas.core.frame.DataFrame'>\n",
      "Int64Index: 99996 entries, 0 to 99999\n",
      "Data columns (total 4 columns):\n",
      "f0         99996 non-null float64\n",
      "f1         99996 non-null float64\n",
      "f2         99996 non-null float64\n",
      "product    99996 non-null float64\n",
      "dtypes: float64(4)\n",
      "memory usage: 3.8 MB\n"
     ]
    }
   ],
   "source": [
    "g_d_2.info()"
   ]
  },
  {
   "cell_type": "code",
   "execution_count": 19,
   "metadata": {
    "scrolled": true
   },
   "outputs": [
    {
     "data": {
      "text/plain": [
       "Text(0.5, 1.0, 'product')"
      ]
     },
     "execution_count": 19,
     "metadata": {},
     "output_type": "execute_result"
    },
    {
     "data": {
      "image/png": "[encoded data removed]",
      "text/plain": [
       "<Figure size 1440x288 with 4 Axes>"
      ]
     },
     "metadata": {
      "needs_background": "light"
     },
     "output_type": "display_data"
    }
   ],
   "source": [
    "fig, axes = plt.subplots(1, 4, figsize=(20, 4));\n",
    "g_d_2['f0'].hist(ax=axes[0], bins = 100)\n",
    "axes[0].set_title('f0')\n",
    "g_d_2['f1'].hist(ax=axes[1], bins = 100)\n",
    "axes[1].set_title('f1')\n",
    "g_d_2['f2'].hist(ax=axes[2], bins = 100)\n",
    "axes[2].set_title('f2')\n",
    "g_d_2['product'].hist(ax=axes[3], bins = 100)\n",
    "axes[3].set_title('product')"
   ]
  },
  {
   "cell_type": "code",
   "execution_count": 20,
   "metadata": {},
   "outputs": [
    {
     "name": "stdout",
     "output_type": "stream",
     "text": [
      "               f0        f1        f2   product\n",
      "f0       1.000000  0.000506 -0.000452 -0.001978\n",
      "f1       0.000506  1.000000  0.000753 -0.001055\n",
      "f2      -0.000452  0.000753  1.000000  0.445867\n",
      "product -0.001978 -0.001055  0.445867  1.000000\n"
     ]
    }
   ],
   "source": [
    "print(g_d_2.corr())"
   ]
  },
  {
   "cell_type": "markdown",
   "metadata": {},
   "source": [
    "Ситуация схожа с первым регионом. С целевым признаком коррелирует f2. "
   ]
  },
  {
   "cell_type": "markdown",
   "metadata": {},
   "source": [
    "Разобьем датасет первого региона на тестовую и валидационную выборку."
   ]
  },
  {
   "cell_type": "code",
   "execution_count": 21,
   "metadata": {},
   "outputs": [],
   "source": [
    "features_0 = g_d_0.drop([\"product\"], axis=1)\n",
    "target_0 = g_d_0[\"product\"]\n",
    "features_0_train, features_0_valid,target_0_train, target_0_valid  = train_test_split(features_0 ,target_0,\n",
    "                                                                                      test_size=0.25, random_state=12345)"
   ]
  },
  {
   "cell_type": "code",
   "execution_count": 22,
   "metadata": {},
   "outputs": [
    {
     "data": {
      "text/plain": [
       "((74992, 3), (24998, 3))"
      ]
     },
     "execution_count": 22,
     "metadata": {},
     "output_type": "execute_result"
    }
   ],
   "source": [
    "features_0_train.shape, features_0_valid.shape"
   ]
  },
  {
   "cell_type": "markdown",
   "metadata": {},
   "source": [
    "Разобьем датасет второго региона на тестовую и валидационную выборку"
   ]
  },
  {
   "cell_type": "code",
   "execution_count": 23,
   "metadata": {},
   "outputs": [],
   "source": [
    "features_1 = g_d_1.drop([\"product\"], axis=1)\n",
    "target_1 = g_d_1[\"product\"]\n",
    "features_1_train, features_1_valid,target_1_train, target_1_valid  = train_test_split(features_1 ,target_1,\n",
    "                                                                                      test_size=0.25, random_state=12345)"
   ]
  },
  {
   "cell_type": "code",
   "execution_count": 24,
   "metadata": {},
   "outputs": [
    {
     "data": {
      "text/plain": [
       "((74997, 3), (24999, 3))"
      ]
     },
     "execution_count": 24,
     "metadata": {},
     "output_type": "execute_result"
    }
   ],
   "source": [
    "features_1_train.shape, features_1_valid.shape"
   ]
  },
  {
   "cell_type": "markdown",
   "metadata": {},
   "source": [
    "Разобьем датасет третьего региона на тестовую и валидационную выборку"
   ]
  },
  {
   "cell_type": "code",
   "execution_count": 25,
   "metadata": {},
   "outputs": [],
   "source": [
    "features_2 = g_d_2.drop([\"product\"], axis=1)\n",
    "target_2 = g_d_2[\"product\"]\n",
    "features_2_train, features_2_valid,target_2_train, target_2_valid  = train_test_split(features_2 ,target_2,\n",
    "                                                                                      test_size=0.25, random_state=12345)"
   ]
  },
  {
   "cell_type": "code",
   "execution_count": 26,
   "metadata": {},
   "outputs": [
    {
     "data": {
      "text/plain": [
       "((74997, 3), (24999, 3))"
      ]
     },
     "execution_count": 26,
     "metadata": {},
     "output_type": "execute_result"
    }
   ],
   "source": [
    "features_2_train.shape, features_2_valid.shape"
   ]
  },
  {
   "cell_type": "markdown",
   "metadata": {},
   "source": [
    "# 2. Обучение и проверка модели"
   ]
  },
  {
   "cell_type": "markdown",
   "metadata": {},
   "source": [
    "Обучим модель на первом регионе"
   ]
  },
  {
   "cell_type": "code",
   "execution_count": 27,
   "metadata": {},
   "outputs": [
    {
     "name": "stdout",
     "output_type": "stream",
     "text": [
      "Средний запас предсказанного сырья 92.78915638280621\n",
      "RMSE = 37.853527328872964\n",
      "R2 = 0.2723923460817068\n"
     ]
    }
   ],
   "source": [
    "logres_0 =  LinearRegression()\n",
    "logres_0.fit(features_0_train, target_0_train)\n",
    "predicted_valid_0 = logres_0.predict(features_0_valid)\n",
    "mse = mean_squared_error(target_0_valid, predicted_valid_0)\n",
    "print('Средний запас предсказанного сырья',predicted_valid_0.mean())\n",
    "print(\"RMSE =\", mse ** 0.5)\n",
    "print(\"R2 =\", r2_score(target_0_valid,predicted_valid_0))"
   ]
  },
  {
   "cell_type": "markdown",
   "metadata": {},
   "source": [
    "Средний запас высокий , но ошибка в предсказаниях более 40% от запаса. Качество модели позволяет получать предсказания\n",
    "немногим точнее чем просто среднее."
   ]
  },
  {
   "cell_type": "code",
   "execution_count": 28,
   "metadata": {},
   "outputs": [
    {
     "name": "stdout",
     "output_type": "stream",
     "text": [
      "Средний запас предсказанного сырья 69.17831957030431\n",
      "RMSE = 0.892059264771702\n",
      "R2 = 0.9996222988190184\n"
     ]
    }
   ],
   "source": [
    "logres_1 =  LinearRegression()\n",
    "logres_1.fit(features_1_train, target_1_train)\n",
    "predicted_valid_1 = logres_1.predict(features_1_valid )\n",
    "mse = mean_squared_error(target_1_valid, predicted_valid_1)\n",
    "print('Средний запас предсказанного сырья',predicted_valid_1.mean())\n",
    "print(\"RMSE =\", mse ** 0.5)\n",
    "print(\"R2 =\", r2_score(target_1_valid,predicted_valid_1))"
   ]
  },
  {
   "cell_type": "markdown",
   "metadata": {},
   "source": [
    "Средний запас самый низкий  , но очень маленькая ошибка  1 %. Это значить если отобрать скважины с показателями указывающими на высокий запас. \n",
    "Мы почти не рискуем"
   ]
  },
  {
   "cell_type": "code",
   "execution_count": 29,
   "metadata": {},
   "outputs": [
    {
     "name": "stdout",
     "output_type": "stream",
     "text": [
      "Средний запас предсказанного сырья 94.86572480562035\n",
      "RMSE = 40.07585073246016\n",
      "R2 = 0.19556241810202346\n"
     ]
    }
   ],
   "source": [
    "logres_2 =  LinearRegression()\n",
    "logres_2.fit(features_2_train, target_2_train)\n",
    "predicted_valid_2 = logres_2.predict(features_2_valid )\n",
    "mse = mean_squared_error(target_2_valid, predicted_valid_2)\n",
    "print('Средний запас предсказанного сырья',predicted_valid_2.mean())\n",
    "print(\"RMSE =\", mse ** 0.5)\n",
    "print(\"R2 =\", r2_score(target_2_valid,predicted_valid_2))"
   ]
  },
  {
   "cell_type": "markdown",
   "metadata": {},
   "source": [
    "Самый высокий средний запас, но точность и качество предсказания самые низкие. "
   ]
  },
  {
   "cell_type": "markdown",
   "metadata": {},
   "source": [
    "# 3. Подготовка к расчёту прибыли"
   ]
  },
  {
   "cell_type": "markdown",
   "metadata": {},
   "source": [
    "Введем константы"
   ]
  },
  {
   "cell_type": "code",
   "execution_count": 30,
   "metadata": {},
   "outputs": [],
   "source": [
    "budget = 10000000000 # бюджет\n",
    "wells = 200 # количество скважин\n",
    "bbl_price = 450 # цена барреля нефти"
   ]
  },
  {
   "cell_type": "markdown",
   "metadata": {},
   "source": [
    "Посчитаем безубыточный уровень запаса скважины"
   ]
  },
  {
   "cell_type": "code",
   "execution_count": 31,
   "metadata": {},
   "outputs": [
    {
     "name": "stdout",
     "output_type": "stream",
     "text": [
      "111.11111111111111 тыс. баррелей\n"
     ]
    }
   ],
   "source": [
    "profit = 0 #безубыточный уровень дохода\n",
    "cost_price = budget/wells # затраты на одну скважину\n",
    "mean_stock = (profit+cost_price)/bbl_price # средний сток в тысячах баррелей  \n",
    "print(mean_stock/1000, 'тыс. баррелей' )"
   ]
  },
  {
   "cell_type": "markdown",
   "metadata": {},
   "source": [
    "Безубыточный уровень скважины составляет 111 тыс. барелей. Это выше чем средний запас в каждом регионе. \n",
    "Что бы получить прибыль нужно искать скважины с более высокими запасами. "
   ]
  },
  {
   "cell_type": "markdown",
   "metadata": {},
   "source": [
    "# 4. Расчёт прибыли и рисков"
   ]
  },
  {
   "cell_type": "markdown",
   "metadata": {},
   "source": [
    "Напишем функцию для подсчета прибыли с 200 скважин"
   ]
  },
  {
   "cell_type": "code",
   "execution_count": 32,
   "metadata": {},
   "outputs": [],
   "source": [
    "def revenue(target,predictions):\n",
    "    predictions = predictions.sort_values(ascending=False)\n",
    "    top_200 = target[predictions.index][:wells]\n",
    "    product = top_200.sum()\n",
    "    income = product * bbl_price*1000\n",
    "    profit = income - budget\n",
    "    return profit"
   ]
  },
  {
   "cell_type": "markdown",
   "metadata": {},
   "source": [
    "Найдем регион с уровнем риска убытка менее 2,5 %\n",
    "Для этого случайнм образом отберем 500 скважин и из них 200 c наилучшим предсказанием. Посчитаем прибыль. \n",
    "\n",
    "Для оценки рисков проделаем процедуру 1000 раз и посмотрим какой процент из 1000 выборок имеет убыток. \n",
    "Это и будет уровень риска. "
   ]
  },
  {
   "cell_type": "markdown",
   "metadata": {},
   "source": [
    "Первый регион. "
   ]
  },
  {
   "cell_type": "code",
   "execution_count": 33,
   "metadata": {},
   "outputs": [
    {
     "name": "stdout",
     "output_type": "stream",
     "text": [
      "Уровень риска: 7%\n",
      "Доверительный интервал: (392436312.2689625, 426419764.9739094)\n",
      "Квантиль 2,5%: -131536028.70\n",
      "Ожидаемая выручка: 409428038.62\n"
     ]
    },
    {
     "data": {
      "text/plain": [
       "<matplotlib.axes._subplots.AxesSubplot at 0x7f87987e5e50>"
      ]
     },
     "execution_count": 33,
     "metadata": {},
     "output_type": "execute_result"
    },
    {
     "data": {
      "image/png": "[encoded data removed]",
      "text/plain": [
       "<Figure size 432x288 with 1 Axes>"
      ]
     },
     "metadata": {
      "needs_background": "light"
     },
     "output_type": "display_data"
    }
   ],
   "source": [
    "state = np.random.RandomState(seed = 12345)\n",
    "values = []\n",
    "target_0_valid.reset_index(drop = True, inplace = True)\n",
    "for  i in range(1000):\n",
    "    target_0_500 = target_0_valid.sample(n=500, replace = True, random_state = state)\n",
    "    predictions = pd.Series(predicted_valid_0)[target_0_500.index]\n",
    "    profit =  revenue(target_0_500,predictions)  \n",
    "    values.append(revenue(target_0_500,predictions))\n",
    "values = pd.Series(values) \n",
    "risk = (values<0).mean()\n",
    "lower = values.quantile(0.025)\n",
    "income_mean = values.mean()\n",
    "confidence_interval = st.t.interval(0.95, len(values)-1, loc = values.mean(), scale = values.sem())\n",
    "print('Уровень риска: {:.0%}'.format(risk))\n",
    "print('Доверительный интервал:',confidence_interval)\n",
    "print('Квантиль 2,5%: {:.2f}'.format(lower))\n",
    "print('Ожидаемая выручка: {:.2f}'.format(income_mean))\n",
    "values.hist(bins = 30)"
   ]
  },
  {
   "cell_type": "markdown",
   "metadata": {},
   "source": [
    "Средняя выручка около 409 млн. Но нижний квантиль в отрицательной зоне. Это значить мы имеем риск влететь на убытки. \n",
    "Модель показывает риск в 7%. Уровень риска неприемлемый. "
   ]
  },
  {
   "cell_type": "markdown",
   "metadata": {},
   "source": [
    "Второй регион"
   ]
  },
  {
   "cell_type": "code",
   "execution_count": 34,
   "metadata": {},
   "outputs": [
    {
     "name": "stdout",
     "output_type": "stream",
     "text": [
      "Уровень риска: 1%\n",
      "Доверительный интервал: (523348898.5869503, 550456276.3879564)\n",
      "Квантиль 2,5%: 114527902.90\n",
      "Ожидаемая выручка: 536902587.49\n"
     ]
    },
    {
     "data": {
      "text/plain": [
       "<matplotlib.axes._subplots.AxesSubplot at 0x7f8798813b10>"
      ]
     },
     "execution_count": 34,
     "metadata": {},
     "output_type": "execute_result"
    },
    {
     "data": {
      "image/png": "[encoded data removed]",
      "text/plain": [
       "<Figure size 432x288 with 1 Axes>"
      ]
     },
     "metadata": {
      "needs_background": "light"
     },
     "output_type": "display_data"
    }
   ],
   "source": [
    "state = np.random.RandomState(seed = 12345)\n",
    "values = []\n",
    "target_1_valid.reset_index(drop = True, inplace = True)\n",
    "for  i in range(1000):\n",
    "    target_1_500 = target_1_valid.sample(n=500, replace = True, random_state = state)\n",
    "    predictions = pd.Series(predicted_valid_1)[target_1_500.index]\n",
    "    profit =  revenue(target_1_500,predictions)  \n",
    "    values.append(revenue(target_1_500,predictions))\n",
    "    if profit <0: risk += 1 \n",
    "values = pd.Series(values) \n",
    "risk = (values<0).mean()\n",
    "lower = values.quantile(0.025)\n",
    "income_mean = values.mean()\n",
    "confidence_interval = st.t.interval(0.95, len(values)-1, loc = values.mean(), scale = values.sem())\n",
    "print('Уровень риска: {:.0%}'.format(risk))\n",
    "print('Доверительный интервал:',confidence_interval)\n",
    "print('Квантиль 2,5%: {:.2f}'.format(lower))\n",
    "print('Ожидаемая выручка: {:.2f}'.format(income_mean))\n",
    "values.hist(bins = 30)"
   ]
  },
  {
   "cell_type": "markdown",
   "metadata": {},
   "source": [
    "Средняя выручка около 536 млн. Нижний квантиль в положителной зоне. \n",
    "Уровень риска 1% ,что приемлемо по условию задачи."
   ]
  },
  {
   "cell_type": "markdown",
   "metadata": {},
   "source": [
    "Третий регион"
   ]
  },
  {
   "cell_type": "code",
   "execution_count": 35,
   "metadata": {},
   "outputs": [
    {
     "name": "stdout",
     "output_type": "stream",
     "text": [
      "Уровень риска: 10%\n",
      "Доверительный интервал: (336935105.9082979, 370645619.553586)\n",
      "Квантиль 2,5%: -159194031.19\n",
      "Ожидаемая выручка: 353790362.73\n"
     ]
    },
    {
     "data": {
      "text/plain": [
       "<matplotlib.axes._subplots.AxesSubplot at 0x7f87986bc1d0>"
      ]
     },
     "execution_count": 35,
     "metadata": {},
     "output_type": "execute_result"
    },
    {
     "data": {
      "image/png": "[encoded data removed]",
      "text/plain": [
       "<Figure size 432x288 with 1 Axes>"
      ]
     },
     "metadata": {
      "needs_background": "light"
     },
     "output_type": "display_data"
    }
   ],
   "source": [
    "state = np.random.RandomState(seed = 12345)\n",
    "values = []\n",
    "target_2_valid.reset_index(drop = True, inplace = True)\n",
    "for  i in range(1000):\n",
    "    target_2_500 = target_2_valid.sample(n=500, replace = True, random_state = state)\n",
    "    predictions = pd.Series(predicted_valid_2)[target_2_500.index]\n",
    "    profit =  revenue(target_2_500,predictions)  \n",
    "    values.append(revenue(target_2_500,predictions))\n",
    "values = pd.Series(values) \n",
    "risk = (values<0).mean()\n",
    "lower = values.quantile(0.025)\n",
    "income_mean = values.mean()\n",
    "confidence_interval = st.t.interval(0.95, len(values)-1, loc = values.mean(), scale = values.sem())\n",
    "print('Уровень риска: {:.0%}'.format(risk))\n",
    "print('Доверительный интервал:',confidence_interval)\n",
    "print('Квантиль 2,5%: {:.2f}'.format(lower))\n",
    "print('Ожидаемая выручка: {:.2f}'.format(income_mean))\n",
    "values.hist(bins = 30)"
   ]
  },
  {
   "cell_type": "markdown",
   "metadata": {},
   "source": [
    "Средняя выручка около 352 млн. Нижний квантиль в отрицательной зоне. Уровень риска 10% ,что не приемлемо по условию задачи."
   ]
  },
  {
   "cell_type": "markdown",
   "metadata": {},
   "source": [
    "Вывод:\n",
    "\n",
    "Выбираем второй регион. Не смотря на самый низкий показатель запасов, мы имеем самую высокую прибыль, это связано с тем что гораздо точнее выбираем необходимые скважины. Если получится в первом и третьем регионе увеличить точность предсказания , то безусловно они бы принесли большую прибыль. "
   ]
  }
 ],
 "metadata": {
  "kernelspec": {
   "display_name": "Python 3",
   "language": "python",
   "name": "python3"
  },
  "language_info": {
   "codemirror_mode": {
    "name": "ipython",
    "version": 3
   },
   "file_extension": ".py",
   "mimetype": "text/x-python",
   "name": "python",
   "nbconvert_exporter": "python",
   "pygments_lexer": "ipython3",
   "version": "3.7.8"
  },
  "toc": {
   "base_numbering": 1,
   "nav_menu": {},
   "number_sections": true,
   "sideBar": true,
   "skip_h1_title": true,
   "title_cell": "Table of Contents",
   "title_sidebar": "Contents",
   "toc_cell": false,
   "toc_position": {},
   "toc_section_display": true,
   "toc_window_display": false
  }
 },
 "nbformat": 4,
 "nbformat_minor": 2
}
