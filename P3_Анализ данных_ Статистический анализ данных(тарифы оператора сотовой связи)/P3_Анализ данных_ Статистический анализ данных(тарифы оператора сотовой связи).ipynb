{
 "cells": [
  {
   "cell_type": "markdown",
   "metadata": {},
   "source": [
    "# Проектная работа \"Определение перспективного тарифа для телеком компании\""
   ]
  },
  {
   "cell_type": "markdown",
   "metadata": {},
   "source": [
    "### Шаг.1 Изучение общей инфорамции о имеющихся данных "
   ]
  },
  {
   "cell_type": "code",
   "execution_count": 55,
   "metadata": {},
   "outputs": [],
   "source": [
    "#качаем библиотеки\n",
    "import pandas as pd\n",
    "import numpy as np\n",
    "import random\n",
    "import seaborn as sns\n",
    "import math\n",
    "from math import factorial\n",
    "from math import ceil\n",
    "import matplotlib.pyplot as plt\n",
    "from scipy import stats as st\n",
    "from scipy.stats import norm\n",
    "import math as mt\n",
    "random.seed(42)"
   ]
  },
  {
   "cell_type": "code",
   "execution_count": 56,
   "metadata": {},
   "outputs": [],
   "source": [
    "#качаем датасеты\n",
    "calls=pd.read_csv('/datasets/calls.csv') \n",
    "internet=pd.read_csv('/datasets/internet.csv',index_col=0)\n",
    "messages=pd.read_csv('/datasets/messages.csv')\n",
    "tariffs=pd.read_csv('/datasets/tariffs.csv')\n",
    "users=pd.read_csv('/datasets/users.csv')"
   ]
  },
  {
   "cell_type": "markdown",
   "metadata": {},
   "source": [
    "В наличии пять датасетов, представляющие из себя 4 выборки по 500 клиентам ( звонки, сообщения, интернет и  общая иформация по клиентам) и датасет с данными о тарифах "
   ]
  },
  {
   "cell_type": "markdown",
   "metadata": {},
   "source": [
    "### Шаг 2. Подготовка данных"
   ]
  },
  {
   "cell_type": "code",
   "execution_count": 57,
   "metadata": {},
   "outputs": [],
   "source": [
    "#Приведем даты в наших датасетах  к формату datetime\n",
    "calls['call_date']= pd.to_datetime(calls['call_date'], format='%Y.%m.%d')\n",
    "internet['session_date']=pd.to_datetime(internet['session_date'], format='%Y.%m.%d')\n",
    "messages['session_date']=pd.to_datetime(messages['message_date'], format='%Y.%m.%d')\n",
    "users['churn_date']=pd.to_datetime(users['churn_date'], format='%Y.%m.%d')\n",
    "users['reg_date']=pd.to_datetime(users['reg_date'], format='%Y.%m.%d')"
   ]
  },
  {
   "cell_type": "code",
   "execution_count": 58,
   "metadata": {},
   "outputs": [
    {
     "data": {
      "text/html": [
       "<div>\n",
       "<style scoped>\n",
       "    .dataframe tbody tr th:only-of-type {\n",
       "        vertical-align: middle;\n",
       "    }\n",
       "\n",
       "    .dataframe tbody tr th {\n",
       "        vertical-align: top;\n",
       "    }\n",
       "\n",
       "    .dataframe thead th {\n",
       "        text-align: right;\n",
       "    }\n",
       "</style>\n",
       "<table border=\"1\" class=\"dataframe\">\n",
       "  <thead>\n",
       "    <tr style=\"text-align: right;\">\n",
       "      <th></th>\n",
       "      <th>id</th>\n",
       "      <th>call_date</th>\n",
       "      <th>duration</th>\n",
       "      <th>user_id</th>\n",
       "    </tr>\n",
       "  </thead>\n",
       "  <tbody>\n",
       "    <tr>\n",
       "      <td>0</td>\n",
       "      <td>1000_0</td>\n",
       "      <td>2018-07-25</td>\n",
       "      <td>0.00</td>\n",
       "      <td>1000</td>\n",
       "    </tr>\n",
       "    <tr>\n",
       "      <td>1</td>\n",
       "      <td>1000_1</td>\n",
       "      <td>2018-08-17</td>\n",
       "      <td>0.00</td>\n",
       "      <td>1000</td>\n",
       "    </tr>\n",
       "    <tr>\n",
       "      <td>2</td>\n",
       "      <td>1000_2</td>\n",
       "      <td>2018-06-11</td>\n",
       "      <td>2.85</td>\n",
       "      <td>1000</td>\n",
       "    </tr>\n",
       "    <tr>\n",
       "      <td>3</td>\n",
       "      <td>1000_3</td>\n",
       "      <td>2018-09-21</td>\n",
       "      <td>13.80</td>\n",
       "      <td>1000</td>\n",
       "    </tr>\n",
       "    <tr>\n",
       "      <td>4</td>\n",
       "      <td>1000_4</td>\n",
       "      <td>2018-12-15</td>\n",
       "      <td>5.18</td>\n",
       "      <td>1000</td>\n",
       "    </tr>\n",
       "  </tbody>\n",
       "</table>\n",
       "</div>"
      ],
      "text/plain": [
       "       id  call_date  duration  user_id\n",
       "0  1000_0 2018-07-25      0.00     1000\n",
       "1  1000_1 2018-08-17      0.00     1000\n",
       "2  1000_2 2018-06-11      2.85     1000\n",
       "3  1000_3 2018-09-21     13.80     1000\n",
       "4  1000_4 2018-12-15      5.18     1000"
      ]
     },
     "execution_count": 58,
     "metadata": {},
     "output_type": "execute_result"
    }
   ],
   "source": [
    "#Посмотрим на датасет со звонками\n",
    "calls.head()"
   ]
  },
  {
   "cell_type": "code",
   "execution_count": 59,
   "metadata": {},
   "outputs": [
    {
     "data": {
      "text/plain": [
       "39613"
      ]
     },
     "execution_count": 59,
     "metadata": {},
     "output_type": "execute_result"
    }
   ],
   "source": [
    "#посчитаем количество нулевых звонков\n",
    "calls.loc[calls.loc[:,'duration']==0]['duration'].count()\n"
   ]
  },
  {
   "cell_type": "code",
   "execution_count": 60,
   "metadata": {},
   "outputs": [
    {
     "data": {
      "text/html": [
       "<div>\n",
       "<style scoped>\n",
       "    .dataframe tbody tr th:only-of-type {\n",
       "        vertical-align: middle;\n",
       "    }\n",
       "\n",
       "    .dataframe tbody tr th {\n",
       "        vertical-align: top;\n",
       "    }\n",
       "\n",
       "    .dataframe thead th {\n",
       "        text-align: right;\n",
       "    }\n",
       "</style>\n",
       "<table border=\"1\" class=\"dataframe\">\n",
       "  <thead>\n",
       "    <tr style=\"text-align: right;\">\n",
       "      <th></th>\n",
       "      <th>id</th>\n",
       "      <th>call_date</th>\n",
       "      <th>duration</th>\n",
       "      <th>user_id</th>\n",
       "      <th>zero_call</th>\n",
       "    </tr>\n",
       "  </thead>\n",
       "  <tbody>\n",
       "    <tr>\n",
       "      <td>0</td>\n",
       "      <td>1000_0</td>\n",
       "      <td>2018-07-25</td>\n",
       "      <td>0.00</td>\n",
       "      <td>1000</td>\n",
       "      <td>0.0</td>\n",
       "    </tr>\n",
       "    <tr>\n",
       "      <td>1</td>\n",
       "      <td>1000_1</td>\n",
       "      <td>2018-08-17</td>\n",
       "      <td>0.00</td>\n",
       "      <td>1000</td>\n",
       "      <td>0.0</td>\n",
       "    </tr>\n",
       "    <tr>\n",
       "      <td>2</td>\n",
       "      <td>1000_2</td>\n",
       "      <td>2018-06-11</td>\n",
       "      <td>2.85</td>\n",
       "      <td>1000</td>\n",
       "      <td>NaN</td>\n",
       "    </tr>\n",
       "    <tr>\n",
       "      <td>3</td>\n",
       "      <td>1000_3</td>\n",
       "      <td>2018-09-21</td>\n",
       "      <td>13.80</td>\n",
       "      <td>1000</td>\n",
       "      <td>NaN</td>\n",
       "    </tr>\n",
       "    <tr>\n",
       "      <td>4</td>\n",
       "      <td>1000_4</td>\n",
       "      <td>2018-12-15</td>\n",
       "      <td>5.18</td>\n",
       "      <td>1000</td>\n",
       "      <td>NaN</td>\n",
       "    </tr>\n",
       "  </tbody>\n",
       "</table>\n",
       "</div>"
      ],
      "text/plain": [
       "       id  call_date  duration  user_id  zero_call\n",
       "0  1000_0 2018-07-25      0.00     1000        0.0\n",
       "1  1000_1 2018-08-17      0.00     1000        0.0\n",
       "2  1000_2 2018-06-11      2.85     1000        NaN\n",
       "3  1000_3 2018-09-21     13.80     1000        NaN\n",
       "4  1000_4 2018-12-15      5.18     1000        NaN"
      ]
     },
     "execution_count": 60,
     "metadata": {},
     "output_type": "execute_result"
    }
   ],
   "source": [
    "#количество нулевых звонков примерно 15 % от всего количества.\n",
    "#выделим их пока в отдельный столбец zero_call. \n",
    "calls['zero_call']=calls.loc[calls.loc[:,'duration']==0]['duration']\n",
    "calls.head()"
   ]
  },
  {
   "cell_type": "code",
   "execution_count": 61,
   "metadata": {},
   "outputs": [
    {
     "data": {
      "text/html": [
       "<div>\n",
       "<style scoped>\n",
       "    .dataframe tbody tr th:only-of-type {\n",
       "        vertical-align: middle;\n",
       "    }\n",
       "\n",
       "    .dataframe tbody tr th {\n",
       "        vertical-align: top;\n",
       "    }\n",
       "\n",
       "    .dataframe thead th {\n",
       "        text-align: right;\n",
       "    }\n",
       "</style>\n",
       "<table border=\"1\" class=\"dataframe\">\n",
       "  <thead>\n",
       "    <tr style=\"text-align: right;\">\n",
       "      <th></th>\n",
       "      <th></th>\n",
       "      <th>call</th>\n",
       "      <th>duration</th>\n",
       "      <th>zero_call</th>\n",
       "    </tr>\n",
       "    <tr>\n",
       "      <th>user_id</th>\n",
       "      <th>month</th>\n",
       "      <th></th>\n",
       "      <th></th>\n",
       "      <th></th>\n",
       "    </tr>\n",
       "  </thead>\n",
       "  <tbody>\n",
       "    <tr>\n",
       "      <td rowspan=\"5\" valign=\"top\">1000</td>\n",
       "      <td>5</td>\n",
       "      <td>22</td>\n",
       "      <td>159</td>\n",
       "      <td>5</td>\n",
       "    </tr>\n",
       "    <tr>\n",
       "      <td>6</td>\n",
       "      <td>43</td>\n",
       "      <td>172</td>\n",
       "      <td>15</td>\n",
       "    </tr>\n",
       "    <tr>\n",
       "      <td>7</td>\n",
       "      <td>47</td>\n",
       "      <td>340</td>\n",
       "      <td>6</td>\n",
       "    </tr>\n",
       "    <tr>\n",
       "      <td>8</td>\n",
       "      <td>52</td>\n",
       "      <td>408</td>\n",
       "      <td>10</td>\n",
       "    </tr>\n",
       "    <tr>\n",
       "      <td>9</td>\n",
       "      <td>58</td>\n",
       "      <td>466</td>\n",
       "      <td>12</td>\n",
       "    </tr>\n",
       "  </tbody>\n",
       "</table>\n",
       "</div>"
      ],
      "text/plain": [
       "               call  duration  zero_call\n",
       "user_id month                           \n",
       "1000    5        22       159          5\n",
       "        6        43       172         15\n",
       "        7        47       340          6\n",
       "        8        52       408         10\n",
       "        9        58       466         12"
      ]
     },
     "execution_count": 61,
     "metadata": {},
     "output_type": "execute_result"
    }
   ],
   "source": [
    "#Округлим длительность звонка согласно условию тарифа,а именно до минуты всегда в большую сторону. \n",
    "#Так же сменим тип данных из 'float' в 'int' \n",
    "calls['duration']= calls['duration'].apply(np.ceil).astype(int)\n",
    "#добавим столбец с месяцем\n",
    "calls['month'] = pd.DatetimeIndex(calls['call_date']).month\n",
    "#сгрупируем звонки по пользователям и месяцу\n",
    "data_calls = (calls\n",
    "             .groupby(['user_id','month'])\n",
    "             .agg({'id':'count','duration':'sum','zero_call':'count'})\n",
    "             .sort_values(by=['user_id','month'])).reset_index()\n",
    "#переименуем для нагляности колонку кол-во звонков в call\n",
    "data_calls.rename(columns={\"id\":\"call\"},inplace=True)\n",
    "#применим мультииндекс \n",
    "data_calls.set_index(['user_id','month'],inplace=True )\n",
    "data_calls.head()"
   ]
  },
  {
   "cell_type": "code",
   "execution_count": 62,
   "metadata": {},
   "outputs": [
    {
     "data": {
      "text/html": [
       "<div>\n",
       "<style scoped>\n",
       "    .dataframe tbody tr th:only-of-type {\n",
       "        vertical-align: middle;\n",
       "    }\n",
       "\n",
       "    .dataframe tbody tr th {\n",
       "        vertical-align: top;\n",
       "    }\n",
       "\n",
       "    .dataframe thead th {\n",
       "        text-align: right;\n",
       "    }\n",
       "</style>\n",
       "<table border=\"1\" class=\"dataframe\">\n",
       "  <thead>\n",
       "    <tr style=\"text-align: right;\">\n",
       "      <th></th>\n",
       "      <th></th>\n",
       "      <th>session</th>\n",
       "      <th>mb_used</th>\n",
       "    </tr>\n",
       "    <tr>\n",
       "      <th>user_id</th>\n",
       "      <th>month</th>\n",
       "      <th></th>\n",
       "      <th></th>\n",
       "    </tr>\n",
       "  </thead>\n",
       "  <tbody>\n",
       "    <tr>\n",
       "      <td rowspan=\"5\" valign=\"top\">1000</td>\n",
       "      <td>5</td>\n",
       "      <td>5</td>\n",
       "      <td>2256</td>\n",
       "    </tr>\n",
       "    <tr>\n",
       "      <td>6</td>\n",
       "      <td>49</td>\n",
       "      <td>23257</td>\n",
       "    </tr>\n",
       "    <tr>\n",
       "      <td>7</td>\n",
       "      <td>29</td>\n",
       "      <td>14016</td>\n",
       "    </tr>\n",
       "    <tr>\n",
       "      <td>8</td>\n",
       "      <td>29</td>\n",
       "      <td>14070</td>\n",
       "    </tr>\n",
       "    <tr>\n",
       "      <td>9</td>\n",
       "      <td>27</td>\n",
       "      <td>14581</td>\n",
       "    </tr>\n",
       "  </tbody>\n",
       "</table>\n",
       "</div>"
      ],
      "text/plain": [
       "               session  mb_used\n",
       "user_id month                  \n",
       "1000    5            5     2256\n",
       "        6           49    23257\n",
       "        7           29    14016\n",
       "        8           29    14070\n",
       "        9           27    14581"
      ]
     },
     "execution_count": 62,
     "metadata": {},
     "output_type": "execute_result"
    }
   ],
   "source": [
    "#То же проделаем с данными по интренету \n",
    "internet['mb_used']= internet['mb_used'].apply(np.ceil).astype(int)\n",
    "#добавим столбец с месяцем\n",
    "internet['month'] = pd.DatetimeIndex(internet['session_date']).month\n",
    "#сгрупируем сесии по пользователям и месяцу\n",
    "data_internet = (internet\n",
    "             .groupby(['user_id','month'])\n",
    "             .agg({'id':'count','mb_used':'sum'})\n",
    "             .sort_values(by=['user_id','month'])).reset_index()\n",
    "#переименуем для нагляности колонку кол-во интернет-сессий в session\n",
    "data_internet.rename(columns={\"id\":\"session\"},inplace=True)\n",
    "#применим мультииндекс \n",
    "data_internet.set_index(['user_id','month'],inplace=True )\n",
    "data_internet.head()"
   ]
  },
  {
   "cell_type": "code",
   "execution_count": 63,
   "metadata": {},
   "outputs": [
    {
     "data": {
      "text/html": [
       "<div>\n",
       "<style scoped>\n",
       "    .dataframe tbody tr th:only-of-type {\n",
       "        vertical-align: middle;\n",
       "    }\n",
       "\n",
       "    .dataframe tbody tr th {\n",
       "        vertical-align: top;\n",
       "    }\n",
       "\n",
       "    .dataframe thead th {\n",
       "        text-align: right;\n",
       "    }\n",
       "</style>\n",
       "<table border=\"1\" class=\"dataframe\">\n",
       "  <thead>\n",
       "    <tr style=\"text-align: right;\">\n",
       "      <th></th>\n",
       "      <th></th>\n",
       "      <th>messages</th>\n",
       "    </tr>\n",
       "    <tr>\n",
       "      <th>user_id</th>\n",
       "      <th>month</th>\n",
       "      <th></th>\n",
       "    </tr>\n",
       "  </thead>\n",
       "  <tbody>\n",
       "    <tr>\n",
       "      <td rowspan=\"5\" valign=\"top\">1000</td>\n",
       "      <td>5</td>\n",
       "      <td>22</td>\n",
       "    </tr>\n",
       "    <tr>\n",
       "      <td>6</td>\n",
       "      <td>60</td>\n",
       "    </tr>\n",
       "    <tr>\n",
       "      <td>7</td>\n",
       "      <td>75</td>\n",
       "    </tr>\n",
       "    <tr>\n",
       "      <td>8</td>\n",
       "      <td>81</td>\n",
       "    </tr>\n",
       "    <tr>\n",
       "      <td>9</td>\n",
       "      <td>57</td>\n",
       "    </tr>\n",
       "  </tbody>\n",
       "</table>\n",
       "</div>"
      ],
      "text/plain": [
       "               messages\n",
       "user_id month          \n",
       "1000    5            22\n",
       "        6            60\n",
       "        7            75\n",
       "        8            81\n",
       "        9            57"
      ]
     },
     "execution_count": 63,
     "metadata": {},
     "output_type": "execute_result"
    }
   ],
   "source": [
    "#то же самое с сообщениями\n",
    "messages['month'] = pd.DatetimeIndex(messages['message_date']).month\n",
    "data_messages = (messages\n",
    "             .groupby(['user_id','month'])\n",
    "             .agg({'id':'count'})\n",
    "             .sort_values(by=['user_id','month'])).reset_index()\n",
    "#data_messages=pd.merge(data_messages,users, on='user_id',how='outer' )\n",
    "#переименуем для нагляности колонку кол-во сообщений в messages\n",
    "data_messages.rename(columns={\"id\":\"messages\"},inplace=True)\n",
    "#применим мультииндекс \n",
    "data_messages.set_index(['user_id','month'],inplace=True )\n",
    "data_messages.head()"
   ]
  },
  {
   "cell_type": "code",
   "execution_count": 64,
   "metadata": {},
   "outputs": [],
   "source": [
    "#объединим все четыре датасета.\n",
    "data_month=data_calls.join(data_messages, how='outer')\n",
    "data_month=data_month.join(data_internet, how='outer')\n",
    "data_month=data_month.reset_index()\n",
    "data_month=pd.merge(users,data_month, on='user_id')"
   ]
  },
  {
   "cell_type": "code",
   "execution_count": 65,
   "metadata": {},
   "outputs": [
    {
     "data": {
      "text/html": [
       "<div>\n",
       "<style scoped>\n",
       "    .dataframe tbody tr th:only-of-type {\n",
       "        vertical-align: middle;\n",
       "    }\n",
       "\n",
       "    .dataframe tbody tr th {\n",
       "        vertical-align: top;\n",
       "    }\n",
       "\n",
       "    .dataframe thead th {\n",
       "        text-align: right;\n",
       "    }\n",
       "</style>\n",
       "<table border=\"1\" class=\"dataframe\">\n",
       "  <thead>\n",
       "    <tr style=\"text-align: right;\">\n",
       "      <th></th>\n",
       "      <th>user_id</th>\n",
       "      <th>age</th>\n",
       "      <th>churn_date</th>\n",
       "      <th>city</th>\n",
       "      <th>first_name</th>\n",
       "      <th>last_name</th>\n",
       "      <th>reg_date</th>\n",
       "      <th>tariff</th>\n",
       "      <th>month</th>\n",
       "      <th>call</th>\n",
       "      <th>duration</th>\n",
       "      <th>zero_call</th>\n",
       "      <th>messages</th>\n",
       "      <th>session</th>\n",
       "      <th>mb_used</th>\n",
       "    </tr>\n",
       "  </thead>\n",
       "  <tbody>\n",
       "    <tr>\n",
       "      <td>0</td>\n",
       "      <td>1000</td>\n",
       "      <td>52</td>\n",
       "      <td>NaT</td>\n",
       "      <td>Краснодар</td>\n",
       "      <td>Рафаил</td>\n",
       "      <td>Верещагин</td>\n",
       "      <td>2018-05-25</td>\n",
       "      <td>ultra</td>\n",
       "      <td>5</td>\n",
       "      <td>22.0</td>\n",
       "      <td>159.0</td>\n",
       "      <td>5.0</td>\n",
       "      <td>22.0</td>\n",
       "      <td>5.0</td>\n",
       "      <td>2256.0</td>\n",
       "    </tr>\n",
       "    <tr>\n",
       "      <td>1</td>\n",
       "      <td>1000</td>\n",
       "      <td>52</td>\n",
       "      <td>NaT</td>\n",
       "      <td>Краснодар</td>\n",
       "      <td>Рафаил</td>\n",
       "      <td>Верещагин</td>\n",
       "      <td>2018-05-25</td>\n",
       "      <td>ultra</td>\n",
       "      <td>6</td>\n",
       "      <td>43.0</td>\n",
       "      <td>172.0</td>\n",
       "      <td>15.0</td>\n",
       "      <td>60.0</td>\n",
       "      <td>49.0</td>\n",
       "      <td>23257.0</td>\n",
       "    </tr>\n",
       "    <tr>\n",
       "      <td>2</td>\n",
       "      <td>1000</td>\n",
       "      <td>52</td>\n",
       "      <td>NaT</td>\n",
       "      <td>Краснодар</td>\n",
       "      <td>Рафаил</td>\n",
       "      <td>Верещагин</td>\n",
       "      <td>2018-05-25</td>\n",
       "      <td>ultra</td>\n",
       "      <td>7</td>\n",
       "      <td>47.0</td>\n",
       "      <td>340.0</td>\n",
       "      <td>6.0</td>\n",
       "      <td>75.0</td>\n",
       "      <td>29.0</td>\n",
       "      <td>14016.0</td>\n",
       "    </tr>\n",
       "  </tbody>\n",
       "</table>\n",
       "</div>"
      ],
      "text/plain": [
       "   user_id  age churn_date       city first_name  last_name   reg_date tariff  \\\n",
       "0     1000   52        NaT  Краснодар     Рафаил  Верещагин 2018-05-25  ultra   \n",
       "1     1000   52        NaT  Краснодар     Рафаил  Верещагин 2018-05-25  ultra   \n",
       "2     1000   52        NaT  Краснодар     Рафаил  Верещагин 2018-05-25  ultra   \n",
       "\n",
       "   month  call  duration  zero_call  messages  session  mb_used  \n",
       "0      5  22.0     159.0        5.0      22.0      5.0   2256.0  \n",
       "1      6  43.0     172.0       15.0      60.0     49.0  23257.0  \n",
       "2      7  47.0     340.0        6.0      75.0     29.0  14016.0  "
      ]
     },
     "execution_count": 65,
     "metadata": {},
     "output_type": "execute_result"
    }
   ],
   "source": [
    "data_month.head(3)"
   ]
  },
  {
   "cell_type": "code",
   "execution_count": 66,
   "metadata": {},
   "outputs": [
    {
     "data": {
      "text/html": [
       "<div>\n",
       "<style scoped>\n",
       "    .dataframe tbody tr th:only-of-type {\n",
       "        vertical-align: middle;\n",
       "    }\n",
       "\n",
       "    .dataframe tbody tr th {\n",
       "        vertical-align: top;\n",
       "    }\n",
       "\n",
       "    .dataframe thead th {\n",
       "        text-align: right;\n",
       "    }\n",
       "</style>\n",
       "<table border=\"1\" class=\"dataframe\">\n",
       "  <thead>\n",
       "    <tr style=\"text-align: right;\">\n",
       "      <th></th>\n",
       "      <th>user_id</th>\n",
       "      <th>age</th>\n",
       "      <th>churn_date</th>\n",
       "      <th>city</th>\n",
       "      <th>reg_date</th>\n",
       "      <th>tariff</th>\n",
       "      <th>month</th>\n",
       "      <th>call</th>\n",
       "      <th>duration</th>\n",
       "      <th>zero_call</th>\n",
       "      <th>messages</th>\n",
       "      <th>session</th>\n",
       "      <th>mb_used</th>\n",
       "    </tr>\n",
       "  </thead>\n",
       "  <tbody>\n",
       "    <tr>\n",
       "      <td>0</td>\n",
       "      <td>1000</td>\n",
       "      <td>52</td>\n",
       "      <td>NaT</td>\n",
       "      <td>Краснодар</td>\n",
       "      <td>2018-05-25</td>\n",
       "      <td>ultra</td>\n",
       "      <td>5</td>\n",
       "      <td>22.0</td>\n",
       "      <td>159.0</td>\n",
       "      <td>5.0</td>\n",
       "      <td>22.0</td>\n",
       "      <td>5.0</td>\n",
       "      <td>2256.0</td>\n",
       "    </tr>\n",
       "    <tr>\n",
       "      <td>1</td>\n",
       "      <td>1000</td>\n",
       "      <td>52</td>\n",
       "      <td>NaT</td>\n",
       "      <td>Краснодар</td>\n",
       "      <td>2018-05-25</td>\n",
       "      <td>ultra</td>\n",
       "      <td>6</td>\n",
       "      <td>43.0</td>\n",
       "      <td>172.0</td>\n",
       "      <td>15.0</td>\n",
       "      <td>60.0</td>\n",
       "      <td>49.0</td>\n",
       "      <td>23257.0</td>\n",
       "    </tr>\n",
       "    <tr>\n",
       "      <td>2</td>\n",
       "      <td>1000</td>\n",
       "      <td>52</td>\n",
       "      <td>NaT</td>\n",
       "      <td>Краснодар</td>\n",
       "      <td>2018-05-25</td>\n",
       "      <td>ultra</td>\n",
       "      <td>7</td>\n",
       "      <td>47.0</td>\n",
       "      <td>340.0</td>\n",
       "      <td>6.0</td>\n",
       "      <td>75.0</td>\n",
       "      <td>29.0</td>\n",
       "      <td>14016.0</td>\n",
       "    </tr>\n",
       "  </tbody>\n",
       "</table>\n",
       "</div>"
      ],
      "text/plain": [
       "   user_id  age churn_date       city   reg_date tariff  month  call  \\\n",
       "0     1000   52        NaT  Краснодар 2018-05-25  ultra      5  22.0   \n",
       "1     1000   52        NaT  Краснодар 2018-05-25  ultra      6  43.0   \n",
       "2     1000   52        NaT  Краснодар 2018-05-25  ultra      7  47.0   \n",
       "\n",
       "   duration  zero_call  messages  session  mb_used  \n",
       "0     159.0        5.0      22.0      5.0   2256.0  \n",
       "1     172.0       15.0      60.0     49.0  23257.0  \n",
       "2     340.0        6.0      75.0     29.0  14016.0  "
      ]
     },
     "execution_count": 66,
     "metadata": {},
     "output_type": "execute_result"
    }
   ],
   "source": [
    "#Для наглядности удалим имена и фамилии клиентов (одновремнно добавим свою толику в защиту личных данных пользователй)\n",
    "data_month.drop(['first_name','last_name'],axis='columns', inplace=True )\n",
    "data_month.head(3)"
   ]
  },
  {
   "cell_type": "code",
   "execution_count": 67,
   "metadata": {},
   "outputs": [],
   "source": [
    "#Функция, которая возращает сумму дохода по месяцу по каждому пользователю\n",
    "def income(df_users):\n",
    "    calls_income=0\n",
    "    internet_income=0\n",
    "    messages_income=0\n",
    "    total_income=0\n",
    "    over=False\n",
    "    calls=df_users['duration']\n",
    "    internet=df_users['mb_used']\n",
    "    messages=df_users['messages']\n",
    "    tariff=df_users['tariff']\n",
    "    \n",
    "\n",
    "\n",
    "    if tariff=='smart': #определяет тариф\n",
    "        if calls > 500:  #проверяет перерасход \n",
    "            calls_income  = (calls  - 500)*3 #считает оплату за перерасход по звонкам\n",
    "        if internet > 15360:\n",
    "            internet_income = math.ceil((internet - 15360)/1024)*200 #считает оплату за перерасход по интернету\n",
    "        if messages> 50:\n",
    "            messages_income=(messages-50)*3 #считает оплату за перерасход по смс\n",
    "        total_income= calls_income+internet_income+ messages_income + 550 #считает общий доход с клиента\n",
    "        return total_income\n",
    "    #то же для второго тарифа\n",
    "    if tariff=='ultra':\n",
    "        if calls > 3000:\n",
    "            calls_income  = (calls  - 3000)*1\n",
    "        if internet > 30720:\n",
    "            internet_income = math.ceil((internet - 30720)/1024)*150\n",
    "        if messages> 1000:\n",
    "            messages_income=(messages-1000)*1\n",
    "        total_income= calls_income+internet_income+ messages_income + 1950\n",
    "        return total_income\n",
    "    \n",
    "    else: return 0\n",
    "        \n"
   ]
  },
  {
   "cell_type": "code",
   "execution_count": 68,
   "metadata": {},
   "outputs": [],
   "source": [
    "data_month['income']=data_month.apply(income, axis=1)"
   ]
  },
  {
   "cell_type": "code",
   "execution_count": 69,
   "metadata": {},
   "outputs": [
    {
     "data": {
      "text/html": [
       "<div>\n",
       "<style scoped>\n",
       "    .dataframe tbody tr th:only-of-type {\n",
       "        vertical-align: middle;\n",
       "    }\n",
       "\n",
       "    .dataframe tbody tr th {\n",
       "        vertical-align: top;\n",
       "    }\n",
       "\n",
       "    .dataframe thead th {\n",
       "        text-align: right;\n",
       "    }\n",
       "</style>\n",
       "<table border=\"1\" class=\"dataframe\">\n",
       "  <thead>\n",
       "    <tr style=\"text-align: right;\">\n",
       "      <th></th>\n",
       "      <th>user_id</th>\n",
       "      <th>age</th>\n",
       "      <th>churn_date</th>\n",
       "      <th>city</th>\n",
       "      <th>reg_date</th>\n",
       "      <th>tariff</th>\n",
       "      <th>month</th>\n",
       "      <th>call</th>\n",
       "      <th>duration</th>\n",
       "      <th>zero_call</th>\n",
       "      <th>messages</th>\n",
       "      <th>session</th>\n",
       "      <th>mb_used</th>\n",
       "      <th>income</th>\n",
       "    </tr>\n",
       "  </thead>\n",
       "  <tbody>\n",
       "    <tr>\n",
       "      <td>0</td>\n",
       "      <td>1000</td>\n",
       "      <td>52</td>\n",
       "      <td>NaT</td>\n",
       "      <td>Краснодар</td>\n",
       "      <td>2018-05-25</td>\n",
       "      <td>ultra</td>\n",
       "      <td>5</td>\n",
       "      <td>22.0</td>\n",
       "      <td>159.0</td>\n",
       "      <td>5.0</td>\n",
       "      <td>22.0</td>\n",
       "      <td>5.0</td>\n",
       "      <td>2256.0</td>\n",
       "      <td>1950.0</td>\n",
       "    </tr>\n",
       "    <tr>\n",
       "      <td>1</td>\n",
       "      <td>1000</td>\n",
       "      <td>52</td>\n",
       "      <td>NaT</td>\n",
       "      <td>Краснодар</td>\n",
       "      <td>2018-05-25</td>\n",
       "      <td>ultra</td>\n",
       "      <td>6</td>\n",
       "      <td>43.0</td>\n",
       "      <td>172.0</td>\n",
       "      <td>15.0</td>\n",
       "      <td>60.0</td>\n",
       "      <td>49.0</td>\n",
       "      <td>23257.0</td>\n",
       "      <td>1950.0</td>\n",
       "    </tr>\n",
       "    <tr>\n",
       "      <td>2</td>\n",
       "      <td>1000</td>\n",
       "      <td>52</td>\n",
       "      <td>NaT</td>\n",
       "      <td>Краснодар</td>\n",
       "      <td>2018-05-25</td>\n",
       "      <td>ultra</td>\n",
       "      <td>7</td>\n",
       "      <td>47.0</td>\n",
       "      <td>340.0</td>\n",
       "      <td>6.0</td>\n",
       "      <td>75.0</td>\n",
       "      <td>29.0</td>\n",
       "      <td>14016.0</td>\n",
       "      <td>1950.0</td>\n",
       "    </tr>\n",
       "    <tr>\n",
       "      <td>3</td>\n",
       "      <td>1000</td>\n",
       "      <td>52</td>\n",
       "      <td>NaT</td>\n",
       "      <td>Краснодар</td>\n",
       "      <td>2018-05-25</td>\n",
       "      <td>ultra</td>\n",
       "      <td>8</td>\n",
       "      <td>52.0</td>\n",
       "      <td>408.0</td>\n",
       "      <td>10.0</td>\n",
       "      <td>81.0</td>\n",
       "      <td>29.0</td>\n",
       "      <td>14070.0</td>\n",
       "      <td>1950.0</td>\n",
       "    </tr>\n",
       "    <tr>\n",
       "      <td>4</td>\n",
       "      <td>1000</td>\n",
       "      <td>52</td>\n",
       "      <td>NaT</td>\n",
       "      <td>Краснодар</td>\n",
       "      <td>2018-05-25</td>\n",
       "      <td>ultra</td>\n",
       "      <td>9</td>\n",
       "      <td>58.0</td>\n",
       "      <td>466.0</td>\n",
       "      <td>12.0</td>\n",
       "      <td>57.0</td>\n",
       "      <td>27.0</td>\n",
       "      <td>14581.0</td>\n",
       "      <td>1950.0</td>\n",
       "    </tr>\n",
       "  </tbody>\n",
       "</table>\n",
       "</div>"
      ],
      "text/plain": [
       "   user_id  age churn_date       city   reg_date tariff  month  call  \\\n",
       "0     1000   52        NaT  Краснодар 2018-05-25  ultra      5  22.0   \n",
       "1     1000   52        NaT  Краснодар 2018-05-25  ultra      6  43.0   \n",
       "2     1000   52        NaT  Краснодар 2018-05-25  ultra      7  47.0   \n",
       "3     1000   52        NaT  Краснодар 2018-05-25  ultra      8  52.0   \n",
       "4     1000   52        NaT  Краснодар 2018-05-25  ultra      9  58.0   \n",
       "\n",
       "   duration  zero_call  messages  session  mb_used  income  \n",
       "0     159.0        5.0      22.0      5.0   2256.0  1950.0  \n",
       "1     172.0       15.0      60.0     49.0  23257.0  1950.0  \n",
       "2     340.0        6.0      75.0     29.0  14016.0  1950.0  \n",
       "3     408.0       10.0      81.0     29.0  14070.0  1950.0  \n",
       "4     466.0       12.0      57.0     27.0  14581.0  1950.0  "
      ]
     },
     "execution_count": 69,
     "metadata": {},
     "output_type": "execute_result"
    }
   ],
   "source": [
    "data_month.head()\n"
   ]
  },
  {
   "cell_type": "markdown",
   "metadata": {},
   "source": [
    "Подведем итог по второму шагу.\n",
    "\n",
    "В таблице имеются данные:\n",
    "  - общее кол-во  звонков, кол-во нулевых звонков, сумарное время всех звонков по месяцам\n",
    "  - кол-во смс по месяцам\n",
    "  - расход интернет-трафика по месяцам\n",
    "  - помесячная оплата с каждого абонента \n"
   ]
  },
  {
   "cell_type": "markdown",
   "metadata": {},
   "source": [
    "###  Анализ данных "
   ]
  },
  {
   "cell_type": "markdown",
   "metadata": {},
   "source": [
    "### Средний расход минут, смс, интернета и \"средний чек\" . "
   ]
  },
  {
   "cell_type": "code",
   "execution_count": 70,
   "metadata": {},
   "outputs": [
    {
     "data": {
      "text/html": [
       "<div>\n",
       "<style scoped>\n",
       "    .dataframe tbody tr th:only-of-type {\n",
       "        vertical-align: middle;\n",
       "    }\n",
       "\n",
       "    .dataframe tbody tr th {\n",
       "        vertical-align: top;\n",
       "    }\n",
       "\n",
       "    .dataframe thead tr th {\n",
       "        text-align: left;\n",
       "    }\n",
       "\n",
       "    .dataframe thead tr:last-of-type th {\n",
       "        text-align: right;\n",
       "    }\n",
       "</style>\n",
       "<table border=\"1\" class=\"dataframe\">\n",
       "  <thead>\n",
       "    <tr>\n",
       "      <th></th>\n",
       "      <th colspan=\"3\" halign=\"left\">duration</th>\n",
       "      <th colspan=\"3\" halign=\"left\">mb_used</th>\n",
       "      <th colspan=\"3\" halign=\"left\">messages</th>\n",
       "      <th colspan=\"4\" halign=\"left\">income</th>\n",
       "    </tr>\n",
       "    <tr>\n",
       "      <th></th>\n",
       "      <th>median</th>\n",
       "      <th>mean</th>\n",
       "      <th>max</th>\n",
       "      <th>median</th>\n",
       "      <th>mean</th>\n",
       "      <th>max</th>\n",
       "      <th>median</th>\n",
       "      <th>mean</th>\n",
       "      <th>max</th>\n",
       "      <th>median</th>\n",
       "      <th>mean</th>\n",
       "      <th>max</th>\n",
       "      <th>min</th>\n",
       "    </tr>\n",
       "    <tr>\n",
       "      <th>tariff</th>\n",
       "      <th></th>\n",
       "      <th></th>\n",
       "      <th></th>\n",
       "      <th></th>\n",
       "      <th></th>\n",
       "      <th></th>\n",
       "      <th></th>\n",
       "      <th></th>\n",
       "      <th></th>\n",
       "      <th></th>\n",
       "      <th></th>\n",
       "      <th></th>\n",
       "      <th></th>\n",
       "    </tr>\n",
       "  </thead>\n",
       "  <tbody>\n",
       "    <tr>\n",
       "      <td>smart</td>\n",
       "      <td>423.0</td>\n",
       "      <td>419.0</td>\n",
       "      <td>1435.0</td>\n",
       "      <td>16532.0</td>\n",
       "      <td>16236.0</td>\n",
       "      <td>38610.0</td>\n",
       "      <td>34.0</td>\n",
       "      <td>39.0</td>\n",
       "      <td>143.0</td>\n",
       "      <td>1038.0</td>\n",
       "      <td>1295.0</td>\n",
       "      <td>6770.0</td>\n",
       "      <td>550.0</td>\n",
       "    </tr>\n",
       "    <tr>\n",
       "      <td>ultra</td>\n",
       "      <td>528.0</td>\n",
       "      <td>545.0</td>\n",
       "      <td>1673.0</td>\n",
       "      <td>19411.0</td>\n",
       "      <td>19687.0</td>\n",
       "      <td>49789.0</td>\n",
       "      <td>51.0</td>\n",
       "      <td>61.0</td>\n",
       "      <td>224.0</td>\n",
       "      <td>1950.0</td>\n",
       "      <td>2071.0</td>\n",
       "      <td>4800.0</td>\n",
       "      <td>1950.0</td>\n",
       "    </tr>\n",
       "  </tbody>\n",
       "</table>\n",
       "</div>"
      ],
      "text/plain": [
       "       duration                 mb_used                   messages        \\\n",
       "         median   mean     max   median     mean      max   median  mean   \n",
       "tariff                                                                     \n",
       "smart     423.0  419.0  1435.0  16532.0  16236.0  38610.0     34.0  39.0   \n",
       "ultra     528.0  545.0  1673.0  19411.0  19687.0  49789.0     51.0  61.0   \n",
       "\n",
       "               income                          \n",
       "          max  median    mean     max     min  \n",
       "tariff                                         \n",
       "smart   143.0  1038.0  1295.0  6770.0   550.0  \n",
       "ultra   224.0  1950.0  2071.0  4800.0  1950.0  "
      ]
     },
     "execution_count": 70,
     "metadata": {},
     "output_type": "execute_result"
    }
   ],
   "source": [
    "#Посмотрим среднее, медиану и максимальные  значения по каждому тарифу.\n",
    "data_grouped = data_month.groupby('tariff').agg({'duration':('median','mean','max'),\n",
    "                                                 'mb_used':('median','mean','max'),\n",
    "                                                 'messages':('median','mean','max'),\n",
    "                                                'income':('median','mean','max','min')})\n",
    "data_grouped.round()"
   ]
  },
  {
   "cell_type": "markdown",
   "metadata": {},
   "source": [
    "Сделаем первые выводы:\n",
    "    - средняя продолжительность  звонков тарифа \"ultra\" больше на 24% чем \"smart\"\n",
    "    - среднее кол-во интернет-трафика тарифа \"ultra\" больше на 21% чем \"smart\"\n",
    "    - смс непопулярны в обоих тарифах \n",
    "    - доход c тарифа \"ultra\" больше в 2 чем \"smart\""
   ]
  },
  {
   "cell_type": "markdown",
   "metadata": {},
   "source": [
    "### 3.2 Гистограмма , дисперсия и среднее отклонение по видам затрат "
   ]
  },
  {
   "cell_type": "code",
   "execution_count": 71,
   "metadata": {},
   "outputs": [],
   "source": [
    "#Разобьем таблицу на две по тарифу. \n",
    "smart_data=data_month.query('tariff==\"smart\"')\n",
    "ultra_data=data_month.query('tariff==\"ultra\"')"
   ]
  },
  {
   "cell_type": "code",
   "execution_count": 72,
   "metadata": {},
   "outputs": [],
   "source": [
    "ultra_data.duration.dropna(inplace =True)\n",
    "smart_data.duration.dropna(inplace =True)\n",
    "ultra_data.mb_used.dropna(inplace =True)\n",
    "smart_data.mb_used.dropna(inplace =True)\n",
    "ultra_data.messages.dropna(inplace =True)\n",
    "smart_data.messages.dropna(inplace =True)"
   ]
  },
  {
   "cell_type": "markdown",
   "metadata": {},
   "source": [
    "### 3.2.1 Телефонные звонки"
   ]
  },
  {
   "cell_type": "code",
   "execution_count": 73,
   "metadata": {},
   "outputs": [
    {
     "data": {
      "text/plain": [
       "<matplotlib.legend.Legend at 0x7fa0b1e22ed0>"
      ]
     },
     "execution_count": 73,
     "metadata": {},
     "output_type": "execute_result"
    },
    {
     "data": {
      "image/png": "[encoded data removed]",
      "text/plain": [
       "<Figure size 864x432 with 1 Axes>"
      ]
     },
     "metadata": {
      "needs_background": "light"
     },
     "output_type": "display_data"
    }
   ],
   "source": [
    "#Построим гистограммы двух тарифов по потраченным минутам \n",
    "plt.figure(figsize=(12,6))\n",
    "sns.distplot(smart_data['duration'],color='blue',label='smart')\n",
    "sns.distplot(ultra_data['duration'],color='green',label='ultra')\n",
    "plt.xlabel('duration')\n",
    "plt.ylabel('user_id')\n",
    "plt.axvline(x=500, label='smart_limit', color='blue',linewidth=4, linestyle = ':')\n",
    "plt.axvline(x=3000, label='ultra_limit', color='green',linewidth=4, linestyle = ':')\n",
    "plt.legend()"
   ]
  },
  {
   "cell_type": "code",
   "execution_count": 74,
   "metadata": {},
   "outputs": [
    {
     "name": "stdout",
     "output_type": "stream",
     "text": [
      "Дисперсия \"smart\": 35844.19\n",
      "Стандартное отклонение \"smart\": 189.33\n",
      "Дисперсия \"ultra\": 94203.42\n",
      "Стандартное отклонение \"ultra\": 306.93\n"
     ]
    }
   ],
   "source": [
    "#Посчитаем дисперсию и стандартное отклонение \n",
    "print('Дисперсия \"smart\": {:.2f}'.format(np.var(smart_data['duration'],ddof=1)))\n",
    "print('Стандартное отклонение \"smart\": {:.2f}'.format(np.std(smart_data['duration'],ddof=1)))\n",
    "print('Дисперсия \"ultra\": {:.2f}'.format(np.var(ultra_data['duration'],ddof=1)))\n",
    "print('Стандартное отклонение \"ultra\": {:.2f}'.format(np.std(ultra_data['duration'],ddof=1)))"
   ]
  },
  {
   "cell_type": "markdown",
   "metadata": {},
   "source": [
    "Рапсределения у обоих тарифов разные.\n",
    "Так  у 'smart' распредление скошенно в лево.Это говорит о том что клиентов разговаривающих подолгу  по телефону не так много,\n",
    "возможно  клиенты стараются экономить лимитное время. Судя по графику около 1/3 пользователей перерасходуют  лимит времени. \n",
    "\n",
    "\n",
    "У владельцев тарифа \"ultra\" медиана меньше среднего и распределение скошено вправо. Это говорит о том что в данном тарифе \n",
    "клиента больше разговаривают. При этом никто не выговаривает за лимит. \n",
    "Максимальное время 27 часов 54 минуты в месяц, при лимите в 60 часов в месяц. "
   ]
  },
  {
   "cell_type": "markdown",
   "metadata": {},
   "source": [
    "### 3.2.2 Мобильный интернет"
   ]
  },
  {
   "cell_type": "code",
   "execution_count": 75,
   "metadata": {},
   "outputs": [
    {
     "data": {
      "text/plain": [
       "<matplotlib.legend.Legend at 0x7fa0bcd53d90>"
      ]
     },
     "execution_count": 75,
     "metadata": {},
     "output_type": "execute_result"
    },
    {
     "data": {
      "image/png": "[encoded data removed]",
      "text/plain": [
       "<Figure size 864x432 with 1 Axes>"
      ]
     },
     "metadata": {
      "needs_background": "light"
     },
     "output_type": "display_data"
    }
   ],
   "source": [
    "plt.figure(figsize=(12,6))\n",
    "sns.distplot(smart_data['mb_used'],color='blue',label='smart')\n",
    "sns.distplot(ultra_data['mb_used'],color='green',label='ultra')\n",
    "plt.xlabel('mb_used')\n",
    "plt.ylabel('user_id')\n",
    "plt.axvline(x=15000, label='smart_limit', color='blue',linewidth=4, linestyle = ':')\n",
    "plt.axvline(x=30000, label='ultra_limit', color='green',linewidth=4, linestyle = ':')\n",
    "plt.legend()"
   ]
  },
  {
   "cell_type": "code",
   "execution_count": 76,
   "metadata": {},
   "outputs": [
    {
     "name": "stdout",
     "output_type": "stream",
     "text": [
      "Дисперсия \"smart\": 33635.84 Гб\n",
      "Стандартное отклонение \"smart\": 5.73 Гб\n",
      "Дисперсия \"ultra\": 96722.11 Гб\n",
      "Стандартное отклонение \"ultra\": 9.72 Гб\n"
     ]
    }
   ],
   "source": [
    "print('Дисперсия \"smart\": {:.2f}'.format(np.var(smart_data['mb_used'],ddof=1)/1024),'Гб')\n",
    "print('Стандартное отклонение \"smart\": {:.2f}'.format(np.std(smart_data['mb_used'],ddof=1)/1024),'Гб')\n",
    "print('Дисперсия \"ultra\": {:.2f}'.format(np.var(ultra_data['mb_used'],ddof=1)/1024),'Гб')\n",
    "print('Стандартное отклонение \"ultra\": {:.2f}'.format(np.std(ultra_data['mb_used'],ddof=1)/1024),'Гб')"
   ]
  },
  {
   "cell_type": "markdown",
   "metadata": {},
   "source": [
    "Потребление мобильного интернета. \n",
    "Рапсределения обоих трафиков нормальные. Медиана и среднее почти одинаковы у обоих. \n",
    "Но вот лимиты перерасходуются у тарифа \"smart\" гораздо чаще чем у \"ultra\""
   ]
  },
  {
   "cell_type": "markdown",
   "metadata": {},
   "source": [
    "### 3.2.3 СМС"
   ]
  },
  {
   "cell_type": "code",
   "execution_count": 77,
   "metadata": {},
   "outputs": [
    {
     "data": {
      "text/plain": [
       "<matplotlib.legend.Legend at 0x7fa0b183db50>"
      ]
     },
     "execution_count": 77,
     "metadata": {},
     "output_type": "execute_result"
    },
    {
     "data": {
      "image/png": "[encoded data removed]",
      "text/plain": [
       "<Figure size 864x432 with 1 Axes>"
      ]
     },
     "metadata": {
      "needs_background": "light"
     },
     "output_type": "display_data"
    }
   ],
   "source": [
    "#построим диаграммы для смс\n",
    "plt.figure(figsize=(12,6))\n",
    "sns.distplot(smart_data['messages'],color='blue',label='smart')\n",
    "sns.distplot(ultra_data['messages'],color='green',label='smart')\n",
    "plt.xlabel('messages')\n",
    "plt.ylabel('user_id')\n",
    "plt.axvline(x=50, label='smart_limit', color='blue',linewidth=4, linestyle = ':')\n",
    "#plt.axvline(x=1000, label='ultra_limit', color='green',linewidth=4, linestyle = ':')\n",
    "plt.legend()"
   ]
  },
  {
   "cell_type": "code",
   "execution_count": 78,
   "metadata": {},
   "outputs": [
    {
     "name": "stdout",
     "output_type": "stream",
     "text": [
      "Дисперсия \"smart\": 717.59\n",
      "Стандартное отклонение \"smart\": 26.79\n",
      "Дисперсия \"ultra\": 2109.66\n",
      "Стандартное отклонение \"ultra\": 45.93\n"
     ]
    }
   ],
   "source": [
    "print('Дисперсия \"smart\": {:.2f}'.format(np.var(smart_data['messages'],ddof=1)))\n",
    "print('Стандартное отклонение \"smart\": {:.2f}'.format(np.std(smart_data['messages'],ddof=1)))\n",
    "print('Дисперсия \"ultra\": {:.2f}'.format(np.var(ultra_data['messages'],ddof=1)))\n",
    "print('Стандартное отклонение \"ultra\": {:.2f}'.format(np.std(ultra_data['messages'],ddof=1)))"
   ]
  },
  {
   "cell_type": "markdown",
   "metadata": {},
   "source": [
    " Оба графика скошены влево. Медианы меньше среднего. Есть много абонентов непользующихся данной услугой. \n",
    "При этом лимит в 50 смс для тарифа smart недостаточен примерно для 30 % пользователей. \n",
    "Лимит в 1000 смс для тарифа 'ultra' не покорился ни одному пользователю.\n"
   ]
  },
  {
   "cell_type": "markdown",
   "metadata": {},
   "source": [
    "### 3.2.4 Нулевые звонки"
   ]
  },
  {
   "cell_type": "markdown",
   "metadata": {},
   "source": [
    "Проверим гипотезу, что клиенты сбрасывают собственный звонок , когда экономят на исходящих звонках и ждут обратного звонка (бесплатного для них) "
   ]
  },
  {
   "cell_type": "code",
   "execution_count": 79,
   "metadata": {},
   "outputs": [
    {
     "data": {
      "text/html": [
       "<div>\n",
       "<style scoped>\n",
       "    .dataframe tbody tr th:only-of-type {\n",
       "        vertical-align: middle;\n",
       "    }\n",
       "\n",
       "    .dataframe tbody tr th {\n",
       "        vertical-align: top;\n",
       "    }\n",
       "\n",
       "    .dataframe thead th {\n",
       "        text-align: right;\n",
       "    }\n",
       "</style>\n",
       "<table border=\"1\" class=\"dataframe\">\n",
       "  <thead>\n",
       "    <tr style=\"text-align: right;\">\n",
       "      <th></th>\n",
       "      <th>user_id</th>\n",
       "      <th>age</th>\n",
       "      <th>churn_date</th>\n",
       "      <th>city</th>\n",
       "      <th>reg_date</th>\n",
       "      <th>tariff</th>\n",
       "      <th>month</th>\n",
       "      <th>call</th>\n",
       "      <th>duration</th>\n",
       "      <th>zero_call</th>\n",
       "      <th>messages</th>\n",
       "      <th>session</th>\n",
       "      <th>mb_used</th>\n",
       "      <th>income</th>\n",
       "      <th>over</th>\n",
       "    </tr>\n",
       "  </thead>\n",
       "  <tbody>\n",
       "    <tr>\n",
       "      <td>0</td>\n",
       "      <td>1000</td>\n",
       "      <td>52</td>\n",
       "      <td>NaT</td>\n",
       "      <td>Краснодар</td>\n",
       "      <td>2018-05-25</td>\n",
       "      <td>ultra</td>\n",
       "      <td>5</td>\n",
       "      <td>17.0</td>\n",
       "      <td>159.0</td>\n",
       "      <td>5.0</td>\n",
       "      <td>22.0</td>\n",
       "      <td>5.0</td>\n",
       "      <td>2256.0</td>\n",
       "      <td>1950.0</td>\n",
       "      <td>False</td>\n",
       "    </tr>\n",
       "    <tr>\n",
       "      <td>1</td>\n",
       "      <td>1000</td>\n",
       "      <td>52</td>\n",
       "      <td>NaT</td>\n",
       "      <td>Краснодар</td>\n",
       "      <td>2018-05-25</td>\n",
       "      <td>ultra</td>\n",
       "      <td>6</td>\n",
       "      <td>28.0</td>\n",
       "      <td>172.0</td>\n",
       "      <td>15.0</td>\n",
       "      <td>60.0</td>\n",
       "      <td>49.0</td>\n",
       "      <td>23257.0</td>\n",
       "      <td>1950.0</td>\n",
       "      <td>False</td>\n",
       "    </tr>\n",
       "    <tr>\n",
       "      <td>2</td>\n",
       "      <td>1000</td>\n",
       "      <td>52</td>\n",
       "      <td>NaT</td>\n",
       "      <td>Краснодар</td>\n",
       "      <td>2018-05-25</td>\n",
       "      <td>ultra</td>\n",
       "      <td>7</td>\n",
       "      <td>41.0</td>\n",
       "      <td>340.0</td>\n",
       "      <td>6.0</td>\n",
       "      <td>75.0</td>\n",
       "      <td>29.0</td>\n",
       "      <td>14016.0</td>\n",
       "      <td>1950.0</td>\n",
       "      <td>False</td>\n",
       "    </tr>\n",
       "    <tr>\n",
       "      <td>3</td>\n",
       "      <td>1000</td>\n",
       "      <td>52</td>\n",
       "      <td>NaT</td>\n",
       "      <td>Краснодар</td>\n",
       "      <td>2018-05-25</td>\n",
       "      <td>ultra</td>\n",
       "      <td>8</td>\n",
       "      <td>42.0</td>\n",
       "      <td>408.0</td>\n",
       "      <td>10.0</td>\n",
       "      <td>81.0</td>\n",
       "      <td>29.0</td>\n",
       "      <td>14070.0</td>\n",
       "      <td>1950.0</td>\n",
       "      <td>False</td>\n",
       "    </tr>\n",
       "    <tr>\n",
       "      <td>4</td>\n",
       "      <td>1000</td>\n",
       "      <td>52</td>\n",
       "      <td>NaT</td>\n",
       "      <td>Краснодар</td>\n",
       "      <td>2018-05-25</td>\n",
       "      <td>ultra</td>\n",
       "      <td>9</td>\n",
       "      <td>46.0</td>\n",
       "      <td>466.0</td>\n",
       "      <td>12.0</td>\n",
       "      <td>57.0</td>\n",
       "      <td>27.0</td>\n",
       "      <td>14581.0</td>\n",
       "      <td>1950.0</td>\n",
       "      <td>False</td>\n",
       "    </tr>\n",
       "  </tbody>\n",
       "</table>\n",
       "</div>"
      ],
      "text/plain": [
       "   user_id  age churn_date       city   reg_date tariff  month  call  \\\n",
       "0     1000   52        NaT  Краснодар 2018-05-25  ultra      5  17.0   \n",
       "1     1000   52        NaT  Краснодар 2018-05-25  ultra      6  28.0   \n",
       "2     1000   52        NaT  Краснодар 2018-05-25  ultra      7  41.0   \n",
       "3     1000   52        NaT  Краснодар 2018-05-25  ultra      8  42.0   \n",
       "4     1000   52        NaT  Краснодар 2018-05-25  ultra      9  46.0   \n",
       "\n",
       "   duration  zero_call  messages  session  mb_used  income   over  \n",
       "0     159.0        5.0      22.0      5.0   2256.0  1950.0  False  \n",
       "1     172.0       15.0      60.0     49.0  23257.0  1950.0  False  \n",
       "2     340.0        6.0      75.0     29.0  14016.0  1950.0  False  \n",
       "3     408.0       10.0      81.0     29.0  14070.0  1950.0  False  \n",
       "4     466.0       12.0      57.0     27.0  14581.0  1950.0  False  "
      ]
     },
     "execution_count": 79,
     "metadata": {},
     "output_type": "execute_result"
    }
   ],
   "source": [
    "#напишем функцию , которая возвращает True если есть перерасход по звонкам и False наоборот \n",
    "def over_limit (row):\n",
    "    tariff=row['tariff']\n",
    "    duration=row['duration']\n",
    "    if tariff=='smart' and duration>500: return True\n",
    "    if tariff=='ultra' and duration>3000: return True\n",
    "    else: return False\n",
    "data_month['over']=data_month.apply(over_limit, axis=1)\n",
    "#очистим столбец call от нулевых звонков. \n",
    "data_month['call']=abs(data_month['call']-data_month['zero_call'])\n",
    "data_month.head()"
   ]
  },
  {
   "cell_type": "code",
   "execution_count": 80,
   "metadata": {},
   "outputs": [
    {
     "data": {
      "text/html": [
       "<div>\n",
       "<style scoped>\n",
       "    .dataframe tbody tr th:only-of-type {\n",
       "        vertical-align: middle;\n",
       "    }\n",
       "\n",
       "    .dataframe tbody tr th {\n",
       "        vertical-align: top;\n",
       "    }\n",
       "\n",
       "    .dataframe thead th {\n",
       "        text-align: right;\n",
       "    }\n",
       "</style>\n",
       "<table border=\"1\" class=\"dataframe\">\n",
       "  <thead>\n",
       "    <tr style=\"text-align: right;\">\n",
       "      <th></th>\n",
       "      <th></th>\n",
       "      <th>call</th>\n",
       "      <th>zero_call</th>\n",
       "    </tr>\n",
       "    <tr>\n",
       "      <th>tariff</th>\n",
       "      <th>over</th>\n",
       "      <th></th>\n",
       "      <th></th>\n",
       "    </tr>\n",
       "  </thead>\n",
       "  <tbody>\n",
       "    <tr>\n",
       "      <td rowspan=\"2\" valign=\"top\">smart</td>\n",
       "      <td>False</td>\n",
       "      <td>52520.0</td>\n",
       "      <td>13499.0</td>\n",
       "    </tr>\n",
       "    <tr>\n",
       "      <td>True</td>\n",
       "      <td>52126.0</td>\n",
       "      <td>12170.0</td>\n",
       "    </tr>\n",
       "    <tr>\n",
       "      <td>ultra</td>\n",
       "      <td>False</td>\n",
       "      <td>58348.0</td>\n",
       "      <td>13944.0</td>\n",
       "    </tr>\n",
       "  </tbody>\n",
       "</table>\n",
       "</div>"
      ],
      "text/plain": [
       "                 call  zero_call\n",
       "tariff over                     \n",
       "smart  False  52520.0    13499.0\n",
       "       True   52126.0    12170.0\n",
       "ultra  False  58348.0    13944.0"
      ]
     },
     "execution_count": 80,
     "metadata": {},
     "output_type": "execute_result"
    }
   ],
   "source": [
    "#сгрупируем звонки \n",
    "zero_call=data_month.groupby(['tariff','over']).agg({'call':'sum','zero_call':'sum'})\n",
    "zero_call"
   ]
  },
  {
   "cell_type": "markdown",
   "metadata": {},
   "source": [
    "В половине случаев  тарифа 'smart' есть перерасход, но на количество нулевых звонков это не влияет.\n",
    "Соотношение реальных звонков и нулевых примерно равно в обоих случаях. \n",
    "\n",
    "То же самое подтверждает данные по тарифу 'ultra' соотношение нулевых и реальных звонков совпадает с тарифом 'smart'.\n",
    "При этом в данном тарифе нет вообще перерасхода по звонкам и клиентам нет резона экономить. \n",
    "\n",
    "Значимого влияния перерасход на количество нулевых звонков не оказывает. Наша гипотеза не подтвердилась "
   ]
  },
  {
   "cell_type": "markdown",
   "metadata": {},
   "source": [
    "### Шаг 4. Статистические гипотезы"
   ]
  },
  {
   "cell_type": "markdown",
   "metadata": {},
   "source": [
    "### 4.1 Гипотеза о средней выручке тарифов"
   ]
  },
  {
   "cell_type": "markdown",
   "metadata": {},
   "source": [
    "Гипотеза звучит так: \"средняя выручка пользователей тарифов 'ultra' и 'smart' различаются.\"\"\n",
    "\n",
    "Нулевая гипотеза H0 будет звучат как : средние выручки двух тарифов не имеют разницы \n",
    "    "
   ]
  },
  {
   "cell_type": "code",
   "execution_count": 81,
   "metadata": {},
   "outputs": [
    {
     "name": "stdout",
     "output_type": "stream",
     "text": [
      "p-значение:  2.9776448000521676e-158\n",
      "Отвергаем нулевую гипотезу\n"
     ]
    }
   ],
   "source": [
    "#проверим нулевую гипотезу\n",
    "#у нас есть две выборки: smart_data и ultra_data. \n",
    "\n",
    "alpha = .05 # возьмем общепринятый уровень статистической значимости. \n",
    "\n",
    "\n",
    "results = st.ttest_ind(\n",
    "    smart_data['income'], \n",
    "    ultra_data['income'])\n",
    "    \n",
    "print('p-значение: ', results.pvalue)\n",
    "    \n",
    "if (results.pvalue < alpha):\n",
    "    print(\"Отвергаем нулевую гипотезу\")\n",
    "else:\n",
    "    print(\"Не получилось отвергнуть нулевую гипотезу\")"
   ]
  },
  {
   "cell_type": "markdown",
   "metadata": {},
   "source": [
    "Вероятность что средние выручки двух тарифов равны не подтвердилась. Посмотрим данные по графику:"
   ]
  },
  {
   "cell_type": "code",
   "execution_count": 82,
   "metadata": {},
   "outputs": [
    {
     "data": {
      "text/plain": [
       "<matplotlib.legend.Legend at 0x7fa0bcbe19d0>"
      ]
     },
     "execution_count": 82,
     "metadata": {},
     "output_type": "execute_result"
    },
    {
     "data": {
      "image/png": "[encoded data removed]",
      "text/plain": [
       "<Figure size 864x432 with 1 Axes>"
      ]
     },
     "metadata": {
      "needs_background": "light"
     },
     "output_type": "display_data"
    }
   ],
   "source": [
    "plt.figure(figsize=(12,6))\n",
    "sns.distplot(smart_data['income'],color='blue',label='smart')\n",
    "sns.distplot(ultra_data['income'],color='green',label='ultra')\n",
    "plt.xlabel('income')\n",
    "plt.ylabel('user_id')\n",
    "plt.legend()"
   ]
  },
  {
   "cell_type": "markdown",
   "metadata": {},
   "source": [
    "<font color='blue'> \n",
    "### <u>КОММЕНТАРИЙ РЕВЬЮЕРА</u>\n",
    "</font>\n",
    "<font color='green'>\n",
    "Верно Вы с гипотезой. Графика для таких анализов - боксплоты. Они лучше отобразят сравнение.<br>\n",
    "Я заметил, что Вы ими не рользуетесь. А зря! Это реально хороший график для оценки выбросов, номальности и сравнения групп (как в данном примере)"
   ]
  },
  {
   "cell_type": "markdown",
   "metadata": {},
   "source": [
    "### 4.2 Гипотеза о средней выручки пользователей Москвы и других регионов "
   ]
  },
  {
   "cell_type": "markdown",
   "metadata": {},
   "source": [
    "Гипотеза звучит так: \"Средняя выручка пользователей Москвы  и других регионов различаются.\"\n",
    "\n",
    "Нулевая гипотеза H0 будет звучат так : \"Средние выручки  Москвы и регионов не имеют разницы.\""
   ]
  },
  {
   "cell_type": "code",
   "execution_count": 83,
   "metadata": {},
   "outputs": [
    {
     "data": {
      "text/plain": [
       "москва             611\n",
       "санкт-петербург    270\n",
       "новосибирск         98\n",
       "уфа                 95\n",
       "краснодар           86\n",
       "                  ... \n",
       "сургут               6\n",
       "нижневартовск        6\n",
       "химки                5\n",
       "кемерово             5\n",
       "иваново              2\n",
       "Name: city, Length: 76, dtype: int64"
      ]
     },
     "execution_count": 83,
     "metadata": {},
     "output_type": "execute_result"
    }
   ],
   "source": [
    "#привдем к нижнему регисттру названия городов\n",
    "data_month['city']=data_month['city'].str.lower()\n",
    "data_month['city'].value_counts()"
   ]
  },
  {
   "cell_type": "code",
   "execution_count": 84,
   "metadata": {},
   "outputs": [],
   "source": [
    "#сделаем два среза для Москвы и регионов\n",
    "data_Moscow=data_month.query('city==\"москва\"')\n",
    "data_Zamkadye=data_month.query('city!=\"москва\"')\n"
   ]
  },
  {
   "cell_type": "code",
   "execution_count": 85,
   "metadata": {},
   "outputs": [
    {
     "name": "stdout",
     "output_type": "stream",
     "text": [
      "p-значение:  0.531666503831252\n",
      "Не получилось отвергнуть нулевую гипотезу\n"
     ]
    }
   ],
   "source": [
    "#Гипотеза:\"средняя выручка в Москве  и в других регионах различается\n",
    "#сформулируем нулевую гипотезу: среднии выручки равны\n",
    "\n",
    "alpha = .05 # возьмем общепринятый уровень статистической значимости. \n",
    "\n",
    "results = st.ttest_ind(\n",
    "    data_Moscow['income'], \n",
    "    data_Zamkadye['income'])\n",
    "    \n",
    "print('p-значение: ', results.pvalue)\n",
    "    \n",
    "if (results.pvalue < alpha):\n",
    "    print(\"Отвергаем нулевую гипотезу\")\n",
    "else:\n",
    "    print(\"Не получилось отвергнуть нулевую гипотезу\")\n"
   ]
  },
  {
   "cell_type": "code",
   "execution_count": 86,
   "metadata": {},
   "outputs": [
    {
     "data": {
      "text/plain": [
       "<matplotlib.legend.Legend at 0x7fa0b21e96d0>"
      ]
     },
     "execution_count": 86,
     "metadata": {},
     "output_type": "execute_result"
    },
    {
     "data": {
      "image/png": "[encoded data removed]",
      "text/plain": [
       "<Figure size 864x432 with 1 Axes>"
      ]
     },
     "metadata": {
      "needs_background": "light"
     },
     "output_type": "display_data"
    }
   ],
   "source": [
    "plt.figure(figsize=(12,6))\n",
    "sns.distplot(data_Moscow['income'],color='blue',label='Moscow')\n",
    "sns.distplot(data_Zamkadye['income'],color='green',label='Zamkadye')\n",
    "plt.xlabel('income')\n",
    "plt.ylabel('user_id')\n",
    "plt.legend()"
   ]
  },
  {
   "cell_type": "markdown",
   "metadata": {},
   "source": [
    "Гипотеза что клиенты в Москве больше тратят на мобильную связь не подтвердилась. Это хорошо видно на графике. "
   ]
  },
  {
   "cell_type": "markdown",
   "metadata": {},
   "source": [
    "### Шаг 5. Вывод"
   ]
  },
  {
   "cell_type": "code",
   "execution_count": 87,
   "metadata": {},
   "outputs": [
    {
     "data": {
      "text/html": [
       "<div>\n",
       "<style scoped>\n",
       "    .dataframe tbody tr th:only-of-type {\n",
       "        vertical-align: middle;\n",
       "    }\n",
       "\n",
       "    .dataframe tbody tr th {\n",
       "        vertical-align: top;\n",
       "    }\n",
       "\n",
       "    .dataframe thead th {\n",
       "        text-align: right;\n",
       "    }\n",
       "</style>\n",
       "<table border=\"1\" class=\"dataframe\">\n",
       "  <thead>\n",
       "    <tr style=\"text-align: right;\">\n",
       "      <th></th>\n",
       "      <th>duration</th>\n",
       "      <th>mb_used</th>\n",
       "      <th>messages</th>\n",
       "      <th>income</th>\n",
       "      <th>user_count</th>\n",
       "    </tr>\n",
       "    <tr>\n",
       "      <th>tariff</th>\n",
       "      <th></th>\n",
       "      <th></th>\n",
       "      <th></th>\n",
       "      <th></th>\n",
       "      <th></th>\n",
       "    </tr>\n",
       "  </thead>\n",
       "  <tbody>\n",
       "    <tr>\n",
       "      <td>smart</td>\n",
       "      <td>931577.0</td>\n",
       "      <td>36174861.0</td>\n",
       "      <td>1922</td>\n",
       "      <td>2885751.0</td>\n",
       "      <td>351</td>\n",
       "    </tr>\n",
       "    <tr>\n",
       "      <td>ultra</td>\n",
       "      <td>518724.0</td>\n",
       "      <td>19194598.0</td>\n",
       "      <td>795</td>\n",
       "      <td>2040000.0</td>\n",
       "      <td>149</td>\n",
       "    </tr>\n",
       "  </tbody>\n",
       "</table>\n",
       "</div>"
      ],
      "text/plain": [
       "        duration     mb_used  messages     income  user_count\n",
       "tariff                                                       \n",
       "smart   931577.0  36174861.0      1922  2885751.0         351\n",
       "ultra   518724.0  19194598.0       795  2040000.0         149"
      ]
     },
     "execution_count": 87,
     "metadata": {},
     "output_type": "execute_result"
    }
   ],
   "source": [
    "#сведем суммы метрик по тарифам в общую таблицу\n",
    "data_conclusion = data_month.groupby('tariff').agg({'duration':('sum'), \n",
    "                                                 'mb_used':('sum'),\n",
    "                                                 'messages':('count'),\n",
    "                                                'income':('sum')\n",
    "                                                   })\n",
    "\n",
    "data_conclusion['user_count']=users.groupby('tariff')['user_id'].count()\n",
    "data_conclusion"
   ]
  },
  {
   "cell_type": "markdown",
   "metadata": {},
   "source": [
    "Клиентов тарифа smart больше  ultra  в 2,35 раза. \n",
    "\n",
    "В среднем клиент smart в 2018 году принес: 8221 руб. \n",
    "\n",
    "    при этом потратил в среднем:\n",
    "    \n",
    "        - времени на звонки 44 часа 14 минут\n",
    "        - мобильного интернета 100 Гб\n",
    "        - отправил 5,5 смс \n",
    "        \n",
    "В среднем клиент ultra в 2018 году принес: 13691 руб.\n",
    "\n",
    "    при этом потратил в среднем:\n",
    "    \n",
    "        - времени на звонки 58 часа \n",
    "        - мобильного интернета 125,8 Гб\n",
    "        - отправил 5,33 смс     \n",
    "    \n",
    "Если потребление услуг по тарифам отличается по звонкам на 30%, по мобильному трафику на 25%, по смс равны. То доход выше на 66%\n",
    "\n",
    "Соответсвенно тариф ultra выгоднее для компании. \n",
    "\n",
    "Но большинство клиентов предпочитают  smart  и приносят большую валовую выручку. "
   ]
  },
  {
   "cell_type": "code",
   "execution_count": null,
   "metadata": {},
   "outputs": [],
   "source": []
  }
 ],
 "metadata": {
  "kernelspec": {
   "display_name": "Python 3",
   "language": "python",
   "name": "python3"
  },
  "language_info": {
   "codemirror_mode": {
    "name": "ipython",
    "version": 3
   },
   "file_extension": ".py",
   "mimetype": "text/x-python",
   "name": "python",
   "nbconvert_exporter": "python",
   "pygments_lexer": "ipython3",
   "version": "3.7.8"
  },
  "toc": {
   "base_numbering": 1,
   "nav_menu": {},
   "number_sections": true,
   "sideBar": true,
   "skip_h1_title": true,
   "title_cell": "Table of Contents",
   "title_sidebar": "Contents",
   "toc_cell": false,
   "toc_position": {},
   "toc_section_display": true,
   "toc_window_display": false
  }
 },
 "nbformat": 4,
 "nbformat_minor": 4
}
