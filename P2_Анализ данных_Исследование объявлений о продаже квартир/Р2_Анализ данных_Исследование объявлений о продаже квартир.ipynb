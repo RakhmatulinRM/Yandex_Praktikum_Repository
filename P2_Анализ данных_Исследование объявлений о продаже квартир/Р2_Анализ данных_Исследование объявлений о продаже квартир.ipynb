{
 "cells": [
  {
   "cell_type": "markdown",
   "metadata": {},
   "source": [
    "# Исследование объявлений о продаже квартир\n",
    "\n",
    "В вашем распоряжении данные сервиса Яндекс.Недвижимость — архив объявлений о продаже квартир в Санкт-Петербурге и соседних населённых пунктов за несколько лет. Нужно научиться определять рыночную стоимость объектов недвижимости. Ваша задача — установить параметры. Это позволит построить автоматизированную систему: она отследит аномалии и мошенническую деятельность. \n",
    "\n",
    "По каждой квартире на продажу доступны два вида данных. Первые вписаны пользователем, вторые — получены автоматически на основе картографических данных. Например, расстояние до центра, аэропорта, ближайшего парка и водоёма. "
   ]
  },
  {
   "cell_type": "code",
   "execution_count": 62,
   "metadata": {},
   "outputs": [],
   "source": [
    "#Загрузим библиотеки\n",
    "import pandas as pd\n",
    "from IPython.display import HTML, display\n",
    "import numpy as np\n",
    "import matplotlib.pyplot as plt"
   ]
  },
  {
   "cell_type": "code",
   "execution_count": 63,
   "metadata": {
    "scrolled": true
   },
   "outputs": [
    {
     "data": {
      "text/html": [
       "<div>\n",
       "<style scoped>\n",
       "    .dataframe tbody tr th:only-of-type {\n",
       "        vertical-align: middle;\n",
       "    }\n",
       "\n",
       "    .dataframe tbody tr th {\n",
       "        vertical-align: top;\n",
       "    }\n",
       "\n",
       "    .dataframe thead th {\n",
       "        text-align: right;\n",
       "    }\n",
       "</style>\n",
       "<table border=\"1\" class=\"dataframe\">\n",
       "  <thead>\n",
       "    <tr style=\"text-align: right;\">\n",
       "      <th></th>\n",
       "      <th>total_images</th>\n",
       "      <th>last_price</th>\n",
       "      <th>total_area</th>\n",
       "      <th>first_day_exposition</th>\n",
       "      <th>rooms</th>\n",
       "      <th>ceiling_height</th>\n",
       "      <th>floors_total</th>\n",
       "      <th>living_area</th>\n",
       "      <th>floor</th>\n",
       "      <th>is_apartment</th>\n",
       "      <th>...</th>\n",
       "      <th>kitchen_area</th>\n",
       "      <th>balcony</th>\n",
       "      <th>locality_name</th>\n",
       "      <th>airports_nearest</th>\n",
       "      <th>cityCenters_nearest</th>\n",
       "      <th>parks_around3000</th>\n",
       "      <th>parks_nearest</th>\n",
       "      <th>ponds_around3000</th>\n",
       "      <th>ponds_nearest</th>\n",
       "      <th>days_exposition</th>\n",
       "    </tr>\n",
       "  </thead>\n",
       "  <tbody>\n",
       "    <tr>\n",
       "      <td>0</td>\n",
       "      <td>20</td>\n",
       "      <td>13000000.0</td>\n",
       "      <td>108.0</td>\n",
       "      <td>2019-03-07T00:00:00</td>\n",
       "      <td>3</td>\n",
       "      <td>2.70</td>\n",
       "      <td>16.0</td>\n",
       "      <td>51.0</td>\n",
       "      <td>8</td>\n",
       "      <td>NaN</td>\n",
       "      <td>...</td>\n",
       "      <td>25.0</td>\n",
       "      <td>NaN</td>\n",
       "      <td>Санкт-Петербург</td>\n",
       "      <td>18863.0</td>\n",
       "      <td>16028.0</td>\n",
       "      <td>1.0</td>\n",
       "      <td>482.0</td>\n",
       "      <td>2.0</td>\n",
       "      <td>755.0</td>\n",
       "      <td>NaN</td>\n",
       "    </tr>\n",
       "    <tr>\n",
       "      <td>1</td>\n",
       "      <td>7</td>\n",
       "      <td>3350000.0</td>\n",
       "      <td>40.4</td>\n",
       "      <td>2018-12-04T00:00:00</td>\n",
       "      <td>1</td>\n",
       "      <td>NaN</td>\n",
       "      <td>11.0</td>\n",
       "      <td>18.6</td>\n",
       "      <td>1</td>\n",
       "      <td>NaN</td>\n",
       "      <td>...</td>\n",
       "      <td>11.0</td>\n",
       "      <td>2.0</td>\n",
       "      <td>посёлок Шушары</td>\n",
       "      <td>12817.0</td>\n",
       "      <td>18603.0</td>\n",
       "      <td>0.0</td>\n",
       "      <td>NaN</td>\n",
       "      <td>0.0</td>\n",
       "      <td>NaN</td>\n",
       "      <td>81.0</td>\n",
       "    </tr>\n",
       "    <tr>\n",
       "      <td>2</td>\n",
       "      <td>10</td>\n",
       "      <td>5196000.0</td>\n",
       "      <td>56.0</td>\n",
       "      <td>2015-08-20T00:00:00</td>\n",
       "      <td>2</td>\n",
       "      <td>NaN</td>\n",
       "      <td>5.0</td>\n",
       "      <td>34.3</td>\n",
       "      <td>4</td>\n",
       "      <td>NaN</td>\n",
       "      <td>...</td>\n",
       "      <td>8.3</td>\n",
       "      <td>0.0</td>\n",
       "      <td>Санкт-Петербург</td>\n",
       "      <td>21741.0</td>\n",
       "      <td>13933.0</td>\n",
       "      <td>1.0</td>\n",
       "      <td>90.0</td>\n",
       "      <td>2.0</td>\n",
       "      <td>574.0</td>\n",
       "      <td>558.0</td>\n",
       "    </tr>\n",
       "    <tr>\n",
       "      <td>3</td>\n",
       "      <td>0</td>\n",
       "      <td>64900000.0</td>\n",
       "      <td>159.0</td>\n",
       "      <td>2015-07-24T00:00:00</td>\n",
       "      <td>3</td>\n",
       "      <td>NaN</td>\n",
       "      <td>14.0</td>\n",
       "      <td>NaN</td>\n",
       "      <td>9</td>\n",
       "      <td>NaN</td>\n",
       "      <td>...</td>\n",
       "      <td>NaN</td>\n",
       "      <td>0.0</td>\n",
       "      <td>Санкт-Петербург</td>\n",
       "      <td>28098.0</td>\n",
       "      <td>6800.0</td>\n",
       "      <td>2.0</td>\n",
       "      <td>84.0</td>\n",
       "      <td>3.0</td>\n",
       "      <td>234.0</td>\n",
       "      <td>424.0</td>\n",
       "    </tr>\n",
       "    <tr>\n",
       "      <td>4</td>\n",
       "      <td>2</td>\n",
       "      <td>10000000.0</td>\n",
       "      <td>100.0</td>\n",
       "      <td>2018-06-19T00:00:00</td>\n",
       "      <td>2</td>\n",
       "      <td>3.03</td>\n",
       "      <td>14.0</td>\n",
       "      <td>32.0</td>\n",
       "      <td>13</td>\n",
       "      <td>NaN</td>\n",
       "      <td>...</td>\n",
       "      <td>41.0</td>\n",
       "      <td>NaN</td>\n",
       "      <td>Санкт-Петербург</td>\n",
       "      <td>31856.0</td>\n",
       "      <td>8098.0</td>\n",
       "      <td>2.0</td>\n",
       "      <td>112.0</td>\n",
       "      <td>1.0</td>\n",
       "      <td>48.0</td>\n",
       "      <td>121.0</td>\n",
       "    </tr>\n",
       "  </tbody>\n",
       "</table>\n",
       "<p>5 rows × 22 columns</p>\n",
       "</div>"
      ],
      "text/plain": [
       "   total_images  last_price  total_area first_day_exposition  rooms  \\\n",
       "0            20  13000000.0       108.0  2019-03-07T00:00:00      3   \n",
       "1             7   3350000.0        40.4  2018-12-04T00:00:00      1   \n",
       "2            10   5196000.0        56.0  2015-08-20T00:00:00      2   \n",
       "3             0  64900000.0       159.0  2015-07-24T00:00:00      3   \n",
       "4             2  10000000.0       100.0  2018-06-19T00:00:00      2   \n",
       "\n",
       "   ceiling_height  floors_total  living_area  floor is_apartment  ...  \\\n",
       "0            2.70          16.0         51.0      8          NaN  ...   \n",
       "1             NaN          11.0         18.6      1          NaN  ...   \n",
       "2             NaN           5.0         34.3      4          NaN  ...   \n",
       "3             NaN          14.0          NaN      9          NaN  ...   \n",
       "4            3.03          14.0         32.0     13          NaN  ...   \n",
       "\n",
       "   kitchen_area  balcony    locality_name  airports_nearest  \\\n",
       "0          25.0      NaN  Санкт-Петербург           18863.0   \n",
       "1          11.0      2.0   посёлок Шушары           12817.0   \n",
       "2           8.3      0.0  Санкт-Петербург           21741.0   \n",
       "3           NaN      0.0  Санкт-Петербург           28098.0   \n",
       "4          41.0      NaN  Санкт-Петербург           31856.0   \n",
       "\n",
       "  cityCenters_nearest  parks_around3000  parks_nearest  ponds_around3000  \\\n",
       "0             16028.0               1.0          482.0               2.0   \n",
       "1             18603.0               0.0            NaN               0.0   \n",
       "2             13933.0               1.0           90.0               2.0   \n",
       "3              6800.0               2.0           84.0               3.0   \n",
       "4              8098.0               2.0          112.0               1.0   \n",
       "\n",
       "   ponds_nearest  days_exposition  \n",
       "0          755.0              NaN  \n",
       "1            NaN             81.0  \n",
       "2          574.0            558.0  \n",
       "3          234.0            424.0  \n",
       "4           48.0            121.0  \n",
       "\n",
       "[5 rows x 22 columns]"
      ]
     },
     "execution_count": 63,
     "metadata": {},
     "output_type": "execute_result"
    }
   ],
   "source": [
    "df=pd.read_csv('/datasets/real_estate_data.csv',sep='\\t')\n",
    "df.head()"
   ]
  },
  {
   "cell_type": "markdown",
   "metadata": {},
   "source": [
    "В наличии датафрейм с архивом объявлений о продаже квартир, состоящий из 22 признака,  которые можно разбить на три группы:\n",
    "1. Признаки характеризующую саму квартиру  \n",
    "2. Признаки  относящиеся к расположению квартиры\n",
    "3. Признаки относящиеся к  объявлению. "
   ]
  },
  {
   "cell_type": "code",
   "execution_count": 64,
   "metadata": {},
   "outputs": [],
   "source": [
    "#Что бы не загромаждать работу лишними данными, удалим признаки  изучение влияния которых не стоит в целях проекта.\n",
    "df.drop(['total_images','airports_nearest','parks_around3000','parks_nearest','ponds_around3000','ponds_nearest'],axis='columns', inplace=True )\n"
   ]
  },
  {
   "cell_type": "code",
   "execution_count": 65,
   "metadata": {},
   "outputs": [
    {
     "data": {
      "text/html": [
       "<div>\n",
       "<style scoped>\n",
       "    .dataframe tbody tr th:only-of-type {\n",
       "        vertical-align: middle;\n",
       "    }\n",
       "\n",
       "    .dataframe tbody tr th {\n",
       "        vertical-align: top;\n",
       "    }\n",
       "\n",
       "    .dataframe thead th {\n",
       "        text-align: right;\n",
       "    }\n",
       "</style>\n",
       "<table border=\"1\" class=\"dataframe\">\n",
       "  <thead>\n",
       "    <tr style=\"text-align: right;\">\n",
       "      <th></th>\n",
       "      <th>last_price</th>\n",
       "      <th>total_area</th>\n",
       "      <th>rooms</th>\n",
       "      <th>ceiling_height</th>\n",
       "      <th>floors_total</th>\n",
       "      <th>living_area</th>\n",
       "      <th>floor</th>\n",
       "      <th>kitchen_area</th>\n",
       "      <th>balcony</th>\n",
       "      <th>cityCenters_nearest</th>\n",
       "      <th>days_exposition</th>\n",
       "    </tr>\n",
       "  </thead>\n",
       "  <tbody>\n",
       "    <tr>\n",
       "      <td>count</td>\n",
       "      <td>2.369900e+04</td>\n",
       "      <td>23699.000000</td>\n",
       "      <td>23699.000000</td>\n",
       "      <td>14504.000000</td>\n",
       "      <td>23613.000000</td>\n",
       "      <td>21796.000000</td>\n",
       "      <td>23699.000000</td>\n",
       "      <td>21421.000000</td>\n",
       "      <td>12180.000000</td>\n",
       "      <td>18180.000000</td>\n",
       "      <td>20518.000000</td>\n",
       "    </tr>\n",
       "    <tr>\n",
       "      <td>mean</td>\n",
       "      <td>6.541549e+06</td>\n",
       "      <td>60.348651</td>\n",
       "      <td>2.070636</td>\n",
       "      <td>2.771499</td>\n",
       "      <td>10.673824</td>\n",
       "      <td>34.457852</td>\n",
       "      <td>5.892358</td>\n",
       "      <td>10.569807</td>\n",
       "      <td>1.150082</td>\n",
       "      <td>14191.277833</td>\n",
       "      <td>180.888634</td>\n",
       "    </tr>\n",
       "    <tr>\n",
       "      <td>std</td>\n",
       "      <td>1.088701e+07</td>\n",
       "      <td>35.654083</td>\n",
       "      <td>1.078405</td>\n",
       "      <td>1.261056</td>\n",
       "      <td>6.597173</td>\n",
       "      <td>22.030445</td>\n",
       "      <td>4.885249</td>\n",
       "      <td>5.905438</td>\n",
       "      <td>1.071300</td>\n",
       "      <td>8608.386210</td>\n",
       "      <td>219.727988</td>\n",
       "    </tr>\n",
       "    <tr>\n",
       "      <td>min</td>\n",
       "      <td>1.219000e+04</td>\n",
       "      <td>12.000000</td>\n",
       "      <td>0.000000</td>\n",
       "      <td>1.000000</td>\n",
       "      <td>1.000000</td>\n",
       "      <td>2.000000</td>\n",
       "      <td>1.000000</td>\n",
       "      <td>1.300000</td>\n",
       "      <td>0.000000</td>\n",
       "      <td>181.000000</td>\n",
       "      <td>1.000000</td>\n",
       "    </tr>\n",
       "    <tr>\n",
       "      <td>25%</td>\n",
       "      <td>3.400000e+06</td>\n",
       "      <td>40.000000</td>\n",
       "      <td>1.000000</td>\n",
       "      <td>2.520000</td>\n",
       "      <td>5.000000</td>\n",
       "      <td>18.600000</td>\n",
       "      <td>2.000000</td>\n",
       "      <td>7.000000</td>\n",
       "      <td>0.000000</td>\n",
       "      <td>9238.000000</td>\n",
       "      <td>45.000000</td>\n",
       "    </tr>\n",
       "    <tr>\n",
       "      <td>50%</td>\n",
       "      <td>4.650000e+06</td>\n",
       "      <td>52.000000</td>\n",
       "      <td>2.000000</td>\n",
       "      <td>2.650000</td>\n",
       "      <td>9.000000</td>\n",
       "      <td>30.000000</td>\n",
       "      <td>4.000000</td>\n",
       "      <td>9.100000</td>\n",
       "      <td>1.000000</td>\n",
       "      <td>13098.500000</td>\n",
       "      <td>95.000000</td>\n",
       "    </tr>\n",
       "    <tr>\n",
       "      <td>75%</td>\n",
       "      <td>6.800000e+06</td>\n",
       "      <td>69.900000</td>\n",
       "      <td>3.000000</td>\n",
       "      <td>2.800000</td>\n",
       "      <td>16.000000</td>\n",
       "      <td>42.300000</td>\n",
       "      <td>8.000000</td>\n",
       "      <td>12.000000</td>\n",
       "      <td>2.000000</td>\n",
       "      <td>16293.000000</td>\n",
       "      <td>232.000000</td>\n",
       "    </tr>\n",
       "    <tr>\n",
       "      <td>max</td>\n",
       "      <td>7.630000e+08</td>\n",
       "      <td>900.000000</td>\n",
       "      <td>19.000000</td>\n",
       "      <td>100.000000</td>\n",
       "      <td>60.000000</td>\n",
       "      <td>409.700000</td>\n",
       "      <td>33.000000</td>\n",
       "      <td>112.000000</td>\n",
       "      <td>5.000000</td>\n",
       "      <td>65968.000000</td>\n",
       "      <td>1580.000000</td>\n",
       "    </tr>\n",
       "  </tbody>\n",
       "</table>\n",
       "</div>"
      ],
      "text/plain": [
       "         last_price    total_area         rooms  ceiling_height  floors_total  \\\n",
       "count  2.369900e+04  23699.000000  23699.000000    14504.000000  23613.000000   \n",
       "mean   6.541549e+06     60.348651      2.070636        2.771499     10.673824   \n",
       "std    1.088701e+07     35.654083      1.078405        1.261056      6.597173   \n",
       "min    1.219000e+04     12.000000      0.000000        1.000000      1.000000   \n",
       "25%    3.400000e+06     40.000000      1.000000        2.520000      5.000000   \n",
       "50%    4.650000e+06     52.000000      2.000000        2.650000      9.000000   \n",
       "75%    6.800000e+06     69.900000      3.000000        2.800000     16.000000   \n",
       "max    7.630000e+08    900.000000     19.000000      100.000000     60.000000   \n",
       "\n",
       "        living_area         floor  kitchen_area       balcony  \\\n",
       "count  21796.000000  23699.000000  21421.000000  12180.000000   \n",
       "mean      34.457852      5.892358     10.569807      1.150082   \n",
       "std       22.030445      4.885249      5.905438      1.071300   \n",
       "min        2.000000      1.000000      1.300000      0.000000   \n",
       "25%       18.600000      2.000000      7.000000      0.000000   \n",
       "50%       30.000000      4.000000      9.100000      1.000000   \n",
       "75%       42.300000      8.000000     12.000000      2.000000   \n",
       "max      409.700000     33.000000    112.000000      5.000000   \n",
       "\n",
       "       cityCenters_nearest  days_exposition  \n",
       "count         18180.000000     20518.000000  \n",
       "mean          14191.277833       180.888634  \n",
       "std            8608.386210       219.727988  \n",
       "min             181.000000         1.000000  \n",
       "25%            9238.000000        45.000000  \n",
       "50%           13098.500000        95.000000  \n",
       "75%           16293.000000       232.000000  \n",
       "max           65968.000000      1580.000000  "
      ]
     },
     "execution_count": 65,
     "metadata": {},
     "output_type": "execute_result"
    }
   ],
   "source": [
    "#Рассмотрим количественные признаки   \n",
    "df.describe()"
   ]
  },
  {
   "cell_type": "code",
   "execution_count": 66,
   "metadata": {},
   "outputs": [
    {
     "name": "stdout",
     "output_type": "stream",
     "text": [
      "<class 'pandas.core.frame.DataFrame'>\n",
      "RangeIndex: 23699 entries, 0 to 23698\n",
      "Data columns (total 16 columns):\n",
      "last_price              23699 non-null float64\n",
      "total_area              23699 non-null float64\n",
      "first_day_exposition    23699 non-null object\n",
      "rooms                   23699 non-null int64\n",
      "ceiling_height          14504 non-null float64\n",
      "floors_total            23613 non-null float64\n",
      "living_area             21796 non-null float64\n",
      "floor                   23699 non-null int64\n",
      "is_apartment            2775 non-null object\n",
      "studio                  23699 non-null bool\n",
      "open_plan               23699 non-null bool\n",
      "kitchen_area            21421 non-null float64\n",
      "balcony                 12180 non-null float64\n",
      "locality_name           23650 non-null object\n",
      "cityCenters_nearest     18180 non-null float64\n",
      "days_exposition         20518 non-null float64\n",
      "dtypes: bool(2), float64(9), int64(2), object(3)\n",
      "memory usage: 2.6+ MB\n"
     ]
    }
   ],
   "source": [
    "df.info()"
   ]
  },
  {
   "cell_type": "markdown",
   "metadata": {},
   "source": [
    "### Вывод"
   ]
  },
  {
   "cell_type": "markdown",
   "metadata": {},
   "source": [
    "Датафрейм сотоит из 22 столбцов, из них имеют:\n",
    "-  14  вещественный тип данных;\n",
    "-  3  целочисленный тип данных;\n",
    "-  3  строковый тип данных;\n",
    "-  2  булев тип данных.\n",
    "\n",
    "Пропуски содержаться в 14 столбцах. \n",
    "\n",
    "Для удобства и лучшей наглядности убрали признаки, влияние которых не изучается в целях проекта. "
   ]
  },
  {
   "cell_type": "markdown",
   "metadata": {},
   "source": [
    "###  Предобработка данных"
   ]
  },
  {
   "cell_type": "code",
   "execution_count": 67,
   "metadata": {},
   "outputs": [
    {
     "name": "stdout",
     "output_type": "stream",
     "text": [
      "0\n"
     ]
    }
   ],
   "source": [
    "#посчитаем дубликаты\n",
    "print(df.duplicated().sum())"
   ]
  },
  {
   "cell_type": "code",
   "execution_count": 68,
   "metadata": {},
   "outputs": [],
   "source": [
    "#Замена пропусков\n",
    "#1.Высота потолков.\n",
    "#Количество пропусков значительно (около 40% ).\n",
    "#Удалять такой объем данных слишком расточительно. Нам нужно будет провести замену на среднее значение. \n",
    "#Высота потолка зависит от проекта дома. Есть типовые проекты - 'хрущевки','девятиэтажки',а также более современные проекты.\n",
    "#У каждого проекта своя высота потолков. Вычислив в каких домах имеется пропуски, мы можем заменить их на среднее значение "
   ]
  },
  {
   "cell_type": "code",
   "execution_count": 69,
   "metadata": {},
   "outputs": [],
   "source": [
    "#2.Этажность дома \n",
    "#Для начала нам понадобится заменить пропуски в этажности дома. Пусть все дома с пропуском этого признака\n",
    "#будут иметь значение '-1'\n",
    "df['floors_total']=df['floors_total'].fillna(-1)"
   ]
  },
  {
   "cell_type": "code",
   "execution_count": 70,
   "metadata": {},
   "outputs": [],
   "source": [
    "#Теперь обработаем пропуски в 'ceiling_height'\n",
    "#Сначала заменим пропуски на -1, за тем на среднее значение для каждого типа дома\n",
    "df['ceiling_height']=df['ceiling_height'].fillna(-1)\n",
    "def fill_height (row):\n",
    "    ceiling_height = row['ceiling_height']\n",
    "    rooms = row['rooms']\n",
    "    if ceiling_height == -1:      \n",
    "        return height_to_median[rooms]\n",
    "    return ceiling_height\n",
    "  \n",
    "height_to_median = df.groupby('rooms').mean()[\"ceiling_height\"].to_dict() \n",
    "       \n",
    "df[\"ceiling_height\"]= df.apply(fill_height,axis=1)\n"
   ]
  },
  {
   "cell_type": "code",
   "execution_count": 71,
   "metadata": {},
   "outputs": [
    {
     "data": {
      "text/plain": [
       "1     8047\n",
       "2     7940\n",
       "3     5814\n",
       "4     1180\n",
       "5      326\n",
       "0      197\n",
       "6      105\n",
       "7       59\n",
       "8       12\n",
       "9        8\n",
       "10       3\n",
       "14       2\n",
       "11       2\n",
       "19       1\n",
       "12       1\n",
       "16       1\n",
       "15       1\n",
       "Name: rooms, dtype: int64"
      ]
     },
     "execution_count": 71,
     "metadata": {},
     "output_type": "execute_result"
    }
   ],
   "source": [
    "#3.Пропуски в признаках Living_area и kitchen_area. По анлогии с высотой потолков можно подобрать среднее значение \n",
    "#для типовых квартир. \n",
    "#Посмотрим сколько в датафрейме 'однушек', 'двушек' и т.д. \n",
    "df['rooms'].value_counts()"
   ]
  },
  {
   "cell_type": "code",
   "execution_count": 72,
   "metadata": {},
   "outputs": [
    {
     "data": {
      "text/html": [
       "<div>\n",
       "<style scoped>\n",
       "    .dataframe tbody tr th:only-of-type {\n",
       "        vertical-align: middle;\n",
       "    }\n",
       "\n",
       "    .dataframe tbody tr th {\n",
       "        vertical-align: top;\n",
       "    }\n",
       "\n",
       "    .dataframe thead th {\n",
       "        text-align: right;\n",
       "    }\n",
       "</style>\n",
       "<table border=\"1\" class=\"dataframe\">\n",
       "  <thead>\n",
       "    <tr style=\"text-align: right;\">\n",
       "      <th></th>\n",
       "      <th>kitchen_count</th>\n",
       "      <th>kitchen_area_mean</th>\n",
       "      <th>living_count</th>\n",
       "      <th>living_area_mean</th>\n",
       "      <th>total_count</th>\n",
       "      <th>total_area_mean</th>\n",
       "    </tr>\n",
       "    <tr>\n",
       "      <th>rooms</th>\n",
       "      <th></th>\n",
       "      <th></th>\n",
       "      <th></th>\n",
       "      <th></th>\n",
       "      <th></th>\n",
       "      <th></th>\n",
       "    </tr>\n",
       "  </thead>\n",
       "  <tbody>\n",
       "    <tr>\n",
       "      <td>0</td>\n",
       "      <td>0</td>\n",
       "      <td>NaN</td>\n",
       "      <td>183</td>\n",
       "      <td>18.865246</td>\n",
       "      <td>197</td>\n",
       "      <td>29.279746</td>\n",
       "    </tr>\n",
       "    <tr>\n",
       "      <td>1</td>\n",
       "      <td>7213</td>\n",
       "      <td>9.550118</td>\n",
       "      <td>7388</td>\n",
       "      <td>17.893552</td>\n",
       "      <td>8047</td>\n",
       "      <td>37.644669</td>\n",
       "    </tr>\n",
       "    <tr>\n",
       "      <td>2</td>\n",
       "      <td>7286</td>\n",
       "      <td>9.979584</td>\n",
       "      <td>7296</td>\n",
       "      <td>31.736849</td>\n",
       "      <td>7940</td>\n",
       "      <td>55.855089</td>\n",
       "    </tr>\n",
       "    <tr>\n",
       "      <td>3</td>\n",
       "      <td>5380</td>\n",
       "      <td>11.308580</td>\n",
       "      <td>5366</td>\n",
       "      <td>47.387941</td>\n",
       "      <td>5814</td>\n",
       "      <td>77.764580</td>\n",
       "    </tr>\n",
       "    <tr>\n",
       "      <td>4</td>\n",
       "      <td>1081</td>\n",
       "      <td>13.664033</td>\n",
       "      <td>1089</td>\n",
       "      <td>66.983223</td>\n",
       "      <td>1180</td>\n",
       "      <td>107.610763</td>\n",
       "    </tr>\n",
       "    <tr>\n",
       "      <td>5</td>\n",
       "      <td>285</td>\n",
       "      <td>18.367649</td>\n",
       "      <td>292</td>\n",
       "      <td>100.009247</td>\n",
       "      <td>326</td>\n",
       "      <td>161.474816</td>\n",
       "    </tr>\n",
       "    <tr>\n",
       "      <td>6</td>\n",
       "      <td>97</td>\n",
       "      <td>21.048763</td>\n",
       "      <td>99</td>\n",
       "      <td>130.983636</td>\n",
       "      <td>105</td>\n",
       "      <td>201.537619</td>\n",
       "    </tr>\n",
       "    <tr>\n",
       "      <td>7</td>\n",
       "      <td>52</td>\n",
       "      <td>21.998077</td>\n",
       "      <td>53</td>\n",
       "      <td>163.564151</td>\n",
       "      <td>59</td>\n",
       "      <td>265.325424</td>\n",
       "    </tr>\n",
       "    <tr>\n",
       "      <td>8</td>\n",
       "      <td>9</td>\n",
       "      <td>24.866667</td>\n",
       "      <td>12</td>\n",
       "      <td>168.683333</td>\n",
       "      <td>12</td>\n",
       "      <td>259.233333</td>\n",
       "    </tr>\n",
       "    <tr>\n",
       "      <td>9</td>\n",
       "      <td>7</td>\n",
       "      <td>25.071429</td>\n",
       "      <td>7</td>\n",
       "      <td>190.257143</td>\n",
       "      <td>8</td>\n",
       "      <td>305.975000</td>\n",
       "    </tr>\n",
       "    <tr>\n",
       "      <td>10</td>\n",
       "      <td>3</td>\n",
       "      <td>22.866667</td>\n",
       "      <td>3</td>\n",
       "      <td>165.566667</td>\n",
       "      <td>3</td>\n",
       "      <td>259.566667</td>\n",
       "    </tr>\n",
       "    <tr>\n",
       "      <td>11</td>\n",
       "      <td>2</td>\n",
       "      <td>12.600000</td>\n",
       "      <td>2</td>\n",
       "      <td>133.900000</td>\n",
       "      <td>2</td>\n",
       "      <td>188.900000</td>\n",
       "    </tr>\n",
       "    <tr>\n",
       "      <td>12</td>\n",
       "      <td>1</td>\n",
       "      <td>112.000000</td>\n",
       "      <td>1</td>\n",
       "      <td>409.700000</td>\n",
       "      <td>1</td>\n",
       "      <td>900.000000</td>\n",
       "    </tr>\n",
       "    <tr>\n",
       "      <td>14</td>\n",
       "      <td>2</td>\n",
       "      <td>21.250000</td>\n",
       "      <td>2</td>\n",
       "      <td>195.150000</td>\n",
       "      <td>2</td>\n",
       "      <td>304.200000</td>\n",
       "    </tr>\n",
       "    <tr>\n",
       "      <td>15</td>\n",
       "      <td>1</td>\n",
       "      <td>100.000000</td>\n",
       "      <td>1</td>\n",
       "      <td>409.000000</td>\n",
       "      <td>1</td>\n",
       "      <td>590.000000</td>\n",
       "    </tr>\n",
       "    <tr>\n",
       "      <td>16</td>\n",
       "      <td>1</td>\n",
       "      <td>13.000000</td>\n",
       "      <td>1</td>\n",
       "      <td>180.000000</td>\n",
       "      <td>1</td>\n",
       "      <td>270.000000</td>\n",
       "    </tr>\n",
       "    <tr>\n",
       "      <td>19</td>\n",
       "      <td>1</td>\n",
       "      <td>27.600000</td>\n",
       "      <td>1</td>\n",
       "      <td>264.500000</td>\n",
       "      <td>1</td>\n",
       "      <td>374.600000</td>\n",
       "    </tr>\n",
       "  </tbody>\n",
       "</table>\n",
       "</div>"
      ],
      "text/plain": [
       "       kitchen_count  kitchen_area_mean  living_count  living_area_mean  \\\n",
       "rooms                                                                     \n",
       "0                  0                NaN           183         18.865246   \n",
       "1               7213           9.550118          7388         17.893552   \n",
       "2               7286           9.979584          7296         31.736849   \n",
       "3               5380          11.308580          5366         47.387941   \n",
       "4               1081          13.664033          1089         66.983223   \n",
       "5                285          18.367649           292        100.009247   \n",
       "6                 97          21.048763            99        130.983636   \n",
       "7                 52          21.998077            53        163.564151   \n",
       "8                  9          24.866667            12        168.683333   \n",
       "9                  7          25.071429             7        190.257143   \n",
       "10                 3          22.866667             3        165.566667   \n",
       "11                 2          12.600000             2        133.900000   \n",
       "12                 1         112.000000             1        409.700000   \n",
       "14                 2          21.250000             2        195.150000   \n",
       "15                 1         100.000000             1        409.000000   \n",
       "16                 1          13.000000             1        180.000000   \n",
       "19                 1          27.600000             1        264.500000   \n",
       "\n",
       "       total_count  total_area_mean  \n",
       "rooms                                \n",
       "0              197        29.279746  \n",
       "1             8047        37.644669  \n",
       "2             7940        55.855089  \n",
       "3             5814        77.764580  \n",
       "4             1180       107.610763  \n",
       "5              326       161.474816  \n",
       "6              105       201.537619  \n",
       "7               59       265.325424  \n",
       "8               12       259.233333  \n",
       "9                8       305.975000  \n",
       "10               3       259.566667  \n",
       "11               2       188.900000  \n",
       "12               1       900.000000  \n",
       "14               2       304.200000  \n",
       "15               1       590.000000  \n",
       "16               1       270.000000  \n",
       "19               1       374.600000  "
      ]
     },
     "execution_count": 72,
     "metadata": {},
     "output_type": "execute_result"
    }
   ],
   "source": [
    "#Сведем признаки площади в отдельный датафрейм\n",
    "df_area=df.pivot_table(index='rooms', values=('total_area','living_area','kitchen_area'), aggfunc=('count','mean'))\n",
    "#Переиминуем для удобства столбцы\n",
    "df_area.columns=(\n",
    "                ['kitchen_count','kitchen_area_mean','living_count',\n",
    "                 'living_area_mean', 'total_count','total_area_mean']\n",
    ")\n",
    "df_area"
   ]
  },
  {
   "cell_type": "code",
   "execution_count": 73,
   "metadata": {},
   "outputs": [
    {
     "data": {
      "text/plain": [
       "(197, 16)"
      ]
     },
     "execution_count": 73,
     "metadata": {},
     "output_type": "execute_result"
    }
   ],
   "source": [
    "#Отдельно обработаем пропуски в квартирах с нулевым кол-вом комнат.\n",
    "#всего таких пропусков 197. Посмотрим не случайны ли они?Проверим совпадают признаки 'open_plan','studio'\n",
    "#с квартирами где кол-во комнат ранво нулю. \n",
    "rooms_zero=df.query('rooms==0 and (open_plan==True or studio==True)')\n",
    "rooms_zero.shape\n"
   ]
  },
  {
   "cell_type": "code",
   "execution_count": 74,
   "metadata": {},
   "outputs": [],
   "source": [
    "#Да полностью совпали. \n",
    "#В таких квартирах нет отдельной кухни и комнат, а значит есть только общая площадь. \n",
    "#Да же в тех случаях, где владельцы указали \n",
    "#Заменим пропуски нулями. \n",
    "def living_zero_rooms(row):\n",
    "    living_area = row['living_area']\n",
    "    rooms = row['rooms']\n",
    "    if rooms == 0:      \n",
    "        return 0\n",
    "    return living_area\n",
    "df[\"living_area\"]= df.apply(living_zero_rooms,axis=1)\n",
    "\n",
    "def kitchen_zero_rooms(row):\n",
    "    kitchen_area = row['kitchen_area']\n",
    "    rooms = row['rooms']\n",
    "    if rooms == 0:      \n",
    "        return 0\n",
    "    return kitchen_area\n",
    "df[\"kitchen_area\"]= df.apply(kitchen_zero_rooms,axis=1)"
   ]
  },
  {
   "cell_type": "code",
   "execution_count": 75,
   "metadata": {},
   "outputs": [
    {
     "data": {
      "text/plain": [
       "<matplotlib.axes._subplots.AxesSubplot at 0x7ff29dc50d10>"
      ]
     },
     "execution_count": 75,
     "metadata": {},
     "output_type": "execute_result"
    },
    {
     "data": {
      "image/png": "[encoded data removed]",
      "text/plain": [
       "<Figure size 720x360 with 1 Axes>"
      ]
     },
     "metadata": {
      "needs_background": "light"
     },
     "output_type": "display_data"
    }
   ],
   "source": [
    "#Изучим оставщиеся пропуски в данных признаках.Посмотрим нет ли зависимости от количества комнат.\n",
    "#Построим график , где по оси X разместим кол-во комнат, а,по оси Y кол-во данных в датафрейме по пропускам. \n",
    "df_area.plot(style='o-',y=['total_count', 'living_count','kitchen_count'],xlim=(0, 7), grid=True, figsize=(10, 5))"
   ]
  },
  {
   "cell_type": "code",
   "execution_count": 76,
   "metadata": {},
   "outputs": [],
   "source": [
    "#На графике видно, что линии повторяют друг друга, это говорит о том что пропуски в данных не зависят от кол-ва комнат. \n",
    "#Поэтому мы можем заменить данные средними значениями для каждого вида квартиры.\n",
    "#Заменим на -1 пропущенные знаяения для жилой площади\n",
    "df['living_area']=df['living_area'].fillna(-1)\n",
    "def fill_area(row):\n",
    "    area = row['living_area']\n",
    "    rooms = row['rooms']\n",
    "    if area == -1:      \n",
    "        return area_to_median[rooms]\n",
    "    return area\n",
    "  \n",
    "area_to_median = df.groupby('rooms').mean()[\"living_area\"].to_dict() \n",
    "       \n",
    "df[\"living_area\"]= df.apply(fill_area,axis=1)\n"
   ]
  },
  {
   "cell_type": "code",
   "execution_count": 77,
   "metadata": {},
   "outputs": [],
   "source": [
    "#То же самое проделаем для площади кухни\n",
    "\n",
    "df['kitchen_area']=df['kitchen_area'].fillna(-1)\n",
    "def fill_area(row):\n",
    "    area = row['kitchen_area']\n",
    "    rooms = row['rooms']\n",
    "    if area == -1:      \n",
    "        return area_to_median[rooms]\n",
    "    return area\n",
    "  \n",
    "area_to_median = df.groupby('rooms').mean()[\"kitchen_area\"].to_dict() \n",
    "       \n",
    "df[\"kitchen_area\"]= df.apply(fill_area,axis=1)\n"
   ]
  },
  {
   "cell_type": "code",
   "execution_count": 78,
   "metadata": {},
   "outputs": [
    {
     "name": "stdout",
     "output_type": "stream",
     "text": [
      "<class 'pandas.core.frame.DataFrame'>\n",
      "RangeIndex: 23699 entries, 0 to 23698\n",
      "Data columns (total 16 columns):\n",
      "last_price              23699 non-null float64\n",
      "total_area              23699 non-null float64\n",
      "first_day_exposition    23699 non-null object\n",
      "rooms                   23699 non-null int64\n",
      "ceiling_height          23699 non-null float64\n",
      "floors_total            23699 non-null float64\n",
      "living_area             23699 non-null float64\n",
      "floor                   23699 non-null int64\n",
      "is_apartment            2775 non-null object\n",
      "studio                  23699 non-null bool\n",
      "open_plan               23699 non-null bool\n",
      "kitchen_area            23699 non-null float64\n",
      "balcony                 12180 non-null float64\n",
      "locality_name           23650 non-null object\n",
      "cityCenters_nearest     18180 non-null float64\n",
      "days_exposition         20518 non-null float64\n",
      "dtypes: bool(2), float64(9), int64(2), object(3)\n",
      "memory usage: 2.6+ MB\n"
     ]
    }
   ],
   "source": [
    "df.info()"
   ]
  },
  {
   "cell_type": "code",
   "execution_count": 79,
   "metadata": {},
   "outputs": [
    {
     "data": {
      "text/plain": [
       "False    2725\n",
       "True       50\n",
       "Name: is_apartment, dtype: int64"
      ]
     },
     "execution_count": 79,
     "metadata": {},
     "output_type": "execute_result"
    }
   ],
   "source": [
    "#Посмотрим пропуски в признаке апартамент. \n",
    "df['is_apartment'].value_counts()"
   ]
  },
  {
   "cell_type": "code",
   "execution_count": 80,
   "metadata": {},
   "outputs": [],
   "source": [
    "#количество пропусков около 90%. Количество  апартаментов, указанных в датафрейме - 47 (или около 0,2%). \n",
    "#Качество данных недостаточно для изучения влияния признака 'апартаменты' на продажи.\n",
    "#Данный столбец удалим\n",
    "df.drop(['is_apartment'],axis='columns', inplace=True )"
   ]
  },
  {
   "cell_type": "code",
   "execution_count": 81,
   "metadata": {},
   "outputs": [
    {
     "data": {
      "text/plain": [
       "1.0    4195\n",
       "0.0    3758\n",
       "2.0    3659\n",
       "5.0     304\n",
       "4.0     183\n",
       "3.0      81\n",
       "Name: balcony, dtype: int64"
      ]
     },
     "execution_count": 81,
     "metadata": {},
     "output_type": "execute_result"
    }
   ],
   "source": [
    "#Посмотрим пропуски в признаке наличие балкона. \n",
    "df['balcony'].value_counts()"
   ]
  },
  {
   "cell_type": "code",
   "execution_count": 82,
   "metadata": {},
   "outputs": [
    {
     "name": "stdout",
     "output_type": "stream",
     "text": [
      "<class 'pandas.core.frame.DataFrame'>\n",
      "RangeIndex: 23699 entries, 0 to 23698\n",
      "Data columns (total 15 columns):\n",
      "last_price              23699 non-null float64\n",
      "total_area              23699 non-null float64\n",
      "first_day_exposition    23699 non-null object\n",
      "rooms                   23699 non-null int64\n",
      "ceiling_height          23699 non-null float64\n",
      "floors_total            23699 non-null float64\n",
      "living_area             23699 non-null float64\n",
      "floor                   23699 non-null int64\n",
      "studio                  23699 non-null bool\n",
      "open_plan               23699 non-null bool\n",
      "kitchen_area            23699 non-null float64\n",
      "balcony                 23699 non-null float64\n",
      "locality_name           23650 non-null object\n",
      "cityCenters_nearest     18180 non-null float64\n",
      "days_exposition         20518 non-null float64\n",
      "dtypes: bool(2), float64(9), int64(2), object(2)\n",
      "memory usage: 2.4+ MB\n"
     ]
    }
   ],
   "source": [
    "#В данном признаке логично предположить, что раз человек не указал кол-во балконов , то их скорее всего нет. \n",
    "#Заменим пропуски на ноль.\n",
    "df['balcony']=df['balcony'].fillna(0)\n",
    "df.info()"
   ]
  },
  {
   "cell_type": "code",
   "execution_count": 83,
   "metadata": {
    "scrolled": true
   },
   "outputs": [],
   "source": [
    "#Пропуски по признаку 'locality_name'. Данный признак категорийный, обозначим пропуски Undf\n",
    "df['locality_name']=df['locality_name'].fillna('Undf')"
   ]
  },
  {
   "cell_type": "code",
   "execution_count": 84,
   "metadata": {},
   "outputs": [],
   "source": [
    "#Глянем на значения  в столбце 'locality_name'\n",
    "df['locality_name'].unique()\n",
    "#в названиях встречаются слова поселок, деревня и т.д. Есть названия без обозначения нас.пункта.\n",
    "#Возможны дубликаты - когда нас.пункт имеет два и более названий.\n",
    "#Есть особенность в данных - на первый взгяд имена собственные начинаются с заглавной буквы.\n",
    "#вытащим имена собсвтенные 'locality_name' и передадим в столбец 'filtered_name'\n",
    "df['filtered_name']=df['locality_name'].str.extract('([A-zА-Я]+[-\\sА-Яёа-яA-z0-9]+)')"
   ]
  },
  {
   "cell_type": "code",
   "execution_count": 85,
   "metadata": {},
   "outputs": [
    {
     "data": {
      "text/plain": [
       "array(['Санкт-Петербург', 'Шушары', 'Янино-1', 'Парголово', 'Мурино',\n",
       "       'Ломоносов', 'Сертолово', 'Петергоф', 'Пушкин', 'Кудрово',\n",
       "       'Коммунар', 'Колпино', 'Красный Бор', 'Гатчина', 'Фёдоровское',\n",
       "       'Выборг', 'Кронштадт', 'Кировск', 'Новое Девяткино',\n",
       "       'Металлострой', 'Лебяжье', 'Сиверский', 'Молодцово',\n",
       "       'Кузьмоловский', 'Новая Ропша', 'Павловск', 'Пикколово',\n",
       "       'Всеволожск', 'Волхов', 'Кингисепп', 'Приозерск', 'Сестрорецк',\n",
       "       'Куттузи', 'Аннино', 'Ефимовский', 'Плодовое', 'Заклинье',\n",
       "       'Торковичи', 'Первомайское', 'Красное Село', 'Понтонный',\n",
       "       'Сясьстрой', 'Старая', 'Лесколово', 'Новый Свет', 'Сланцы',\n",
       "       'Путилово', 'Ивангород', 'Шлиссельбург', 'Никольское',\n",
       "       'Зеленогорск', 'Сосновый Бор', 'Оржицы', 'Кальтино', 'Романовка',\n",
       "       'Бугры', 'Рощино', 'Кириши', 'Луга', 'Волосово', 'Отрадное',\n",
       "       'Павлово', 'Оредеж', 'Копорье', 'Молодёжное', 'Тихвин', 'Победа',\n",
       "       'Нурма', 'Синявино', 'Тосно', 'Стрельна', 'Бокситогорск',\n",
       "       'Александровская', 'Лопухинка', 'Пикалёво', 'Терволово',\n",
       "       'Советский', 'Подпорожье', 'Петровское', 'Токсово', 'Сельцо',\n",
       "       'Вырица', 'Кипень', 'Келози', 'Вартемяги', 'Тельмана',\n",
       "       'Севастьяново', 'Большая Ижора', 'Undf', 'Агалатово',\n",
       "       'Новогорелово', 'Лесогорский', 'Лаголово', 'Цвелодубово', 'Рахья',\n",
       "       'Белогорка', 'Заводской', 'Новоселье', 'Большие Колпаны',\n",
       "       'Горбунки', 'Батово', 'Заневка', 'Иссад', 'Приморск', 'Мистолово',\n",
       "       'Новая Ладога', 'Зимитицы', 'Барышево', 'Разметелево', 'Свердлова',\n",
       "       'Пеники', 'Рябово', 'Пудомяги', 'Корнево', 'Низино', 'Бегуницы',\n",
       "       'Поляны', 'Мга', 'Елизаветино', 'Кузнечное', 'Колтуши',\n",
       "       'Запорожское', 'Гостилицы', 'Малое Карлино', 'Мичуринское',\n",
       "       'Морозова', 'Песочный', 'Сосново', 'Аро', 'Ильичёво', 'Тайцы',\n",
       "       'Малое Верево', 'Извара', 'Вещево', 'Паша', 'Калитино',\n",
       "       'Ульяновка', 'Чудской Бор', 'Дубровка', 'Мины', 'Войсковицы',\n",
       "       'Коркино', 'Ропша', 'Приладожский', 'Щеглово', 'Гаврилово',\n",
       "       'Лодейное Поле', 'Рабитицы', 'Никольский', 'Кузьмолово',\n",
       "       'Малые Колпаны', 'Петро-Славянка', 'Назия', 'Репино', 'Углово',\n",
       "       'Старая Малукса', 'Меньково', 'Старые Бегуницы', 'Сапёрный',\n",
       "       'Семрино', 'Глажево', 'Кобринское', 'Гарболово', 'Юкки',\n",
       "       'Приветнинское', 'Мануйлово', 'Пчева', 'Цвылёво', 'Мельниково',\n",
       "       'Пудость', 'Усть-Луга', 'Светогорск', 'Любань', 'Селезнёво',\n",
       "       'Каменногорск', 'Кривко', 'Глебычево', 'Парицы', 'Жилпосёлок',\n",
       "       'Войскорово', 'Стеклянный', 'Важины', 'Мыза-Ивановка',\n",
       "       'Русско-Высоцкое', 'Форносово', 'Старая Ладога', 'Житково',\n",
       "       'Виллози', 'Лампово', 'Шпаньково', 'Лаврики', 'Сумино',\n",
       "       'Возрождение', 'Старосиверская', 'Кикерино', 'Старое Хинколово',\n",
       "       'Пригородный', 'Торфяное', 'Будогощь', 'Суходолье',\n",
       "       'Красная Долина', 'Хапо-Ое', 'Дружная Горка', 'Лисий Нос',\n",
       "       'Яльгелево', 'Рождествено', 'Старополье', 'Левашово', 'Сяськелево',\n",
       "       'Камышовка', 'Лесная Поляна', 'Хязельки', 'Жилгородок', 'Ялгино',\n",
       "       'Новый Учхоз', 'Гончарово', 'Почап', 'Сапёрное',\n",
       "       'Платформа 69-й километр', 'Каложицы', 'Фалилеево', 'Пельгора',\n",
       "       'Торошковичи', 'Белоостров', 'Алексеевка', 'Серебрянский',\n",
       "       'Лукаши', 'Тарасово', 'Кингисеппский', 'Ушаки', 'Котлы', 'Сижно',\n",
       "       'Торосово', 'Форт Красная Горка', 'Новолисино', 'Громово',\n",
       "       'Глинка', 'Старая Пустошь', 'Коммунары', 'Починок', 'Вознесенье',\n",
       "       'Разбегаево', 'Гладкое', 'Тёсово-4', 'Бор', 'Коробицыно',\n",
       "       'Большая Вруда', 'Курковицы', 'Кобралово', 'Суоранда',\n",
       "       'Кондратьево', 'Счастье', 'Реброво', 'Тойворово', 'Семиозерье',\n",
       "       'Лесное', 'Совхозный', 'Ленинское', 'Суйда', 'Нижние Осельки',\n",
       "       'Свирь', 'Перово', 'Высоцк', 'Шум', 'Котельский', 'Лужайка',\n",
       "       'Большая Пустомержа', 'Красносельское', 'Вахнова Кара', 'Пижма',\n",
       "       'Кивеннапа Север', 'Ромашки', 'Каськово', 'Куровицы', 'Плоское',\n",
       "       'Кирпичное', 'Ям-Тесово', 'Раздолье', 'Терпилицы', 'Шугозеро',\n",
       "       'Ваганово', 'Пушное', 'Садко', 'Усть-Ижора', 'Выскатка',\n",
       "       'Свирьстрой', 'Кисельня', 'Трубников Бор', 'Высокоключевой',\n",
       "       'Пансионат Зелёный Бор', 'Ненимяки', 'Снегирёвка', 'Рапполово',\n",
       "       'Пустынка', 'Большой Сабск', 'Русско', 'Лупполово',\n",
       "       'Большое Рейзино', 'Малая Романовка', 'Дружноселье', 'Пчевжа',\n",
       "       'Володарское', 'Нижняя', 'Тихковицы', 'Борисова Грива',\n",
       "       'Дзержинского'], dtype=object)"
      ]
     },
     "execution_count": 85,
     "metadata": {},
     "output_type": "execute_result"
    }
   ],
   "source": [
    "df['filtered_name'].unique()"
   ]
  },
  {
   "cell_type": "code",
   "execution_count": 86,
   "metadata": {},
   "outputs": [
    {
     "data": {
      "text/plain": [
       "0"
      ]
     },
     "execution_count": 86,
     "metadata": {},
     "output_type": "execute_result"
    }
   ],
   "source": [
    "#Проверим наш алгоритм. Если в стобце'filtered_name' нет пропусков - значит мы во всех названиях вытащили имена собственные.\n",
    "#Изучем на пропуски  есть пропуски 'filtered_name'\n",
    "df['filtered_name'].isnull().sum()\n",
    "#Все поселки теперь имеюь название состоящие только из собственного имени! "
   ]
  },
  {
   "cell_type": "code",
   "execution_count": 87,
   "metadata": {},
   "outputs": [],
   "source": [
    "#Обработаем пропуски в признаке 'cityCenters_nearest'\n",
    "#Переводим метры в км, округляем и меняем пропуски на -1\n",
    "df['cityCenters_nearest']=df['cityCenters_nearest']/1000\n",
    "df['cityCenters_nearest']=df['cityCenters_nearest'].apply(np.round)\n",
    "df['cityCenters_nearest']=df['cityCenters_nearest'].fillna(-1)"
   ]
  },
  {
   "cell_type": "code",
   "execution_count": 88,
   "metadata": {},
   "outputs": [],
   "source": [
    "#В датафрейме остались пропуски в 'days_exposition'.Скорее всего эти данные незаполнены из-за того что объекты не проданы.\n",
    "#Обозначим пропуски  -1\n",
    "df['days_exposition']=df['days_exposition'].fillna(-1)"
   ]
  },
  {
   "cell_type": "code",
   "execution_count": 89,
   "metadata": {},
   "outputs": [],
   "source": [
    "#Заменим тип данных float на int, в тех признаказ где десятые доли не имеют значения:\n",
    "#кол-во дней продажи,цена, кол-во этажей, кол-во балконов, расстояние от центра\n",
    "#чуствительные к долям признаки: площади и высоту потолкво в квартире оставим float\n",
    "df['days_exposition']=df['days_exposition'].astype(int)\n",
    "df['last_price']=df['last_price'].astype(int)\n",
    "df['floors_total']=df['floors_total'].astype(int)\n",
    "df['balcony']=df['balcony'].astype(int)\n",
    "df['cityCenters_nearest']=df['cityCenters_nearest'].astype(int)"
   ]
  },
  {
   "cell_type": "code",
   "execution_count": 90,
   "metadata": {},
   "outputs": [],
   "source": [
    "#Тип данных признака first_day_exposition преобразуем  в дату \n",
    "df['first_day_exposition'] = pd.to_datetime(df['first_day_exposition'], format='%Y-%m-%dT%H:%M:%S')"
   ]
  },
  {
   "cell_type": "code",
   "execution_count": 91,
   "metadata": {},
   "outputs": [
    {
     "name": "stdout",
     "output_type": "stream",
     "text": [
      "<class 'pandas.core.frame.DataFrame'>\n",
      "RangeIndex: 23699 entries, 0 to 23698\n",
      "Data columns (total 16 columns):\n",
      "last_price              23699 non-null int64\n",
      "total_area              23699 non-null float64\n",
      "first_day_exposition    23699 non-null datetime64[ns]\n",
      "rooms                   23699 non-null int64\n",
      "ceiling_height          23699 non-null float64\n",
      "floors_total            23699 non-null int64\n",
      "living_area             23699 non-null float64\n",
      "floor                   23699 non-null int64\n",
      "studio                  23699 non-null bool\n",
      "open_plan               23699 non-null bool\n",
      "kitchen_area            23699 non-null float64\n",
      "balcony                 23699 non-null int64\n",
      "locality_name           23699 non-null object\n",
      "cityCenters_nearest     23699 non-null int64\n",
      "days_exposition         23699 non-null int64\n",
      "filtered_name           23699 non-null object\n",
      "dtypes: bool(2), datetime64[ns](1), float64(4), int64(7), object(2)\n",
      "memory usage: 2.6+ MB\n"
     ]
    }
   ],
   "source": [
    "df.info()"
   ]
  },
  {
   "cell_type": "markdown",
   "metadata": {},
   "source": [
    "В предобработке данных не обнаружены полные дубликаты. Обработан категориальный признак 'locality_name' на дубликаты.\n",
    "\n",
    "Пропуски в признаках  'ceiling_height','total_count', 'living_count','kitchen_count' заменены на медианное и средние значения\n",
    "в зависимости от типа квартиры и дома. \n",
    "\n",
    "Признак 'cityCenters_nearest' переведен на км и округлен до целого значения. Пропуски обозначены -1\n",
    "\n",
    "Преобразованы данные признаков'days_exposition','last_price','floors_total','balcony','cityCenters_nearest' из float d int\n",
    "Оставышиеся признаки c типом float - имеют критическое значение, это  высота потолка и площади\n",
    "\n",
    "Тип данных признак 'first_day_exposition' переведен во временной тип"
   ]
  },
  {
   "cell_type": "markdown",
   "metadata": {},
   "source": [
    "###  Посчитайте и добавьте в таблицу"
   ]
  },
  {
   "cell_type": "code",
   "execution_count": 92,
   "metadata": {},
   "outputs": [],
   "source": [
    "#Добавим в столбец цену квадратного метра \n",
    "df['price_m2']=df['last_price']/df['total_area']\n"
   ]
  },
  {
   "cell_type": "code",
   "execution_count": 93,
   "metadata": {},
   "outputs": [],
   "source": [
    "#Добавим день, месяц и год размещения объявения \n",
    "df['weekday']=df['first_day_exposition'].dt.weekday\n",
    "df['month'] = pd.DatetimeIndex(df['first_day_exposition']).month\n",
    "df['year'] = pd.DatetimeIndex(df['first_day_exposition']).year"
   ]
  },
  {
   "cell_type": "code",
   "execution_count": 94,
   "metadata": {},
   "outputs": [],
   "source": [
    "#Добавим столбец с тремя категориями этажей: первый, последний , другой\n",
    "def fill_floor(row):\n",
    "        \"\"\"\n",
    "        Возвращает категорию  этажа квартиры \n",
    "        если текущий этаж равен этажности здания , то возвращает \"последний\"\n",
    "        если текущий этаж равен 1 , то возвращает \"первый\"\n",
    "        в остальных случаях возвращает \"другой\"\n",
    "        \"\"\"\n",
    "        floors_total = row['floors_total']\n",
    "        floor = row['floor']\n",
    "        if floor == 1 :return \"первый\" \n",
    "        if floor == floors_total and floors_total!=1  :return \"последний\"\n",
    "        return 'другой'\n",
    "\n",
    "      \n",
    "df['floor_group']= df.apply(fill_floor,axis=1)"
   ]
  },
  {
   "cell_type": "code",
   "execution_count": 95,
   "metadata": {},
   "outputs": [],
   "source": [
    "#Добавим соотношение площадей\n",
    "df['living_to_total']=df['living_area']/df['total_area']\n",
    "df['kitchen_to_total']=df['kitchen_area']/df['total_area']"
   ]
  },
  {
   "cell_type": "code",
   "execution_count": 96,
   "metadata": {},
   "outputs": [
    {
     "data": {
      "text/html": [
       "<div>\n",
       "<style scoped>\n",
       "    .dataframe tbody tr th:only-of-type {\n",
       "        vertical-align: middle;\n",
       "    }\n",
       "\n",
       "    .dataframe tbody tr th {\n",
       "        vertical-align: top;\n",
       "    }\n",
       "\n",
       "    .dataframe thead th {\n",
       "        text-align: right;\n",
       "    }\n",
       "</style>\n",
       "<table border=\"1\" class=\"dataframe\">\n",
       "  <thead>\n",
       "    <tr style=\"text-align: right;\">\n",
       "      <th></th>\n",
       "      <th>last_price</th>\n",
       "      <th>total_area</th>\n",
       "      <th>first_day_exposition</th>\n",
       "      <th>rooms</th>\n",
       "      <th>ceiling_height</th>\n",
       "      <th>floors_total</th>\n",
       "      <th>living_area</th>\n",
       "      <th>floor</th>\n",
       "      <th>studio</th>\n",
       "      <th>open_plan</th>\n",
       "      <th>...</th>\n",
       "      <th>cityCenters_nearest</th>\n",
       "      <th>days_exposition</th>\n",
       "      <th>filtered_name</th>\n",
       "      <th>price_m2</th>\n",
       "      <th>weekday</th>\n",
       "      <th>month</th>\n",
       "      <th>year</th>\n",
       "      <th>floor_group</th>\n",
       "      <th>living_to_total</th>\n",
       "      <th>kitchen_to_total</th>\n",
       "    </tr>\n",
       "  </thead>\n",
       "  <tbody>\n",
       "    <tr>\n",
       "      <td>0</td>\n",
       "      <td>13000000</td>\n",
       "      <td>108.0</td>\n",
       "      <td>2019-03-07</td>\n",
       "      <td>3</td>\n",
       "      <td>2.700000</td>\n",
       "      <td>16</td>\n",
       "      <td>51.000000</td>\n",
       "      <td>8</td>\n",
       "      <td>False</td>\n",
       "      <td>False</td>\n",
       "      <td>...</td>\n",
       "      <td>16</td>\n",
       "      <td>-1</td>\n",
       "      <td>Санкт-Петербург</td>\n",
       "      <td>120370.370370</td>\n",
       "      <td>3</td>\n",
       "      <td>3</td>\n",
       "      <td>2019</td>\n",
       "      <td>другой</td>\n",
       "      <td>0.472222</td>\n",
       "      <td>0.231481</td>\n",
       "    </tr>\n",
       "    <tr>\n",
       "      <td>1</td>\n",
       "      <td>3350000</td>\n",
       "      <td>40.4</td>\n",
       "      <td>2018-12-04</td>\n",
       "      <td>1</td>\n",
       "      <td>1.130377</td>\n",
       "      <td>11</td>\n",
       "      <td>18.600000</td>\n",
       "      <td>1</td>\n",
       "      <td>False</td>\n",
       "      <td>False</td>\n",
       "      <td>...</td>\n",
       "      <td>19</td>\n",
       "      <td>81</td>\n",
       "      <td>Шушары</td>\n",
       "      <td>82920.792079</td>\n",
       "      <td>1</td>\n",
       "      <td>12</td>\n",
       "      <td>2018</td>\n",
       "      <td>первый</td>\n",
       "      <td>0.460396</td>\n",
       "      <td>0.272277</td>\n",
       "    </tr>\n",
       "    <tr>\n",
       "      <td>2</td>\n",
       "      <td>5196000</td>\n",
       "      <td>56.0</td>\n",
       "      <td>2015-08-20</td>\n",
       "      <td>2</td>\n",
       "      <td>1.294587</td>\n",
       "      <td>5</td>\n",
       "      <td>34.300000</td>\n",
       "      <td>4</td>\n",
       "      <td>False</td>\n",
       "      <td>False</td>\n",
       "      <td>...</td>\n",
       "      <td>14</td>\n",
       "      <td>558</td>\n",
       "      <td>Санкт-Петербург</td>\n",
       "      <td>92785.714286</td>\n",
       "      <td>3</td>\n",
       "      <td>8</td>\n",
       "      <td>2015</td>\n",
       "      <td>другой</td>\n",
       "      <td>0.612500</td>\n",
       "      <td>0.148214</td>\n",
       "    </tr>\n",
       "    <tr>\n",
       "      <td>3</td>\n",
       "      <td>64900000</td>\n",
       "      <td>159.0</td>\n",
       "      <td>2015-07-24</td>\n",
       "      <td>3</td>\n",
       "      <td>1.459819</td>\n",
       "      <td>14</td>\n",
       "      <td>43.659389</td>\n",
       "      <td>9</td>\n",
       "      <td>False</td>\n",
       "      <td>False</td>\n",
       "      <td>...</td>\n",
       "      <td>7</td>\n",
       "      <td>424</td>\n",
       "      <td>Санкт-Петербург</td>\n",
       "      <td>408176.100629</td>\n",
       "      <td>4</td>\n",
       "      <td>7</td>\n",
       "      <td>2015</td>\n",
       "      <td>другой</td>\n",
       "      <td>0.274587</td>\n",
       "      <td>0.065345</td>\n",
       "    </tr>\n",
       "    <tr>\n",
       "      <td>4</td>\n",
       "      <td>10000000</td>\n",
       "      <td>100.0</td>\n",
       "      <td>2018-06-19</td>\n",
       "      <td>2</td>\n",
       "      <td>3.030000</td>\n",
       "      <td>14</td>\n",
       "      <td>32.000000</td>\n",
       "      <td>13</td>\n",
       "      <td>False</td>\n",
       "      <td>False</td>\n",
       "      <td>...</td>\n",
       "      <td>8</td>\n",
       "      <td>121</td>\n",
       "      <td>Санкт-Петербург</td>\n",
       "      <td>100000.000000</td>\n",
       "      <td>1</td>\n",
       "      <td>6</td>\n",
       "      <td>2018</td>\n",
       "      <td>другой</td>\n",
       "      <td>0.320000</td>\n",
       "      <td>0.410000</td>\n",
       "    </tr>\n",
       "  </tbody>\n",
       "</table>\n",
       "<p>5 rows × 23 columns</p>\n",
       "</div>"
      ],
      "text/plain": [
       "   last_price  total_area first_day_exposition  rooms  ceiling_height  \\\n",
       "0    13000000       108.0           2019-03-07      3        2.700000   \n",
       "1     3350000        40.4           2018-12-04      1        1.130377   \n",
       "2     5196000        56.0           2015-08-20      2        1.294587   \n",
       "3    64900000       159.0           2015-07-24      3        1.459819   \n",
       "4    10000000       100.0           2018-06-19      2        3.030000   \n",
       "\n",
       "   floors_total  living_area  floor  studio  open_plan  ...  \\\n",
       "0            16    51.000000      8   False      False  ...   \n",
       "1            11    18.600000      1   False      False  ...   \n",
       "2             5    34.300000      4   False      False  ...   \n",
       "3            14    43.659389      9   False      False  ...   \n",
       "4            14    32.000000     13   False      False  ...   \n",
       "\n",
       "   cityCenters_nearest  days_exposition    filtered_name       price_m2  \\\n",
       "0                   16               -1  Санкт-Петербург  120370.370370   \n",
       "1                   19               81           Шушары   82920.792079   \n",
       "2                   14              558  Санкт-Петербург   92785.714286   \n",
       "3                    7              424  Санкт-Петербург  408176.100629   \n",
       "4                    8              121  Санкт-Петербург  100000.000000   \n",
       "\n",
       "   weekday month  year  floor_group  living_to_total  kitchen_to_total  \n",
       "0        3     3  2019       другой         0.472222          0.231481  \n",
       "1        1    12  2018       первый         0.460396          0.272277  \n",
       "2        3     8  2015       другой         0.612500          0.148214  \n",
       "3        4     7  2015       другой         0.274587          0.065345  \n",
       "4        1     6  2018       другой         0.320000          0.410000  \n",
       "\n",
       "[5 rows x 23 columns]"
      ]
     },
     "execution_count": 96,
     "metadata": {},
     "output_type": "execute_result"
    }
   ],
   "source": [
    "df.head()"
   ]
  },
  {
   "cell_type": "markdown",
   "metadata": {},
   "source": [
    "###  Проведите исследовательский анализ данных и выполните инструкции:"
   ]
  },
  {
   "cell_type": "markdown",
   "metadata": {},
   "source": [
    "### Анализ признаков: площадь, цена,число комнат, высота потолков"
   ]
  },
  {
   "cell_type": "code",
   "execution_count": 97,
   "metadata": {},
   "outputs": [
    {
     "data": {
      "text/html": [
       "<div>\n",
       "<style scoped>\n",
       "    .dataframe tbody tr th:only-of-type {\n",
       "        vertical-align: middle;\n",
       "    }\n",
       "\n",
       "    .dataframe tbody tr th {\n",
       "        vertical-align: top;\n",
       "    }\n",
       "\n",
       "    .dataframe thead th {\n",
       "        text-align: right;\n",
       "    }\n",
       "</style>\n",
       "<table border=\"1\" class=\"dataframe\">\n",
       "  <thead>\n",
       "    <tr style=\"text-align: right;\">\n",
       "      <th></th>\n",
       "      <th>total_area</th>\n",
       "      <th>living_area</th>\n",
       "      <th>kitchen_area</th>\n",
       "      <th>rooms</th>\n",
       "      <th>ceiling_height</th>\n",
       "      <th>last_price_mln</th>\n",
       "    </tr>\n",
       "  </thead>\n",
       "  <tbody>\n",
       "    <tr>\n",
       "      <td>count</td>\n",
       "      <td>23699.000000</td>\n",
       "      <td>23699.000000</td>\n",
       "      <td>23699.000000</td>\n",
       "      <td>23699.000000</td>\n",
       "      <td>23699.000000</td>\n",
       "      <td>23699.000000</td>\n",
       "    </tr>\n",
       "    <tr>\n",
       "      <td>mean</td>\n",
       "      <td>60.348651</td>\n",
       "      <td>34.056275</td>\n",
       "      <td>10.387108</td>\n",
       "      <td>2.070636</td>\n",
       "      <td>2.195952</td>\n",
       "      <td>6.541549</td>\n",
       "    </tr>\n",
       "    <tr>\n",
       "      <td>std</td>\n",
       "      <td>35.654083</td>\n",
       "      <td>21.874952</td>\n",
       "      <td>5.723849</td>\n",
       "      <td>1.078405</td>\n",
       "      <td>1.228446</td>\n",
       "      <td>10.887013</td>\n",
       "    </tr>\n",
       "    <tr>\n",
       "      <td>min</td>\n",
       "      <td>12.000000</td>\n",
       "      <td>0.000000</td>\n",
       "      <td>0.000000</td>\n",
       "      <td>0.000000</td>\n",
       "      <td>-1.000000</td>\n",
       "      <td>0.012190</td>\n",
       "    </tr>\n",
       "    <tr>\n",
       "      <td>25%</td>\n",
       "      <td>40.000000</td>\n",
       "      <td>18.300000</td>\n",
       "      <td>7.200000</td>\n",
       "      <td>1.000000</td>\n",
       "      <td>1.294587</td>\n",
       "      <td>3.400000</td>\n",
       "    </tr>\n",
       "    <tr>\n",
       "      <td>50%</td>\n",
       "      <td>52.000000</td>\n",
       "      <td>30.000000</td>\n",
       "      <td>9.075220</td>\n",
       "      <td>2.000000</td>\n",
       "      <td>2.500000</td>\n",
       "      <td>4.650000</td>\n",
       "    </tr>\n",
       "    <tr>\n",
       "      <td>75%</td>\n",
       "      <td>69.900000</td>\n",
       "      <td>42.700000</td>\n",
       "      <td>11.600000</td>\n",
       "      <td>3.000000</td>\n",
       "      <td>2.700000</td>\n",
       "      <td>6.800000</td>\n",
       "    </tr>\n",
       "    <tr>\n",
       "      <td>max</td>\n",
       "      <td>900.000000</td>\n",
       "      <td>409.700000</td>\n",
       "      <td>112.000000</td>\n",
       "      <td>19.000000</td>\n",
       "      <td>100.000000</td>\n",
       "      <td>763.000000</td>\n",
       "    </tr>\n",
       "  </tbody>\n",
       "</table>\n",
       "</div>"
      ],
      "text/plain": [
       "         total_area   living_area  kitchen_area         rooms  ceiling_height  \\\n",
       "count  23699.000000  23699.000000  23699.000000  23699.000000    23699.000000   \n",
       "mean      60.348651     34.056275     10.387108      2.070636        2.195952   \n",
       "std       35.654083     21.874952      5.723849      1.078405        1.228446   \n",
       "min       12.000000      0.000000      0.000000      0.000000       -1.000000   \n",
       "25%       40.000000     18.300000      7.200000      1.000000        1.294587   \n",
       "50%       52.000000     30.000000      9.075220      2.000000        2.500000   \n",
       "75%       69.900000     42.700000     11.600000      3.000000        2.700000   \n",
       "max      900.000000    409.700000    112.000000     19.000000      100.000000   \n",
       "\n",
       "       last_price_mln  \n",
       "count    23699.000000  \n",
       "mean         6.541549  \n",
       "std         10.887013  \n",
       "min          0.012190  \n",
       "25%          3.400000  \n",
       "50%          4.650000  \n",
       "75%          6.800000  \n",
       "max        763.000000  "
      ]
     },
     "execution_count": 97,
     "metadata": {},
     "output_type": "execute_result"
    }
   ],
   "source": [
    "#Для наглядности выдели признаки в отдельный датафрейм. \n",
    "df_area=df.loc[:,['total_area','living_area','kitchen_area','rooms','ceiling_height']]\n",
    "#Добавим столбец с ценой переведенной в млн.(так же для удобства чтения) \n",
    "df_area['last_price_mln']=df['last_price']/1000000\n",
    "#почистим столбцы от значений пропусков.\n",
    "df_area.describe()"
   ]
  },
  {
   "cell_type": "code",
   "execution_count": 98,
   "metadata": {},
   "outputs": [
    {
     "data": {
      "text/plain": [
       "<matplotlib.axes._subplots.AxesSubplot at 0x7ff29dd1bbd0>"
      ]
     },
     "execution_count": 98,
     "metadata": {},
     "output_type": "execute_result"
    },
    {
     "data": {
      "image/png": "[encoded data removed]",
      "text/plain": [
       "<Figure size 432x288 with 1 Axes>"
      ]
     },
     "metadata": {
      "needs_background": "light"
     },
     "output_type": "display_data"
    }
   ],
   "source": [
    "#Построим гистограммы распределения для указанных велечин.\n",
    "df_area['total_area'].hist(bins=30, range=(0, 200))"
   ]
  },
  {
   "cell_type": "code",
   "execution_count": 99,
   "metadata": {},
   "outputs": [
    {
     "data": {
      "text/plain": [
       "<matplotlib.axes._subplots.AxesSubplot at 0x7ff2a729ff10>"
      ]
     },
     "execution_count": 99,
     "metadata": {},
     "output_type": "execute_result"
    },
    {
     "data": {
      "image/png": "[encoded data removed]",
      "text/plain": [
       "<Figure size 432x288 with 1 Axes>"
      ]
     },
     "metadata": {
      "needs_background": "light"
     },
     "output_type": "display_data"
    }
   ],
   "source": [
    "df['kitchen_area'].hist(bins=30, range=(0, 40))"
   ]
  },
  {
   "cell_type": "code",
   "execution_count": 100,
   "metadata": {},
   "outputs": [
    {
     "data": {
      "text/plain": [
       "<matplotlib.axes._subplots.AxesSubplot at 0x7ff29defa610>"
      ]
     },
     "execution_count": 100,
     "metadata": {},
     "output_type": "execute_result"
    },
    {
     "data": {
      "image/png": "[encoded data removed]",
      "text/plain": [
       "<Figure size 432x288 with 1 Axes>"
      ]
     },
     "metadata": {
      "needs_background": "light"
     },
     "output_type": "display_data"
    }
   ],
   "source": [
    "df_area['kitchen_area'].hist(bins=30, range=(0, 25))"
   ]
  },
  {
   "cell_type": "code",
   "execution_count": 101,
   "metadata": {},
   "outputs": [
    {
     "data": {
      "text/plain": [
       "<matplotlib.axes._subplots.AxesSubplot at 0x7ff29defa290>"
      ]
     },
     "execution_count": 101,
     "metadata": {},
     "output_type": "execute_result"
    },
    {
     "data": {
      "image/png": "[encoded data removed]",
      "text/plain": [
       "<Figure size 432x288 with 1 Axes>"
      ]
     },
     "metadata": {
      "needs_background": "light"
     },
     "output_type": "display_data"
    }
   ],
   "source": [
    "df_area['living_area'].hist(bins=30, range=(0, 200))"
   ]
  },
  {
   "cell_type": "code",
   "execution_count": 102,
   "metadata": {},
   "outputs": [
    {
     "data": {
      "text/plain": [
       "<matplotlib.axes._subplots.AxesSubplot at 0x7ff29d478390>"
      ]
     },
     "execution_count": 102,
     "metadata": {},
     "output_type": "execute_result"
    },
    {
     "data": {
      "image/png": "[encoded data removed]",
      "text/plain": [
       "<Figure size 432x288 with 1 Axes>"
      ]
     },
     "metadata": {
      "needs_background": "light"
     },
     "output_type": "display_data"
    }
   ],
   "source": [
    "df_area['rooms'].hist(bins=30, range=(0, 9))"
   ]
  },
  {
   "cell_type": "code",
   "execution_count": 103,
   "metadata": {},
   "outputs": [
    {
     "data": {
      "text/plain": [
       "<matplotlib.axes._subplots.AxesSubplot at 0x7ff29d932790>"
      ]
     },
     "execution_count": 103,
     "metadata": {},
     "output_type": "execute_result"
    },
    {
     "data": {
      "image/png": "[encoded data removed]",
      "text/plain": [
       "<Figure size 432x288 with 1 Axes>"
      ]
     },
     "metadata": {
      "needs_background": "light"
     },
     "output_type": "display_data"
    }
   ],
   "source": [
    "df_area['last_price_mln'].hist(bins=30, range=(0, 20))"
   ]
  },
  {
   "cell_type": "markdown",
   "metadata": {},
   "source": [
    "Средняя жилая площадь составляет 34 кв.м. Есть три характерных пика. \n",
    "Они соответсвуют квартирам с 1,2,3 комнатами соответсвенно. \n",
    "\n",
    "Средняя общая площадь 60 кв.м \n",
    "\n",
    "Средняя площадь кухни 5,7 кв.м Так же есть пики в районе 5,5 кв.м  и в районе 7 кв.м. Это говорит о большом наличии \"хрущевок\"\n",
    "\n",
    "Однушки - самый популярный сегмент рынка, немногим отстают двушки, далее трешки.\n",
    "Далее резко снижается популярность больших квартир\n",
    "\n",
    "Средняя цена квартиры 6.54 млн. руб. При этом более половины квартир дешевле 4.65.  "
   ]
  },
  {
   "cell_type": "markdown",
   "metadata": {},
   "source": [
    "<font color='blue'> \n",
    "### <u>КОММЕНТАРИЙ РЕВЬЮЕРА</u>\n",
    "</font>\n",
    "<font color='green'>\n",
    "понятно\n",
    "<br>\n",
    "</font>"
   ]
  },
  {
   "cell_type": "markdown",
   "metadata": {},
   "source": [
    "###  Время продажи квартиры\n"
   ]
  },
  {
   "cell_type": "code",
   "execution_count": 104,
   "metadata": {},
   "outputs": [
    {
     "name": "stdout",
     "output_type": "stream",
     "text": [
      "Длительность продажи в среднем составляет:180.9 дней\n",
      "Медианное значение составляет:95.0 дней\n"
     ]
    }
   ],
   "source": [
    "#Изучим время продажи квартиры. Избавимся от квартир, которые не проданы. \n",
    "days_exposition=df.query('days_exposition!=-1')\n",
    "#Посмотри на числовые характеристики\n",
    "print('Длительность продажи в среднем составляет:{:.1f} дней'.format(days_exposition['days_exposition'].mean()))\n",
    "print('Медианное значение составляет:{:.1f} дней'.format(days_exposition['days_exposition'].median()))"
   ]
  },
  {
   "cell_type": "code",
   "execution_count": 105,
   "metadata": {},
   "outputs": [
    {
     "data": {
      "text/plain": [
       "count    20518.000000\n",
       "mean       180.888634\n",
       "std        219.727988\n",
       "min          1.000000\n",
       "25%         45.000000\n",
       "50%         95.000000\n",
       "75%        232.000000\n",
       "max       1580.000000\n",
       "Name: days_exposition, dtype: float64"
      ]
     },
     "execution_count": 105,
     "metadata": {},
     "output_type": "execute_result"
    }
   ],
   "source": [
    "days_exposition['days_exposition'].describe()"
   ]
  },
  {
   "cell_type": "code",
   "execution_count": 106,
   "metadata": {},
   "outputs": [
    {
     "data": {
      "text/plain": [
       "<matplotlib.axes._subplots.AxesSubplot at 0x7ff29d834ad0>"
      ]
     },
     "execution_count": 106,
     "metadata": {},
     "output_type": "execute_result"
    },
    {
     "data": {
      "image/png": "[encoded data removed]",
      "text/plain": [
       "<Figure size 432x288 with 1 Axes>"
      ]
     },
     "metadata": {
      "needs_background": "light"
     },
     "output_type": "display_data"
    }
   ],
   "source": [
    "days_exposition['days_exposition'].hist(bins=30, range=(0, 800))"
   ]
  },
  {
   "cell_type": "markdown",
   "metadata": {},
   "source": [
    "Продажа в среднем длится 180 дней. При этом половина квартир продаются быстрее чем за 95 дней. \n",
    "Есть квартиры которые продаются одним днем, а есть те кто ждет более 4 лет.\n",
    "Проданными быстро можно считать квартиры, простоявшие в ожидании менее 45 дней. \n",
    "Долгопродающиеся квартиры ожидают своего покупателя в течении 232 дней и более. "
   ]
  },
  {
   "cell_type": "markdown",
   "metadata": {},
   "source": [
    "###  Редкие и выдающиеся значения\n"
   ]
  },
  {
   "cell_type": "code",
   "execution_count": 107,
   "metadata": {},
   "outputs": [
    {
     "data": {
      "text/plain": [
       "(0, 150)"
      ]
     },
     "execution_count": 107,
     "metadata": {},
     "output_type": "execute_result"
    },
    {
     "data": {
      "image/png": "[encoded data removed]",
      "text/plain": [
       "<Figure size 432x288 with 1 Axes>"
      ]
     },
     "metadata": {
      "needs_background": "light"
     },
     "output_type": "display_data"
    }
   ],
   "source": [
    "#Постороим диаграммы рассеивания для количественных признаков площади\n",
    "df.boxplot(column=['total_area', 'living_area','kitchen_area'])\n",
    "plt.ylim(0,150)"
   ]
  },
  {
   "cell_type": "code",
   "execution_count": 108,
   "metadata": {},
   "outputs": [
    {
     "data": {
      "text/plain": [
       "(0, 10)"
      ]
     },
     "execution_count": 108,
     "metadata": {},
     "output_type": "execute_result"
    },
    {
     "data": {
      "image/png": "[encoded data removed]",
      "text/plain": [
       "<Figure size 432x288 with 1 Axes>"
      ]
     },
     "metadata": {
      "needs_background": "light"
     },
     "output_type": "display_data"
    }
   ],
   "source": [
    "#Для высоты потолков \n",
    "df_area.boxplot(column=['ceiling_height'])\n",
    "plt.ylim(0,10)"
   ]
  },
  {
   "cell_type": "code",
   "execution_count": 109,
   "metadata": {},
   "outputs": [
    {
     "data": {
      "text/plain": [
       "<matplotlib.axes._subplots.AxesSubplot at 0x7ff29d6a9290>"
      ]
     },
     "execution_count": 109,
     "metadata": {},
     "output_type": "execute_result"
    },
    {
     "data": {
      "image/png": "[encoded data removed]",
      "text/plain": [
       "<Figure size 432x288 with 1 Axes>"
      ]
     },
     "metadata": {
      "needs_background": "light"
     },
     "output_type": "display_data"
    }
   ],
   "source": [
    "#кол-ва комнат\n",
    "df_area.boxplot(column=['rooms'])"
   ]
  },
  {
   "cell_type": "code",
   "execution_count": 110,
   "metadata": {},
   "outputs": [
    {
     "data": {
      "text/plain": [
       "(0, 15)"
      ]
     },
     "execution_count": 110,
     "metadata": {},
     "output_type": "execute_result"
    },
    {
     "data": {
      "image/png": "[encoded data removed]",
      "text/plain": [
       "<Figure size 432x288 with 1 Axes>"
      ]
     },
     "metadata": {
      "needs_background": "light"
     },
     "output_type": "display_data"
    }
   ],
   "source": [
    "#цены \n",
    "df_area.boxplot(column=['last_price_mln'])\n",
    "plt.ylim(0,15)"
   ]
  },
  {
   "cell_type": "code",
   "execution_count": 111,
   "metadata": {},
   "outputs": [],
   "source": [
    "#В датафрейме встречаются редкие и выдающиеся значения. \n",
    "#Cуществуют ошибки ввода, так например часто встречается высота потолка 27 метров (скорее всего высота 2,7 метра)\n",
    "#Но сущестуюют уникальные при этом реальные выдающиеся квартиры по своим параметрам.\n",
    "#Мы находили квартиры ценой в 763 млн рублей. Площадью 900 кв.м и т.д. \n",
    "#Такие объекты редки и продажа их это отдельная история, мало связанная с общими трендами рынка.\n",
    "#Тем неменее в целях проекта стоит задача изучить центр Санкт-Петербурга, а это скопление\n",
    "#уникальных квартир\n",
    "#Для изучения массового сегмента создадим датафрейм df_mass.\n",
    "\n",
    "df_mass = df \n"
   ]
  },
  {
   "cell_type": "code",
   "execution_count": 112,
   "metadata": {},
   "outputs": [],
   "source": [
    "new_list = ['total_area', 'rooms', 'last_price', 'ceiling_height']\n",
    "\n",
    "for column in new_list:\n",
    "    Q1 = df_mass[column].quantile(0.25)\n",
    "    Q3 = df_mass[column].quantile(0.75)\n",
    "    IQR = Q3 - Q1\n",
    "    tmp = df_mass[column]\n",
    "    df_mass = df_mass.query('(@Q1 - 1.5 * @IQR) <= @tmp <= (@Q3 + 1.5 * @IQR)')\n"
   ]
  },
  {
   "cell_type": "code",
   "execution_count": 113,
   "metadata": {},
   "outputs": [
    {
     "data": {
      "text/html": [
       "<div>\n",
       "<style scoped>\n",
       "    .dataframe tbody tr th:only-of-type {\n",
       "        vertical-align: middle;\n",
       "    }\n",
       "\n",
       "    .dataframe tbody tr th {\n",
       "        vertical-align: top;\n",
       "    }\n",
       "\n",
       "    .dataframe thead th {\n",
       "        text-align: right;\n",
       "    }\n",
       "</style>\n",
       "<table border=\"1\" class=\"dataframe\">\n",
       "  <thead>\n",
       "    <tr style=\"text-align: right;\">\n",
       "      <th></th>\n",
       "      <th>last_price</th>\n",
       "      <th>total_area</th>\n",
       "      <th>rooms</th>\n",
       "      <th>ceiling_height</th>\n",
       "      <th>floors_total</th>\n",
       "      <th>living_area</th>\n",
       "      <th>floor</th>\n",
       "      <th>kitchen_area</th>\n",
       "      <th>balcony</th>\n",
       "      <th>cityCenters_nearest</th>\n",
       "      <th>days_exposition</th>\n",
       "      <th>price_m2</th>\n",
       "      <th>weekday</th>\n",
       "      <th>month</th>\n",
       "      <th>year</th>\n",
       "      <th>living_to_total</th>\n",
       "      <th>kitchen_to_total</th>\n",
       "    </tr>\n",
       "  </thead>\n",
       "  <tbody>\n",
       "    <tr>\n",
       "      <td>count</td>\n",
       "      <td>2.108700e+04</td>\n",
       "      <td>21087.000000</td>\n",
       "      <td>21087.000000</td>\n",
       "      <td>21087.000000</td>\n",
       "      <td>21087.000000</td>\n",
       "      <td>21087.000000</td>\n",
       "      <td>21087.000000</td>\n",
       "      <td>21087.000000</td>\n",
       "      <td>21087.000000</td>\n",
       "      <td>21087.000000</td>\n",
       "      <td>21087.000000</td>\n",
       "      <td>21087.000000</td>\n",
       "      <td>21087.000000</td>\n",
       "      <td>21087.000000</td>\n",
       "      <td>21087.000000</td>\n",
       "      <td>21087.000000</td>\n",
       "      <td>21087.000000</td>\n",
       "    </tr>\n",
       "    <tr>\n",
       "      <td>mean</td>\n",
       "      <td>4.699561e+06</td>\n",
       "      <td>52.105543</td>\n",
       "      <td>1.899891</td>\n",
       "      <td>2.117191</td>\n",
       "      <td>10.728126</td>\n",
       "      <td>29.582454</td>\n",
       "      <td>5.885569</td>\n",
       "      <td>9.365405</td>\n",
       "      <td>0.587661</td>\n",
       "      <td>10.960639</td>\n",
       "      <td>150.293878</td>\n",
       "      <td>91340.195066</td>\n",
       "      <td>2.576706</td>\n",
       "      <td>6.394983</td>\n",
       "      <td>2017.389102</td>\n",
       "      <td>0.556478</td>\n",
       "      <td>0.189821</td>\n",
       "    </tr>\n",
       "    <tr>\n",
       "      <td>std</td>\n",
       "      <td>2.037188e+06</td>\n",
       "      <td>17.295414</td>\n",
       "      <td>0.885230</td>\n",
       "      <td>0.720847</td>\n",
       "      <td>6.658242</td>\n",
       "      <td>12.802185</td>\n",
       "      <td>4.908626</td>\n",
       "      <td>3.608349</td>\n",
       "      <td>0.930928</td>\n",
       "      <td>10.170265</td>\n",
       "      <td>203.344196</td>\n",
       "      <td>29059.507537</td>\n",
       "      <td>1.794789</td>\n",
       "      <td>3.489753</td>\n",
       "      <td>1.017545</td>\n",
       "      <td>0.119772</td>\n",
       "      <td>0.073020</td>\n",
       "    </tr>\n",
       "    <tr>\n",
       "      <td>min</td>\n",
       "      <td>1.219000e+04</td>\n",
       "      <td>12.000000</td>\n",
       "      <td>0.000000</td>\n",
       "      <td>0.708376</td>\n",
       "      <td>-1.000000</td>\n",
       "      <td>0.000000</td>\n",
       "      <td>1.000000</td>\n",
       "      <td>0.000000</td>\n",
       "      <td>0.000000</td>\n",
       "      <td>-1.000000</td>\n",
       "      <td>-1.000000</td>\n",
       "      <td>111.834862</td>\n",
       "      <td>0.000000</td>\n",
       "      <td>1.000000</td>\n",
       "      <td>2014.000000</td>\n",
       "      <td>0.000000</td>\n",
       "      <td>0.000000</td>\n",
       "    </tr>\n",
       "    <tr>\n",
       "      <td>25%</td>\n",
       "      <td>3.300000e+06</td>\n",
       "      <td>38.800000</td>\n",
       "      <td>1.000000</td>\n",
       "      <td>1.294587</td>\n",
       "      <td>5.000000</td>\n",
       "      <td>18.000000</td>\n",
       "      <td>2.000000</td>\n",
       "      <td>7.000000</td>\n",
       "      <td>0.000000</td>\n",
       "      <td>-1.000000</td>\n",
       "      <td>24.000000</td>\n",
       "      <td>74324.324324</td>\n",
       "      <td>1.000000</td>\n",
       "      <td>3.000000</td>\n",
       "      <td>2017.000000</td>\n",
       "      <td>0.485503</td>\n",
       "      <td>0.136957</td>\n",
       "    </tr>\n",
       "    <tr>\n",
       "      <td>50%</td>\n",
       "      <td>4.350000e+06</td>\n",
       "      <td>48.400000</td>\n",
       "      <td>2.000000</td>\n",
       "      <td>2.500000</td>\n",
       "      <td>9.000000</td>\n",
       "      <td>29.000000</td>\n",
       "      <td>4.000000</td>\n",
       "      <td>9.000000</td>\n",
       "      <td>0.000000</td>\n",
       "      <td>12.000000</td>\n",
       "      <td>70.000000</td>\n",
       "      <td>92187.500000</td>\n",
       "      <td>3.000000</td>\n",
       "      <td>6.000000</td>\n",
       "      <td>2017.000000</td>\n",
       "      <td>0.562500</td>\n",
       "      <td>0.177419</td>\n",
       "    </tr>\n",
       "    <tr>\n",
       "      <td>75%</td>\n",
       "      <td>5.850000e+06</td>\n",
       "      <td>62.300000</td>\n",
       "      <td>3.000000</td>\n",
       "      <td>2.650000</td>\n",
       "      <td>16.000000</td>\n",
       "      <td>38.700000</td>\n",
       "      <td>8.000000</td>\n",
       "      <td>10.800000</td>\n",
       "      <td>1.000000</td>\n",
       "      <td>16.000000</td>\n",
       "      <td>191.000000</td>\n",
       "      <td>108398.473282</td>\n",
       "      <td>4.000000</td>\n",
       "      <td>10.000000</td>\n",
       "      <td>2018.000000</td>\n",
       "      <td>0.634866</td>\n",
       "      <td>0.234908</td>\n",
       "    </tr>\n",
       "    <tr>\n",
       "      <td>max</td>\n",
       "      <td>1.070000e+07</td>\n",
       "      <td>114.500000</td>\n",
       "      <td>6.000000</td>\n",
       "      <td>4.500000</td>\n",
       "      <td>60.000000</td>\n",
       "      <td>93.600000</td>\n",
       "      <td>33.000000</td>\n",
       "      <td>50.000000</td>\n",
       "      <td>5.000000</td>\n",
       "      <td>66.000000</td>\n",
       "      <td>1580.000000</td>\n",
       "      <td>312240.000000</td>\n",
       "      <td>6.000000</td>\n",
       "      <td>12.000000</td>\n",
       "      <td>2019.000000</td>\n",
       "      <td>1.470011</td>\n",
       "      <td>0.787879</td>\n",
       "    </tr>\n",
       "  </tbody>\n",
       "</table>\n",
       "</div>"
      ],
      "text/plain": [
       "         last_price    total_area         rooms  ceiling_height  floors_total  \\\n",
       "count  2.108700e+04  21087.000000  21087.000000    21087.000000  21087.000000   \n",
       "mean   4.699561e+06     52.105543      1.899891        2.117191     10.728126   \n",
       "std    2.037188e+06     17.295414      0.885230        0.720847      6.658242   \n",
       "min    1.219000e+04     12.000000      0.000000        0.708376     -1.000000   \n",
       "25%    3.300000e+06     38.800000      1.000000        1.294587      5.000000   \n",
       "50%    4.350000e+06     48.400000      2.000000        2.500000      9.000000   \n",
       "75%    5.850000e+06     62.300000      3.000000        2.650000     16.000000   \n",
       "max    1.070000e+07    114.500000      6.000000        4.500000     60.000000   \n",
       "\n",
       "        living_area         floor  kitchen_area       balcony  \\\n",
       "count  21087.000000  21087.000000  21087.000000  21087.000000   \n",
       "mean      29.582454      5.885569      9.365405      0.587661   \n",
       "std       12.802185      4.908626      3.608349      0.930928   \n",
       "min        0.000000      1.000000      0.000000      0.000000   \n",
       "25%       18.000000      2.000000      7.000000      0.000000   \n",
       "50%       29.000000      4.000000      9.000000      0.000000   \n",
       "75%       38.700000      8.000000     10.800000      1.000000   \n",
       "max       93.600000     33.000000     50.000000      5.000000   \n",
       "\n",
       "       cityCenters_nearest  days_exposition       price_m2       weekday  \\\n",
       "count         21087.000000     21087.000000   21087.000000  21087.000000   \n",
       "mean             10.960639       150.293878   91340.195066      2.576706   \n",
       "std              10.170265       203.344196   29059.507537      1.794789   \n",
       "min              -1.000000        -1.000000     111.834862      0.000000   \n",
       "25%              -1.000000        24.000000   74324.324324      1.000000   \n",
       "50%              12.000000        70.000000   92187.500000      3.000000   \n",
       "75%              16.000000       191.000000  108398.473282      4.000000   \n",
       "max              66.000000      1580.000000  312240.000000      6.000000   \n",
       "\n",
       "              month          year  living_to_total  kitchen_to_total  \n",
       "count  21087.000000  21087.000000     21087.000000      21087.000000  \n",
       "mean       6.394983   2017.389102         0.556478          0.189821  \n",
       "std        3.489753      1.017545         0.119772          0.073020  \n",
       "min        1.000000   2014.000000         0.000000          0.000000  \n",
       "25%        3.000000   2017.000000         0.485503          0.136957  \n",
       "50%        6.000000   2017.000000         0.562500          0.177419  \n",
       "75%       10.000000   2018.000000         0.634866          0.234908  \n",
       "max       12.000000   2019.000000         1.470011          0.787879  "
      ]
     },
     "execution_count": 113,
     "metadata": {},
     "output_type": "execute_result"
    }
   ],
   "source": [
    "df_mass.describe()"
   ]
  },
  {
   "cell_type": "markdown",
   "metadata": {},
   "source": [
    "В результате \"чистки\" от выдающихся значений, мы сократили объем данных примерно на 11%. \n",
    "Не так много, но оставшиеся данные  помогут сделать более точные выводы. "
   ]
  },
  {
   "cell_type": "markdown",
   "metadata": {},
   "source": [
    "### Анализ факторов влияющих на цену\n"
   ]
  },
  {
   "cell_type": "code",
   "execution_count": 114,
   "metadata": {},
   "outputs": [
    {
     "name": "stdout",
     "output_type": "stream",
     "text": [
      "Коэф. корр-ции  цены с price_m2 равен: 0.617\n",
      "Коэф. корр-ции  цены с rooms равен: 0.428\n",
      "Коэф. корр-ции  цены с cityCenters_nearest равен: 0.150\n",
      "Коэф. корр-ции  цены с weekday равен: -0.013\n",
      "Коэф. корр-ции  цены с month равен: 0.001\n",
      "Коэф. корр-ции  цены с year равен: 0.009\n"
     ]
    }
   ],
   "source": [
    "#Просмотрим как различные признаки влияют на цену.Для этого возьмем df_mass \n",
    "corr=['price_m2', 'rooms','cityCenters_nearest','weekday','month','year']\n",
    "for corr in corr:\n",
    "    print('Коэф. корр-ции  цены с', corr,'равен: {:.3f}'.format(df_mass[corr].corr(df['last_price'])))\n"
   ]
  },
  {
   "cell_type": "code",
   "execution_count": 115,
   "metadata": {},
   "outputs": [
    {
     "data": {
      "text/plain": [
       "floor_group\n",
       "другой       95356.569956\n",
       "первый       78300.790845\n",
       "последний    82393.084923\n",
       "Name: price_m2, dtype: float64"
      ]
     },
     "execution_count": 115,
     "metadata": {},
     "output_type": "execute_result"
    }
   ],
   "source": [
    "#посмотрим как меняется цена квадратного метра в зависимости от этажа \n",
    "df_mass.groupby('floor_group')['price_m2'].mean()"
   ]
  },
  {
   "cell_type": "code",
   "execution_count": 116,
   "metadata": {},
   "outputs": [
    {
     "data": {
      "text/plain": [
       "Санкт-Петербург    15721\n",
       "Мурино               590\n",
       "Кудрово              472\n",
       "Шушары               440\n",
       "Всеволожск           398\n",
       "Пушкин               369\n",
       "Колпино              338\n",
       "Парголово            327\n",
       "Гатчина              307\n",
       "Выборг               237\n",
       "Name: filtered_name, dtype: int64"
      ]
     },
     "execution_count": 116,
     "metadata": {},
     "output_type": "execute_result"
    }
   ],
   "source": [
    "#Выберите 10 населённых пунктов с наибольшим числом объявлений. \n",
    "df['filtered_name'].value_counts().head(10)"
   ]
  },
  {
   "cell_type": "code",
   "execution_count": 117,
   "metadata": {
    "scrolled": true
   },
   "outputs": [
    {
     "data": {
      "text/plain": [
       "filtered_name\n",
       "Выборг              58141.909153\n",
       "Всеволожск          68654.473986\n",
       "Гатчина             68746.146763\n",
       "Колпино             75424.579098\n",
       "Шушары              78677.364217\n",
       "Мурино              86087.512050\n",
       "Парголово           90175.913458\n",
       "Кудрово             95324.930544\n",
       "Пушкин             103125.819291\n",
       "Санкт-Петербург    114849.008794\n",
       "Name: price_m2, dtype: float64"
      ]
     },
     "execution_count": 117,
     "metadata": {},
     "output_type": "execute_result"
    }
   ],
   "source": [
    "#Отфильтруем датафрейм по списку top10\n",
    "top10=['Санкт-Петербург','Мурино','Кудрово','Шушары','Всеволожск','Пушкин','Колпино','Парголово','Гатчина','Выборг']\n",
    "df_top10=df.query('filtered_name == @top10')\n",
    "#Посчтитаем среднее и отсортируем по возрастанию. \n",
    "df_top10.groupby('filtered_name')['price_m2'].mean().sort_values()"
   ]
  },
  {
   "cell_type": "markdown",
   "metadata": {},
   "source": [
    "Наиболее влиятельный признак - это цена квадратного метра. День, месяц и год размещения объявления \n",
    "не оказывают влияния. \n",
    "\n",
    "Есть разница в цене квадратного метра в зависимости от этажа. Менее всего ценят первый  и последний \n",
    "этажи. \n",
    "\n",
    "В топ 10 самых крупных по количеству продаж самая высокая среднаяя цена за кв.м у Санкт-Петербурга - 114 т.р ,\n",
    "самая низкая в Выборге - 58 т.р. "
   ]
  },
  {
   "cell_type": "markdown",
   "metadata": {},
   "source": [
    "### Анализ квартир в Санкт-Петербуге\n"
   ]
  },
  {
   "cell_type": "code",
   "execution_count": 118,
   "metadata": {},
   "outputs": [
    {
     "data": {
      "text/plain": [
       "<matplotlib.axes._subplots.AxesSubplot at 0x7ff29d783b90>"
      ]
     },
     "execution_count": 118,
     "metadata": {},
     "output_type": "execute_result"
    },
    {
     "data": {
      "image/png": "[encoded data removed]",
      "text/plain": [
       "<Figure size 1080x360 with 1 Axes>"
      ]
     },
     "metadata": {
      "needs_background": "light"
     },
     "output_type": "display_data"
    }
   ],
   "source": [
    "#Определим радиус центра г.Санкт-Петербурга по цене за м2\n",
    "#Предположим что в центре цена высокая и снижается к его границе, за которой  изменение цены идет более гладко.\n",
    "#отфильтруем дата фрейм по городу и уберем значения с пропусками растояния до центра. \n",
    "df_SPB=df.query('filtered_name==\"Санкт-Петербург\" and cityCenters_nearest!=-1')\n",
    "price_mean_area=df_SPB.groupby('cityCenters_nearest')['price_m2'].mean()\n",
    "price_mean_area.plot(figsize=(15, 5),xlim=(0, 15))"
   ]
  },
  {
   "cell_type": "markdown",
   "metadata": {},
   "source": [
    "По графику видно, что средняя цена максимальна в 0 и резко снижается к 3 км, далее с небольшим колебанием плавно снижается. \n",
    "Отсюда делаем выво, что радиус центра - 3 км. "
   ]
  },
  {
   "cell_type": "markdown",
   "metadata": {},
   "source": [
    "###  Анализ квартир в центре Санкт-Петербурга\n"
   ]
  },
  {
   "cell_type": "code",
   "execution_count": 119,
   "metadata": {
    "scrolled": true
   },
   "outputs": [
    {
     "data": {
      "text/html": [
       "<div>\n",
       "<style scoped>\n",
       "    .dataframe tbody tr th:only-of-type {\n",
       "        vertical-align: middle;\n",
       "    }\n",
       "\n",
       "    .dataframe tbody tr th {\n",
       "        vertical-align: top;\n",
       "    }\n",
       "\n",
       "    .dataframe thead th {\n",
       "        text-align: right;\n",
       "    }\n",
       "</style>\n",
       "<table border=\"1\" class=\"dataframe\">\n",
       "  <thead>\n",
       "    <tr style=\"text-align: right;\">\n",
       "      <th></th>\n",
       "      <th>last_price</th>\n",
       "      <th>total_area</th>\n",
       "      <th>rooms</th>\n",
       "      <th>ceiling_height</th>\n",
       "      <th>floors_total</th>\n",
       "      <th>living_area</th>\n",
       "      <th>floor</th>\n",
       "      <th>kitchen_area</th>\n",
       "      <th>balcony</th>\n",
       "      <th>cityCenters_nearest</th>\n",
       "      <th>days_exposition</th>\n",
       "      <th>price_m2</th>\n",
       "      <th>weekday</th>\n",
       "      <th>month</th>\n",
       "      <th>year</th>\n",
       "      <th>living_to_total</th>\n",
       "      <th>kitchen_to_total</th>\n",
       "    </tr>\n",
       "  </thead>\n",
       "  <tbody>\n",
       "    <tr>\n",
       "      <td>count</td>\n",
       "      <td>8.830000e+02</td>\n",
       "      <td>883.000000</td>\n",
       "      <td>883.000000</td>\n",
       "      <td>883.000000</td>\n",
       "      <td>883.000000</td>\n",
       "      <td>883.000000</td>\n",
       "      <td>883.000000</td>\n",
       "      <td>883.000000</td>\n",
       "      <td>883.000000</td>\n",
       "      <td>883.000000</td>\n",
       "      <td>883.000000</td>\n",
       "      <td>8.830000e+02</td>\n",
       "      <td>883.000000</td>\n",
       "      <td>883.000000</td>\n",
       "      <td>883.000000</td>\n",
       "      <td>883.000000</td>\n",
       "      <td>883.000000</td>\n",
       "    </tr>\n",
       "    <tr>\n",
       "      <td>mean</td>\n",
       "      <td>1.628459e+07</td>\n",
       "      <td>98.602401</td>\n",
       "      <td>3.109853</td>\n",
       "      <td>2.711863</td>\n",
       "      <td>4.980747</td>\n",
       "      <td>60.025262</td>\n",
       "      <td>3.150623</td>\n",
       "      <td>14.580684</td>\n",
       "      <td>0.115515</td>\n",
       "      <td>2.118913</td>\n",
       "      <td>204.980747</td>\n",
       "      <td>1.501102e+05</td>\n",
       "      <td>2.596829</td>\n",
       "      <td>6.420159</td>\n",
       "      <td>2017.139298</td>\n",
       "      <td>0.598780</td>\n",
       "      <td>0.164608</td>\n",
       "    </tr>\n",
       "    <tr>\n",
       "      <td>std</td>\n",
       "      <td>2.640215e+07</td>\n",
       "      <td>56.454467</td>\n",
       "      <td>1.483983</td>\n",
       "      <td>1.197574</td>\n",
       "      <td>1.247525</td>\n",
       "      <td>38.346912</td>\n",
       "      <td>1.501687</td>\n",
       "      <td>8.996330</td>\n",
       "      <td>0.415430</td>\n",
       "      <td>0.852178</td>\n",
       "      <td>267.006711</td>\n",
       "      <td>1.248717e+05</td>\n",
       "      <td>1.726961</td>\n",
       "      <td>3.551232</td>\n",
       "      <td>1.154635</td>\n",
       "      <td>0.116936</td>\n",
       "      <td>0.088963</td>\n",
       "    </tr>\n",
       "    <tr>\n",
       "      <td>min</td>\n",
       "      <td>2.100000e+06</td>\n",
       "      <td>12.000000</td>\n",
       "      <td>0.000000</td>\n",
       "      <td>0.708376</td>\n",
       "      <td>-1.000000</td>\n",
       "      <td>0.000000</td>\n",
       "      <td>1.000000</td>\n",
       "      <td>0.000000</td>\n",
       "      <td>0.000000</td>\n",
       "      <td>0.000000</td>\n",
       "      <td>-1.000000</td>\n",
       "      <td>2.891963e+04</td>\n",
       "      <td>0.000000</td>\n",
       "      <td>1.000000</td>\n",
       "      <td>2014.000000</td>\n",
       "      <td>0.000000</td>\n",
       "      <td>0.000000</td>\n",
       "    </tr>\n",
       "    <tr>\n",
       "      <td>25%</td>\n",
       "      <td>7.300000e+06</td>\n",
       "      <td>63.300000</td>\n",
       "      <td>2.000000</td>\n",
       "      <td>1.661517</td>\n",
       "      <td>4.000000</td>\n",
       "      <td>35.750000</td>\n",
       "      <td>2.000000</td>\n",
       "      <td>9.075220</td>\n",
       "      <td>0.000000</td>\n",
       "      <td>2.000000</td>\n",
       "      <td>18.000000</td>\n",
       "      <td>9.655084e+04</td>\n",
       "      <td>1.000000</td>\n",
       "      <td>3.000000</td>\n",
       "      <td>2017.000000</td>\n",
       "      <td>0.534282</td>\n",
       "      <td>0.110023</td>\n",
       "    </tr>\n",
       "    <tr>\n",
       "      <td>50%</td>\n",
       "      <td>9.800000e+06</td>\n",
       "      <td>85.000000</td>\n",
       "      <td>3.000000</td>\n",
       "      <td>3.000000</td>\n",
       "      <td>5.000000</td>\n",
       "      <td>50.000000</td>\n",
       "      <td>3.000000</td>\n",
       "      <td>11.600000</td>\n",
       "      <td>0.000000</td>\n",
       "      <td>2.000000</td>\n",
       "      <td>94.000000</td>\n",
       "      <td>1.172840e+05</td>\n",
       "      <td>3.000000</td>\n",
       "      <td>7.000000</td>\n",
       "      <td>2017.000000</td>\n",
       "      <td>0.610909</td>\n",
       "      <td>0.140402</td>\n",
       "    </tr>\n",
       "    <tr>\n",
       "      <td>75%</td>\n",
       "      <td>1.499500e+07</td>\n",
       "      <td>116.500000</td>\n",
       "      <td>4.000000</td>\n",
       "      <td>3.300000</td>\n",
       "      <td>6.000000</td>\n",
       "      <td>71.950000</td>\n",
       "      <td>4.000000</td>\n",
       "      <td>17.800000</td>\n",
       "      <td>0.000000</td>\n",
       "      <td>3.000000</td>\n",
       "      <td>284.000000</td>\n",
       "      <td>1.517824e+05</td>\n",
       "      <td>4.000000</td>\n",
       "      <td>10.000000</td>\n",
       "      <td>2018.000000</td>\n",
       "      <td>0.679646</td>\n",
       "      <td>0.191601</td>\n",
       "    </tr>\n",
       "    <tr>\n",
       "      <td>max</td>\n",
       "      <td>4.013000e+08</td>\n",
       "      <td>517.000000</td>\n",
       "      <td>14.000000</td>\n",
       "      <td>27.000000</td>\n",
       "      <td>12.000000</td>\n",
       "      <td>332.000000</td>\n",
       "      <td>10.000000</td>\n",
       "      <td>87.200000</td>\n",
       "      <td>4.000000</td>\n",
       "      <td>3.000000</td>\n",
       "      <td>1572.000000</td>\n",
       "      <td>1.736842e+06</td>\n",
       "      <td>6.000000</td>\n",
       "      <td>12.000000</td>\n",
       "      <td>2019.000000</td>\n",
       "      <td>0.885852</td>\n",
       "      <td>0.704724</td>\n",
       "    </tr>\n",
       "  </tbody>\n",
       "</table>\n",
       "</div>"
      ],
      "text/plain": [
       "         last_price  total_area       rooms  ceiling_height  floors_total  \\\n",
       "count  8.830000e+02  883.000000  883.000000      883.000000    883.000000   \n",
       "mean   1.628459e+07   98.602401    3.109853        2.711863      4.980747   \n",
       "std    2.640215e+07   56.454467    1.483983        1.197574      1.247525   \n",
       "min    2.100000e+06   12.000000    0.000000        0.708376     -1.000000   \n",
       "25%    7.300000e+06   63.300000    2.000000        1.661517      4.000000   \n",
       "50%    9.800000e+06   85.000000    3.000000        3.000000      5.000000   \n",
       "75%    1.499500e+07  116.500000    4.000000        3.300000      6.000000   \n",
       "max    4.013000e+08  517.000000   14.000000       27.000000     12.000000   \n",
       "\n",
       "       living_area       floor  kitchen_area     balcony  cityCenters_nearest  \\\n",
       "count   883.000000  883.000000    883.000000  883.000000           883.000000   \n",
       "mean     60.025262    3.150623     14.580684    0.115515             2.118913   \n",
       "std      38.346912    1.501687      8.996330    0.415430             0.852178   \n",
       "min       0.000000    1.000000      0.000000    0.000000             0.000000   \n",
       "25%      35.750000    2.000000      9.075220    0.000000             2.000000   \n",
       "50%      50.000000    3.000000     11.600000    0.000000             2.000000   \n",
       "75%      71.950000    4.000000     17.800000    0.000000             3.000000   \n",
       "max     332.000000   10.000000     87.200000    4.000000             3.000000   \n",
       "\n",
       "       days_exposition      price_m2     weekday       month         year  \\\n",
       "count       883.000000  8.830000e+02  883.000000  883.000000   883.000000   \n",
       "mean        204.980747  1.501102e+05    2.596829    6.420159  2017.139298   \n",
       "std         267.006711  1.248717e+05    1.726961    3.551232     1.154635   \n",
       "min          -1.000000  2.891963e+04    0.000000    1.000000  2014.000000   \n",
       "25%          18.000000  9.655084e+04    1.000000    3.000000  2017.000000   \n",
       "50%          94.000000  1.172840e+05    3.000000    7.000000  2017.000000   \n",
       "75%         284.000000  1.517824e+05    4.000000   10.000000  2018.000000   \n",
       "max        1572.000000  1.736842e+06    6.000000   12.000000  2019.000000   \n",
       "\n",
       "       living_to_total  kitchen_to_total  \n",
       "count       883.000000        883.000000  \n",
       "mean          0.598780          0.164608  \n",
       "std           0.116936          0.088963  \n",
       "min           0.000000          0.000000  \n",
       "25%           0.534282          0.110023  \n",
       "50%           0.610909          0.140402  \n",
       "75%           0.679646          0.191601  \n",
       "max           0.885852          0.704724  "
      ]
     },
     "execution_count": 119,
     "metadata": {},
     "output_type": "execute_result"
    }
   ],
   "source": [
    "#Отфилтруем  квартиры по расстоянию до 3 км от центра\n",
    "SPB_Centers=df.query('0<=cityCenters_nearest <= 3' )\n",
    "SPB_Centers.describe()"
   ]
  },
  {
   "cell_type": "code",
   "execution_count": 120,
   "metadata": {
    "scrolled": true
   },
   "outputs": [
    {
     "name": "stdout",
     "output_type": "stream",
     "text": [
      "Коэф. корр-ции  цены с price_m2 равен: 0.828\n",
      "Коэф. корр-ции  цены с rooms равен: 0.241\n",
      "Коэф. корр-ции  цены с cityCenters_nearest равен: -0.181\n",
      "Коэф. корр-ции  цены с days_exposition равен: 0.013\n"
     ]
    }
   ],
   "source": [
    "#Просмотрим как различные признаки влияют на цену.Для этого возьмем df_mass \n",
    "corr=['price_m2', 'rooms','cityCenters_nearest','days_exposition']\n",
    "for corr in corr:\n",
    "    print('Коэф. корр-ции  цены с', corr,'равен: {:.3f}'.format(SPB_Centers[corr].corr(df['last_price'])))\n"
   ]
  },
  {
   "cell_type": "code",
   "execution_count": 121,
   "metadata": {
    "scrolled": true
   },
   "outputs": [
    {
     "data": {
      "text/plain": [
       "floor_group\n",
       "другой       157887.268705\n",
       "первый       125904.597931\n",
       "последний    144743.431715\n",
       "Name: price_m2, dtype: float64"
      ]
     },
     "execution_count": 121,
     "metadata": {},
     "output_type": "execute_result"
    }
   ],
   "source": [
    "SPB_Centers.groupby('floor_group')['price_m2'].mean()"
   ]
  },
  {
   "cell_type": "markdown",
   "metadata": {},
   "source": [
    "Средняя цена в центре города 16 млн, что в 4 раза выше чем в целом по всем объявлениям.\n",
    "\n",
    "Средняя цена квадратного метра  150 т.р., против 91 т.р\n",
    "\n",
    "Средняя площадь 98 кв.м. против 52 кв. \n",
    "\n",
    "Кол-во комнат в среднем 3,1 против 1,89 \n",
    "\n",
    "Средняя высота потолков почти не отлечается от средней по городу \n",
    "\n",
    "Наибольшее влияние на цену квартиры имеет цена квадратного метра. \n",
    "\n",
    "В целом центр, как и положену любому центру крупного города, имеет более просторное  и дорогое \n",
    "жилье. \n"
   ]
  },
  {
   "cell_type": "markdown",
   "metadata": {},
   "source": [
    "### Общий вывод"
   ]
  },
  {
   "cell_type": "markdown",
   "metadata": {},
   "source": [
    "В результате работы проанализирован рынок жилья в Санкт-Петербурге и Ленинградской области. \n",
    "\n",
    "В целом регион состоит из типового жилья. Это однушки, двушки и трешки.\n",
    "\n",
    "Средняя квартирка стоит 4,7 млн руб. \n",
    "\n",
    "Средняя площадь 52 кв.м.\n",
    "\n",
    "Сильно выделяется  центр города. Самое просторное и дорогое жилье находится в радиусе 3 км от центра. "
   ]
  }
 ],
 "metadata": {
  "kernelspec": {
   "display_name": "Python 3",
   "language": "python",
   "name": "python3"
  },
  "language_info": {
   "codemirror_mode": {
    "name": "ipython",
    "version": 3
   },
   "file_extension": ".py",
   "mimetype": "text/x-python",
   "name": "python",
   "nbconvert_exporter": "python",
   "pygments_lexer": "ipython3",
   "version": "3.7.8"
  },
  "toc": {
   "base_numbering": 1,
   "nav_menu": {},
   "number_sections": true,
   "sideBar": true,
   "skip_h1_title": true,
   "title_cell": "Table of Contents",
   "title_sidebar": "Contents",
   "toc_cell": false,
   "toc_position": {},
   "toc_section_display": true,
   "toc_window_display": false
  }
 },
 "nbformat": 4,
 "nbformat_minor": 2
}
