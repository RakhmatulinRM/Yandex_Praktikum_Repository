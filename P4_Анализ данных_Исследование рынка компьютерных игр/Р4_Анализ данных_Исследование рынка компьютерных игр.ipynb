{
 "cells": [
  {
   "cell_type": "markdown",
   "metadata": {},
   "source": [
    "# Сборный Проект - 1"
   ]
  },
  {
   "cell_type": "markdown",
   "metadata": {},
   "source": [
    "### Шаг 1. Общая информация о данных"
   ]
  },
  {
   "cell_type": "code",
   "execution_count": 1,
   "metadata": {},
   "outputs": [],
   "source": [
    "#качаем библиотеки\n",
    "import pandas as pd\n",
    "import numpy as np\n",
    "import random\n",
    "import seaborn as sns\n",
    "import math\n",
    "from math import factorial\n",
    "from math import ceil\n",
    "import matplotlib.pyplot as plt\n",
    "from scipy import stats as st\n",
    "from scipy.stats import norm\n",
    "import math as mt\n",
    "random.seed(42)"
   ]
  },
  {
   "cell_type": "code",
   "execution_count": 2,
   "metadata": {},
   "outputs": [],
   "source": [
    "df=pd.read_csv(\"C:\\\\Python 3_8\\\\CSV\\dataset_project_4.csv\",index_col=0)"
   ]
  },
  {
   "cell_type": "code",
   "execution_count": 3,
   "metadata": {},
   "outputs": [
    {
     "name": "stdout",
     "output_type": "stream",
     "text": [
      "<class 'pandas.core.frame.DataFrame'>\n",
      "Int64Index: 16715 entries, 0 to 16714\n",
      "Data columns (total 11 columns):\n",
      " #   Column           Non-Null Count  Dtype  \n",
      "---  ------           --------------  -----  \n",
      " 0   Name             16713 non-null  object \n",
      " 1   Platform         16715 non-null  object \n",
      " 2   Year_of_Release  16446 non-null  float64\n",
      " 3   Genre            16713 non-null  object \n",
      " 4   NA_sales         16715 non-null  float64\n",
      " 5   EU_sales         16715 non-null  float64\n",
      " 6   JP_sales         16715 non-null  float64\n",
      " 7   Other_sales      16715 non-null  float64\n",
      " 8   Critic_Score     8137 non-null   float64\n",
      " 9   User_Score       10014 non-null  object \n",
      " 10  Rating           9949 non-null   object \n",
      "dtypes: float64(6), object(5)\n",
      "memory usage: 1.2+ MB\n"
     ]
    }
   ],
   "source": [
    "df.info()"
   ]
  },
  {
   "cell_type": "code",
   "execution_count": 4,
   "metadata": {},
   "outputs": [
    {
     "data": {
      "text/html": [
       "<div>\n",
       "<style scoped>\n",
       "    .dataframe tbody tr th:only-of-type {\n",
       "        vertical-align: middle;\n",
       "    }\n",
       "\n",
       "    .dataframe tbody tr th {\n",
       "        vertical-align: top;\n",
       "    }\n",
       "\n",
       "    .dataframe thead th {\n",
       "        text-align: right;\n",
       "    }\n",
       "</style>\n",
       "<table border=\"1\" class=\"dataframe\">\n",
       "  <thead>\n",
       "    <tr style=\"text-align: right;\">\n",
       "      <th></th>\n",
       "      <th>Name</th>\n",
       "      <th>Platform</th>\n",
       "      <th>Year_of_Release</th>\n",
       "      <th>Genre</th>\n",
       "      <th>NA_sales</th>\n",
       "      <th>EU_sales</th>\n",
       "      <th>JP_sales</th>\n",
       "      <th>Other_sales</th>\n",
       "      <th>Critic_Score</th>\n",
       "      <th>User_Score</th>\n",
       "      <th>Rating</th>\n",
       "    </tr>\n",
       "  </thead>\n",
       "  <tbody>\n",
       "    <tr>\n",
       "      <th>0</th>\n",
       "      <td>Wii Sports</td>\n",
       "      <td>Wii</td>\n",
       "      <td>2006.0</td>\n",
       "      <td>Sports</td>\n",
       "      <td>41.36</td>\n",
       "      <td>28.96</td>\n",
       "      <td>3.77</td>\n",
       "      <td>8.45</td>\n",
       "      <td>76.0</td>\n",
       "      <td>8</td>\n",
       "      <td>E</td>\n",
       "    </tr>\n",
       "    <tr>\n",
       "      <th>1</th>\n",
       "      <td>Super Mario Bros.</td>\n",
       "      <td>NES</td>\n",
       "      <td>1985.0</td>\n",
       "      <td>Platform</td>\n",
       "      <td>29.08</td>\n",
       "      <td>3.58</td>\n",
       "      <td>6.81</td>\n",
       "      <td>0.77</td>\n",
       "      <td>NaN</td>\n",
       "      <td>NaN</td>\n",
       "      <td>NaN</td>\n",
       "    </tr>\n",
       "    <tr>\n",
       "      <th>2</th>\n",
       "      <td>Mario Kart Wii</td>\n",
       "      <td>Wii</td>\n",
       "      <td>2008.0</td>\n",
       "      <td>Racing</td>\n",
       "      <td>15.68</td>\n",
       "      <td>12.76</td>\n",
       "      <td>3.79</td>\n",
       "      <td>3.29</td>\n",
       "      <td>82.0</td>\n",
       "      <td>8.3</td>\n",
       "      <td>E</td>\n",
       "    </tr>\n",
       "  </tbody>\n",
       "</table>\n",
       "</div>"
      ],
      "text/plain": [
       "                Name Platform  Year_of_Release     Genre  NA_sales  EU_sales  \\\n",
       "0         Wii Sports      Wii           2006.0    Sports     41.36     28.96   \n",
       "1  Super Mario Bros.      NES           1985.0  Platform     29.08      3.58   \n",
       "2     Mario Kart Wii      Wii           2008.0    Racing     15.68     12.76   \n",
       "\n",
       "   JP_sales  Other_sales  Critic_Score User_Score Rating  \n",
       "0      3.77         8.45          76.0          8      E  \n",
       "1      6.81         0.77           NaN        NaN    NaN  \n",
       "2      3.79         3.29          82.0        8.3      E  "
      ]
     },
     "execution_count": 4,
     "metadata": {},
     "output_type": "execute_result"
    }
   ],
   "source": [
    "df.head(3)"
   ]
  },
  {
   "cell_type": "markdown",
   "metadata": {},
   "source": [
    "### Шаг 2. Предобработка данных "
   ]
  },
  {
   "cell_type": "markdown",
   "metadata": {},
   "source": [
    "### 2.1 Замена типа данных"
   ]
  },
  {
   "cell_type": "code",
   "execution_count": 5,
   "metadata": {},
   "outputs": [],
   "source": [
    "#Приведем к нижнему регистру название столбцов\n",
    "new_names=df.columns.str.lower()\n",
    "df.set_axis(new_names,axis = 'columns', inplace = True)"
   ]
  },
  {
   "cell_type": "code",
   "execution_count": 6,
   "metadata": {},
   "outputs": [],
   "source": [
    "#округлим и переведем дату в int\n",
    "df['year_of_release']=df['year_of_release'].round().astype('Int64')"
   ]
  },
  {
   "cell_type": "code",
   "execution_count": 7,
   "metadata": {},
   "outputs": [],
   "source": [
    "#так как critic_score  является 100-бальной целочисленной системой , переведем столбец к целочисленному типу \n",
    "df['critic_score']=df['critic_score'].round().astype('Int64')"
   ]
  },
  {
   "cell_type": "code",
   "execution_count": 8,
   "metadata": {},
   "outputs": [],
   "source": [
    "#значение \"tbd\" в  означает в ожидании или должно быть сделано. По факту это пропуск. \n",
    "#Поэтому меняем \"tbd\" на NaN,  в дальнейшем к данному типу применим те же алгоритмы замены, что и к другим пропускам.\n",
    "df['user_score'] = df['user_score'].replace('tbd', np.NaN)"
   ]
  },
  {
   "cell_type": "code",
   "execution_count": 9,
   "metadata": {},
   "outputs": [],
   "source": [
    "#Т.к. user-score - количественный критерий  переведем тип данныз к  float\n",
    "df['user_score']=df['user_score'].astype('float')"
   ]
  },
  {
   "cell_type": "code",
   "execution_count": 10,
   "metadata": {},
   "outputs": [
    {
     "data": {
      "text/html": [
       "<div>\n",
       "<style scoped>\n",
       "    .dataframe tbody tr th:only-of-type {\n",
       "        vertical-align: middle;\n",
       "    }\n",
       "\n",
       "    .dataframe tbody tr th {\n",
       "        vertical-align: top;\n",
       "    }\n",
       "\n",
       "    .dataframe thead th {\n",
       "        text-align: right;\n",
       "    }\n",
       "</style>\n",
       "<table border=\"1\" class=\"dataframe\">\n",
       "  <thead>\n",
       "    <tr style=\"text-align: right;\">\n",
       "      <th></th>\n",
       "      <th>name</th>\n",
       "      <th>platform</th>\n",
       "      <th>year_of_release</th>\n",
       "      <th>genre</th>\n",
       "      <th>na_sales</th>\n",
       "      <th>eu_sales</th>\n",
       "      <th>jp_sales</th>\n",
       "      <th>other_sales</th>\n",
       "      <th>critic_score</th>\n",
       "      <th>user_score</th>\n",
       "      <th>rating</th>\n",
       "    </tr>\n",
       "  </thead>\n",
       "  <tbody>\n",
       "    <tr>\n",
       "      <th>0</th>\n",
       "      <td>Wii Sports</td>\n",
       "      <td>Wii</td>\n",
       "      <td>2006</td>\n",
       "      <td>Sports</td>\n",
       "      <td>41.36</td>\n",
       "      <td>28.96</td>\n",
       "      <td>3.77</td>\n",
       "      <td>8.45</td>\n",
       "      <td>76</td>\n",
       "      <td>8.0</td>\n",
       "      <td>E</td>\n",
       "    </tr>\n",
       "    <tr>\n",
       "      <th>1</th>\n",
       "      <td>Super Mario Bros.</td>\n",
       "      <td>NES</td>\n",
       "      <td>1985</td>\n",
       "      <td>Platform</td>\n",
       "      <td>29.08</td>\n",
       "      <td>3.58</td>\n",
       "      <td>6.81</td>\n",
       "      <td>0.77</td>\n",
       "      <td>&lt;NA&gt;</td>\n",
       "      <td>NaN</td>\n",
       "      <td>NaN</td>\n",
       "    </tr>\n",
       "    <tr>\n",
       "      <th>2</th>\n",
       "      <td>Mario Kart Wii</td>\n",
       "      <td>Wii</td>\n",
       "      <td>2008</td>\n",
       "      <td>Racing</td>\n",
       "      <td>15.68</td>\n",
       "      <td>12.76</td>\n",
       "      <td>3.79</td>\n",
       "      <td>3.29</td>\n",
       "      <td>82</td>\n",
       "      <td>8.3</td>\n",
       "      <td>E</td>\n",
       "    </tr>\n",
       "  </tbody>\n",
       "</table>\n",
       "</div>"
      ],
      "text/plain": [
       "                name platform  year_of_release     genre  na_sales  eu_sales  \\\n",
       "0         Wii Sports      Wii             2006    Sports     41.36     28.96   \n",
       "1  Super Mario Bros.      NES             1985  Platform     29.08      3.58   \n",
       "2     Mario Kart Wii      Wii             2008    Racing     15.68     12.76   \n",
       "\n",
       "   jp_sales  other_sales  critic_score  user_score rating  \n",
       "0      3.77         8.45            76         8.0      E  \n",
       "1      6.81         0.77          <NA>         NaN    NaN  \n",
       "2      3.79         3.29            82         8.3      E  "
      ]
     },
     "execution_count": 10,
     "metadata": {},
     "output_type": "execute_result"
    }
   ],
   "source": [
    "df.head(3)"
   ]
  },
  {
   "cell_type": "code",
   "execution_count": 11,
   "metadata": {},
   "outputs": [
    {
     "name": "stdout",
     "output_type": "stream",
     "text": [
      "<class 'pandas.core.frame.DataFrame'>\n",
      "Int64Index: 16715 entries, 0 to 16714\n",
      "Data columns (total 11 columns):\n",
      " #   Column           Non-Null Count  Dtype  \n",
      "---  ------           --------------  -----  \n",
      " 0   name             16713 non-null  object \n",
      " 1   platform         16715 non-null  object \n",
      " 2   year_of_release  16446 non-null  Int64  \n",
      " 3   genre            16713 non-null  object \n",
      " 4   na_sales         16715 non-null  float64\n",
      " 5   eu_sales         16715 non-null  float64\n",
      " 6   jp_sales         16715 non-null  float64\n",
      " 7   other_sales      16715 non-null  float64\n",
      " 8   critic_score     8137 non-null   Int64  \n",
      " 9   user_score       7590 non-null   float64\n",
      " 10  rating           9949 non-null   object \n",
      "dtypes: Int64(2), float64(5), object(4)\n",
      "memory usage: 1.3+ MB\n"
     ]
    }
   ],
   "source": [
    "df.info()"
   ]
  },
  {
   "cell_type": "code",
   "execution_count": 12,
   "metadata": {},
   "outputs": [
    {
     "data": {
      "text/plain": [
       "0"
      ]
     },
     "execution_count": 12,
     "metadata": {},
     "output_type": "execute_result"
    }
   ],
   "source": [
    "#Проверим наличие дубликатов\n",
    "df.duplicated().sum()"
   ]
  },
  {
   "cell_type": "markdown",
   "metadata": {},
   "source": [
    "### 2.2 Замена пропусков"
   ]
  },
  {
   "cell_type": "markdown",
   "metadata": {},
   "source": [
    "### 2.2.1 Замена пропусков в названии игр "
   ]
  },
  {
   "cell_type": "code",
   "execution_count": 13,
   "metadata": {},
   "outputs": [
    {
     "data": {
      "text/html": [
       "<div>\n",
       "<style scoped>\n",
       "    .dataframe tbody tr th:only-of-type {\n",
       "        vertical-align: middle;\n",
       "    }\n",
       "\n",
       "    .dataframe tbody tr th {\n",
       "        vertical-align: top;\n",
       "    }\n",
       "\n",
       "    .dataframe thead th {\n",
       "        text-align: right;\n",
       "    }\n",
       "</style>\n",
       "<table border=\"1\" class=\"dataframe\">\n",
       "  <thead>\n",
       "    <tr style=\"text-align: right;\">\n",
       "      <th></th>\n",
       "      <th>name</th>\n",
       "      <th>platform</th>\n",
       "      <th>year_of_release</th>\n",
       "      <th>genre</th>\n",
       "      <th>na_sales</th>\n",
       "      <th>eu_sales</th>\n",
       "      <th>jp_sales</th>\n",
       "      <th>other_sales</th>\n",
       "      <th>critic_score</th>\n",
       "      <th>user_score</th>\n",
       "      <th>rating</th>\n",
       "    </tr>\n",
       "  </thead>\n",
       "  <tbody>\n",
       "    <tr>\n",
       "      <th>659</th>\n",
       "      <td>NaN</td>\n",
       "      <td>GEN</td>\n",
       "      <td>1993</td>\n",
       "      <td>NaN</td>\n",
       "      <td>1.78</td>\n",
       "      <td>0.53</td>\n",
       "      <td>0.00</td>\n",
       "      <td>0.08</td>\n",
       "      <td>&lt;NA&gt;</td>\n",
       "      <td>NaN</td>\n",
       "      <td>NaN</td>\n",
       "    </tr>\n",
       "    <tr>\n",
       "      <th>14244</th>\n",
       "      <td>NaN</td>\n",
       "      <td>GEN</td>\n",
       "      <td>1993</td>\n",
       "      <td>NaN</td>\n",
       "      <td>0.00</td>\n",
       "      <td>0.00</td>\n",
       "      <td>0.03</td>\n",
       "      <td>0.00</td>\n",
       "      <td>&lt;NA&gt;</td>\n",
       "      <td>NaN</td>\n",
       "      <td>NaN</td>\n",
       "    </tr>\n",
       "  </tbody>\n",
       "</table>\n",
       "</div>"
      ],
      "text/plain": [
       "      name platform  year_of_release genre  na_sales  eu_sales  jp_sales  \\\n",
       "659    NaN      GEN             1993   NaN      1.78      0.53      0.00   \n",
       "14244  NaN      GEN             1993   NaN      0.00      0.00      0.03   \n",
       "\n",
       "       other_sales  critic_score  user_score rating  \n",
       "659           0.08          <NA>         NaN    NaN  \n",
       "14244         0.00          <NA>         NaN    NaN  "
      ]
     },
     "execution_count": 13,
     "metadata": {},
     "output_type": "execute_result"
    }
   ],
   "source": [
    "#пропуск в название игр \n",
    "df[df['name'].isnull()].head()"
   ]
  },
  {
   "cell_type": "code",
   "execution_count": 14,
   "metadata": {},
   "outputs": [],
   "source": [
    "#нам совершенно не важно как называется игра, придумаем названия сами. "
   ]
  },
  {
   "cell_type": "code",
   "execution_count": 15,
   "metadata": {},
   "outputs": [],
   "source": [
    "df.loc[659,'name']='Unnamed1'\n",
    "df.loc[14244,'name']='Unnamed2'"
   ]
  },
  {
   "cell_type": "markdown",
   "metadata": {},
   "source": [
    "### 2.2.2 Замена пропуска в дате релиза"
   ]
  },
  {
   "cell_type": "markdown",
   "metadata": {},
   "source": [
    "Если игра вышла на нескольких платформах, и на каких-то платформах  не указана дата, выхода то можно заменить пропуск медианной датой.\n",
    "Проведем замену  и оценим качество такого решения."
   ]
  },
  {
   "cell_type": "code",
   "execution_count": 16,
   "metadata": {},
   "outputs": [],
   "source": [
    "#сгруппируем данные по игре, посчитаем количество релизов, первый, последний  и мединанный год релиза \n",
    "data_release = df.groupby('name').agg({'year_of_release':('count', 'min','max', 'median')})\n",
    "#для наглядности переименуем столбцы\n",
    "data_release.columns=['count_release','first_year','last_year','median']\n",
    "#добавим столбец период релизов игры в годах, для этого вычтем из последнего года  первый год релиза. \n",
    "data_release['period_release']=data_release['last_year']-data_release['first_year']"
   ]
  },
  {
   "cell_type": "code",
   "execution_count": 17,
   "metadata": {},
   "outputs": [
    {
     "data": {
      "text/html": [
       "<div>\n",
       "<style scoped>\n",
       "    .dataframe tbody tr th:only-of-type {\n",
       "        vertical-align: middle;\n",
       "    }\n",
       "\n",
       "    .dataframe tbody tr th {\n",
       "        vertical-align: top;\n",
       "    }\n",
       "\n",
       "    .dataframe thead th {\n",
       "        text-align: right;\n",
       "    }\n",
       "</style>\n",
       "<table border=\"1\" class=\"dataframe\">\n",
       "  <thead>\n",
       "    <tr style=\"text-align: right;\">\n",
       "      <th></th>\n",
       "      <th>count_release</th>\n",
       "      <th>first_year</th>\n",
       "      <th>last_year</th>\n",
       "      <th>median</th>\n",
       "      <th>period_release</th>\n",
       "    </tr>\n",
       "    <tr>\n",
       "      <th>name</th>\n",
       "      <th></th>\n",
       "      <th></th>\n",
       "      <th></th>\n",
       "      <th></th>\n",
       "      <th></th>\n",
       "    </tr>\n",
       "  </thead>\n",
       "  <tbody>\n",
       "    <tr>\n",
       "      <th>Beyblade Burst</th>\n",
       "      <td>1</td>\n",
       "      <td>2016.0</td>\n",
       "      <td>2016.0</td>\n",
       "      <td>2016.0</td>\n",
       "      <td>0.0</td>\n",
       "    </tr>\n",
       "    <tr>\n",
       "      <th>Fire Emblem Fates</th>\n",
       "      <td>1</td>\n",
       "      <td>2015.0</td>\n",
       "      <td>2015.0</td>\n",
       "      <td>2015.0</td>\n",
       "      <td>0.0</td>\n",
       "    </tr>\n",
       "    <tr>\n",
       "      <th>Frozen: Olaf's Quest</th>\n",
       "      <td>2</td>\n",
       "      <td>2013.0</td>\n",
       "      <td>2013.0</td>\n",
       "      <td>2013.0</td>\n",
       "      <td>0.0</td>\n",
       "    </tr>\n",
       "  </tbody>\n",
       "</table>\n",
       "</div>"
      ],
      "text/plain": [
       "                       count_release  first_year  last_year  median  \\\n",
       "name                                                                  \n",
       " Beyblade Burst                    1      2016.0     2016.0  2016.0   \n",
       " Fire Emblem Fates                 1      2015.0     2015.0  2015.0   \n",
       " Frozen: Olaf's Quest              2      2013.0     2013.0  2013.0   \n",
       "\n",
       "                       period_release  \n",
       "name                                   \n",
       " Beyblade Burst                   0.0  \n",
       " Fire Emblem Fates                0.0  \n",
       " Frozen: Olaf's Quest             0.0  "
      ]
     },
     "execution_count": 17,
     "metadata": {},
     "output_type": "execute_result"
    }
   ],
   "source": [
    "data_release.head(3)"
   ]
  },
  {
   "cell_type": "code",
   "execution_count": 18,
   "metadata": {},
   "outputs": [
    {
     "data": {
      "text/plain": [
       "(0.0, 4.0)"
      ]
     },
     "execution_count": 18,
     "metadata": {},
     "output_type": "execute_result"
    },
    {
     "data": {
      "image/png": "[encoded data removed]",
      "text/plain": [
       "<Figure size 432x288 with 1 Axes>"
      ]
     },
     "metadata": {
      "needs_background": "light"
     },
     "output_type": "display_data"
    }
   ],
   "source": [
    "#Оценим качество такой замены, для этого посмотрим как срединные даты распределены по датасету.\n",
    "#для этого возьмем выборку игр с количеством релизов 2 и более\n",
    "release_out=data_release.query('count_release>1')\n",
    "sns.boxplot(data=release_out['period_release'], orient='h')    \n",
    "plt.xlim(0,4)"
   ]
  },
  {
   "cell_type": "markdown",
   "metadata": {},
   "source": [
    "По распределению видно, что 50 % игр выходят в один год на всех платформах. Еще около 50%  выходят в период 2 года. Медиана находится около нуля.\n",
    "В нормальное распределение попадает  сроки до 2 лет. \n",
    "\n",
    "Есть уникальные игры , которые перезапускаются многие годы, но их единицы. "
   ]
  },
  {
   "cell_type": "code",
   "execution_count": 19,
   "metadata": {},
   "outputs": [],
   "source": [
    "#создадим словарь . который присвоит каждой игре медианную дату выхода\n",
    "dict_years=df.groupby('name')['year_of_release'].median().round().to_dict()"
   ]
  },
  {
   "cell_type": "code",
   "execution_count": 20,
   "metadata": {},
   "outputs": [],
   "source": [
    "#напишем функцию, которая меняет пропуск на медианную дату\n",
    "df['year_of_release']=df['year_of_release'].fillna(-1)#заменим пропуски на -1\n",
    "def filler(row):\n",
    "    if row['year_of_release']==-1:\n",
    "          return  dict_years[row['name']]\n",
    "    return row['year_of_release']\n",
    "df['year_of_release'] = df.apply(filler, axis=1)"
   ]
  },
  {
   "cell_type": "code",
   "execution_count": 21,
   "metadata": {},
   "outputs": [
    {
     "name": "stdout",
     "output_type": "stream",
     "text": [
      "<class 'pandas.core.frame.DataFrame'>\n",
      "Int64Index: 16715 entries, 0 to 16714\n",
      "Data columns (total 11 columns):\n",
      " #   Column           Non-Null Count  Dtype  \n",
      "---  ------           --------------  -----  \n",
      " 0   name             16715 non-null  object \n",
      " 1   platform         16715 non-null  object \n",
      " 2   year_of_release  16569 non-null  float64\n",
      " 3   genre            16713 non-null  object \n",
      " 4   na_sales         16715 non-null  float64\n",
      " 5   eu_sales         16715 non-null  float64\n",
      " 6   jp_sales         16715 non-null  float64\n",
      " 7   other_sales      16715 non-null  float64\n",
      " 8   critic_score     8137 non-null   Int64  \n",
      " 9   user_score       7590 non-null   float64\n",
      " 10  rating           9949 non-null   object \n",
      "dtypes: Int64(1), float64(6), object(4)\n",
      "memory usage: 1.8+ MB\n"
     ]
    }
   ],
   "source": [
    "df.info()"
   ]
  },
  {
   "cell_type": "markdown",
   "metadata": {},
   "source": [
    "### 2.2.3 Замена пропусков в рейтингах"
   ]
  },
  {
   "cell_type": "markdown",
   "metadata": {},
   "source": [
    "### 2.2.3.1 Замена пропусков в данных рейтинга ESRB"
   ]
  },
  {
   "cell_type": "markdown",
   "metadata": {},
   "source": [
    "Проанализируем связь жанра игры с рейтингом ESRB. Возможно какие то жанры имеют уникальный  рейтинг например \"для взрослых\"\n",
    "\n",
    "«EC» («Early childhood») — «Для детей младшего возраста»\n",
    "\n",
    "«E» («Everyone») — «Для всех»\n",
    "\n",
    "«K-A» - «Для всех»\n",
    "\n",
    "«E10+» («Everyone 10 and older») — «Для всех от 10 лет и старше»\n",
    "\n",
    "«T» («Teen») — «Подросткам»\n",
    "\n",
    "«M» («Mature») — «Для взрослых»\n",
    "\n",
    "«AO» («Adults Only 18+») — «Только для взрослых»"
   ]
  },
  {
   "cell_type": "code",
   "execution_count": 22,
   "metadata": {
    "scrolled": false
   },
   "outputs": [
    {
     "data": {
      "text/html": [
       "<div>\n",
       "<style scoped>\n",
       "    .dataframe tbody tr th:only-of-type {\n",
       "        vertical-align: middle;\n",
       "    }\n",
       "\n",
       "    .dataframe tbody tr th {\n",
       "        vertical-align: top;\n",
       "    }\n",
       "\n",
       "    .dataframe thead th {\n",
       "        text-align: right;\n",
       "    }\n",
       "</style>\n",
       "<table border=\"1\" class=\"dataframe\">\n",
       "  <thead>\n",
       "    <tr style=\"text-align: right;\">\n",
       "      <th>rating</th>\n",
       "      <th>AO</th>\n",
       "      <th>E</th>\n",
       "      <th>E10+</th>\n",
       "      <th>EC</th>\n",
       "      <th>K-A</th>\n",
       "      <th>M</th>\n",
       "      <th>RP</th>\n",
       "      <th>T</th>\n",
       "    </tr>\n",
       "    <tr>\n",
       "      <th>genre</th>\n",
       "      <th></th>\n",
       "      <th></th>\n",
       "      <th></th>\n",
       "      <th></th>\n",
       "      <th></th>\n",
       "      <th></th>\n",
       "      <th></th>\n",
       "      <th></th>\n",
       "    </tr>\n",
       "  </thead>\n",
       "  <tbody>\n",
       "    <tr>\n",
       "      <th>Action</th>\n",
       "      <td>1.0</td>\n",
       "      <td>416.0</td>\n",
       "      <td>481.0</td>\n",
       "      <td>1.0</td>\n",
       "      <td>0.0</td>\n",
       "      <td>608.0</td>\n",
       "      <td>0.0</td>\n",
       "      <td>681.0</td>\n",
       "    </tr>\n",
       "    <tr>\n",
       "      <th>Adventure</th>\n",
       "      <td>0.0</td>\n",
       "      <td>162.0</td>\n",
       "      <td>68.0</td>\n",
       "      <td>2.0</td>\n",
       "      <td>0.0</td>\n",
       "      <td>99.0</td>\n",
       "      <td>0.0</td>\n",
       "      <td>115.0</td>\n",
       "    </tr>\n",
       "    <tr>\n",
       "      <th>Fighting</th>\n",
       "      <td>0.0</td>\n",
       "      <td>8.0</td>\n",
       "      <td>19.0</td>\n",
       "      <td>0.0</td>\n",
       "      <td>0.0</td>\n",
       "      <td>49.0</td>\n",
       "      <td>0.0</td>\n",
       "      <td>362.0</td>\n",
       "    </tr>\n",
       "    <tr>\n",
       "      <th>Misc</th>\n",
       "      <td>0.0</td>\n",
       "      <td>457.0</td>\n",
       "      <td>167.0</td>\n",
       "      <td>5.0</td>\n",
       "      <td>1.0</td>\n",
       "      <td>13.0</td>\n",
       "      <td>0.0</td>\n",
       "      <td>239.0</td>\n",
       "    </tr>\n",
       "    <tr>\n",
       "      <th>Platform</th>\n",
       "      <td>0.0</td>\n",
       "      <td>358.0</td>\n",
       "      <td>144.0</td>\n",
       "      <td>0.0</td>\n",
       "      <td>0.0</td>\n",
       "      <td>3.0</td>\n",
       "      <td>0.0</td>\n",
       "      <td>64.0</td>\n",
       "    </tr>\n",
       "    <tr>\n",
       "      <th>Puzzle</th>\n",
       "      <td>0.0</td>\n",
       "      <td>289.0</td>\n",
       "      <td>43.0</td>\n",
       "      <td>0.0</td>\n",
       "      <td>0.0</td>\n",
       "      <td>0.0</td>\n",
       "      <td>0.0</td>\n",
       "      <td>10.0</td>\n",
       "    </tr>\n",
       "    <tr>\n",
       "      <th>Racing</th>\n",
       "      <td>0.0</td>\n",
       "      <td>585.0</td>\n",
       "      <td>96.0</td>\n",
       "      <td>0.0</td>\n",
       "      <td>0.0</td>\n",
       "      <td>18.0</td>\n",
       "      <td>1.0</td>\n",
       "      <td>172.0</td>\n",
       "    </tr>\n",
       "    <tr>\n",
       "      <th>Role-Playing</th>\n",
       "      <td>0.0</td>\n",
       "      <td>84.0</td>\n",
       "      <td>111.0</td>\n",
       "      <td>0.0</td>\n",
       "      <td>0.0</td>\n",
       "      <td>162.0</td>\n",
       "      <td>0.0</td>\n",
       "      <td>420.0</td>\n",
       "    </tr>\n",
       "    <tr>\n",
       "      <th>Shooter</th>\n",
       "      <td>0.0</td>\n",
       "      <td>48.0</td>\n",
       "      <td>58.0</td>\n",
       "      <td>0.0</td>\n",
       "      <td>0.0</td>\n",
       "      <td>565.0</td>\n",
       "      <td>0.0</td>\n",
       "      <td>348.0</td>\n",
       "    </tr>\n",
       "    <tr>\n",
       "      <th>Simulation</th>\n",
       "      <td>0.0</td>\n",
       "      <td>325.0</td>\n",
       "      <td>48.0</td>\n",
       "      <td>0.0</td>\n",
       "      <td>0.0</td>\n",
       "      <td>5.0</td>\n",
       "      <td>0.0</td>\n",
       "      <td>190.0</td>\n",
       "    </tr>\n",
       "    <tr>\n",
       "      <th>Sports</th>\n",
       "      <td>0.0</td>\n",
       "      <td>1188.0</td>\n",
       "      <td>107.0</td>\n",
       "      <td>0.0</td>\n",
       "      <td>0.0</td>\n",
       "      <td>16.0</td>\n",
       "      <td>0.0</td>\n",
       "      <td>198.0</td>\n",
       "    </tr>\n",
       "    <tr>\n",
       "      <th>Strategy</th>\n",
       "      <td>0.0</td>\n",
       "      <td>70.0</td>\n",
       "      <td>78.0</td>\n",
       "      <td>0.0</td>\n",
       "      <td>2.0</td>\n",
       "      <td>25.0</td>\n",
       "      <td>2.0</td>\n",
       "      <td>162.0</td>\n",
       "    </tr>\n",
       "  </tbody>\n",
       "</table>\n",
       "</div>"
      ],
      "text/plain": [
       "rating         AO       E   E10+   EC  K-A      M   RP      T\n",
       "genre                                                        \n",
       "Action        1.0   416.0  481.0  1.0  0.0  608.0  0.0  681.0\n",
       "Adventure     0.0   162.0   68.0  2.0  0.0   99.0  0.0  115.0\n",
       "Fighting      0.0     8.0   19.0  0.0  0.0   49.0  0.0  362.0\n",
       "Misc          0.0   457.0  167.0  5.0  1.0   13.0  0.0  239.0\n",
       "Platform      0.0   358.0  144.0  0.0  0.0    3.0  0.0   64.0\n",
       "Puzzle        0.0   289.0   43.0  0.0  0.0    0.0  0.0   10.0\n",
       "Racing        0.0   585.0   96.0  0.0  0.0   18.0  1.0  172.0\n",
       "Role-Playing  0.0    84.0  111.0  0.0  0.0  162.0  0.0  420.0\n",
       "Shooter       0.0    48.0   58.0  0.0  0.0  565.0  0.0  348.0\n",
       "Simulation    0.0   325.0   48.0  0.0  0.0    5.0  0.0  190.0\n",
       "Sports        0.0  1188.0  107.0  0.0  0.0   16.0  0.0  198.0\n",
       "Strategy      0.0    70.0   78.0  0.0  2.0   25.0  2.0  162.0"
      ]
     },
     "execution_count": 22,
     "metadata": {},
     "output_type": "execute_result"
    }
   ],
   "source": [
    "#сведем таблицу по жанрам и значениям рейтинга\n",
    "rating_esrb = df.pivot_table(index = ['genre'], columns ='rating', values ='name', aggfunc ='count')\n",
    "#заменим пропуски нулями\n",
    "rating_esrb.fillna(0)"
   ]
  },
  {
   "cell_type": "markdown",
   "metadata": {},
   "source": [
    "Определенно однозначной связи нет. Все жанры игр широко присутсвуют  во всех   рейтингах\n",
    "\n",
    "Замена пропусков в рейтинге ESRB по жанру невозможна. "
   ]
  },
  {
   "cell_type": "markdown",
   "metadata": {},
   "source": [
    "### 2.2.3.2 Замена пропусков в данных рейтинга критиков и пользователей\n"
   ]
  },
  {
   "cell_type": "markdown",
   "metadata": {},
   "source": [
    "Посмотрим есть связь между оценками критиков и пользователей. На сколько они повторяют друг друга. \n"
   ]
  },
  {
   "cell_type": "code",
   "execution_count": 23,
   "metadata": {},
   "outputs": [],
   "source": [
    "#Обе шкалы рейтинга идентичны , но отличаются масштабом. Приведем к одному масштабу\n",
    "df['critic_score']=df['critic_score']/10"
   ]
  },
  {
   "cell_type": "code",
   "execution_count": 24,
   "metadata": {},
   "outputs": [
    {
     "data": {
      "text/plain": [
       "<matplotlib.axes._subplots.AxesSubplot at 0x134a9e80>"
      ]
     },
     "execution_count": 24,
     "metadata": {},
     "output_type": "execute_result"
    },
    {
     "data": {
      "image/png": "[encoded data removed]",
      "text/plain": [
       "<Figure size 648x432 with 1 Axes>"
      ]
     },
     "metadata": {
      "needs_background": "light"
     },
     "output_type": "display_data"
    },
    {
     "data": {
      "image/png": "[encoded data removed]",
      "text/plain": [
       "<Figure size 648x432 with 1 Axes>"
      ]
     },
     "metadata": {
      "needs_background": "light"
     },
     "output_type": "display_data"
    }
   ],
   "source": [
    "#построим распределение оценок по обоим рейтингам\n",
    "plt.figure(figsize=(9,6))\n",
    "sns.distplot(df['critic_score'],color='blue',label='critic')\n",
    "sns.distplot(df['user_score'],color='green',label='user')\n",
    "plt.xlabel('rating')\n",
    "plt.ylabel('count')\n",
    "plt.legend() \n",
    "plt.figure(figsize=(9,6))\n",
    "sns.boxplot(order=[\"user_score\", \"critic_score\"], data=df, palette='rainbow', orient=\"h\")"
   ]
  },
  {
   "cell_type": "code",
   "execution_count": 25,
   "metadata": {},
   "outputs": [
    {
     "data": {
      "text/html": [
       "<div>\n",
       "<style scoped>\n",
       "    .dataframe tbody tr th:only-of-type {\n",
       "        vertical-align: middle;\n",
       "    }\n",
       "\n",
       "    .dataframe tbody tr th {\n",
       "        vertical-align: top;\n",
       "    }\n",
       "\n",
       "    .dataframe thead th {\n",
       "        text-align: right;\n",
       "    }\n",
       "</style>\n",
       "<table border=\"1\" class=\"dataframe\">\n",
       "  <thead>\n",
       "    <tr style=\"text-align: right;\">\n",
       "      <th></th>\n",
       "      <th>user_score</th>\n",
       "      <th>critic_score</th>\n",
       "    </tr>\n",
       "  </thead>\n",
       "  <tbody>\n",
       "    <tr>\n",
       "      <th>count</th>\n",
       "      <td>7590.000000</td>\n",
       "      <td>8137.000000</td>\n",
       "    </tr>\n",
       "    <tr>\n",
       "      <th>mean</th>\n",
       "      <td>7.125046</td>\n",
       "      <td>6.896768</td>\n",
       "    </tr>\n",
       "    <tr>\n",
       "      <th>std</th>\n",
       "      <td>1.500006</td>\n",
       "      <td>1.393816</td>\n",
       "    </tr>\n",
       "    <tr>\n",
       "      <th>min</th>\n",
       "      <td>0.000000</td>\n",
       "      <td>1.300000</td>\n",
       "    </tr>\n",
       "    <tr>\n",
       "      <th>25%</th>\n",
       "      <td>6.400000</td>\n",
       "      <td>6.000000</td>\n",
       "    </tr>\n",
       "    <tr>\n",
       "      <th>50%</th>\n",
       "      <td>7.500000</td>\n",
       "      <td>7.100000</td>\n",
       "    </tr>\n",
       "    <tr>\n",
       "      <th>75%</th>\n",
       "      <td>8.200000</td>\n",
       "      <td>7.900000</td>\n",
       "    </tr>\n",
       "    <tr>\n",
       "      <th>max</th>\n",
       "      <td>9.700000</td>\n",
       "      <td>9.800000</td>\n",
       "    </tr>\n",
       "  </tbody>\n",
       "</table>\n",
       "</div>"
      ],
      "text/plain": [
       "        user_score  critic_score\n",
       "count  7590.000000   8137.000000\n",
       "mean      7.125046      6.896768\n",
       "std       1.500006      1.393816\n",
       "min       0.000000      1.300000\n",
       "25%       6.400000      6.000000\n",
       "50%       7.500000      7.100000\n",
       "75%       8.200000      7.900000\n",
       "max       9.700000      9.800000"
      ]
     },
     "execution_count": 25,
     "metadata": {},
     "output_type": "execute_result"
    }
   ],
   "source": [
    "df.loc[:,['user_score','critic_score']].describe()"
   ]
  },
  {
   "cell_type": "markdown",
   "metadata": {},
   "source": [
    "Определено рейтинги имеют корреляцию. Оба скошены влево, медианы больше среднего значения. \n",
    "Можно было бы поискать повышающие точность признаки и произвести замену пропусков. \n",
    "Посмотрим на сколько это улучшит общую картину данных"
   ]
  },
  {
   "cell_type": "code",
   "execution_count": 26,
   "metadata": {},
   "outputs": [
    {
     "data": {
      "text/plain": [
       "(8005, 11)"
      ]
     },
     "execution_count": 26,
     "metadata": {},
     "output_type": "execute_result"
    }
   ],
   "source": [
    "#посчитаем сколько значений имет одновременный пропуск в обоих рейтингах\n",
    "df[df['critic_score'].isnull()&df['user_score'].isnull()].shape"
   ]
  },
  {
   "cell_type": "code",
   "execution_count": 27,
   "metadata": {},
   "outputs": [
    {
     "data": {
      "text/plain": [
       "(1693, 11)"
      ]
     },
     "execution_count": 27,
     "metadata": {},
     "output_type": "execute_result"
    }
   ],
   "source": [
    "#сколько значений имеют пропуск в одном из рейтингов\n",
    "df[(df['critic_score'].isnull())^(df['user_score'].isnull())].shape"
   ]
  },
  {
   "cell_type": "markdown",
   "metadata": {},
   "source": [
    "Таким образом мы можем увеличить только на 10 % количество данных, при этом потеряем в точности.\n",
    "Оставляем пропуски  без  замены. "
   ]
  },
  {
   "cell_type": "markdown",
   "metadata": {},
   "source": [
    "### Шаг 3. Исследовательский анализ данных"
   ]
  },
  {
   "cell_type": "markdown",
   "metadata": {},
   "source": [
    "### 3.1 Индустрия компьютерных игр. Как менялись продажи по годам."
   ]
  },
  {
   "cell_type": "code",
   "execution_count": 28,
   "metadata": {},
   "outputs": [],
   "source": [
    "#Добавим в датафрейм колонку с сумарными продажами \n",
    "df['total_sales'] = df['na_sales'] + df['eu_sales'] + df['jp_sales'] + df['other_sales']"
   ]
  },
  {
   "cell_type": "code",
   "execution_count": 29,
   "metadata": {},
   "outputs": [],
   "source": [
    "#Посмотрим сколько в год выпускается новых игр (релизов)\n",
    "new_name_count = df.groupby('year_of_release')['name'].count()"
   ]
  },
  {
   "cell_type": "code",
   "execution_count": 30,
   "metadata": {},
   "outputs": [
    {
     "data": {
      "text/plain": [
       "count      37.000000\n",
       "mean      447.810811\n",
       "std       455.786368\n",
       "min         9.000000\n",
       "25%        36.000000\n",
       "50%       340.000000\n",
       "75%       765.000000\n",
       "max      1441.000000\n",
       "Name: name, dtype: float64"
      ]
     },
     "execution_count": 30,
     "metadata": {},
     "output_type": "execute_result"
    }
   ],
   "source": [
    "new_name_count.describe()"
   ]
  },
  {
   "cell_type": "markdown",
   "metadata": {},
   "source": [
    "Всего игровой индустрии, судя по имеющимся данным, 37 лет. В среднем в год выходит 447 игр, медианной значение 340.\n",
    "Самый урожайный год принес 1441 релиз. "
   ]
  },
  {
   "cell_type": "code",
   "execution_count": 31,
   "metadata": {},
   "outputs": [
    {
     "data": {
      "text/plain": [
       "<matplotlib.axes._subplots.AxesSubplot at 0x134ef6b8>"
      ]
     },
     "execution_count": 31,
     "metadata": {},
     "output_type": "execute_result"
    },
    {
     "data": {
      "image/png": "[encoded data removed]",
      "text/plain": [
       "<Figure size 648x432 with 1 Axes>"
      ]
     },
     "metadata": {
      "needs_background": "light"
     },
     "output_type": "display_data"
    }
   ],
   "source": [
    "#посмотрим как менялось количество выпущенных игр по годам:\n",
    "plt.figure(figsize=(9,6))\n",
    "sns.distplot(df['year_of_release'],color='blue', label = 'name', bins=50)"
   ]
  },
  {
   "cell_type": "markdown",
   "metadata": {},
   "source": [
    "Неожиданый график. Видно что количество  игр  на рынке снижается, при этом  количество геймеров интуитивно \n",
    "должно расти. Видимо какие-то игры завоевывают широкую популярность. \n",
    "\n",
    "Посмотрим как меняются продажи по годам"
   ]
  },
  {
   "cell_type": "code",
   "execution_count": 32,
   "metadata": {},
   "outputs": [
    {
     "data": {
      "text/plain": [
       "<matplotlib.axes._subplots.AxesSubplot at 0x132ff5b0>"
      ]
     },
     "execution_count": 32,
     "metadata": {},
     "output_type": "execute_result"
    },
    {
     "data": {
      "image/png": "[encoded data removed]",
      "text/plain": [
       "<Figure size 648x432 with 1 Axes>"
      ]
     },
     "metadata": {
      "needs_background": "light"
     },
     "output_type": "display_data"
    }
   ],
   "source": [
    "df['total_sales'] = df['eu_sales'] + df['na_sales'] + df['jp_sales'] + df['other_sales']\n",
    "sales  = df[[x for x in df.columns if 'sales' in x] + ['year_of_release']]\n",
    "sales.groupby('year_of_release').sum().plot(figsize=(9,6))"
   ]
  },
  {
   "cell_type": "markdown",
   "metadata": {},
   "source": [
    "По графику видно что есть пик в 2008 - 2009 годах. Далее выручка снижается. Прежде чем делать вывод о снижении рынка. \n",
    "Сделаем две оговорки - данные указывают .что снижается продажи в год релиза. Возможно игры продаются не только первый год,\n",
    "но два, три или более. Так же в данных нет мобильных платформ (планшеты и смартфоны),  которые набрали в последнии годы мощь и графику  и в целом стали угрожать приставкам и компьютерным играм. \n",
    "Видимо разитие идет так быстро , что жизнь игровой платформы скоротечна. "
   ]
  },
  {
   "cell_type": "markdown",
   "metadata": {},
   "source": [
    "Посмотрим как долго живет платформа. Конечно приставка может валятся дома десятилетиями, но мы будем считать  периодом жизни платформы отрезок времени между  первым и последним годом выхода новой игры.  "
   ]
  },
  {
   "cell_type": "code",
   "execution_count": 33,
   "metadata": {},
   "outputs": [],
   "source": [
    "#соберем датасет platform_life с данными о периоде жизни каждой платформы и ее продажам \n",
    "#Будем считать что период жизни платформы ограничен первым и последним годом выхода новой игры. \n",
    "platform_life = df.groupby('platform').agg({'year_of_release':('min'),'name':('count')})\n",
    "platform_life['last_year'] = df.groupby('platform').agg({'year_of_release':('max')})\n",
    "platform_life['period'] = platform_life['last_year'] - platform_life['year_of_release']+1\n",
    "platform_life['eu_sales'] = df.groupby('platform').agg({'eu_sales':'sum'})\n",
    "platform_life['jp_sales'] = df.groupby('platform').agg({'jp_sales':'sum'})\n",
    "platform_life['other_sales'] = df.groupby('platform').agg({'other_sales':'sum'})\n",
    "platform_life['total_sales']  = platform_life['eu_sales']+platform_life['jp_sales']+platform_life['other_sales']\n",
    "platform_life.columns = ['first_year','number_game','last_year','period','eu_sales','jp_sales','other_sales','total_sales']"
   ]
  },
  {
   "cell_type": "code",
   "execution_count": 34,
   "metadata": {},
   "outputs": [
    {
     "data": {
      "text/html": [
       "<div>\n",
       "<style scoped>\n",
       "    .dataframe tbody tr th:only-of-type {\n",
       "        vertical-align: middle;\n",
       "    }\n",
       "\n",
       "    .dataframe tbody tr th {\n",
       "        vertical-align: top;\n",
       "    }\n",
       "\n",
       "    .dataframe thead th {\n",
       "        text-align: right;\n",
       "    }\n",
       "</style>\n",
       "<table border=\"1\" class=\"dataframe\">\n",
       "  <thead>\n",
       "    <tr style=\"text-align: right;\">\n",
       "      <th></th>\n",
       "      <th>first_year</th>\n",
       "      <th>number_game</th>\n",
       "      <th>last_year</th>\n",
       "      <th>period</th>\n",
       "      <th>eu_sales</th>\n",
       "      <th>jp_sales</th>\n",
       "      <th>other_sales</th>\n",
       "      <th>total_sales</th>\n",
       "    </tr>\n",
       "    <tr>\n",
       "      <th>platform</th>\n",
       "      <th></th>\n",
       "      <th></th>\n",
       "      <th></th>\n",
       "      <th></th>\n",
       "      <th></th>\n",
       "      <th></th>\n",
       "      <th></th>\n",
       "      <th></th>\n",
       "    </tr>\n",
       "  </thead>\n",
       "  <tbody>\n",
       "    <tr>\n",
       "      <th>2600</th>\n",
       "      <td>1980.0</td>\n",
       "      <td>133</td>\n",
       "      <td>1999.0</td>\n",
       "      <td>20.0</td>\n",
       "      <td>5.47</td>\n",
       "      <td>0.00</td>\n",
       "      <td>0.91</td>\n",
       "      <td>6.38</td>\n",
       "    </tr>\n",
       "    <tr>\n",
       "      <th>3DO</th>\n",
       "      <td>1994.0</td>\n",
       "      <td>3</td>\n",
       "      <td>1995.0</td>\n",
       "      <td>2.0</td>\n",
       "      <td>0.00</td>\n",
       "      <td>0.10</td>\n",
       "      <td>0.00</td>\n",
       "      <td>0.10</td>\n",
       "    </tr>\n",
       "    <tr>\n",
       "      <th>3DS</th>\n",
       "      <td>2000.0</td>\n",
       "      <td>520</td>\n",
       "      <td>2016.0</td>\n",
       "      <td>17.0</td>\n",
       "      <td>61.48</td>\n",
       "      <td>100.67</td>\n",
       "      <td>13.36</td>\n",
       "      <td>175.51</td>\n",
       "    </tr>\n",
       "    <tr>\n",
       "      <th>DC</th>\n",
       "      <td>1998.0</td>\n",
       "      <td>52</td>\n",
       "      <td>2008.0</td>\n",
       "      <td>11.0</td>\n",
       "      <td>1.69</td>\n",
       "      <td>8.56</td>\n",
       "      <td>0.27</td>\n",
       "      <td>10.52</td>\n",
       "    </tr>\n",
       "    <tr>\n",
       "      <th>DS</th>\n",
       "      <td>1985.0</td>\n",
       "      <td>2151</td>\n",
       "      <td>2013.0</td>\n",
       "      <td>29.0</td>\n",
       "      <td>188.89</td>\n",
       "      <td>175.57</td>\n",
       "      <td>59.26</td>\n",
       "      <td>423.72</td>\n",
       "    </tr>\n",
       "    <tr>\n",
       "      <th>GB</th>\n",
       "      <td>1988.0</td>\n",
       "      <td>98</td>\n",
       "      <td>2001.0</td>\n",
       "      <td>14.0</td>\n",
       "      <td>47.82</td>\n",
       "      <td>85.12</td>\n",
       "      <td>8.20</td>\n",
       "      <td>141.14</td>\n",
       "    </tr>\n",
       "    <tr>\n",
       "      <th>GBA</th>\n",
       "      <td>2000.0</td>\n",
       "      <td>822</td>\n",
       "      <td>2007.0</td>\n",
       "      <td>8.0</td>\n",
       "      <td>75.25</td>\n",
       "      <td>47.33</td>\n",
       "      <td>7.73</td>\n",
       "      <td>130.31</td>\n",
       "    </tr>\n",
       "    <tr>\n",
       "      <th>GC</th>\n",
       "      <td>2001.0</td>\n",
       "      <td>556</td>\n",
       "      <td>2007.0</td>\n",
       "      <td>7.0</td>\n",
       "      <td>38.71</td>\n",
       "      <td>21.58</td>\n",
       "      <td>5.18</td>\n",
       "      <td>65.47</td>\n",
       "    </tr>\n",
       "    <tr>\n",
       "      <th>GEN</th>\n",
       "      <td>1990.0</td>\n",
       "      <td>29</td>\n",
       "      <td>1994.0</td>\n",
       "      <td>5.0</td>\n",
       "      <td>6.05</td>\n",
       "      <td>2.70</td>\n",
       "      <td>0.97</td>\n",
       "      <td>9.72</td>\n",
       "    </tr>\n",
       "    <tr>\n",
       "      <th>GG</th>\n",
       "      <td>1992.0</td>\n",
       "      <td>1</td>\n",
       "      <td>1992.0</td>\n",
       "      <td>1.0</td>\n",
       "      <td>0.00</td>\n",
       "      <td>0.04</td>\n",
       "      <td>0.00</td>\n",
       "      <td>0.04</td>\n",
       "    </tr>\n",
       "    <tr>\n",
       "      <th>N64</th>\n",
       "      <td>1996.0</td>\n",
       "      <td>319</td>\n",
       "      <td>2004.0</td>\n",
       "      <td>9.0</td>\n",
       "      <td>41.06</td>\n",
       "      <td>34.22</td>\n",
       "      <td>4.38</td>\n",
       "      <td>79.66</td>\n",
       "    </tr>\n",
       "    <tr>\n",
       "      <th>NES</th>\n",
       "      <td>1983.0</td>\n",
       "      <td>98</td>\n",
       "      <td>1994.0</td>\n",
       "      <td>12.0</td>\n",
       "      <td>21.15</td>\n",
       "      <td>98.65</td>\n",
       "      <td>5.31</td>\n",
       "      <td>125.11</td>\n",
       "    </tr>\n",
       "    <tr>\n",
       "      <th>NG</th>\n",
       "      <td>1993.0</td>\n",
       "      <td>12</td>\n",
       "      <td>1996.0</td>\n",
       "      <td>4.0</td>\n",
       "      <td>0.00</td>\n",
       "      <td>1.44</td>\n",
       "      <td>0.00</td>\n",
       "      <td>1.44</td>\n",
       "    </tr>\n",
       "    <tr>\n",
       "      <th>PC</th>\n",
       "      <td>1985.0</td>\n",
       "      <td>974</td>\n",
       "      <td>2016.0</td>\n",
       "      <td>32.0</td>\n",
       "      <td>142.44</td>\n",
       "      <td>0.17</td>\n",
       "      <td>22.38</td>\n",
       "      <td>164.99</td>\n",
       "    </tr>\n",
       "    <tr>\n",
       "      <th>PCFX</th>\n",
       "      <td>1996.0</td>\n",
       "      <td>1</td>\n",
       "      <td>1996.0</td>\n",
       "      <td>1.0</td>\n",
       "      <td>0.00</td>\n",
       "      <td>0.03</td>\n",
       "      <td>0.00</td>\n",
       "      <td>0.03</td>\n",
       "    </tr>\n",
       "    <tr>\n",
       "      <th>PS</th>\n",
       "      <td>1994.0</td>\n",
       "      <td>1197</td>\n",
       "      <td>2003.0</td>\n",
       "      <td>10.0</td>\n",
       "      <td>213.61</td>\n",
       "      <td>139.82</td>\n",
       "      <td>40.91</td>\n",
       "      <td>394.34</td>\n",
       "    </tr>\n",
       "    <tr>\n",
       "      <th>PS2</th>\n",
       "      <td>2000.0</td>\n",
       "      <td>2161</td>\n",
       "      <td>2011.0</td>\n",
       "      <td>12.0</td>\n",
       "      <td>339.29</td>\n",
       "      <td>139.20</td>\n",
       "      <td>193.44</td>\n",
       "      <td>671.93</td>\n",
       "    </tr>\n",
       "    <tr>\n",
       "      <th>PS3</th>\n",
       "      <td>2005.0</td>\n",
       "      <td>1331</td>\n",
       "      <td>2016.0</td>\n",
       "      <td>12.0</td>\n",
       "      <td>330.29</td>\n",
       "      <td>80.19</td>\n",
       "      <td>135.68</td>\n",
       "      <td>546.16</td>\n",
       "    </tr>\n",
       "    <tr>\n",
       "      <th>PS4</th>\n",
       "      <td>2013.0</td>\n",
       "      <td>392</td>\n",
       "      <td>2016.0</td>\n",
       "      <td>4.0</td>\n",
       "      <td>141.09</td>\n",
       "      <td>15.96</td>\n",
       "      <td>48.35</td>\n",
       "      <td>205.40</td>\n",
       "    </tr>\n",
       "    <tr>\n",
       "      <th>PSP</th>\n",
       "      <td>2004.0</td>\n",
       "      <td>1209</td>\n",
       "      <td>2015.0</td>\n",
       "      <td>12.0</td>\n",
       "      <td>66.68</td>\n",
       "      <td>76.78</td>\n",
       "      <td>41.42</td>\n",
       "      <td>184.88</td>\n",
       "    </tr>\n",
       "    <tr>\n",
       "      <th>PSV</th>\n",
       "      <td>2011.0</td>\n",
       "      <td>430</td>\n",
       "      <td>2016.0</td>\n",
       "      <td>6.0</td>\n",
       "      <td>13.12</td>\n",
       "      <td>21.91</td>\n",
       "      <td>6.46</td>\n",
       "      <td>41.49</td>\n",
       "    </tr>\n",
       "    <tr>\n",
       "      <th>SAT</th>\n",
       "      <td>1994.0</td>\n",
       "      <td>173</td>\n",
       "      <td>1999.0</td>\n",
       "      <td>6.0</td>\n",
       "      <td>0.54</td>\n",
       "      <td>32.26</td>\n",
       "      <td>0.07</td>\n",
       "      <td>32.87</td>\n",
       "    </tr>\n",
       "    <tr>\n",
       "      <th>SCD</th>\n",
       "      <td>1993.0</td>\n",
       "      <td>6</td>\n",
       "      <td>1994.0</td>\n",
       "      <td>2.0</td>\n",
       "      <td>0.36</td>\n",
       "      <td>0.45</td>\n",
       "      <td>0.05</td>\n",
       "      <td>0.86</td>\n",
       "    </tr>\n",
       "    <tr>\n",
       "      <th>SNES</th>\n",
       "      <td>1990.0</td>\n",
       "      <td>239</td>\n",
       "      <td>1999.0</td>\n",
       "      <td>10.0</td>\n",
       "      <td>19.04</td>\n",
       "      <td>116.55</td>\n",
       "      <td>3.22</td>\n",
       "      <td>138.81</td>\n",
       "    </tr>\n",
       "    <tr>\n",
       "      <th>TG16</th>\n",
       "      <td>1995.0</td>\n",
       "      <td>2</td>\n",
       "      <td>1995.0</td>\n",
       "      <td>1.0</td>\n",
       "      <td>0.00</td>\n",
       "      <td>0.16</td>\n",
       "      <td>0.00</td>\n",
       "      <td>0.16</td>\n",
       "    </tr>\n",
       "    <tr>\n",
       "      <th>WS</th>\n",
       "      <td>1999.0</td>\n",
       "      <td>6</td>\n",
       "      <td>2001.0</td>\n",
       "      <td>3.0</td>\n",
       "      <td>0.00</td>\n",
       "      <td>1.42</td>\n",
       "      <td>0.00</td>\n",
       "      <td>1.42</td>\n",
       "    </tr>\n",
       "    <tr>\n",
       "      <th>Wii</th>\n",
       "      <td>2006.0</td>\n",
       "      <td>1320</td>\n",
       "      <td>2016.0</td>\n",
       "      <td>11.0</td>\n",
       "      <td>262.21</td>\n",
       "      <td>69.33</td>\n",
       "      <td>79.07</td>\n",
       "      <td>410.61</td>\n",
       "    </tr>\n",
       "    <tr>\n",
       "      <th>WiiU</th>\n",
       "      <td>2012.0</td>\n",
       "      <td>147</td>\n",
       "      <td>2016.0</td>\n",
       "      <td>5.0</td>\n",
       "      <td>25.13</td>\n",
       "      <td>13.01</td>\n",
       "      <td>5.95</td>\n",
       "      <td>44.09</td>\n",
       "    </tr>\n",
       "    <tr>\n",
       "      <th>X360</th>\n",
       "      <td>2005.0</td>\n",
       "      <td>1262</td>\n",
       "      <td>2016.0</td>\n",
       "      <td>12.0</td>\n",
       "      <td>270.76</td>\n",
       "      <td>12.43</td>\n",
       "      <td>85.76</td>\n",
       "      <td>368.95</td>\n",
       "    </tr>\n",
       "    <tr>\n",
       "      <th>XB</th>\n",
       "      <td>2000.0</td>\n",
       "      <td>824</td>\n",
       "      <td>2008.0</td>\n",
       "      <td>9.0</td>\n",
       "      <td>60.95</td>\n",
       "      <td>1.38</td>\n",
       "      <td>8.72</td>\n",
       "      <td>71.05</td>\n",
       "    </tr>\n",
       "    <tr>\n",
       "      <th>XOne</th>\n",
       "      <td>2013.0</td>\n",
       "      <td>247</td>\n",
       "      <td>2016.0</td>\n",
       "      <td>4.0</td>\n",
       "      <td>51.59</td>\n",
       "      <td>0.34</td>\n",
       "      <td>14.27</td>\n",
       "      <td>66.20</td>\n",
       "    </tr>\n",
       "  </tbody>\n",
       "</table>\n",
       "</div>"
      ],
      "text/plain": [
       "          first_year  number_game  last_year  period  eu_sales  jp_sales  \\\n",
       "platform                                                                   \n",
       "2600          1980.0          133     1999.0    20.0      5.47      0.00   \n",
       "3DO           1994.0            3     1995.0     2.0      0.00      0.10   \n",
       "3DS           2000.0          520     2016.0    17.0     61.48    100.67   \n",
       "DC            1998.0           52     2008.0    11.0      1.69      8.56   \n",
       "DS            1985.0         2151     2013.0    29.0    188.89    175.57   \n",
       "GB            1988.0           98     2001.0    14.0     47.82     85.12   \n",
       "GBA           2000.0          822     2007.0     8.0     75.25     47.33   \n",
       "GC            2001.0          556     2007.0     7.0     38.71     21.58   \n",
       "GEN           1990.0           29     1994.0     5.0      6.05      2.70   \n",
       "GG            1992.0            1     1992.0     1.0      0.00      0.04   \n",
       "N64           1996.0          319     2004.0     9.0     41.06     34.22   \n",
       "NES           1983.0           98     1994.0    12.0     21.15     98.65   \n",
       "NG            1993.0           12     1996.0     4.0      0.00      1.44   \n",
       "PC            1985.0          974     2016.0    32.0    142.44      0.17   \n",
       "PCFX          1996.0            1     1996.0     1.0      0.00      0.03   \n",
       "PS            1994.0         1197     2003.0    10.0    213.61    139.82   \n",
       "PS2           2000.0         2161     2011.0    12.0    339.29    139.20   \n",
       "PS3           2005.0         1331     2016.0    12.0    330.29     80.19   \n",
       "PS4           2013.0          392     2016.0     4.0    141.09     15.96   \n",
       "PSP           2004.0         1209     2015.0    12.0     66.68     76.78   \n",
       "PSV           2011.0          430     2016.0     6.0     13.12     21.91   \n",
       "SAT           1994.0          173     1999.0     6.0      0.54     32.26   \n",
       "SCD           1993.0            6     1994.0     2.0      0.36      0.45   \n",
       "SNES          1990.0          239     1999.0    10.0     19.04    116.55   \n",
       "TG16          1995.0            2     1995.0     1.0      0.00      0.16   \n",
       "WS            1999.0            6     2001.0     3.0      0.00      1.42   \n",
       "Wii           2006.0         1320     2016.0    11.0    262.21     69.33   \n",
       "WiiU          2012.0          147     2016.0     5.0     25.13     13.01   \n",
       "X360          2005.0         1262     2016.0    12.0    270.76     12.43   \n",
       "XB            2000.0          824     2008.0     9.0     60.95      1.38   \n",
       "XOne          2013.0          247     2016.0     4.0     51.59      0.34   \n",
       "\n",
       "          other_sales  total_sales  \n",
       "platform                            \n",
       "2600             0.91         6.38  \n",
       "3DO              0.00         0.10  \n",
       "3DS             13.36       175.51  \n",
       "DC               0.27        10.52  \n",
       "DS              59.26       423.72  \n",
       "GB               8.20       141.14  \n",
       "GBA              7.73       130.31  \n",
       "GC               5.18        65.47  \n",
       "GEN              0.97         9.72  \n",
       "GG               0.00         0.04  \n",
       "N64              4.38        79.66  \n",
       "NES              5.31       125.11  \n",
       "NG               0.00         1.44  \n",
       "PC              22.38       164.99  \n",
       "PCFX             0.00         0.03  \n",
       "PS              40.91       394.34  \n",
       "PS2            193.44       671.93  \n",
       "PS3            135.68       546.16  \n",
       "PS4             48.35       205.40  \n",
       "PSP             41.42       184.88  \n",
       "PSV              6.46        41.49  \n",
       "SAT              0.07        32.87  \n",
       "SCD              0.05         0.86  \n",
       "SNES             3.22       138.81  \n",
       "TG16             0.00         0.16  \n",
       "WS               0.00         1.42  \n",
       "Wii             79.07       410.61  \n",
       "WiiU             5.95        44.09  \n",
       "X360            85.76       368.95  \n",
       "XB               8.72        71.05  \n",
       "XOne            14.27        66.20  "
      ]
     },
     "execution_count": 34,
     "metadata": {},
     "output_type": "execute_result"
    }
   ],
   "source": [
    "platform_life"
   ]
  },
  {
   "cell_type": "code",
   "execution_count": 35,
   "metadata": {},
   "outputs": [
    {
     "data": {
      "text/plain": [
       "<matplotlib.axes._subplots.AxesSubplot at 0x13416ac0>"
      ]
     },
     "execution_count": 35,
     "metadata": {},
     "output_type": "execute_result"
    },
    {
     "data": {
      "image/png": "[encoded data removed]",
      "text/plain": [
       "<Figure size 648x288 with 1 Axes>"
      ]
     },
     "metadata": {
      "needs_background": "light"
     },
     "output_type": "display_data"
    }
   ],
   "source": [
    "#построим диаграмму размаха по периоду\n",
    "plt.figure(figsize=(9,4))\n",
    "sns.boxplot(order=[\"period\"], data=platform_life, palette='rainbow', orient=\"h\")"
   ]
  },
  {
   "cell_type": "code",
   "execution_count": 36,
   "metadata": {},
   "outputs": [
    {
     "data": {
      "text/html": [
       "<div>\n",
       "<style scoped>\n",
       "    .dataframe tbody tr th:only-of-type {\n",
       "        vertical-align: middle;\n",
       "    }\n",
       "\n",
       "    .dataframe tbody tr th {\n",
       "        vertical-align: top;\n",
       "    }\n",
       "\n",
       "    .dataframe thead th {\n",
       "        text-align: right;\n",
       "    }\n",
       "</style>\n",
       "<table border=\"1\" class=\"dataframe\">\n",
       "  <thead>\n",
       "    <tr style=\"text-align: right;\">\n",
       "      <th></th>\n",
       "      <th>period</th>\n",
       "    </tr>\n",
       "  </thead>\n",
       "  <tbody>\n",
       "    <tr>\n",
       "      <th>count</th>\n",
       "      <td>31.000000</td>\n",
       "    </tr>\n",
       "    <tr>\n",
       "      <th>mean</th>\n",
       "      <td>9.387097</td>\n",
       "    </tr>\n",
       "    <tr>\n",
       "      <th>std</th>\n",
       "      <td>7.405752</td>\n",
       "    </tr>\n",
       "    <tr>\n",
       "      <th>min</th>\n",
       "      <td>1.000000</td>\n",
       "    </tr>\n",
       "    <tr>\n",
       "      <th>25%</th>\n",
       "      <td>4.000000</td>\n",
       "    </tr>\n",
       "    <tr>\n",
       "      <th>50%</th>\n",
       "      <td>9.000000</td>\n",
       "    </tr>\n",
       "    <tr>\n",
       "      <th>75%</th>\n",
       "      <td>12.000000</td>\n",
       "    </tr>\n",
       "    <tr>\n",
       "      <th>max</th>\n",
       "      <td>32.000000</td>\n",
       "    </tr>\n",
       "  </tbody>\n",
       "</table>\n",
       "</div>"
      ],
      "text/plain": [
       "          period\n",
       "count  31.000000\n",
       "mean    9.387097\n",
       "std     7.405752\n",
       "min     1.000000\n",
       "25%     4.000000\n",
       "50%     9.000000\n",
       "75%    12.000000\n",
       "max    32.000000"
      ]
     },
     "execution_count": 36,
     "metadata": {},
     "output_type": "execute_result"
    }
   ],
   "source": [
    "platform_life.loc[:,['period']].describe()"
   ]
  },
  {
   "cell_type": "code",
   "execution_count": 37,
   "metadata": {},
   "outputs": [
    {
     "data": {
      "text/html": [
       "<div>\n",
       "<style scoped>\n",
       "    .dataframe tbody tr th:only-of-type {\n",
       "        vertical-align: middle;\n",
       "    }\n",
       "\n",
       "    .dataframe tbody tr th {\n",
       "        vertical-align: top;\n",
       "    }\n",
       "\n",
       "    .dataframe thead th {\n",
       "        text-align: right;\n",
       "    }\n",
       "</style>\n",
       "<table border=\"1\" class=\"dataframe\">\n",
       "  <thead>\n",
       "    <tr style=\"text-align: right;\">\n",
       "      <th></th>\n",
       "      <th>period</th>\n",
       "    </tr>\n",
       "  </thead>\n",
       "  <tbody>\n",
       "    <tr>\n",
       "      <th>count</th>\n",
       "      <td>9.000000</td>\n",
       "    </tr>\n",
       "    <tr>\n",
       "      <th>mean</th>\n",
       "      <td>8.111111</td>\n",
       "    </tr>\n",
       "    <tr>\n",
       "      <th>std</th>\n",
       "      <td>3.586239</td>\n",
       "    </tr>\n",
       "    <tr>\n",
       "      <th>min</th>\n",
       "      <td>4.000000</td>\n",
       "    </tr>\n",
       "    <tr>\n",
       "      <th>25%</th>\n",
       "      <td>5.000000</td>\n",
       "    </tr>\n",
       "    <tr>\n",
       "      <th>50%</th>\n",
       "      <td>7.000000</td>\n",
       "    </tr>\n",
       "    <tr>\n",
       "      <th>75%</th>\n",
       "      <td>12.000000</td>\n",
       "    </tr>\n",
       "    <tr>\n",
       "      <th>max</th>\n",
       "      <td>12.000000</td>\n",
       "    </tr>\n",
       "  </tbody>\n",
       "</table>\n",
       "</div>"
      ],
      "text/plain": [
       "          period\n",
       "count   9.000000\n",
       "mean    8.111111\n",
       "std     3.586239\n",
       "min     4.000000\n",
       "25%     5.000000\n",
       "50%     7.000000\n",
       "75%    12.000000\n",
       "max    12.000000"
      ]
     },
     "execution_count": 37,
     "metadata": {},
     "output_type": "execute_result"
    }
   ],
   "source": [
    "platform_life2=platform_life.query('first_year > 2000')\n",
    "platform_life2.loc[:,['period']].describe()"
   ]
  },
  {
   "cell_type": "markdown",
   "metadata": {},
   "source": [
    "Заметно что век платформы стал еще более коротким, медианное значение - 7 лет. "
   ]
  },
  {
   "cell_type": "markdown",
   "metadata": {},
   "source": [
    "Посмотрим как распределилась выручка индустрии по платформам"
   ]
  },
  {
   "cell_type": "code",
   "execution_count": 38,
   "metadata": {},
   "outputs": [
    {
     "data": {
      "text/plain": [
       "<matplotlib.axes._subplots.AxesSubplot at 0x1345f868>"
      ]
     },
     "execution_count": 38,
     "metadata": {},
     "output_type": "execute_result"
    },
    {
     "data": {
      "image/png": "[encoded data removed]",
      "text/plain": [
       "<Figure size 720x360 with 1 Axes>"
      ]
     },
     "metadata": {
      "needs_background": "light"
     },
     "output_type": "display_data"
    }
   ],
   "source": [
    "platform_life.sort_values(by = 'total_sales', ascending=False, inplace = True)\n",
    "platform_life.plot(kind='bar', y=[('total_sales')],figsize=(10,5)) "
   ]
  },
  {
   "cell_type": "markdown",
   "metadata": {},
   "source": [
    "Топ-5 самых \"оборотистых платформ\""
   ]
  },
  {
   "cell_type": "code",
   "execution_count": 39,
   "metadata": {},
   "outputs": [
    {
     "data": {
      "text/html": [
       "<div>\n",
       "<style scoped>\n",
       "    .dataframe tbody tr th:only-of-type {\n",
       "        vertical-align: middle;\n",
       "    }\n",
       "\n",
       "    .dataframe tbody tr th {\n",
       "        vertical-align: top;\n",
       "    }\n",
       "\n",
       "    .dataframe thead th {\n",
       "        text-align: right;\n",
       "    }\n",
       "</style>\n",
       "<table border=\"1\" class=\"dataframe\">\n",
       "  <thead>\n",
       "    <tr style=\"text-align: right;\">\n",
       "      <th></th>\n",
       "      <th>first_year</th>\n",
       "      <th>number_game</th>\n",
       "      <th>last_year</th>\n",
       "      <th>period</th>\n",
       "      <th>eu_sales</th>\n",
       "      <th>jp_sales</th>\n",
       "      <th>other_sales</th>\n",
       "      <th>total_sales</th>\n",
       "    </tr>\n",
       "    <tr>\n",
       "      <th>platform</th>\n",
       "      <th></th>\n",
       "      <th></th>\n",
       "      <th></th>\n",
       "      <th></th>\n",
       "      <th></th>\n",
       "      <th></th>\n",
       "      <th></th>\n",
       "      <th></th>\n",
       "    </tr>\n",
       "  </thead>\n",
       "  <tbody>\n",
       "    <tr>\n",
       "      <th>PS2</th>\n",
       "      <td>2000.0</td>\n",
       "      <td>2161</td>\n",
       "      <td>2011.0</td>\n",
       "      <td>12.0</td>\n",
       "      <td>339.29</td>\n",
       "      <td>139.20</td>\n",
       "      <td>193.44</td>\n",
       "      <td>671.93</td>\n",
       "    </tr>\n",
       "    <tr>\n",
       "      <th>PS3</th>\n",
       "      <td>2005.0</td>\n",
       "      <td>1331</td>\n",
       "      <td>2016.0</td>\n",
       "      <td>12.0</td>\n",
       "      <td>330.29</td>\n",
       "      <td>80.19</td>\n",
       "      <td>135.68</td>\n",
       "      <td>546.16</td>\n",
       "    </tr>\n",
       "    <tr>\n",
       "      <th>DS</th>\n",
       "      <td>1985.0</td>\n",
       "      <td>2151</td>\n",
       "      <td>2013.0</td>\n",
       "      <td>29.0</td>\n",
       "      <td>188.89</td>\n",
       "      <td>175.57</td>\n",
       "      <td>59.26</td>\n",
       "      <td>423.72</td>\n",
       "    </tr>\n",
       "    <tr>\n",
       "      <th>Wii</th>\n",
       "      <td>2006.0</td>\n",
       "      <td>1320</td>\n",
       "      <td>2016.0</td>\n",
       "      <td>11.0</td>\n",
       "      <td>262.21</td>\n",
       "      <td>69.33</td>\n",
       "      <td>79.07</td>\n",
       "      <td>410.61</td>\n",
       "    </tr>\n",
       "    <tr>\n",
       "      <th>PS</th>\n",
       "      <td>1994.0</td>\n",
       "      <td>1197</td>\n",
       "      <td>2003.0</td>\n",
       "      <td>10.0</td>\n",
       "      <td>213.61</td>\n",
       "      <td>139.82</td>\n",
       "      <td>40.91</td>\n",
       "      <td>394.34</td>\n",
       "    </tr>\n",
       "  </tbody>\n",
       "</table>\n",
       "</div>"
      ],
      "text/plain": [
       "          first_year  number_game  last_year  period  eu_sales  jp_sales  \\\n",
       "platform                                                                   \n",
       "PS2           2000.0         2161     2011.0    12.0    339.29    139.20   \n",
       "PS3           2005.0         1331     2016.0    12.0    330.29     80.19   \n",
       "DS            1985.0         2151     2013.0    29.0    188.89    175.57   \n",
       "Wii           2006.0         1320     2016.0    11.0    262.21     69.33   \n",
       "PS            1994.0         1197     2003.0    10.0    213.61    139.82   \n",
       "\n",
       "          other_sales  total_sales  \n",
       "platform                            \n",
       "PS2            193.44       671.93  \n",
       "PS3            135.68       546.16  \n",
       "DS              59.26       423.72  \n",
       "Wii             79.07       410.61  \n",
       "PS              40.91       394.34  "
      ]
     },
     "execution_count": 39,
     "metadata": {},
     "output_type": "execute_result"
    }
   ],
   "source": [
    "platform_life.head(5)"
   ]
  },
  {
   "cell_type": "markdown",
   "metadata": {},
   "source": [
    "Посмотрим продажи по годам самых прибыльных платформ\n"
   ]
  },
  {
   "cell_type": "code",
   "execution_count": 40,
   "metadata": {},
   "outputs": [
    {
     "data": {
      "text/plain": [
       "Index(['PS2', 'PS3', 'DS', 'Wii', 'PS'], dtype='object', name='platform')"
      ]
     },
     "execution_count": 40,
     "metadata": {},
     "output_type": "execute_result"
    }
   ],
   "source": [
    "top5 = platform_life.head(5).index\n",
    "top5"
   ]
  },
  {
   "cell_type": "code",
   "execution_count": 41,
   "metadata": {},
   "outputs": [],
   "source": [
    "platform_sales = df.groupby(['platform','year_of_release'])['total_sales'].sum()\n",
    "platform_sales = pd.DataFrame(platform_sales).reset_index()"
   ]
  },
  {
   "cell_type": "code",
   "execution_count": 42,
   "metadata": {
    "scrolled": false
   },
   "outputs": [
    {
     "data": {
      "image/png": "[encoded data removed]",
      "text/plain": [
       "<Figure size 288x288 with 1 Axes>"
      ]
     },
     "metadata": {
      "needs_background": "light"
     },
     "output_type": "display_data"
    },
    {
     "data": {
      "image/png": "[encoded data removed]",
      "text/plain": [
       "<Figure size 288x288 with 1 Axes>"
      ]
     },
     "metadata": {
      "needs_background": "light"
     },
     "output_type": "display_data"
    },
    {
     "data": {
      "image/png": "[encoded data removed]",
      "text/plain": [
       "<Figure size 288x288 with 1 Axes>"
      ]
     },
     "metadata": {
      "needs_background": "light"
     },
     "output_type": "display_data"
    },
    {
     "data": {
      "image/png": "[encoded data removed]",
      "text/plain": [
       "<Figure size 288x288 with 1 Axes>"
      ]
     },
     "metadata": {
      "needs_background": "light"
     },
     "output_type": "display_data"
    },
    {
     "data": {
      "image/png": "[encoded data removed]",
      "text/plain": [
       "<Figure size 288x288 with 1 Axes>"
      ]
     },
     "metadata": {
      "needs_background": "light"
     },
     "output_type": "display_data"
    }
   ],
   "source": [
    "for top in top5:\n",
    "    tmp = platform_sales[platform_sales[\"platform\"] == top]\n",
    "    plt.figure(figsize=(4,4))\n",
    "    plt.xlabel('period')\n",
    "    plt.bar(tmp['year_of_release'],tmp['total_sales'],label=top)\n",
    "    plt.xlabel('years')\n",
    "    plt.ylabel('sales,mln$')\n",
    "    plt.legend() "
   ]
  },
  {
   "cell_type": "markdown",
   "metadata": {},
   "source": [
    "Жизнь платформы длится около 7 лет, но эти 7 лет разные. Первую половину плафторма растет, вторую падает. \n",
    "Причем рост очень крутой.Большая часть игр выходит в первой половине. \n",
    "Это видно по распределению Wii,PS2,PS3 - они скошено влево. Если мы хотим сделать рекламу своего магазина,\n",
    "то мы должны ставить на растущие платформы. А это 3-3,5 года. Таким образом нам нужен период -последние три года и неполный 2016 год. "
   ]
  },
  {
   "cell_type": "markdown",
   "metadata": {},
   "source": [
    "Какие платформы лидируют по продажам, растут или падают в актуальном периоде? "
   ]
  },
  {
   "cell_type": "code",
   "execution_count": 43,
   "metadata": {
    "scrolled": true
   },
   "outputs": [],
   "source": [
    "current_sales = df.query('year_of_release >= 2013')#сделаем срез по актуальному периоду"
   ]
  },
  {
   "cell_type": "code",
   "execution_count": 44,
   "metadata": {},
   "outputs": [
    {
     "data": {
      "text/html": [
       "<div>\n",
       "<style scoped>\n",
       "    .dataframe tbody tr th:only-of-type {\n",
       "        vertical-align: middle;\n",
       "    }\n",
       "\n",
       "    .dataframe tbody tr th {\n",
       "        vertical-align: top;\n",
       "    }\n",
       "\n",
       "    .dataframe thead th {\n",
       "        text-align: right;\n",
       "    }\n",
       "</style>\n",
       "<table border=\"1\" class=\"dataframe\">\n",
       "  <thead>\n",
       "    <tr style=\"text-align: right;\">\n",
       "      <th></th>\n",
       "      <th>platform</th>\n",
       "      <th>2013</th>\n",
       "      <th>2014</th>\n",
       "      <th>2015</th>\n",
       "      <th>2016</th>\n",
       "    </tr>\n",
       "  </thead>\n",
       "  <tbody>\n",
       "    <tr>\n",
       "      <th>3</th>\n",
       "      <td>PS3</td>\n",
       "      <td>113.25</td>\n",
       "      <td>47.76</td>\n",
       "      <td>16.82</td>\n",
       "      <td>3.60</td>\n",
       "    </tr>\n",
       "    <tr>\n",
       "      <th>9</th>\n",
       "      <td>X360</td>\n",
       "      <td>88.58</td>\n",
       "      <td>34.74</td>\n",
       "      <td>11.96</td>\n",
       "      <td>1.52</td>\n",
       "    </tr>\n",
       "    <tr>\n",
       "      <th>0</th>\n",
       "      <td>3DS</td>\n",
       "      <td>56.57</td>\n",
       "      <td>43.76</td>\n",
       "      <td>27.78</td>\n",
       "      <td>15.14</td>\n",
       "    </tr>\n",
       "    <tr>\n",
       "      <th>4</th>\n",
       "      <td>PS4</td>\n",
       "      <td>25.99</td>\n",
       "      <td>100.00</td>\n",
       "      <td>118.90</td>\n",
       "      <td>69.25</td>\n",
       "    </tr>\n",
       "    <tr>\n",
       "      <th>8</th>\n",
       "      <td>WiiU</td>\n",
       "      <td>21.65</td>\n",
       "      <td>22.03</td>\n",
       "      <td>16.35</td>\n",
       "      <td>4.60</td>\n",
       "    </tr>\n",
       "    <tr>\n",
       "      <th>10</th>\n",
       "      <td>XOne</td>\n",
       "      <td>18.96</td>\n",
       "      <td>54.07</td>\n",
       "      <td>60.14</td>\n",
       "      <td>26.15</td>\n",
       "    </tr>\n",
       "    <tr>\n",
       "      <th>2</th>\n",
       "      <td>PC</td>\n",
       "      <td>12.66</td>\n",
       "      <td>13.63</td>\n",
       "      <td>8.52</td>\n",
       "      <td>5.25</td>\n",
       "    </tr>\n",
       "    <tr>\n",
       "      <th>6</th>\n",
       "      <td>PSV</td>\n",
       "      <td>10.59</td>\n",
       "      <td>11.90</td>\n",
       "      <td>6.25</td>\n",
       "      <td>4.25</td>\n",
       "    </tr>\n",
       "    <tr>\n",
       "      <th>7</th>\n",
       "      <td>Wii</td>\n",
       "      <td>8.59</td>\n",
       "      <td>3.75</td>\n",
       "      <td>1.14</td>\n",
       "      <td>0.18</td>\n",
       "    </tr>\n",
       "    <tr>\n",
       "      <th>5</th>\n",
       "      <td>PSP</td>\n",
       "      <td>3.38</td>\n",
       "      <td>0.24</td>\n",
       "      <td>0.12</td>\n",
       "      <td>NaN</td>\n",
       "    </tr>\n",
       "    <tr>\n",
       "      <th>1</th>\n",
       "      <td>DS</td>\n",
       "      <td>1.54</td>\n",
       "      <td>NaN</td>\n",
       "      <td>NaN</td>\n",
       "      <td>NaN</td>\n",
       "    </tr>\n",
       "  </tbody>\n",
       "</table>\n",
       "</div>"
      ],
      "text/plain": [
       "   platform    2013    2014    2015   2016\n",
       "3       PS3  113.25   47.76   16.82   3.60\n",
       "9      X360   88.58   34.74   11.96   1.52\n",
       "0       3DS   56.57   43.76   27.78  15.14\n",
       "4       PS4   25.99  100.00  118.90  69.25\n",
       "8      WiiU   21.65   22.03   16.35   4.60\n",
       "10     XOne   18.96   54.07   60.14  26.15\n",
       "2        PC   12.66   13.63    8.52   5.25\n",
       "6       PSV   10.59   11.90    6.25   4.25\n",
       "7       Wii    8.59    3.75    1.14   0.18\n",
       "5       PSP    3.38    0.24    0.12    NaN\n",
       "1        DS    1.54     NaN     NaN    NaN"
      ]
     },
     "execution_count": 44,
     "metadata": {},
     "output_type": "execute_result"
    }
   ],
   "source": [
    "#сведем таблицу по платформам и году\n",
    "current_platform = current_sales.pivot_table(index=['platform'], columns='year_of_release',\n",
    "                                             values='total_sales', aggfunc='sum').reset_index()\n",
    "current_platform.columns=['platform','2013','2014','2015','2016']\n",
    "current_platform = current_platform.sort_values(by='2013',ascending = False)\n",
    "current_platform"
   ]
  },
  {
   "cell_type": "code",
   "execution_count": 45,
   "metadata": {},
   "outputs": [
    {
     "data": {
      "text/plain": [
       "<matplotlib.axes._subplots.AxesSubplot at 0x13610f40>"
      ]
     },
     "execution_count": 45,
     "metadata": {},
     "output_type": "execute_result"
    },
    {
     "data": {
      "image/png": "[encoded data removed]",
      "text/plain": [
       "<Figure size 720x360 with 1 Axes>"
      ]
     },
     "metadata": {
      "needs_background": "light"
     },
     "output_type": "display_data"
    }
   ],
   "source": [
    "current_platform.plot(x=('platform'),kind='bar', figsize=(10,5)) "
   ]
  },
  {
   "cell_type": "markdown",
   "metadata": {},
   "source": [
    "Потенциально прибыльные платформы PS4,  XOne. Остальные показывают снижение от года к году "
   ]
  },
  {
   "cell_type": "markdown",
   "metadata": {},
   "source": [
    "Сколько в среднем приносит игра на каждой из платформ ?\n"
   ]
  },
  {
   "cell_type": "code",
   "execution_count": 46,
   "metadata": {},
   "outputs": [
    {
     "data": {
      "text/plain": [
       "['PS3', 'X360', '3DS', 'PS4', 'WiiU', 'XOne', 'PC', 'PSV', 'Wii', 'PSP', 'DS']"
      ]
     },
     "execution_count": 46,
     "metadata": {},
     "output_type": "execute_result"
    }
   ],
   "source": [
    "top = current_platform['platform'].values.tolist() #список из актуальных платформ\n",
    "top"
   ]
  },
  {
   "cell_type": "code",
   "execution_count": 47,
   "metadata": {},
   "outputs": [
    {
     "data": {
      "text/plain": [
       "(0.0, 2.0)"
      ]
     },
     "execution_count": 47,
     "metadata": {},
     "output_type": "execute_result"
    },
    {
     "data": {
      "text/plain": [
       "<Figure size 288x720 with 0 Axes>"
      ]
     },
     "metadata": {},
     "output_type": "display_data"
    },
    {
     "data": {
      "image/png": "[encoded data removed]",
      "text/plain": [
       "<Figure size 504x504 with 1 Axes>"
      ]
     },
     "metadata": {
      "needs_background": "light"
     },
     "output_type": "display_data"
    }
   ],
   "source": [
    "plt.figure(figsize=(4,10))\n",
    "sns.catplot(x=\"total_sales\",y='platform', data=current_sales, kind='box',height=7, palette='rainbow', orient=\"h\")\n",
    "plt.xlim(0,2)"
   ]
  },
  {
   "cell_type": "code",
   "execution_count": 48,
   "metadata": {},
   "outputs": [
    {
     "data": {
      "text/html": [
       "<div>\n",
       "<style scoped>\n",
       "    .dataframe tbody tr th:only-of-type {\n",
       "        vertical-align: middle;\n",
       "    }\n",
       "\n",
       "    .dataframe tbody tr th {\n",
       "        vertical-align: top;\n",
       "    }\n",
       "\n",
       "    .dataframe thead th {\n",
       "        text-align: right;\n",
       "    }\n",
       "</style>\n",
       "<table border=\"1\" class=\"dataframe\">\n",
       "  <thead>\n",
       "    <tr style=\"text-align: right;\">\n",
       "      <th></th>\n",
       "      <th>platform</th>\n",
       "      <th>median</th>\n",
       "      <th>mean</th>\n",
       "      <th>total_sales</th>\n",
       "      <th>count</th>\n",
       "    </tr>\n",
       "  </thead>\n",
       "  <tbody>\n",
       "    <tr>\n",
       "      <th>4</th>\n",
       "      <td>PS4</td>\n",
       "      <td>0.200</td>\n",
       "      <td>0.801378</td>\n",
       "      <td>314.14</td>\n",
       "      <td>392</td>\n",
       "    </tr>\n",
       "    <tr>\n",
       "      <th>3</th>\n",
       "      <td>PS3</td>\n",
       "      <td>0.150</td>\n",
       "      <td>0.525884</td>\n",
       "      <td>181.43</td>\n",
       "      <td>345</td>\n",
       "    </tr>\n",
       "    <tr>\n",
       "      <th>10</th>\n",
       "      <td>XOne</td>\n",
       "      <td>0.220</td>\n",
       "      <td>0.645020</td>\n",
       "      <td>159.32</td>\n",
       "      <td>247</td>\n",
       "    </tr>\n",
       "    <tr>\n",
       "      <th>0</th>\n",
       "      <td>3DS</td>\n",
       "      <td>0.090</td>\n",
       "      <td>0.472772</td>\n",
       "      <td>143.25</td>\n",
       "      <td>303</td>\n",
       "    </tr>\n",
       "    <tr>\n",
       "      <th>9</th>\n",
       "      <td>X360</td>\n",
       "      <td>0.265</td>\n",
       "      <td>0.735484</td>\n",
       "      <td>136.80</td>\n",
       "      <td>186</td>\n",
       "    </tr>\n",
       "    <tr>\n",
       "      <th>8</th>\n",
       "      <td>WiiU</td>\n",
       "      <td>0.200</td>\n",
       "      <td>0.562000</td>\n",
       "      <td>64.63</td>\n",
       "      <td>115</td>\n",
       "    </tr>\n",
       "    <tr>\n",
       "      <th>2</th>\n",
       "      <td>PC</td>\n",
       "      <td>0.080</td>\n",
       "      <td>0.208646</td>\n",
       "      <td>40.06</td>\n",
       "      <td>192</td>\n",
       "    </tr>\n",
       "    <tr>\n",
       "      <th>6</th>\n",
       "      <td>PSV</td>\n",
       "      <td>0.040</td>\n",
       "      <td>0.092151</td>\n",
       "      <td>32.99</td>\n",
       "      <td>358</td>\n",
       "    </tr>\n",
       "    <tr>\n",
       "      <th>7</th>\n",
       "      <td>Wii</td>\n",
       "      <td>0.180</td>\n",
       "      <td>0.593913</td>\n",
       "      <td>13.66</td>\n",
       "      <td>23</td>\n",
       "    </tr>\n",
       "    <tr>\n",
       "      <th>5</th>\n",
       "      <td>PSP</td>\n",
       "      <td>0.020</td>\n",
       "      <td>0.055000</td>\n",
       "      <td>3.74</td>\n",
       "      <td>68</td>\n",
       "    </tr>\n",
       "    <tr>\n",
       "      <th>1</th>\n",
       "      <td>DS</td>\n",
       "      <td>0.150</td>\n",
       "      <td>0.192500</td>\n",
       "      <td>1.54</td>\n",
       "      <td>8</td>\n",
       "    </tr>\n",
       "  </tbody>\n",
       "</table>\n",
       "</div>"
      ],
      "text/plain": [
       "   platform  median      mean  total_sales  count\n",
       "4       PS4   0.200  0.801378       314.14    392\n",
       "3       PS3   0.150  0.525884       181.43    345\n",
       "10     XOne   0.220  0.645020       159.32    247\n",
       "0       3DS   0.090  0.472772       143.25    303\n",
       "9      X360   0.265  0.735484       136.80    186\n",
       "8      WiiU   0.200  0.562000        64.63    115\n",
       "2        PC   0.080  0.208646        40.06    192\n",
       "6       PSV   0.040  0.092151        32.99    358\n",
       "7       Wii   0.180  0.593913        13.66     23\n",
       "5       PSP   0.020  0.055000         3.74     68\n",
       "1        DS   0.150  0.192500         1.54      8"
      ]
     },
     "execution_count": 48,
     "metadata": {},
     "output_type": "execute_result"
    }
   ],
   "source": [
    "mean_sales = current_sales.groupby('platform').agg({'total_sales':['median','mean','sum'],'name':'count'}).reset_index()\n",
    "mean_sales.columns=['platform','median','mean','total_sales','count']\n",
    "mean_sales.sort_values(by ='total_sales', ascending=False, inplace = True)\n",
    "mean_sales"
   ]
  },
  {
   "cell_type": "markdown",
   "metadata": {},
   "source": [
    "Валовая выручка от платформы к платформе отличается  на порядки . \n",
    "Средняя выручка за продажу одной игры  отличается 2-3 раза. Это говорит о том, что популярная\n",
    "платформа перетягивает на себя новые игры. "
   ]
  },
  {
   "cell_type": "markdown",
   "metadata": {},
   "source": [
    "Посмотрим как влияют на продажи внутри одной популярной платформы отзывы пользователей и критиков. \n"
   ]
  },
  {
   "cell_type": "code",
   "execution_count": 49,
   "metadata": {},
   "outputs": [],
   "source": [
    "#Сделаем срез по датафрейму , оставим продажи где имеются данные рейтингов\n",
    "critic_rating = current_sales[current_sales['critic_score'].isnull()==False] \n",
    "user_rating =  current_sales[current_sales['user_score'].isnull()==False]"
   ]
  },
  {
   "cell_type": "code",
   "execution_count": 50,
   "metadata": {},
   "outputs": [
    {
     "data": {
      "image/png": "[encoded data removed]",
      "text/plain": [
       "<Figure size 432x288 with 1 Axes>"
      ]
     },
     "metadata": {
      "needs_background": "light"
     },
     "output_type": "display_data"
    },
    {
     "data": {
      "image/png": "[encoded data removed]",
      "text/plain": [
       "<Figure size 432x288 with 1 Axes>"
      ]
     },
     "metadata": {
      "needs_background": "light"
     },
     "output_type": "display_data"
    }
   ],
   "source": [
    "#построим диаграммы рассеивания\n",
    "user_rating.plot(x='user_score', y='total_sales', kind='scatter')\n",
    "plt.title('Зависимость продаж от пользовательского рейтинга')\n",
    "critic_rating.plot(x='critic_score', y='total_sales', kind='scatter')\n",
    "plt.title('Зависимость продаж от рейтинга критиков')\n",
    "plt.show()"
   ]
  },
  {
   "cell_type": "code",
   "execution_count": 51,
   "metadata": {},
   "outputs": [
    {
     "name": "stdout",
     "output_type": "stream",
     "text": [
      "Коэф-нт корреляции рейтинга пользователей: -0.00\n",
      "Коэф-нт корреляции рейтинга критиков: 0.31\n"
     ]
    }
   ],
   "source": [
    "#Посчитаем коэффициенты корреляции Пирсона;\n",
    "print('Коэф-нт корреляции рейтинга пользователей: {:.2f}'.format(user_rating['user_score'].corr(user_rating['total_sales']))) \n",
    "print('Коэф-нт корреляции рейтинга критиков: {:.2f}'.format(critic_rating['critic_score'].corr(critic_rating['total_sales'])))"
   ]
  },
  {
   "cell_type": "markdown",
   "metadata": {},
   "source": [
    "Связь продаж с оценкой критикой определенно имеется , но это нечеткая зависимость. \n",
    "Связь же с рейтингом пользователей отсутсвует.\n",
    "Так что влияет на продажи , если качество игры не имеет сильного влияния? \n",
    "Посмотрим дальше. "
   ]
  },
  {
   "cell_type": "code",
   "execution_count": 52,
   "metadata": {},
   "outputs": [
    {
     "ename": "SyntaxError",
     "evalue": "invalid syntax (<ipython-input-52-1d447c386f6b>, line 1)",
     "output_type": "error",
     "traceback": [
      "\u001b[1;36m  File \u001b[1;32m\"<ipython-input-52-1d447c386f6b>\"\u001b[1;36m, line \u001b[1;32m1\u001b[0m\n\u001b[1;33m    Может быть жанры? Посмотрим на прибыльность жанров\u001b[0m\n\u001b[1;37m          ^\u001b[0m\n\u001b[1;31mSyntaxError\u001b[0m\u001b[1;31m:\u001b[0m invalid syntax\n"
     ]
    }
   ],
   "source": [
    "Может быть жанры? Посмотрим на прибыльность жанров"
   ]
  },
  {
   "cell_type": "code",
   "execution_count": null,
   "metadata": {},
   "outputs": [],
   "source": [
    "\n",
    "genre_sales = current_sales.groupby('genre').agg({'total_sales':('sum'),'name':'count'}).reset_index()\n",
    "genre_sales.sort_values(by ='total_sales', ascending=False, inplace = True)"
   ]
  },
  {
   "cell_type": "code",
   "execution_count": null,
   "metadata": {},
   "outputs": [],
   "source": [
    "genre_sales"
   ]
  },
  {
   "cell_type": "code",
   "execution_count": null,
   "metadata": {},
   "outputs": [],
   "source": [
    "genre_sales.plot(x=('genre'),kind='bar', figsize=(10,5))\n",
    "plt.title('Рейтинг жанров')\n",
    "plt.show()"
   ]
  },
  {
   "cell_type": "markdown",
   "metadata": {},
   "source": [
    "Есть жанры популярные и менее популярные. Самый востребованный \"Action\", за ним следуют \"Shooter\", 3 и 4 место делят \n",
    "\"Role-Playing\" и \"Sports\". \n",
    "Определенно жанр игры влияет на выручку. Впереди  по продажам ресурсоемкие жанры. Пазлы в конце списка. "
   ]
  },
  {
   "cell_type": "markdown",
   "metadata": {},
   "source": [
    "Как влияют на продажи региональные особенности потребителя? \n",
    "Составим портрет каждого региона"
   ]
  },
  {
   "cell_type": "code",
   "execution_count": 62,
   "metadata": {
    "scrolled": false
   },
   "outputs": [
    {
     "data": {
      "image/png": "[encoded data removed]",
      "text/plain": [
       "<Figure size 1080x1080 with 3 Axes>"
      ]
     },
     "metadata": {},
     "output_type": "display_data"
    },
    {
     "data": {
      "image/png": "[encoded data removed]",
      "text/plain": [
       "<Figure size 1080x1080 with 3 Axes>"
      ]
     },
     "metadata": {},
     "output_type": "display_data"
    }
   ],
   "source": [
    "#зададим словарь цветов  для каждой платформы\n",
    "platforms_colors= {'PS4':'b', 'X360':'g', 'XOne':'khaki', 'PS3':'r', '3DS':'y', 'WiiU':'m', 'PC':'mediumpurple', \n",
    "              'Wii':'darkseagreen', 'PSV':'mediumblue', 'DS':'orchid', 'PSP':'auqamarine'}\n",
    "\n",
    "#зададим словарь цветом для каждого жанра\n",
    "genre_color= {'Action':'b', 'Role-Playing':'g', 'Adventure':'khaki', 'Sports':'y', 'Shooter':'m', 'Misc':'mediumpurple',\n",
    "       'Fighting':'darkseagreen', 'Racing':'mediumblue', 'Platform':'orchid', 'Simulation':'auqamarine', \n",
    "              'Strategy':'sienna', 'Puzzle':'coral'}\n",
    "\n",
    "#cгруппируем продажи по платформам для Японии, выделем топ-5\n",
    "jp_sales = current_sales.pivot_table(index=['platform'], values='jp_sales',\n",
    "                                    aggfunc='sum',).sort_values(by = \"jp_sales\", ascending = False).head(5)\n",
    "#cгруппируем продажи по жанрам для Японии, выделем топ-5\n",
    "jp_genre = current_sales.pivot_table(index=['genre'], values='jp_sales',\n",
    "                                     aggfunc='count',).sort_values(by = \"jp_sales\", ascending = False).head(5)\n",
    "#список топ-5 платформ для Японии\n",
    "jp_label = jp_sales.index\n",
    "jp_color = [platforms_colors[key] for key in jp_sales.index]\n",
    "\n",
    "#список топ-5 жанров для Японии\n",
    "jp_label_genre = jp_genre.index\n",
    "jp_color_genre = [genre_color[key] for key in jp_genre.index]\n",
    "\n",
    "#-------------------------Проделаем то же самое для Европы-------------------------------------------------\n",
    "\n",
    "eu_sales = current_sales.pivot_table(index=['platform'], values='eu_sales',\n",
    "                                    aggfunc='sum').sort_values(by = \"eu_sales\", ascending = False).head(5)\n",
    "eu_genre = current_sales.pivot_table(index=['genre'], values='eu_sales',\n",
    "                                    aggfunc='count',).sort_values(by = \"eu_sales\", ascending = False).head(5)\n",
    "eu_label = eu_sales.index\n",
    "eu_color = [platforms_colors[key] for key in eu_sales.index]\n",
    "\n",
    "eu_label_genre = eu_genre.index\n",
    "eu_color_genre = [genre_color[key] for key in eu_genre.index]\n",
    "\n",
    "#--------------------------Проделаем то же самое для Америки----------------------------------------------\n",
    "\n",
    "na_sales = current_sales.pivot_table(index=['platform'], values='na_sales',\n",
    "                                    aggfunc='sum').sort_values(by = \"na_sales\", ascending = False).head(5)\n",
    "na_genre = current_sales.pivot_table(index=['genre'], values='na_sales',\n",
    "                                    aggfunc='count',).sort_values(by = \"na_sales\", ascending = False).head(5)\n",
    "na_label = na_sales.index\n",
    "na_color = [platforms_colors[key] for key in na_sales.index]\n",
    "\n",
    "na_label_genre = na_genre.index\n",
    "na_color_genre = [genre_color[key] for key in na_genre.index]\n",
    "\n",
    "#------------------------Рисуем три граффика для платформ---------------------------------------------------\n",
    "fig, axs = plt.subplots(1,3, figsize = (15,15))\n",
    "axs[0].pie(na_sales['na_sales'], autopct='%.1f', labels = na_label, colors = na_color )\n",
    "axs[0].set_title('Топ-5 платформ Северной Америки') \n",
    "axs[0].legend()\n",
    "axs[1].pie(eu_sales['eu_sales'], autopct='%.1f',labels = eu_label, colors = eu_color)\n",
    "axs[1].set_title('Топ-5 платформ Европы')\n",
    "axs[1].legend()\n",
    "axs[2].pie(jp_sales['jp_sales'], autopct='%.1f', labels = jp_label, colors = jp_color)\n",
    "axs[2].set_title('Топ-5 платформ Японии')\n",
    "axs[2].legend()\n",
    "plt.show()\n",
    "#--------------------------Рисуем три граффика для жанров-------------------------------------------------\n",
    "fig, axs = plt.subplots(1,3, figsize = (15,15))\n",
    "axs[0].pie(na_sales['na_sales'], autopct='%.1f', labels = na_label_genre, colors = na_color_genre )\n",
    "axs[0].set_title('Топ-5 жанров Северной Америки') \n",
    "axs[0].legend()\n",
    "axs[1].pie(eu_sales['eu_sales'], autopct='%.1f',labels = eu_label_genre, colors = eu_color_genre)\n",
    "axs[1].set_title('Топ-5 жанров Европы')\n",
    "axs[1].legend()\n",
    "axs[2].pie(jp_genre['jp_sales'], autopct='%.1f',labels = jp_label_genre, colors = jp_color_genre)\n",
    "axs[2].set_title('Топ-5 жанров Японии')\n",
    "axs[2].legend()\n",
    "plt.show()"
   ]
  },
  {
   "cell_type": "markdown",
   "metadata": {},
   "source": [
    "Лидеры продаж от региона к региону отличаются\n",
    "\n",
    "Американская пятерка: PS4, XOne, X360,PS3,3DS - в топе 2 американские приставки. Местные производители имеют свое лобби. \n",
    "\n",
    "Европейская пятерка: PS4, PS3, XOne,X360,3DS - американские приставки на вторых ролях. \n",
    "\n",
    "Японская пятерка: 3DS,PS3,PSV,PS4,WiiU - здесь рулят местные.       "
   ]
  },
  {
   "cell_type": "markdown",
   "metadata": {},
   "source": [
    "Жанры - интернациональны. Списки лидеров с небольшим колебанием повторяются. "
   ]
  },
  {
   "cell_type": "markdown",
   "metadata": {},
   "source": [
    "Влияние рейтинга ESRB"
   ]
  },
  {
   "cell_type": "code",
   "execution_count": 59,
   "metadata": {},
   "outputs": [
    {
     "data": {
      "text/html": [
       "<div>\n",
       "<style scoped>\n",
       "    .dataframe tbody tr th:only-of-type {\n",
       "        vertical-align: middle;\n",
       "    }\n",
       "\n",
       "    .dataframe tbody tr th {\n",
       "        vertical-align: top;\n",
       "    }\n",
       "\n",
       "    .dataframe thead th {\n",
       "        text-align: right;\n",
       "    }\n",
       "</style>\n",
       "<table border=\"1\" class=\"dataframe\">\n",
       "  <thead>\n",
       "    <tr style=\"text-align: right;\">\n",
       "      <th></th>\n",
       "      <th>jp_sales</th>\n",
       "      <th>na_sales</th>\n",
       "      <th>eu_sales</th>\n",
       "    </tr>\n",
       "    <tr>\n",
       "      <th>rating</th>\n",
       "      <th></th>\n",
       "      <th></th>\n",
       "      <th></th>\n",
       "    </tr>\n",
       "  </thead>\n",
       "  <tbody>\n",
       "    <tr>\n",
       "      <th>AO</th>\n",
       "      <td>0.00</td>\n",
       "      <td>1.26</td>\n",
       "      <td>0.61</td>\n",
       "    </tr>\n",
       "    <tr>\n",
       "      <th>E</th>\n",
       "      <td>198.11</td>\n",
       "      <td>1292.99</td>\n",
       "      <td>710.25</td>\n",
       "    </tr>\n",
       "    <tr>\n",
       "      <th>E10+</th>\n",
       "      <td>40.20</td>\n",
       "      <td>353.32</td>\n",
       "      <td>188.52</td>\n",
       "    </tr>\n",
       "    <tr>\n",
       "      <th>EC</th>\n",
       "      <td>0.00</td>\n",
       "      <td>1.53</td>\n",
       "      <td>0.11</td>\n",
       "    </tr>\n",
       "    <tr>\n",
       "      <th>K-A</th>\n",
       "      <td>1.46</td>\n",
       "      <td>2.56</td>\n",
       "      <td>0.27</td>\n",
       "    </tr>\n",
       "    <tr>\n",
       "      <th>M</th>\n",
       "      <td>64.24</td>\n",
       "      <td>748.48</td>\n",
       "      <td>483.97</td>\n",
       "    </tr>\n",
       "    <tr>\n",
       "      <th>RP</th>\n",
       "      <td>0.00</td>\n",
       "      <td>0.00</td>\n",
       "      <td>0.08</td>\n",
       "    </tr>\n",
       "    <tr>\n",
       "      <th>T</th>\n",
       "      <td>151.40</td>\n",
       "      <td>759.75</td>\n",
       "      <td>427.03</td>\n",
       "    </tr>\n",
       "  </tbody>\n",
       "</table>\n",
       "</div>"
      ],
      "text/plain": [
       "        jp_sales  na_sales  eu_sales\n",
       "rating                              \n",
       "AO          0.00      1.26      0.61\n",
       "E         198.11   1292.99    710.25\n",
       "E10+       40.20    353.32    188.52\n",
       "EC          0.00      1.53      0.11\n",
       "K-A         1.46      2.56      0.27\n",
       "M          64.24    748.48    483.97\n",
       "RP          0.00      0.00      0.08\n",
       "T         151.40    759.75    427.03"
      ]
     },
     "execution_count": 59,
     "metadata": {},
     "output_type": "execute_result"
    }
   ],
   "source": [
    "#сведем таблицу по жанрам и значениям рейтинга\n",
    "rating_esrb = current_sales.pivot_table(index = ['rating'], columns = (['jp_sales','eu_sales','na_sales']), values ='name', aggfunc ='count')\n",
    "#заменим пропуски нулями\n",
    "rating_esrb.fillna(0)\n",
    "rating_esrb2 = df.groupby(['rating']).agg({'jp_sales':('sum'),'na_sales':('sum'),'eu_sales':('sum')})\n",
    "\n",
    "rating_esrb2"
   ]
  },
  {
   "cell_type": "code",
   "execution_count": 60,
   "metadata": {},
   "outputs": [],
   "source": [
    "#удалим рейтинги, у которых продажи менее 1% от общего числа продаж  - это АО, ЕС, К-А,RP\n",
    "rating_esrb2.drop(rating_esrb2.index[[0,3,4,6]], inplace = True)"
   ]
  },
  {
   "cell_type": "code",
   "execution_count": 61,
   "metadata": {
    "scrolled": true
   },
   "outputs": [
    {
     "data": {
      "image/png": "[encoded data removed]",
      "text/plain": [
       "<Figure size 1080x1080 with 3 Axes>"
      ]
     },
     "metadata": {},
     "output_type": "display_data"
    }
   ],
   "source": [
    "fig, axs = plt.subplots(1,3, figsize = (15,15))\n",
    "axs[0].pie(rating_esrb2['na_sales'], autopct='%.1f', labels=rating_esrb2.index)\n",
    "axs[0].set_title('ESPB Северной Америки') \n",
    "axs[1].pie(rating_esrb2['eu_sales'], autopct='%.1f', labels=rating_esrb2.index)\n",
    "axs[1].set_title('ESPB Европы') \n",
    "axs[2].pie(rating_esrb2['jp_sales'], autopct='%.1f', labels=rating_esrb2.index)\n",
    "axs[2].set_title('ESPB Японии') \n",
    "plt.show()"
   ]
  },
  {
   "cell_type": "markdown",
   "metadata": {},
   "source": [
    "Рейтинги очень схожи, за одним исключением.\n",
    "в Японии  игры  с рейтингом Т(для подростков) отъели половину доли у игр с рейтингом М (для взрослых). "
   ]
  },
  {
   "cell_type": "markdown",
   "metadata": {},
   "source": [
    "### Шаг 5. Проверьте гипотезы\n",
    "\n",
    "Гипотеза 1.\n",
    "Средние пользовательские рейтинги платформ Xbox One и PC одинаковые;\n",
    "\n",
    "Гипотеза 2.\n",
    "Средние пользовательские рейтинги жанров Action (англ. «действие», экшен-игры) и\n",
    "Sports (англ. «спортивные соревнования») разные.\n"
   ]
  },
  {
   "cell_type": "code",
   "execution_count": 74,
   "metadata": {},
   "outputs": [
    {
     "name": "stdout",
     "output_type": "stream",
     "text": [
      "<class 'pandas.core.frame.DataFrame'>\n",
      "Int64Index: 2237 entries, 16 to 16714\n",
      "Data columns (total 12 columns):\n",
      " #   Column           Non-Null Count  Dtype  \n",
      "---  ------           --------------  -----  \n",
      " 0   name             2237 non-null   object \n",
      " 1   platform         2237 non-null   object \n",
      " 2   year_of_release  2237 non-null   float64\n",
      " 3   genre            2237 non-null   object \n",
      " 4   na_sales         2237 non-null   float64\n",
      " 5   eu_sales         2237 non-null   float64\n",
      " 6   jp_sales         2237 non-null   float64\n",
      " 7   other_sales      2237 non-null   float64\n",
      " 8   critic_score     994 non-null    float64\n",
      " 9   user_score       1195 non-null   float64\n",
      " 10  rating           1259 non-null   object \n",
      " 11  total_sales      2237 non-null   float64\n",
      "dtypes: float64(8), object(4)\n",
      "memory usage: 256.2+ KB\n"
     ]
    }
   ],
   "source": [
    "current_sales.info()"
   ]
  },
  {
   "cell_type": "code",
   "execution_count": 71,
   "metadata": {},
   "outputs": [],
   "source": [
    "#сделаем  срезы  и почистим от NaN\n",
    "user_score = current_sales.dropna(subset=['user_score'])   \n",
    "Xbox_One = user_score.query('platform == \"XOne\"')\n",
    "PC = user_score.query('platform == \"PC\"')\n",
    "Action = user_score.query('genre == \"Action\"')\n",
    "Sports =  user_score.query('genre == \"Sports\"')"
   ]
  },
  {
   "cell_type": "code",
   "execution_count": 72,
   "metadata": {},
   "outputs": [
    {
     "name": "stdout",
     "output_type": "stream",
     "text": [
      "p-значение:  0.15503167687396294\n",
      "Не получилось отвергнуть нулевую гипотезу\n"
     ]
    }
   ],
   "source": [
    "#Гипотеза1:\n",
    "#Cформулируем нулевую гипотезу H0 следующим образом:\n",
    "#средний рейтинг user_score на платформах Xbox One и PC одинаков.\n",
    "#Тогда альтернативная гипотеза \n",
    "#средний рейтинг user_score на платформах Xbox One разный\n",
    "\n",
    "alpha = .05 # возьмем общепринятый уровень статистической значимости. \n",
    "\n",
    "results = st.ttest_ind(\n",
    "    Xbox_One['user_score'], \n",
    "    PC['user_score'])\n",
    "    \n",
    "print('p-значение: ', results.pvalue)\n",
    "    \n",
    "if (results.pvalue < alpha):\n",
    "    print(\"Отвергаем нулевую гипотезу\")\n",
    "else:\n",
    "    print(\"Не получилось отвергнуть нулевую гипотезу\")\n"
   ]
  },
  {
   "cell_type": "code",
   "execution_count": 75,
   "metadata": {},
   "outputs": [
    {
     "name": "stdout",
     "output_type": "stream",
     "text": [
      "p-значение:  8.11729623919141e-28\n",
      "Отвергаем нулевую гипотезу\n"
     ]
    }
   ],
   "source": [
    "#Гипотеза 2:\n",
    "#сформулируем нулевую гипотезу: средние рейтинги жанров Action и Sports равны\n",
    "#Тогда альтернативная гипотеза \n",
    "#средний пользовательский рейтинг  жанров Action и Sports разный\n",
    "\n",
    "alpha = .05 # возьмем общепринятый уровень статистической значимости. \n",
    "\n",
    "\n",
    "results = st.ttest_ind(\n",
    "    Action['user_score'], \n",
    "    Sports['user_score'])\n",
    "    \n",
    "print('p-значение: ', results.pvalue)\n",
    "    \n",
    "if (results.pvalue < alpha):\n",
    "    print(\"Отвергаем нулевую гипотезу\")\n",
    "else:\n",
    "    print(\"Не получилось отвергнуть нулевую гипотезу\")"
   ]
  },
  {
   "cell_type": "markdown",
   "metadata": {},
   "source": [
    "### Шаг 6.  Общий вывод\n"
   ]
  },
  {
   "cell_type": "markdown",
   "metadata": {},
   "source": [
    "Рынок компьютерных игр очень динамичен. Заметно сильное падение рынка с 2010 года , \n",
    "скорее всего происходит большое перемещение игр в сегмент планшетов и смартфонов,\n",
    "которые  не учтены  в данных.\n",
    "\n",
    "Наиболее популярные жанры - это ресурсоемкие жанры,  требующие большей производительности и мощности платформы.\n",
    "\n",
    "Чтобы победить  в конкуренции , производители наращивают мощность платформы. Победитель в этой гонке получает все.\n",
    "\n",
    "Как только выходит новая  более мощная платформа, она забирает на себя продажи игр. \n",
    "\n",
    "Наиболее целесообразно отобрать для рекламы  игры рассчитанные на новые платформы.\n",
    "\n",
    "Существует региональные отличия, так в Японии и Америке более популярны местные производители.При рекламной компании нужно делать акцент на региональные особенности."
   ]
  },
  {
   "cell_type": "code",
   "execution_count": null,
   "metadata": {},
   "outputs": [],
   "source": []
  }
 ],
 "metadata": {
  "kernelspec": {
   "display_name": "Python 3",
   "language": "python",
   "name": "python3"
  },
  "language_info": {
   "codemirror_mode": {
    "name": "ipython",
    "version": 3
   },
   "file_extension": ".py",
   "mimetype": "text/x-python",
   "name": "python",
   "nbconvert_exporter": "python",
   "pygments_lexer": "ipython3",
   "version": "3.7.8"
  },
  "toc": {
   "base_numbering": 1,
   "nav_menu": {},
   "number_sections": true,
   "sideBar": true,
   "skip_h1_title": true,
   "title_cell": "Table of Contents",
   "title_sidebar": "Contents",
   "toc_cell": false,
   "toc_position": {},
   "toc_section_display": true,
   "toc_window_display": false
  }
 },
 "nbformat": 4,
 "nbformat_minor": 4
}
